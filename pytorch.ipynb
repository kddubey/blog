{
 "cells": [
  {
   "attachments": {},
   "cell_type": "markdown",
   "metadata": {},
   "source": [
    "**Description**: Evaluation of barebones PyTorch implementation of the Gumbel-max trick.\n",
    "\n",
    "**Estimated runtime**: a few minutes, depends on hardware"
   ]
  },
  {
   "cell_type": "code",
   "execution_count": 1,
   "metadata": {},
   "outputs": [],
   "source": [
    "from __future__ import annotations\n",
    "import itertools\n",
    "from time import time\n",
    "from typing import Sequence\n",
    "\n",
    "import numpy as np\n",
    "import pandas as pd\n",
    "from scipy.stats import trim_mean, chisquare\n",
    "import torch\n",
    "from tqdm.auto import tqdm"
   ]
  },
  {
   "cell_type": "code",
   "execution_count": 2,
   "metadata": {},
   "outputs": [
    {
     "data": {
      "text/plain": [
       "'cpu'"
      ]
     },
     "execution_count": 2,
     "metadata": {},
     "output_type": "execute_result"
    }
   ],
   "source": [
    "DEVICE = 'cuda' if torch.cuda.is_available() else 'cpu'\n",
    "DEVICE"
   ]
  },
  {
   "cell_type": "code",
   "execution_count": 3,
   "metadata": {},
   "outputs": [],
   "source": [
    "def sample_via_gumbel_max_trick(logits: torch.Tensor) -> torch.Tensor:\n",
    "    # https://timvieira.github.io/blog/post/2014/07/31/gumbel-max-trick/\n",
    "    gumbels = -torch.log(-torch.log(torch.rand(*logits.size(), device=logits.device)))\n",
    "    gumbels_rescaled = logits + gumbels\n",
    "    max_idxs = gumbels_rescaled.max(dim=-1)[1]\n",
    "    return max_idxs\n",
    "\n",
    "\n",
    "def sample_vanilla(logits: torch.Tensor) -> torch.Tensor:\n",
    "    probs = torch.nn.functional.softmax(logits, dim=-1)\n",
    "    return torch.multinomial(probs, num_samples=1).squeeze(1)"
   ]
  },
  {
   "attachments": {},
   "cell_type": "markdown",
   "metadata": {},
   "source": [
    "## Statistical check"
   ]
  },
  {
   "attachments": {},
   "cell_type": "markdown",
   "metadata": {},
   "source": [
    "Repeated samples from a set of independetly parametrized categorical distributions"
   ]
  },
  {
   "cell_type": "code",
   "execution_count": 4,
   "metadata": {},
   "outputs": [
    {
     "data": {
      "application/vnd.jupyter.widget-view+json": {
       "model_id": "1bdb8151517d4661ae728d8304b5d258",
       "version_major": 2,
       "version_minor": 0
      },
      "text/plain": [
       "  0%|          | 0/10000 [00:00<?, ?it/s]"
      ]
     },
     "metadata": {},
     "output_type": "display_data"
    }
   ],
   "source": [
    "sample_size = 10_000  # i.e., the number of tokens to sample\n",
    "batch_size = 100\n",
    "vocab_size = 5\n",
    "\n",
    "logits = torch.randn(size=(batch_size, vocab_size), device=DEVICE)\n",
    "\n",
    "samples_vanilla = torch.empty(size=(sample_size, batch_size), device=DEVICE)\n",
    "samples_gumbel = torch.empty(size=(sample_size, batch_size), device=DEVICE)\n",
    "for i in tqdm(range(sample_size)):\n",
    "    samples_vanilla[i] = sample_vanilla(logits)\n",
    "    samples_gumbel[i] = sample_via_gumbel_max_trick(logits)\n",
    "\n",
    "\n",
    "def empirical_distr(discrete_samples: torch.Tensor):\n",
    "    # assumes at least 1 sample from each category is present. increase sample_size or\n",
    "    # decrease vocab_size if that doesn't happen\n",
    "    # idk how to vectorize the counts computation, but it doesn't matter\n",
    "    counts = torch.stack([torch.unique(discrete_samples[:, distr_idx],\n",
    "                                       return_counts=True)[1]\n",
    "                          for distr_idx in range(discrete_samples.shape[1])])\n",
    "    # counts has shape (batch size, vocab size)\n",
    "    return counts / counts.sum(dim=-1, keepdim=True)\n",
    "\n",
    "\n",
    "empirical_distr_vanilla = empirical_distr(samples_vanilla)\n",
    "empirical_distr_gumbel = empirical_distr(samples_gumbel)"
   ]
  },
  {
   "cell_type": "code",
   "execution_count": 5,
   "metadata": {},
   "outputs": [],
   "source": [
    "true_distr = logits.softmax(dim=-1)"
   ]
  },
  {
   "cell_type": "code",
   "execution_count": 6,
   "metadata": {},
   "outputs": [],
   "source": [
    "def rel_error(true_distr: torch.Tensor, empirical_distr: torch.Tensor, dim: int=None):\n",
    "    return torch.mean((true_distr - empirical_distr) / true_distr, dim=dim).abs()"
   ]
  },
  {
   "cell_type": "code",
   "execution_count": 7,
   "metadata": {},
   "outputs": [
    {
     "name": "stdout",
     "output_type": "stream",
     "text": [
      "Average relative error (across all distributions and categories):\n",
      "softmax + multinomial: 0.0007338332943618298\n",
      "     Gumbel-max trick: 0.0009851192589849234\n"
     ]
    }
   ],
   "source": [
    "print('Average relative error (across all distributions and categories):')\n",
    "print('softmax + multinomial:', rel_error(true_distr, empirical_distr_vanilla).item())\n",
    "print('     Gumbel-max trick:', rel_error(true_distr, empirical_distr_gumbel).item())"
   ]
  },
  {
   "attachments": {},
   "cell_type": "markdown",
   "metadata": {},
   "source": [
    "For thoroughness, run a chi-square goodness of fit test for each distribution."
   ]
  },
  {
   "cell_type": "code",
   "execution_count": 8,
   "metadata": {},
   "outputs": [],
   "source": [
    "def _float64_and_normalize(input, dim: int=-1) -> np.ndarray:\n",
    "    # scipy's chi square test requires distr sums to be 1 up to 1e-8 rtol. need to\n",
    "    # increase precision and re-normalize the torch float32 distributions to pass this\n",
    "    # input check\n",
    "    output = np.array(input).astype(np.float64)\n",
    "    return output / output.sum(axis=dim, keepdims=True)"
   ]
  },
  {
   "cell_type": "code",
   "execution_count": 9,
   "metadata": {},
   "outputs": [],
   "source": [
    "true_distr = _float64_and_normalize(true_distr)\n",
    "empirical_distr_vanilla = _float64_and_normalize(empirical_distr_vanilla)\n",
    "empirical_distr_gumbel = _float64_and_normalize(empirical_distr_gumbel)\n",
    "\n",
    "p_values_vanilla = []\n",
    "p_values_gumbel = []\n",
    "for distr_idx in range(true_distr.shape[0]):\n",
    "    p_values_vanilla.append(chisquare(f_obs=empirical_distr_vanilla[distr_idx],\n",
    "                                      f_exp=true_distr[distr_idx]).pvalue)\n",
    "    p_values_gumbel.append(chisquare(f_obs=empirical_distr_gumbel[distr_idx],\n",
    "                                     f_exp=true_distr[distr_idx]).pvalue)\n",
    "# purposefully not going to correct for multiple comparisons (correction methods\n",
    "# increase p-values, but we should never see a p-value too far from 1)"
   ]
  },
  {
   "cell_type": "code",
   "execution_count": 10,
   "metadata": {},
   "outputs": [
    {
     "name": "stdout",
     "output_type": "stream",
     "text": [
      "H0: samples were generated via categorical distribution parametrized by true_distr.\n",
      "below: *lowest* p-value across 100 categorical distributions, each with 5 categories.\n",
      "\n",
      "softmax + multinomial: 0.9999998494542799\n",
      "     Gumbel-max trick: 0.9999997617951839\n"
     ]
    }
   ],
   "source": [
    "print('H0: samples were generated via categorical distribution parametrized by '\n",
    "      'true_distr.')\n",
    "print(f'below: *lowest* p-value across {true_distr.shape[0]} categorical '\n",
    "      f'distributions, each with {true_distr.shape[1]} categories.')\n",
    "print()\n",
    "print('softmax + multinomial:', pd.Series(p_values_vanilla).min())\n",
    "print('     Gumbel-max trick:', pd.Series(p_values_gumbel).min())"
   ]
  },
  {
   "attachments": {},
   "cell_type": "markdown",
   "metadata": {},
   "source": [
    "## Computational eval"
   ]
  },
  {
   "cell_type": "code",
   "execution_count": 11,
   "metadata": {},
   "outputs": [],
   "source": [
    "def time_func(func, *args, num_replications: int=50,\n",
    "              progress_bar_desc: str=None, **kwargs) -> list[float]:\n",
    "    '''\n",
    "    Returns a list, `times`, where `times[i]` is the time it took to run\n",
    "    `func(*args, **kwargs)` at replication `i` of `num_replications`.\n",
    "    '''\n",
    "    times = []\n",
    "    for _ in tqdm(range(num_replications), desc=progress_bar_desc):\n",
    "        time_start = time()\n",
    "        _ = func(*args, **kwargs)\n",
    "        time_end = time()\n",
    "        times.append(time_end - time_start)\n",
    "    return times\n",
    "\n",
    "\n",
    "def collect_sampling_times(batch_sizes: Sequence[int], vocab_sizes: Sequence[int],\n",
    "                           num_replications: int=50, trim_frac: float=0.0) -> pd.DataFrame:\n",
    "    times_vanilla = []\n",
    "    times_gumbel = []\n",
    "    for batch_size, vocab_size in tqdm(itertools.product(batch_sizes, vocab_sizes),\n",
    "                                       total=len(batch_sizes) * len(vocab_sizes)):\n",
    "        progress_bar_desc = f'batch size={batch_size}, vocab size={vocab_size}'\n",
    "        logits = torch.randn((batch_size, vocab_size), device=DEVICE)\n",
    "        times_vanilla.append(time_func(sample_vanilla,\n",
    "                                       logits,\n",
    "                                       num_replications=num_replications,\n",
    "                                       progress_bar_desc=progress_bar_desc))\n",
    "        times_gumbel.append(time_func(sample_via_gumbel_max_trick,\n",
    "                                      logits,\n",
    "                                      num_replications=num_replications,\n",
    "                                      progress_bar_desc=progress_bar_desc + ' (Gumbel)'))\n",
    "    return pd.DataFrame({'batch size': np.repeat(batch_sizes, len(vocab_sizes)),\n",
    "                         'vocab size': np.tile(vocab_sizes, len(batch_sizes)),\n",
    "                         'softmax + multinomial': trim_mean(times_vanilla, trim_frac, axis=1),\n",
    "                         'Gumbel-max trick': trim_mean(times_gumbel, trim_frac, axis=1)})"
   ]
  },
  {
   "cell_type": "code",
   "execution_count": 12,
   "metadata": {},
   "outputs": [
    {
     "data": {
      "application/vnd.jupyter.widget-view+json": {
       "model_id": "68d7096220e6447897e77e195ea3c832",
       "version_major": 2,
       "version_minor": 0
      },
      "text/plain": [
       "  0%|          | 0/25 [00:00<?, ?it/s]"
      ]
     },
     "metadata": {},
     "output_type": "display_data"
    },
    {
     "data": {
      "application/vnd.jupyter.widget-view+json": {
       "model_id": "157daaa9056049cc8c26f96b3ac39907",
       "version_major": 2,
       "version_minor": 0
      },
      "text/plain": [
       "batch size=1, vocab size=32:   0%|          | 0/50 [00:00<?, ?it/s]"
      ]
     },
     "metadata": {},
     "output_type": "display_data"
    },
    {
     "data": {
      "application/vnd.jupyter.widget-view+json": {
       "model_id": "55f2345f722a4cdc826a4ac4a001c63f",
       "version_major": 2,
       "version_minor": 0
      },
      "text/plain": [
       "batch size=1, vocab size=32 (Gumbel):   0%|          | 0/50 [00:00<?, ?it/s]"
      ]
     },
     "metadata": {},
     "output_type": "display_data"
    },
    {
     "data": {
      "application/vnd.jupyter.widget-view+json": {
       "model_id": "e74903c480f1484bb759e694e190a759",
       "version_major": 2,
       "version_minor": 0
      },
      "text/plain": [
       "batch size=1, vocab size=64:   0%|          | 0/50 [00:00<?, ?it/s]"
      ]
     },
     "metadata": {},
     "output_type": "display_data"
    },
    {
     "data": {
      "application/vnd.jupyter.widget-view+json": {
       "model_id": "ae2fb908a2f64520bd021f3da269fe71",
       "version_major": 2,
       "version_minor": 0
      },
      "text/plain": [
       "batch size=1, vocab size=64 (Gumbel):   0%|          | 0/50 [00:00<?, ?it/s]"
      ]
     },
     "metadata": {},
     "output_type": "display_data"
    },
    {
     "data": {
      "application/vnd.jupyter.widget-view+json": {
       "model_id": "4a64f58ec96843898ad80082898d7019",
       "version_major": 2,
       "version_minor": 0
      },
      "text/plain": [
       "batch size=1, vocab size=128:   0%|          | 0/50 [00:00<?, ?it/s]"
      ]
     },
     "metadata": {},
     "output_type": "display_data"
    },
    {
     "data": {
      "application/vnd.jupyter.widget-view+json": {
       "model_id": "9e115630d2714b948d181686d3d49643",
       "version_major": 2,
       "version_minor": 0
      },
      "text/plain": [
       "batch size=1, vocab size=128 (Gumbel):   0%|          | 0/50 [00:00<?, ?it/s]"
      ]
     },
     "metadata": {},
     "output_type": "display_data"
    },
    {
     "data": {
      "application/vnd.jupyter.widget-view+json": {
       "model_id": "4fd62e75f78647a9819de4c18b96663f",
       "version_major": 2,
       "version_minor": 0
      },
      "text/plain": [
       "batch size=1, vocab size=256:   0%|          | 0/50 [00:00<?, ?it/s]"
      ]
     },
     "metadata": {},
     "output_type": "display_data"
    },
    {
     "data": {
      "application/vnd.jupyter.widget-view+json": {
       "model_id": "f87e881299ac4ff28f5b3b2e83dcf4a0",
       "version_major": 2,
       "version_minor": 0
      },
      "text/plain": [
       "batch size=1, vocab size=256 (Gumbel):   0%|          | 0/50 [00:00<?, ?it/s]"
      ]
     },
     "metadata": {},
     "output_type": "display_data"
    },
    {
     "data": {
      "application/vnd.jupyter.widget-view+json": {
       "model_id": "51f85a8743364da593f716e27776e38b",
       "version_major": 2,
       "version_minor": 0
      },
      "text/plain": [
       "batch size=1, vocab size=512:   0%|          | 0/50 [00:00<?, ?it/s]"
      ]
     },
     "metadata": {},
     "output_type": "display_data"
    },
    {
     "data": {
      "application/vnd.jupyter.widget-view+json": {
       "model_id": "44e2f4335ff74413800cd09af3a2666f",
       "version_major": 2,
       "version_minor": 0
      },
      "text/plain": [
       "batch size=1, vocab size=512 (Gumbel):   0%|          | 0/50 [00:00<?, ?it/s]"
      ]
     },
     "metadata": {},
     "output_type": "display_data"
    },
    {
     "data": {
      "application/vnd.jupyter.widget-view+json": {
       "model_id": "f818b02617194888a041a21c85eafd1a",
       "version_major": 2,
       "version_minor": 0
      },
      "text/plain": [
       "batch size=2, vocab size=32:   0%|          | 0/50 [00:00<?, ?it/s]"
      ]
     },
     "metadata": {},
     "output_type": "display_data"
    },
    {
     "data": {
      "application/vnd.jupyter.widget-view+json": {
       "model_id": "3a27b0a114c1470b8df00d90fc21ec28",
       "version_major": 2,
       "version_minor": 0
      },
      "text/plain": [
       "batch size=2, vocab size=32 (Gumbel):   0%|          | 0/50 [00:00<?, ?it/s]"
      ]
     },
     "metadata": {},
     "output_type": "display_data"
    },
    {
     "data": {
      "application/vnd.jupyter.widget-view+json": {
       "model_id": "33be93c6f135445a983fb3c367cf1f6f",
       "version_major": 2,
       "version_minor": 0
      },
      "text/plain": [
       "batch size=2, vocab size=64:   0%|          | 0/50 [00:00<?, ?it/s]"
      ]
     },
     "metadata": {},
     "output_type": "display_data"
    },
    {
     "data": {
      "application/vnd.jupyter.widget-view+json": {
       "model_id": "36f8db73322e4b64a78df8a999032c6f",
       "version_major": 2,
       "version_minor": 0
      },
      "text/plain": [
       "batch size=2, vocab size=64 (Gumbel):   0%|          | 0/50 [00:00<?, ?it/s]"
      ]
     },
     "metadata": {},
     "output_type": "display_data"
    },
    {
     "data": {
      "application/vnd.jupyter.widget-view+json": {
       "model_id": "f7ffc89d0be64a5c89cf4c158f32df5a",
       "version_major": 2,
       "version_minor": 0
      },
      "text/plain": [
       "batch size=2, vocab size=128:   0%|          | 0/50 [00:00<?, ?it/s]"
      ]
     },
     "metadata": {},
     "output_type": "display_data"
    },
    {
     "data": {
      "application/vnd.jupyter.widget-view+json": {
       "model_id": "c861a61d389e4d338fdea181993f58b9",
       "version_major": 2,
       "version_minor": 0
      },
      "text/plain": [
       "batch size=2, vocab size=128 (Gumbel):   0%|          | 0/50 [00:00<?, ?it/s]"
      ]
     },
     "metadata": {},
     "output_type": "display_data"
    },
    {
     "data": {
      "application/vnd.jupyter.widget-view+json": {
       "model_id": "4454e3795d244fd7949d0e19249cf63f",
       "version_major": 2,
       "version_minor": 0
      },
      "text/plain": [
       "batch size=2, vocab size=256:   0%|          | 0/50 [00:00<?, ?it/s]"
      ]
     },
     "metadata": {},
     "output_type": "display_data"
    },
    {
     "data": {
      "application/vnd.jupyter.widget-view+json": {
       "model_id": "3c5daaaec2bd4468b3fbf5693c296099",
       "version_major": 2,
       "version_minor": 0
      },
      "text/plain": [
       "batch size=2, vocab size=256 (Gumbel):   0%|          | 0/50 [00:00<?, ?it/s]"
      ]
     },
     "metadata": {},
     "output_type": "display_data"
    },
    {
     "data": {
      "application/vnd.jupyter.widget-view+json": {
       "model_id": "7b513bdebb3e4a9aae16f145b96ee644",
       "version_major": 2,
       "version_minor": 0
      },
      "text/plain": [
       "batch size=2, vocab size=512:   0%|          | 0/50 [00:00<?, ?it/s]"
      ]
     },
     "metadata": {},
     "output_type": "display_data"
    },
    {
     "data": {
      "application/vnd.jupyter.widget-view+json": {
       "model_id": "dc8a45fb09a345d081c499b9315c4e58",
       "version_major": 2,
       "version_minor": 0
      },
      "text/plain": [
       "batch size=2, vocab size=512 (Gumbel):   0%|          | 0/50 [00:00<?, ?it/s]"
      ]
     },
     "metadata": {},
     "output_type": "display_data"
    },
    {
     "data": {
      "application/vnd.jupyter.widget-view+json": {
       "model_id": "f411706c9ca043d183495a7b514fe377",
       "version_major": 2,
       "version_minor": 0
      },
      "text/plain": [
       "batch size=4, vocab size=32:   0%|          | 0/50 [00:00<?, ?it/s]"
      ]
     },
     "metadata": {},
     "output_type": "display_data"
    },
    {
     "data": {
      "application/vnd.jupyter.widget-view+json": {
       "model_id": "5dbb6df4657448db810d2e15eed9981e",
       "version_major": 2,
       "version_minor": 0
      },
      "text/plain": [
       "batch size=4, vocab size=32 (Gumbel):   0%|          | 0/50 [00:00<?, ?it/s]"
      ]
     },
     "metadata": {},
     "output_type": "display_data"
    },
    {
     "data": {
      "application/vnd.jupyter.widget-view+json": {
       "model_id": "8daae3f96fe940769c79abfee5d566e3",
       "version_major": 2,
       "version_minor": 0
      },
      "text/plain": [
       "batch size=4, vocab size=64:   0%|          | 0/50 [00:00<?, ?it/s]"
      ]
     },
     "metadata": {},
     "output_type": "display_data"
    },
    {
     "data": {
      "application/vnd.jupyter.widget-view+json": {
       "model_id": "c565cabd3f6241d68e127878e2dabbe8",
       "version_major": 2,
       "version_minor": 0
      },
      "text/plain": [
       "batch size=4, vocab size=64 (Gumbel):   0%|          | 0/50 [00:00<?, ?it/s]"
      ]
     },
     "metadata": {},
     "output_type": "display_data"
    },
    {
     "data": {
      "application/vnd.jupyter.widget-view+json": {
       "model_id": "ddf9798248894cb5b6713bd0a47784f4",
       "version_major": 2,
       "version_minor": 0
      },
      "text/plain": [
       "batch size=4, vocab size=128:   0%|          | 0/50 [00:00<?, ?it/s]"
      ]
     },
     "metadata": {},
     "output_type": "display_data"
    },
    {
     "data": {
      "application/vnd.jupyter.widget-view+json": {
       "model_id": "8d5e54510d6f4767baef8cd09bd932a8",
       "version_major": 2,
       "version_minor": 0
      },
      "text/plain": [
       "batch size=4, vocab size=128 (Gumbel):   0%|          | 0/50 [00:00<?, ?it/s]"
      ]
     },
     "metadata": {},
     "output_type": "display_data"
    },
    {
     "data": {
      "application/vnd.jupyter.widget-view+json": {
       "model_id": "efdd0bc7ee584fa7b82162f96fed61c6",
       "version_major": 2,
       "version_minor": 0
      },
      "text/plain": [
       "batch size=4, vocab size=256:   0%|          | 0/50 [00:00<?, ?it/s]"
      ]
     },
     "metadata": {},
     "output_type": "display_data"
    },
    {
     "data": {
      "application/vnd.jupyter.widget-view+json": {
       "model_id": "3b2cbff2f49f4bc9b0a6d4bebdecd0ae",
       "version_major": 2,
       "version_minor": 0
      },
      "text/plain": [
       "batch size=4, vocab size=256 (Gumbel):   0%|          | 0/50 [00:00<?, ?it/s]"
      ]
     },
     "metadata": {},
     "output_type": "display_data"
    },
    {
     "data": {
      "application/vnd.jupyter.widget-view+json": {
       "model_id": "a5c1d636c95b4a77ac689487b80a6a92",
       "version_major": 2,
       "version_minor": 0
      },
      "text/plain": [
       "batch size=4, vocab size=512:   0%|          | 0/50 [00:00<?, ?it/s]"
      ]
     },
     "metadata": {},
     "output_type": "display_data"
    },
    {
     "data": {
      "application/vnd.jupyter.widget-view+json": {
       "model_id": "30b818b05e28428b80fe11653a87aab2",
       "version_major": 2,
       "version_minor": 0
      },
      "text/plain": [
       "batch size=4, vocab size=512 (Gumbel):   0%|          | 0/50 [00:00<?, ?it/s]"
      ]
     },
     "metadata": {},
     "output_type": "display_data"
    },
    {
     "data": {
      "application/vnd.jupyter.widget-view+json": {
       "model_id": "0705d2b9619145699c666dbc1e95bbd0",
       "version_major": 2,
       "version_minor": 0
      },
      "text/plain": [
       "batch size=8, vocab size=32:   0%|          | 0/50 [00:00<?, ?it/s]"
      ]
     },
     "metadata": {},
     "output_type": "display_data"
    },
    {
     "data": {
      "application/vnd.jupyter.widget-view+json": {
       "model_id": "0744b006ca914a7daa5e0571a9134a74",
       "version_major": 2,
       "version_minor": 0
      },
      "text/plain": [
       "batch size=8, vocab size=32 (Gumbel):   0%|          | 0/50 [00:00<?, ?it/s]"
      ]
     },
     "metadata": {},
     "output_type": "display_data"
    },
    {
     "data": {
      "application/vnd.jupyter.widget-view+json": {
       "model_id": "bc731a34529e41639ed36eab46b2579e",
       "version_major": 2,
       "version_minor": 0
      },
      "text/plain": [
       "batch size=8, vocab size=64:   0%|          | 0/50 [00:00<?, ?it/s]"
      ]
     },
     "metadata": {},
     "output_type": "display_data"
    },
    {
     "data": {
      "application/vnd.jupyter.widget-view+json": {
       "model_id": "6478c5c7bffd4483a09a08ebeb25cd2e",
       "version_major": 2,
       "version_minor": 0
      },
      "text/plain": [
       "batch size=8, vocab size=64 (Gumbel):   0%|          | 0/50 [00:00<?, ?it/s]"
      ]
     },
     "metadata": {},
     "output_type": "display_data"
    },
    {
     "data": {
      "application/vnd.jupyter.widget-view+json": {
       "model_id": "19848c6f625f46569a5a73ed30953949",
       "version_major": 2,
       "version_minor": 0
      },
      "text/plain": [
       "batch size=8, vocab size=128:   0%|          | 0/50 [00:00<?, ?it/s]"
      ]
     },
     "metadata": {},
     "output_type": "display_data"
    },
    {
     "data": {
      "application/vnd.jupyter.widget-view+json": {
       "model_id": "b04bf054b247434296fe07b3d569ab5f",
       "version_major": 2,
       "version_minor": 0
      },
      "text/plain": [
       "batch size=8, vocab size=128 (Gumbel):   0%|          | 0/50 [00:00<?, ?it/s]"
      ]
     },
     "metadata": {},
     "output_type": "display_data"
    },
    {
     "data": {
      "application/vnd.jupyter.widget-view+json": {
       "model_id": "f201901efdbd4b58acafaf38d978cfd2",
       "version_major": 2,
       "version_minor": 0
      },
      "text/plain": [
       "batch size=8, vocab size=256:   0%|          | 0/50 [00:00<?, ?it/s]"
      ]
     },
     "metadata": {},
     "output_type": "display_data"
    },
    {
     "data": {
      "application/vnd.jupyter.widget-view+json": {
       "model_id": "f30e697ee585404d80d3efa6f3960407",
       "version_major": 2,
       "version_minor": 0
      },
      "text/plain": [
       "batch size=8, vocab size=256 (Gumbel):   0%|          | 0/50 [00:00<?, ?it/s]"
      ]
     },
     "metadata": {},
     "output_type": "display_data"
    },
    {
     "data": {
      "application/vnd.jupyter.widget-view+json": {
       "model_id": "0682831406c943da841c61b4a5006471",
       "version_major": 2,
       "version_minor": 0
      },
      "text/plain": [
       "batch size=8, vocab size=512:   0%|          | 0/50 [00:00<?, ?it/s]"
      ]
     },
     "metadata": {},
     "output_type": "display_data"
    },
    {
     "data": {
      "application/vnd.jupyter.widget-view+json": {
       "model_id": "8a5a6fbf245a48f0a6f1e17305428d83",
       "version_major": 2,
       "version_minor": 0
      },
      "text/plain": [
       "batch size=8, vocab size=512 (Gumbel):   0%|          | 0/50 [00:00<?, ?it/s]"
      ]
     },
     "metadata": {},
     "output_type": "display_data"
    },
    {
     "data": {
      "application/vnd.jupyter.widget-view+json": {
       "model_id": "eb3ec4fdf6df4b9d8cf0ad4d35beeed8",
       "version_major": 2,
       "version_minor": 0
      },
      "text/plain": [
       "batch size=16, vocab size=32:   0%|          | 0/50 [00:00<?, ?it/s]"
      ]
     },
     "metadata": {},
     "output_type": "display_data"
    },
    {
     "data": {
      "application/vnd.jupyter.widget-view+json": {
       "model_id": "ce3e375c92d248d8ad76a7bbbe0940d3",
       "version_major": 2,
       "version_minor": 0
      },
      "text/plain": [
       "batch size=16, vocab size=32 (Gumbel):   0%|          | 0/50 [00:00<?, ?it/s]"
      ]
     },
     "metadata": {},
     "output_type": "display_data"
    },
    {
     "data": {
      "application/vnd.jupyter.widget-view+json": {
       "model_id": "17dd866745b146dcac0d735ea0b54cd2",
       "version_major": 2,
       "version_minor": 0
      },
      "text/plain": [
       "batch size=16, vocab size=64:   0%|          | 0/50 [00:00<?, ?it/s]"
      ]
     },
     "metadata": {},
     "output_type": "display_data"
    },
    {
     "data": {
      "application/vnd.jupyter.widget-view+json": {
       "model_id": "c703fb07899a40ac97ed75fced3cf70d",
       "version_major": 2,
       "version_minor": 0
      },
      "text/plain": [
       "batch size=16, vocab size=64 (Gumbel):   0%|          | 0/50 [00:00<?, ?it/s]"
      ]
     },
     "metadata": {},
     "output_type": "display_data"
    },
    {
     "data": {
      "application/vnd.jupyter.widget-view+json": {
       "model_id": "6b4b4269e6c44d01b9a29bf27d196946",
       "version_major": 2,
       "version_minor": 0
      },
      "text/plain": [
       "batch size=16, vocab size=128:   0%|          | 0/50 [00:00<?, ?it/s]"
      ]
     },
     "metadata": {},
     "output_type": "display_data"
    },
    {
     "data": {
      "application/vnd.jupyter.widget-view+json": {
       "model_id": "02e98a17b0034573afb4786ac456db43",
       "version_major": 2,
       "version_minor": 0
      },
      "text/plain": [
       "batch size=16, vocab size=128 (Gumbel):   0%|          | 0/50 [00:00<?, ?it/s]"
      ]
     },
     "metadata": {},
     "output_type": "display_data"
    },
    {
     "data": {
      "application/vnd.jupyter.widget-view+json": {
       "model_id": "924dce6b594540a3a5711ce0de4ce9ff",
       "version_major": 2,
       "version_minor": 0
      },
      "text/plain": [
       "batch size=16, vocab size=256:   0%|          | 0/50 [00:00<?, ?it/s]"
      ]
     },
     "metadata": {},
     "output_type": "display_data"
    },
    {
     "data": {
      "application/vnd.jupyter.widget-view+json": {
       "model_id": "2d65672e389440c88f7194b0188f24c4",
       "version_major": 2,
       "version_minor": 0
      },
      "text/plain": [
       "batch size=16, vocab size=256 (Gumbel):   0%|          | 0/50 [00:00<?, ?it/s]"
      ]
     },
     "metadata": {},
     "output_type": "display_data"
    },
    {
     "data": {
      "application/vnd.jupyter.widget-view+json": {
       "model_id": "cdd45563ebf148e4b134416c421667db",
       "version_major": 2,
       "version_minor": 0
      },
      "text/plain": [
       "batch size=16, vocab size=512:   0%|          | 0/50 [00:00<?, ?it/s]"
      ]
     },
     "metadata": {},
     "output_type": "display_data"
    },
    {
     "data": {
      "application/vnd.jupyter.widget-view+json": {
       "model_id": "50505a5ab1a94e05818e8ac5cab765b6",
       "version_major": 2,
       "version_minor": 0
      },
      "text/plain": [
       "batch size=16, vocab size=512 (Gumbel):   0%|          | 0/50 [00:00<?, ?it/s]"
      ]
     },
     "metadata": {},
     "output_type": "display_data"
    }
   ],
   "source": [
    "batch_sizes = np.power(2, np.arange(0, 5)) # 10\n",
    "vocab_sizes = np.power(2, np.arange(5, 10)) # 17\n",
    "\n",
    "times_df = collect_sampling_times(batch_sizes, vocab_sizes)"
   ]
  },
  {
   "cell_type": "code",
   "execution_count": 13,
   "metadata": {},
   "outputs": [],
   "source": [
    "# filename = 'gumbel_times.csv'\n",
    "# times_df.to_csv(filename)\n",
    "\n",
    "# def is_using_colab():\n",
    "#     try:\n",
    "#         import google.colab\n",
    "#     except:\n",
    "#         return False\n",
    "#     else:\n",
    "#         return True\n",
    "\n",
    "# if is_using_colab():\n",
    "#     from google.colab import files\n",
    "#     files.download(filename)"
   ]
  },
  {
   "cell_type": "code",
   "execution_count": 14,
   "metadata": {},
   "outputs": [
    {
     "name": "stdout",
     "output_type": "stream",
     "text": [
      "The Gumbel-max trick is faster in 14 out of 25 configurations (on CPU).\n",
      "Here are the configurations where it's slower:\n"
     ]
    },
    {
     "data": {
      "text/html": [
       "<div>\n",
       "<style scoped>\n",
       "    .dataframe tbody tr th:only-of-type {\n",
       "        vertical-align: middle;\n",
       "    }\n",
       "\n",
       "    .dataframe tbody tr th {\n",
       "        vertical-align: top;\n",
       "    }\n",
       "\n",
       "    .dataframe thead th {\n",
       "        text-align: right;\n",
       "    }\n",
       "</style>\n",
       "<table border=\"1\" class=\"dataframe\">\n",
       "  <thead>\n",
       "    <tr style=\"text-align: right;\">\n",
       "      <th></th>\n",
       "      <th>batch size</th>\n",
       "      <th>vocab size</th>\n",
       "      <th>softmax + multinomial</th>\n",
       "      <th>Gumbel-max trick</th>\n",
       "    </tr>\n",
       "  </thead>\n",
       "  <tbody>\n",
       "    <tr>\n",
       "      <th>5</th>\n",
       "      <td>2</td>\n",
       "      <td>32</td>\n",
       "      <td>0.000240</td>\n",
       "      <td>0.000780</td>\n",
       "    </tr>\n",
       "    <tr>\n",
       "      <th>6</th>\n",
       "      <td>2</td>\n",
       "      <td>64</td>\n",
       "      <td>0.000280</td>\n",
       "      <td>0.000400</td>\n",
       "    </tr>\n",
       "    <tr>\n",
       "      <th>7</th>\n",
       "      <td>2</td>\n",
       "      <td>128</td>\n",
       "      <td>0.000260</td>\n",
       "      <td>0.000500</td>\n",
       "    </tr>\n",
       "    <tr>\n",
       "      <th>9</th>\n",
       "      <td>2</td>\n",
       "      <td>512</td>\n",
       "      <td>0.000520</td>\n",
       "      <td>0.000579</td>\n",
       "    </tr>\n",
       "    <tr>\n",
       "      <th>10</th>\n",
       "      <td>4</td>\n",
       "      <td>32</td>\n",
       "      <td>0.000259</td>\n",
       "      <td>0.000420</td>\n",
       "    </tr>\n",
       "    <tr>\n",
       "      <th>11</th>\n",
       "      <td>4</td>\n",
       "      <td>64</td>\n",
       "      <td>0.000242</td>\n",
       "      <td>0.006540</td>\n",
       "    </tr>\n",
       "    <tr>\n",
       "      <th>12</th>\n",
       "      <td>4</td>\n",
       "      <td>128</td>\n",
       "      <td>0.000220</td>\n",
       "      <td>0.001100</td>\n",
       "    </tr>\n",
       "    <tr>\n",
       "      <th>16</th>\n",
       "      <td>8</td>\n",
       "      <td>64</td>\n",
       "      <td>0.000317</td>\n",
       "      <td>0.000423</td>\n",
       "    </tr>\n",
       "    <tr>\n",
       "      <th>17</th>\n",
       "      <td>8</td>\n",
       "      <td>128</td>\n",
       "      <td>0.000417</td>\n",
       "      <td>0.000420</td>\n",
       "    </tr>\n",
       "    <tr>\n",
       "      <th>20</th>\n",
       "      <td>16</td>\n",
       "      <td>32</td>\n",
       "      <td>0.000320</td>\n",
       "      <td>0.000340</td>\n",
       "    </tr>\n",
       "    <tr>\n",
       "      <th>21</th>\n",
       "      <td>16</td>\n",
       "      <td>64</td>\n",
       "      <td>0.000700</td>\n",
       "      <td>0.003340</td>\n",
       "    </tr>\n",
       "  </tbody>\n",
       "</table>\n",
       "</div>"
      ],
      "text/plain": [
       "    batch size  vocab size  softmax + multinomial  Gumbel-max trick\n",
       "5            2          32               0.000240          0.000780\n",
       "6            2          64               0.000280          0.000400\n",
       "7            2         128               0.000260          0.000500\n",
       "9            2         512               0.000520          0.000579\n",
       "10           4          32               0.000259          0.000420\n",
       "11           4          64               0.000242          0.006540\n",
       "12           4         128               0.000220          0.001100\n",
       "16           8          64               0.000317          0.000423\n",
       "17           8         128               0.000417          0.000420\n",
       "20          16          32               0.000320          0.000340\n",
       "21          16          64               0.000700          0.003340"
      ]
     },
     "execution_count": 14,
     "metadata": {},
     "output_type": "execute_result"
    }
   ],
   "source": [
    "mask_faster = times_df['softmax + multinomial'] > times_df['Gumbel-max trick']\n",
    "print(f'The Gumbel-max trick is faster in {mask_faster.sum()} out of {len(times_df)} '\n",
    "      f'configurations (on {DEVICE.upper()}).')\n",
    "print(\"Here are the configurations where it's slower:\")\n",
    "times_df[~mask_faster]"
   ]
  },
  {
   "cell_type": "code",
   "execution_count": 15,
   "metadata": {},
   "outputs": [],
   "source": [
    "def barplot(batch_size: int=None, vocab_size: int=None):\n",
    "    if ((batch_size is None and vocab_size is None) or\n",
    "        (batch_size is not None and vocab_size is not None)):\n",
    "        raise ValueError('Either batch_size or vocab_size must be passed.')\n",
    "    val = batch_size or vocab_size\n",
    "    select, index = 'batch size', 'vocab size'\n",
    "    if vocab_size is not None:\n",
    "        select, index = 'vocab size', 'batch size'\n",
    "\n",
    "    (times_df.copy()\n",
    "     [times_df[select] == val]\n",
    "     .drop(columns=[select])\n",
    "     .set_index(index)\n",
    "     .plot.bar(ylabel='mean wall-clock time (sec)',\n",
    "               title=f'Sampling time ({select} = {val}, device = {DEVICE})'));"
   ]
  },
  {
   "cell_type": "code",
   "execution_count": 16,
   "metadata": {},
   "outputs": [
    {
     "data": {
      "image/png": "[encoded data removed]",
      "text/plain": [
       "<Figure size 640x480 with 1 Axes>"
      ]
     },
     "metadata": {},
     "output_type": "display_data"
    }
   ],
   "source": [
    "barplot(batch_size=1)"
   ]
  },
  {
   "cell_type": "code",
   "execution_count": 17,
   "metadata": {},
   "outputs": [
    {
     "data": {
      "image/png": "[encoded data removed]",
      "text/plain": [
       "<Figure size 640x480 with 1 Axes>"
      ]
     },
     "metadata": {},
     "output_type": "display_data"
    }
   ],
   "source": [
    "barplot(vocab_size=32)"
   ]
  }
 ],
 "metadata": {
  "kernelspec": {
   "display_name": "base",
   "language": "python",
   "name": "python3"
  },
  "language_info": {
   "codemirror_mode": {
    "name": "ipython",
    "version": 3
   },
   "file_extension": ".py",
   "mimetype": "text/x-python",
   "name": "python",
   "nbconvert_exporter": "python",
   "pygments_lexer": "ipython3",
   "version": "3.11.3"
  },
  "orig_nbformat": 4
 },
 "nbformat": 4,
 "nbformat_minor": 2
}
