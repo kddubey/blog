{
 "cells": [
  {
   "cell_type": "markdown",
   "metadata": {},
   "source": [
    "**Description**: Simulation check for math in [my answer on stats.stackexchange.com](https://stats.stackexchange.com/a/570680) that there's a way to select a model w/ the best test set performance while also guaranteeing *something* about the selection procedure's performance. Also gives us a sense of how loose the theoretical upper bound is, at least for a particular linear problem.\n",
    "\n",
    "**Estimated runtime**: 5 min.\n",
    "\n",
    "**Package requirements**:\n",
    "```\n",
    "matplotlib==3.4.3\n",
    "pandas==1.3.4\n",
    "scikit-learn==0.24.2\n",
    "tqdm==4.62.3\n",
    "```"
   ]
  },
  {
   "cell_type": "code",
   "execution_count": 1,
   "metadata": {},
   "outputs": [],
   "source": [
    "from __future__ import annotations # in case you're on <= python3.8\n",
    "import warnings\n",
    "\n",
    "import matplotlib.pyplot as plt\n",
    "import numpy as np\n",
    "import pandas as pd\n",
    "from sklearn.datasets import make_classification\n",
    "from sklearn.linear_model import LogisticRegression\n",
    "from sklearn.model_selection import train_test_split\n",
    "from tqdm.notebook import tqdm"
   ]
  },
  {
   "cell_type": "code",
   "execution_count": 2,
   "metadata": {},
   "outputs": [],
   "source": [
    "# globally configure figure and font sizes to be kinda big\n",
    "plt.rcParams['figure.figsize'] = (10, int(4*(10/6)))\n",
    "plt.rcParams['font.size'] = 12"
   ]
  },
  {
   "cell_type": "code",
   "execution_count": 3,
   "metadata": {},
   "outputs": [],
   "source": [
    "def hoeffding_bound(num_models: int,            # m in math\n",
    "                    max_acceptable_diff: float, # eps in math\n",
    "                    test_size: int              # n in math\n",
    "                    ) -> float:\n",
    "    return 2*num_models * np.exp(-2 * (max_acceptable_diff**2) * test_size)\n",
    "\n",
    "\n",
    "def simulate(test_size: int,\n",
    "             num_models: int=2,\n",
    "             num_simulations: int=20,\n",
    "             train_size: int=1_000,\n",
    "             test_size_huge: int=50_000,\n",
    "             max_acceptable_diff: float=0.01,\n",
    "             noise: float=0.1,\n",
    "             random_state: int=None):\n",
    "    '''\n",
    "    Simulates the following model selection process `num_simulations` times:\n",
    "      1. `num_models` models are trained and tuned on a training set with `train_size` examples\n",
    "      2. Each of these models is evaluated on the test set with `test_size` examples\n",
    "      3. The model with the highest test set performance is selected\n",
    "\n",
    "    and returns:\n",
    "      * observed fraction of `num_simulations` in which the selected model's\n",
    "        test set error is outside the interval\\n\n",
    "            `(true_error - max_acceptable_diff, true_error + max_acceptable_diff)`\n",
    "        where `true_error` is the selected model's \"true\" out-of-sample error.\n",
    "      * theoretical upper bound on the above fraction.\n",
    "\n",
    "    Implementation notes:\n",
    "      * The \"true\" out-of-sample error is actually just an estimate on a test\n",
    "        set with `test_size_huge` examples.\n",
    "      * the classification data is generated via a sparse linear model with some\n",
    "        flipped labels to allow for greater variance in model errors.\n",
    "    '''\n",
    "    # input checks\n",
    "    if num_models < 1:\n",
    "        raise ValueError(f'num_models must be at least 1. Got {num_models}.')\n",
    "    if max_acceptable_diff < 0 or max_acceptable_diff > 1:\n",
    "        raise ValueError('max_acceptable_diff must be in the interval [0,1]. '\n",
    "                         f'Got {max_acceptable_diff}.')\n",
    "    # before looking into any data, compute the upper bound\n",
    "    frac_oob_ub = hoeffding_bound(num_models, max_acceptable_diff, test_size)\n",
    "    # simulation\n",
    "    num_oob_observed: int = 0\n",
    "    total_size = train_size + test_size + test_size_huge\n",
    "    for i in range(num_simulations):\n",
    "        _random_state_data = None if random_state is None else i+random_state\n",
    "        X, y = make_classification(total_size, flip_y=noise,\n",
    "                                   random_state=_random_state_data)\n",
    "\n",
    "        X_tr, X_te_huge, y_tr, y_te_huge = train_test_split(X, y,\n",
    "                                                            test_size=test_size_huge)\n",
    "        X_tr, X_te, y_tr, y_te = train_test_split(X_tr, y_tr,\n",
    "                                                  test_size=test_size)\n",
    "\n",
    "        # [10^-4, 10^4] is a fine range for make_classification data\n",
    "        Cs = np.logspace(start=-4, stop=4, num=num_models)\n",
    "\n",
    "        best_accuracy_obs = -np.inf\n",
    "        best_model = None\n",
    "        for j, C in enumerate(Cs):\n",
    "            with warnings.catch_warnings():\n",
    "                warnings.filterwarnings('ignore',\n",
    "                                        message='The max_iter was reached which '\n",
    "                                                'means the coef_ did not converge')\n",
    "                _random_state_model = None if random_state is None else j+i+random_state\n",
    "                model: LogisticRegression = (LogisticRegression(C=C, penalty='l1',\n",
    "                                                                solver='liblinear',\n",
    "                                                                random_state=_random_state_model)\n",
    "                                            .fit(X_tr, y_tr))\n",
    "            accuracy = model.score(X_te, y_te)\n",
    "            if accuracy > best_accuracy_obs:\n",
    "                best_accuracy_obs = accuracy\n",
    "                best_model = model\n",
    "        best_accuracy_almost_true = best_model.score(X_te_huge, y_te_huge)\n",
    "        is_oob = np.abs(best_accuracy_obs - best_accuracy_almost_true) > max_acceptable_diff\n",
    "        num_oob_observed += is_oob\n",
    "    return num_oob_observed/num_simulations, frac_oob_ub"
   ]
  },
  {
   "cell_type": "code",
   "execution_count": 4,
   "metadata": {},
   "outputs": [
    {
     "data": {
      "application/vnd.jupyter.widget-view+json": {
       "model_id": "fc674801d8a948f3b7df189e6f2b1aef",
       "version_major": 2,
       "version_minor": 0
      },
      "text/plain": [
       "Simulating:   0%|          | 0/10 [00:00<?, ?it/s]"
      ]
     },
     "metadata": {},
     "output_type": "display_data"
    },
    {
     "data": {
      "application/vnd.jupyter.widget-view+json": {
       "model_id": "202902851141475cb25df5f7a57c6695",
       "version_major": 2,
       "version_minor": 0
      },
      "text/plain": [
       "Replicating n=2000, m=2:   0%|          | 0/10 [00:00<?, ?it/s]"
      ]
     },
     "metadata": {},
     "output_type": "display_data"
    },
    {
     "data": {
      "application/vnd.jupyter.widget-view+json": {
       "model_id": "55385a3f91a949819ea426237cd3f80b",
       "version_major": 2,
       "version_minor": 0
      },
      "text/plain": [
       "Replicating n=4000, m=2:   0%|          | 0/10 [00:00<?, ?it/s]"
      ]
     },
     "metadata": {},
     "output_type": "display_data"
    },
    {
     "data": {
      "application/vnd.jupyter.widget-view+json": {
       "model_id": "aea47ec800d34ed489ad6595daa62c01",
       "version_major": 2,
       "version_minor": 0
      },
      "text/plain": [
       "Replicating n=6000, m=2:   0%|          | 0/10 [00:00<?, ?it/s]"
      ]
     },
     "metadata": {},
     "output_type": "display_data"
    },
    {
     "data": {
      "application/vnd.jupyter.widget-view+json": {
       "model_id": "9be9d494b0f9439ab73589769c636282",
       "version_major": 2,
       "version_minor": 0
      },
      "text/plain": [
       "Replicating n=8000, m=2:   0%|          | 0/10 [00:00<?, ?it/s]"
      ]
     },
     "metadata": {},
     "output_type": "display_data"
    },
    {
     "data": {
      "application/vnd.jupyter.widget-view+json": {
       "model_id": "a8e9d926af1d42bba1d885135be30a04",
       "version_major": 2,
       "version_minor": 0
      },
      "text/plain": [
       "Replicating n=10000, m=2:   0%|          | 0/10 [00:00<?, ?it/s]"
      ]
     },
     "metadata": {},
     "output_type": "display_data"
    },
    {
     "data": {
      "application/vnd.jupyter.widget-view+json": {
       "model_id": "503b4c6e98a34b3682fc4413497ee676",
       "version_major": 2,
       "version_minor": 0
      },
      "text/plain": [
       "Replicating n=12000, m=2:   0%|          | 0/10 [00:00<?, ?it/s]"
      ]
     },
     "metadata": {},
     "output_type": "display_data"
    },
    {
     "data": {
      "application/vnd.jupyter.widget-view+json": {
       "model_id": "5f0c976d253e46199bb4c89a98167d04",
       "version_major": 2,
       "version_minor": 0
      },
      "text/plain": [
       "Replicating n=14000, m=2:   0%|          | 0/10 [00:00<?, ?it/s]"
      ]
     },
     "metadata": {},
     "output_type": "display_data"
    },
    {
     "data": {
      "application/vnd.jupyter.widget-view+json": {
       "model_id": "b33508301d214277b7179a9e50ecf19e",
       "version_major": 2,
       "version_minor": 0
      },
      "text/plain": [
       "Replicating n=16000, m=2:   0%|          | 0/10 [00:00<?, ?it/s]"
      ]
     },
     "metadata": {},
     "output_type": "display_data"
    },
    {
     "data": {
      "application/vnd.jupyter.widget-view+json": {
       "model_id": "6cfe6a3ea59349888de3aa5e4d99f4f9",
       "version_major": 2,
       "version_minor": 0
      },
      "text/plain": [
       "Replicating n=18000, m=2:   0%|          | 0/10 [00:00<?, ?it/s]"
      ]
     },
     "metadata": {},
     "output_type": "display_data"
    },
    {
     "data": {
      "application/vnd.jupyter.widget-view+json": {
       "model_id": "2fbfae517f484d06b0a20a0c2f1cbc76",
       "version_major": 2,
       "version_minor": 0
      },
      "text/plain": [
       "Replicating n=20000, m=2:   0%|          | 0/10 [00:00<?, ?it/s]"
      ]
     },
     "metadata": {},
     "output_type": "display_data"
    }
   ],
   "source": [
    "num_models = 2\n",
    "\n",
    "random_state = 43045\n",
    "num_replications = 10\n",
    "test_sizes = np.linspace(2_000, 20_000, num=10).astype(int)\n",
    "_records = []\n",
    "for test_size in tqdm(test_sizes, desc='Simulating', position=0):\n",
    "    for _ in tqdm(range(num_replications), leave=False, position=0,\n",
    "                  desc=f'Replicating n={test_size}, m={num_models}'):\n",
    "        frac_oob_observed, frac_oob_ub = simulate(test_size, num_models,\n",
    "                                                  random_state=random_state)\n",
    "        _records.append({'test set size': test_size,\n",
    "                         'frac oob (observed)': frac_oob_observed,\n",
    "                         'frac oob (upper bound)': frac_oob_ub})\n",
    "sim_results_df = pd.DataFrame(_records)"
   ]
  },
  {
   "cell_type": "code",
   "execution_count": 5,
   "metadata": {},
   "outputs": [
    {
     "data": {
      "image/png": "[encoded data removed]",
      "text/plain": [
       "<Figure size 720x432 with 1 Axes>"
      ]
     },
     "metadata": {
      "needs_background": "light"
     },
     "output_type": "display_data"
    }
   ],
   "source": [
    "plt.scatter(\n",
    "    sim_results_df['test set size'],\n",
    "    sim_results_df['frac oob (observed)'],\n",
    "    5,\n",
    "    label='observed')\n",
    "plt.plot(\n",
    "    sim_results_df['test set size'],\n",
    "    sim_results_df['frac oob (upper bound)'],\n",
    "    label='theoretical bound',\n",
    "    color='orange',\n",
    "    marker='o')\n",
    "plt.ylim(-0.1) # give room for those 0s\n",
    "plt.legend()\n",
    "plt.xticks(test_sizes)\n",
    "plt.title(f'# models = {num_models}')\n",
    "plt.xlabel('test set size')\n",
    "plt.ylabel('fraction out-of-bounds');"
   ]
  }
 ],
 "metadata": {
  "kernelspec": {
   "display_name": "Python 3.9.7 ('base')",
   "language": "python",
   "name": "python3"
  },
  "language_info": {
   "codemirror_mode": {
    "name": "ipython",
    "version": 3
   },
   "file_extension": ".py",
   "mimetype": "text/x-python",
   "name": "python",
   "nbconvert_exporter": "python",
   "pygments_lexer": "ipython3",
   "version": "3.9.7"
  },
  "orig_nbformat": 4,
  "vscode": {
   "interpreter": {
    "hash": "18983e9e827802b63835b8dbc18d4f8a4ebd5dd283f63362764c2c714492b89c"
   }
  }
 },
 "nbformat": 4,
 "nbformat_minor": 2
}
