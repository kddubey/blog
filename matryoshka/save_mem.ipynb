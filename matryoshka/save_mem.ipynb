{
  "cells": [
    {
      "cell_type": "markdown",
      "metadata": {
        "id": "CpGRNGmtl79n"
      },
      "source": [
        "**Description**: Does the Matryoshka training implementation in the [MRL\n",
        "paper](https://arxiv.org/abs/2205.13147) (also in\n",
        "[sentence-transformers](https://github.com/UKPLab/sentence-transformers/blob/0a32ec8445ef46b2b5d4f81af4931e293d42623f/sentence_transformers/losses/MatryoshkaLoss.py#L149))\n",
        "use more memory than needed? Adding loss tensors across the loop over Matryoshka dims\n",
        "causes new computation graphs and new intermediate values to get stored. We should\n",
        "instead `backward` inside the loop over Matryoshka dimensions. If the batch size or\n",
        "embedding dimensionality are big, and there are many Matryoshka dims, are these memory\n",
        "savings considerable?"
      ]
    },
    {
      "cell_type": "code",
      "source": [
        "!pip install torchviz"
      ],
      "metadata": {
        "colab": {
          "base_uri": "https://localhost:8080/"
        },
        "id": "h0nGK_iu_OI4",
        "outputId": "1d59a4c3-41f6-490c-840e-0b248bf26c98"
      },
      "execution_count": 1,
      "outputs": [
        {
          "output_type": "stream",
          "name": "stdout",
          "text": [
            "Requirement already satisfied: torchviz in /usr/local/lib/python3.10/dist-packages (0.0.2)\n",
            "Requirement already satisfied: torch in /usr/local/lib/python3.10/dist-packages (from torchviz) (2.4.0+cu121)\n",
            "Requirement already satisfied: graphviz in /usr/local/lib/python3.10/dist-packages (from torchviz) (0.20.3)\n",
            "Requirement already satisfied: filelock in /usr/local/lib/python3.10/dist-packages (from torch->torchviz) (3.15.4)\n",
            "Requirement already satisfied: typing-extensions>=4.8.0 in /usr/local/lib/python3.10/dist-packages (from torch->torchviz) (4.12.2)\n",
            "Requirement already satisfied: sympy in /usr/local/lib/python3.10/dist-packages (from torch->torchviz) (1.13.2)\n",
            "Requirement already satisfied: networkx in /usr/local/lib/python3.10/dist-packages (from torch->torchviz) (3.3)\n",
            "Requirement already satisfied: jinja2 in /usr/local/lib/python3.10/dist-packages (from torch->torchviz) (3.1.4)\n",
            "Requirement already satisfied: fsspec in /usr/local/lib/python3.10/dist-packages (from torch->torchviz) (2024.6.1)\n",
            "Requirement already satisfied: MarkupSafe>=2.0 in /usr/local/lib/python3.10/dist-packages (from jinja2->torch->torchviz) (2.1.5)\n",
            "Requirement already satisfied: mpmath<1.4,>=1.1.0 in /usr/local/lib/python3.10/dist-packages (from sympy->torch->torchviz) (1.3.0)\n"
          ]
        }
      ]
    },
    {
      "cell_type": "code",
      "execution_count": 2,
      "metadata": {
        "id": "z8DgUzkBl79q"
      },
      "outputs": [],
      "source": [
        "import torch\n",
        "import torchviz"
      ]
    },
    {
      "cell_type": "code",
      "execution_count": 3,
      "metadata": {
        "id": "c1Uf0cMxl79r"
      },
      "outputs": [],
      "source": [
        "dim = 768\n",
        "W = torch.randn((dim, dim), device=\"cuda\")\n",
        "\n",
        "\n",
        "class Model(torch.nn.Module):\n",
        "    def __init__(self) -> None:\n",
        "        super().__init__()\n",
        "        self.W = torch.nn.Parameter(W.clone())\n",
        "        self.relu = torch.nn.ReLU()\n",
        "\n",
        "    def forward(self, x: torch.Tensor) -> torch.Tensor:\n",
        "        Z = x @ self.W\n",
        "        X = self.relu(Z)\n",
        "        return X\n",
        "\n",
        "\n",
        "class Loss(torch.nn.Module):\n",
        "    def __init__(self) -> None:\n",
        "        super().__init__()\n",
        "\n",
        "    def forward(self, X: torch.Tensor) -> torch.Tensor:\n",
        "        first, rest = X[0, :], X[1:, :]\n",
        "        return (rest @ first).mean()\n",
        "\n",
        "\n",
        "batch_size = 1024\n",
        "x = torch.randn((batch_size, dim), device=\"cuda\")\n",
        "dims = [64, 128, 256, 512, 768]"
      ]
    },
    {
      "cell_type": "code",
      "execution_count": 4,
      "metadata": {
        "id": "AVjTF0Ohl79r"
      },
      "outputs": [],
      "source": [
        "model = Model().to(\"cuda\")\n",
        "loss_fn = Loss()"
      ]
    },
    {
      "cell_type": "code",
      "execution_count": 5,
      "metadata": {
        "colab": {
          "base_uri": "https://localhost:8080/"
        },
        "id": "dmnJqWgsl79s",
        "outputId": "45d01c8f-ae84-4925-8a71-ac4410399b2c"
      },
      "outputs": [
        {
          "output_type": "execute_result",
          "data": {
            "text/plain": [
              "7.86432"
            ]
          },
          "metadata": {},
          "execution_count": 5
        }
      ],
      "source": [
        "torch.cuda.memory_allocated() / 1e6"
      ]
    },
    {
      "cell_type": "code",
      "execution_count": 6,
      "metadata": {
        "id": "1Ddtc4sol79s",
        "colab": {
          "base_uri": "https://localhost:8080/"
        },
        "outputId": "b1d20ee2-91f8-497c-d288-698e5ba0a90e"
      },
      "outputs": [
        {
          "output_type": "stream",
          "name": "stdout",
          "text": [
            "22.675968\n",
            "22.675968\n",
            "22.675968\n",
            "22.675968\n",
            "22.675968\n"
          ]
        }
      ],
      "source": [
        "X: torch.Tensor = model(x.clone())\n",
        "loss = 0\n",
        "for dim in dims:\n",
        "    loss += loss_fn(X[:, :dim])\n",
        "    print(torch.cuda.memory_allocated() / 1e6)"
      ]
    },
    {
      "cell_type": "code",
      "execution_count": 7,
      "metadata": {
        "id": "tn2QOPepl79s"
      },
      "outputs": [],
      "source": [
        "loss.backward()"
      ]
    },
    {
      "cell_type": "code",
      "execution_count": 8,
      "metadata": {
        "colab": {
          "base_uri": "https://localhost:8080/"
        },
        "id": "66LK3ISHl79s",
        "outputId": "57907ce6-8db3-4f73-ab2e-a7464430c571"
      },
      "outputs": [
        {
          "output_type": "execute_result",
          "data": {
            "text/plain": [
              "30.409216"
            ]
          },
          "metadata": {},
          "execution_count": 8
        }
      ],
      "source": [
        "torch.cuda.memory_allocated() / 1e6"
      ]
    },
    {
      "cell_type": "code",
      "execution_count": 9,
      "metadata": {
        "id": "Kz0eEuipl79t",
        "outputId": "bb8b278d-64e8-4486-eae0-9645f5367b7d",
        "colab": {
          "base_uri": "https://localhost:8080/",
          "height": 1000
        }
      },
      "outputs": [
        {
          "output_type": "execute_result",
          "data": {
            "image/svg+xml": "<?xml version=\"1.0\" encoding=\"UTF-8\" standalone=\"no\"?>\n<!DOCTYPE svg PUBLIC \"-//W3C//DTD SVG 1.1//EN\"\n \"http://www.w3.org/Graphics/SVG/1.1/DTD/svg11.dtd\">\n<!-- Generated by graphviz version 2.43.0 (0)\n -->\n<!-- Title: %3 Pages: 1 -->\n<svg width=\"1145pt\" height=\"831pt\"\n viewBox=\"0.00 0.00 1145.00 831.00\" xmlns=\"http://www.w3.org/2000/svg\" xmlns:xlink=\"http://www.w3.org/1999/xlink\">\n<g id=\"graph0\" class=\"graph\" transform=\"scale(0.95 0.95) rotate(0) translate(4 872)\">\n<title>%3</title>\n<polygon fill=\"white\" stroke=\"transparent\" points=\"-4,4 -4,-872 1203,-872 1203,4 -4,4\"/>\n<!-- 134098332942880 -->\n<g id=\"node1\" class=\"node\">\n<title>134098332942880</title>\n<polygon fill=\"#caff70\" stroke=\"black\" points=\"870.5,-31 816.5,-31 816.5,0 870.5,0 870.5,-31\"/>\n<text text-anchor=\"middle\" x=\"843.5\" y=\"-7\" font-family=\"monospace\" font-size=\"10.00\"> ()</text>\n</g>\n<!-- 134098325713392 -->\n<g id=\"node2\" class=\"node\">\n<title>134098325713392</title>\n<polygon fill=\"lightgrey\" stroke=\"black\" points=\"888,-86 799,-86 799,-67 888,-67 888,-86\"/>\n<text text-anchor=\"middle\" x=\"843.5\" y=\"-74\" font-family=\"monospace\" font-size=\"10.00\">AddBackward0</text>\n</g>\n<!-- 134098325713392&#45;&gt;134098332942880 -->\n<g id=\"edge57\" class=\"edge\">\n<title>134098325713392&#45;&gt;134098332942880</title>\n<path fill=\"none\" stroke=\"black\" d=\"M843.5,-66.79C843.5,-60.07 843.5,-50.4 843.5,-41.34\"/>\n<polygon fill=\"black\" stroke=\"black\" points=\"847,-41.19 843.5,-31.19 840,-41.19 847,-41.19\"/>\n</g>\n<!-- 134098325709264 -->\n<g id=\"node3\" class=\"node\">\n<title>134098325709264</title>\n<polygon fill=\"lightgrey\" stroke=\"black\" points=\"850,-141 761,-141 761,-122 850,-122 850,-141\"/>\n<text text-anchor=\"middle\" x=\"805.5\" y=\"-129\" font-family=\"monospace\" font-size=\"10.00\">AddBackward0</text>\n</g>\n<!-- 134098325709264&#45;&gt;134098325713392 -->\n<g id=\"edge1\" class=\"edge\">\n<title>134098325709264&#45;&gt;134098325713392</title>\n<path fill=\"none\" stroke=\"black\" d=\"M811.77,-121.75C817.09,-114.34 824.86,-103.5 831.38,-94.41\"/>\n<polygon fill=\"black\" stroke=\"black\" points=\"834.36,-96.26 837.34,-86.09 828.67,-92.18 834.36,-96.26\"/>\n</g>\n<!-- 134098325715504 -->\n<g id=\"node4\" class=\"node\">\n<title>134098325715504</title>\n<polygon fill=\"lightgrey\" stroke=\"black\" points=\"645,-196 556,-196 556,-177 645,-177 645,-196\"/>\n<text text-anchor=\"middle\" x=\"600.5\" y=\"-184\" font-family=\"monospace\" font-size=\"10.00\">AddBackward0</text>\n</g>\n<!-- 134098325715504&#45;&gt;134098325709264 -->\n<g id=\"edge2\" class=\"edge\">\n<title>134098325715504&#45;&gt;134098325709264</title>\n<path fill=\"none\" stroke=\"black\" d=\"M633.44,-176.98C668.45,-167.93 723.97,-153.58 762.43,-143.64\"/>\n<polygon fill=\"black\" stroke=\"black\" points=\"763.5,-146.97 772.31,-141.08 761.75,-140.2 763.5,-146.97\"/>\n</g>\n<!-- 134098325711808 -->\n<g id=\"node5\" class=\"node\">\n<title>134098325711808</title>\n<polygon fill=\"lightgrey\" stroke=\"black\" points=\"444,-251 355,-251 355,-232 444,-232 444,-251\"/>\n<text text-anchor=\"middle\" x=\"399.5\" y=\"-239\" font-family=\"monospace\" font-size=\"10.00\">AddBackward0</text>\n</g>\n<!-- 134098325711808&#45;&gt;134098325715504 -->\n<g id=\"edge3\" class=\"edge\">\n<title>134098325711808&#45;&gt;134098325715504</title>\n<path fill=\"none\" stroke=\"black\" d=\"M431.79,-231.98C466.12,-222.93 520.56,-208.58 558.27,-198.64\"/>\n<polygon fill=\"black\" stroke=\"black\" points=\"559.18,-202.02 567.95,-196.08 557.39,-195.25 559.18,-202.02\"/>\n</g>\n<!-- 134098325708640 -->\n<g id=\"node6\" class=\"node\">\n<title>134098325708640</title>\n<polygon fill=\"lightgrey\" stroke=\"black\" points=\"301,-306 212,-306 212,-287 301,-287 301,-306\"/>\n<text text-anchor=\"middle\" x=\"256.5\" y=\"-294\" font-family=\"monospace\" font-size=\"10.00\">AddBackward0</text>\n</g>\n<!-- 134098325708640&#45;&gt;134098325711808 -->\n<g id=\"edge4\" class=\"edge\">\n<title>134098325708640&#45;&gt;134098325711808</title>\n<path fill=\"none\" stroke=\"black\" d=\"M279.48,-286.98C303,-278.27 339.79,-264.63 366.44,-254.75\"/>\n<polygon fill=\"black\" stroke=\"black\" points=\"367.95,-257.93 376.11,-251.17 365.51,-251.36 367.95,-257.93\"/>\n</g>\n<!-- 134098325715744 -->\n<g id=\"node7\" class=\"node\">\n<title>134098325715744</title>\n<polygon fill=\"lightgrey\" stroke=\"black\" points=\"237,-361 142,-361 142,-342 237,-342 237,-361\"/>\n<text text-anchor=\"middle\" x=\"189.5\" y=\"-349\" font-family=\"monospace\" font-size=\"10.00\">MeanBackward0</text>\n</g>\n<!-- 134098325715744&#45;&gt;134098325708640 -->\n<g id=\"edge5\" class=\"edge\">\n<title>134098325715744&#45;&gt;134098325708640</title>\n<path fill=\"none\" stroke=\"black\" d=\"M200.26,-341.98C210.27,-334.07 225.39,-322.11 237.43,-312.58\"/>\n<polygon fill=\"black\" stroke=\"black\" points=\"239.87,-315.12 245.54,-306.17 235.53,-309.63 239.87,-315.12\"/>\n</g>\n<!-- 134098325711040 -->\n<g id=\"node8\" class=\"node\">\n<title>134098325711040</title>\n<polygon fill=\"lightgrey\" stroke=\"black\" points=\"214,-416 131,-416 131,-397 214,-397 214,-416\"/>\n<text text-anchor=\"middle\" x=\"172.5\" y=\"-404\" font-family=\"monospace\" font-size=\"10.00\">MvBackward0</text>\n</g>\n<!-- 134098325711040&#45;&gt;134098325715744 -->\n<g id=\"edge6\" class=\"edge\">\n<title>134098325711040&#45;&gt;134098325715744</title>\n<path fill=\"none\" stroke=\"black\" d=\"M175.31,-396.75C177.56,-389.72 180.8,-379.62 183.62,-370.84\"/>\n<polygon fill=\"black\" stroke=\"black\" points=\"187.02,-371.68 186.75,-361.09 180.36,-369.54 187.02,-371.68\"/>\n</g>\n<!-- 134098325709072 -->\n<g id=\"node9\" class=\"node\">\n<title>134098325709072</title>\n<polygon fill=\"lightgrey\" stroke=\"black\" points=\"103,-471 2,-471 2,-452 103,-452 103,-471\"/>\n<text text-anchor=\"middle\" x=\"52.5\" y=\"-459\" font-family=\"monospace\" font-size=\"10.00\">SliceBackward0</text>\n</g>\n<!-- 134098325709072&#45;&gt;134098325711040 -->\n<g id=\"edge7\" class=\"edge\">\n<title>134098325709072&#45;&gt;134098325711040</title>\n<path fill=\"none\" stroke=\"black\" d=\"M71.78,-451.98C91.17,-443.42 121.31,-430.11 143.57,-420.28\"/>\n<polygon fill=\"black\" stroke=\"black\" points=\"145.14,-423.41 152.87,-416.17 142.31,-417.01 145.14,-423.41\"/>\n</g>\n<!-- 134098325712000 -->\n<g id=\"node10\" class=\"node\">\n<title>134098325712000</title>\n<polygon fill=\"lightgrey\" stroke=\"black\" points=\"101,-526 0,-526 0,-507 101,-507 101,-526\"/>\n<text text-anchor=\"middle\" x=\"50.5\" y=\"-514\" font-family=\"monospace\" font-size=\"10.00\">SliceBackward0</text>\n</g>\n<!-- 134098325712000&#45;&gt;134098325709072 -->\n<g id=\"edge8\" class=\"edge\">\n<title>134098325712000&#45;&gt;134098325709072</title>\n<path fill=\"none\" stroke=\"black\" d=\"M50.83,-506.75C51.09,-499.8 51.47,-489.85 51.8,-481.13\"/>\n<polygon fill=\"black\" stroke=\"black\" points=\"55.3,-481.21 52.18,-471.09 48.3,-480.95 55.3,-481.21\"/>\n</g>\n<!-- 134098325713200 -->\n<g id=\"node11\" class=\"node\">\n<title>134098325713200</title>\n<polygon fill=\"lightgrey\" stroke=\"black\" points=\"223,-581 122,-581 122,-562 223,-562 223,-581\"/>\n<text text-anchor=\"middle\" x=\"172.5\" y=\"-569\" font-family=\"monospace\" font-size=\"10.00\">SliceBackward0</text>\n</g>\n<!-- 134098325713200&#45;&gt;134098325712000 -->\n<g id=\"edge9\" class=\"edge\">\n<title>134098325713200&#45;&gt;134098325712000</title>\n<path fill=\"none\" stroke=\"black\" d=\"M152.9,-561.98C133.18,-553.42 102.55,-540.11 79.92,-530.28\"/>\n<polygon fill=\"black\" stroke=\"black\" points=\"81.02,-526.94 70.46,-526.17 78.24,-533.37 81.02,-526.94\"/>\n</g>\n<!-- 134098325711088 -->\n<g id=\"node18\" class=\"node\">\n<title>134098325711088</title>\n<polygon fill=\"lightgrey\" stroke=\"black\" points=\"226,-526 119,-526 119,-507 226,-507 226,-526\"/>\n<text text-anchor=\"middle\" x=\"172.5\" y=\"-514\" font-family=\"monospace\" font-size=\"10.00\">SelectBackward0</text>\n</g>\n<!-- 134098325713200&#45;&gt;134098325711088 -->\n<g id=\"edge17\" class=\"edge\">\n<title>134098325713200&#45;&gt;134098325711088</title>\n<path fill=\"none\" stroke=\"black\" d=\"M172.5,-561.75C172.5,-554.8 172.5,-544.85 172.5,-536.13\"/>\n<polygon fill=\"black\" stroke=\"black\" points=\"176,-536.09 172.5,-526.09 169,-536.09 176,-536.09\"/>\n</g>\n<!-- 134098325711712 -->\n<g id=\"node12\" class=\"node\">\n<title>134098325711712</title>\n<polygon fill=\"lightgrey\" stroke=\"black\" points=\"255,-636 154,-636 154,-617 255,-617 255,-636\"/>\n<text text-anchor=\"middle\" x=\"204.5\" y=\"-624\" font-family=\"monospace\" font-size=\"10.00\">SliceBackward0</text>\n</g>\n<!-- 134098325711712&#45;&gt;134098325713200 -->\n<g id=\"edge10\" class=\"edge\">\n<title>134098325711712&#45;&gt;134098325713200</title>\n<path fill=\"none\" stroke=\"black\" d=\"M199.22,-616.75C194.79,-609.42 188.34,-598.73 182.88,-589.7\"/>\n<polygon fill=\"black\" stroke=\"black\" points=\"185.85,-587.84 177.69,-581.09 179.86,-591.46 185.85,-587.84\"/>\n</g>\n<!-- 134098325707536 -->\n<g id=\"node13\" class=\"node\">\n<title>134098325707536</title>\n<polygon fill=\"lightgrey\" stroke=\"black\" points=\"677,-691 582,-691 582,-672 677,-672 677,-691\"/>\n<text text-anchor=\"middle\" x=\"629.5\" y=\"-679\" font-family=\"monospace\" font-size=\"10.00\">ReluBackward0</text>\n</g>\n<!-- 134098325707536&#45;&gt;134098325711712 -->\n<g id=\"edge11\" class=\"edge\">\n<title>134098325707536&#45;&gt;134098325711712</title>\n<path fill=\"none\" stroke=\"black\" d=\"M581.98,-674.57C504.45,-664.91 350.83,-645.75 265.4,-635.09\"/>\n<polygon fill=\"black\" stroke=\"black\" points=\"265.68,-631.6 255.33,-633.84 264.82,-638.55 265.68,-631.6\"/>\n</g>\n<!-- 134098325713056 -->\n<g id=\"node24\" class=\"node\">\n<title>134098325713056</title>\n<polygon fill=\"lightgrey\" stroke=\"black\" points=\"499,-636 398,-636 398,-617 499,-617 499,-636\"/>\n<text text-anchor=\"middle\" x=\"448.5\" y=\"-624\" font-family=\"monospace\" font-size=\"10.00\">SliceBackward0</text>\n</g>\n<!-- 134098325707536&#45;&gt;134098325713056 -->\n<g id=\"edge24\" class=\"edge\">\n<title>134098325707536&#45;&gt;134098325713056</title>\n<path fill=\"none\" stroke=\"black\" d=\"M600.42,-671.98C569.9,-663.05 521.74,-648.94 487.84,-639.02\"/>\n<polygon fill=\"black\" stroke=\"black\" points=\"488.39,-635.53 477.81,-636.08 486.42,-642.25 488.39,-635.53\"/>\n</g>\n<!-- 134098325712912 -->\n<g id=\"node32\" class=\"node\">\n<title>134098325712912</title>\n<polygon fill=\"lightgrey\" stroke=\"black\" points=\"680,-636 579,-636 579,-617 680,-617 680,-636\"/>\n<text text-anchor=\"middle\" x=\"629.5\" y=\"-624\" font-family=\"monospace\" font-size=\"10.00\">SliceBackward0</text>\n</g>\n<!-- 134098325707536&#45;&gt;134098325712912 -->\n<g id=\"edge34\" class=\"edge\">\n<title>134098325707536&#45;&gt;134098325712912</title>\n<path fill=\"none\" stroke=\"black\" d=\"M629.5,-671.75C629.5,-664.8 629.5,-654.85 629.5,-646.13\"/>\n<polygon fill=\"black\" stroke=\"black\" points=\"633,-646.09 629.5,-636.09 626,-646.09 633,-646.09\"/>\n</g>\n<!-- 134098325704992 -->\n<g id=\"node40\" class=\"node\">\n<title>134098325704992</title>\n<polygon fill=\"lightgrey\" stroke=\"black\" points=\"832,-636 731,-636 731,-617 832,-617 832,-636\"/>\n<text text-anchor=\"middle\" x=\"781.5\" y=\"-624\" font-family=\"monospace\" font-size=\"10.00\">SliceBackward0</text>\n</g>\n<!-- 134098325707536&#45;&gt;134098325704992 -->\n<g id=\"edge44\" class=\"edge\">\n<title>134098325707536&#45;&gt;134098325704992</title>\n<path fill=\"none\" stroke=\"black\" d=\"M653.92,-671.98C679.22,-663.16 718.95,-649.31 747.36,-639.41\"/>\n<polygon fill=\"black\" stroke=\"black\" points=\"748.6,-642.68 756.89,-636.08 746.29,-636.07 748.6,-642.68\"/>\n</g>\n<!-- 134098325710080 -->\n<g id=\"node47\" class=\"node\">\n<title>134098325710080</title>\n<polygon fill=\"lightgrey\" stroke=\"black\" points=\"1074,-636 973,-636 973,-617 1074,-617 1074,-636\"/>\n<text text-anchor=\"middle\" x=\"1023.5\" y=\"-624\" font-family=\"monospace\" font-size=\"10.00\">SliceBackward0</text>\n</g>\n<!-- 134098325707536&#45;&gt;134098325710080 -->\n<g id=\"edge53\" class=\"edge\">\n<title>134098325707536&#45;&gt;134098325710080</title>\n<path fill=\"none\" stroke=\"black\" d=\"M677.03,-674.11C748.52,-664.49 883.74,-646.3 962.44,-635.71\"/>\n<polygon fill=\"black\" stroke=\"black\" points=\"963.25,-639.14 972.69,-634.33 962.32,-632.2 963.25,-639.14\"/>\n</g>\n<!-- 134098325715648 -->\n<g id=\"node14\" class=\"node\">\n<title>134098325715648</title>\n<polygon fill=\"lightgrey\" stroke=\"black\" points=\"671,-746 588,-746 588,-727 671,-727 671,-746\"/>\n<text text-anchor=\"middle\" x=\"629.5\" y=\"-734\" font-family=\"monospace\" font-size=\"10.00\">MmBackward0</text>\n</g>\n<!-- 134098325715648&#45;&gt;134098325707536 -->\n<g id=\"edge12\" class=\"edge\">\n<title>134098325715648&#45;&gt;134098325707536</title>\n<path fill=\"none\" stroke=\"black\" d=\"M629.5,-726.75C629.5,-719.8 629.5,-709.85 629.5,-701.13\"/>\n<polygon fill=\"black\" stroke=\"black\" points=\"633,-701.09 629.5,-691.09 626,-701.09 633,-701.09\"/>\n</g>\n<!-- 134098325712096 -->\n<g id=\"node15\" class=\"node\">\n<title>134098325712096</title>\n<polygon fill=\"lightgrey\" stroke=\"black\" points=\"680,-801 579,-801 579,-782 680,-782 680,-801\"/>\n<text text-anchor=\"middle\" x=\"629.5\" y=\"-789\" font-family=\"monospace\" font-size=\"10.00\">AccumulateGrad</text>\n</g>\n<!-- 134098325712096&#45;&gt;134098325715648 -->\n<g id=\"edge13\" class=\"edge\">\n<title>134098325712096&#45;&gt;134098325715648</title>\n<path fill=\"none\" stroke=\"black\" d=\"M629.5,-781.75C629.5,-774.8 629.5,-764.85 629.5,-756.13\"/>\n<polygon fill=\"black\" stroke=\"black\" points=\"633,-756.09 629.5,-746.09 626,-756.09 633,-756.09\"/>\n</g>\n<!-- 134098326980864 -->\n<g id=\"node16\" class=\"node\">\n<title>134098326980864</title>\n<polygon fill=\"lightblue\" stroke=\"black\" points=\"671,-868 588,-868 588,-837 671,-837 671,-868\"/>\n<text text-anchor=\"middle\" x=\"629.5\" y=\"-844\" font-family=\"monospace\" font-size=\"10.00\"> (768, 768)</text>\n</g>\n<!-- 134098326980864&#45;&gt;134098325712096 -->\n<g id=\"edge14\" class=\"edge\">\n<title>134098326980864&#45;&gt;134098325712096</title>\n<path fill=\"none\" stroke=\"black\" d=\"M629.5,-836.92C629.5,-829.22 629.5,-819.69 629.5,-811.43\"/>\n<polygon fill=\"black\" stroke=\"black\" points=\"633,-811.25 629.5,-801.25 626,-811.25 633,-811.25\"/>\n</g>\n<!-- 134098325716272 -->\n<g id=\"node17\" class=\"node\">\n<title>134098325716272</title>\n<polygon fill=\"lightgrey\" stroke=\"black\" points=\"223,-471 122,-471 122,-452 223,-452 223,-471\"/>\n<text text-anchor=\"middle\" x=\"172.5\" y=\"-459\" font-family=\"monospace\" font-size=\"10.00\">SliceBackward0</text>\n</g>\n<!-- 134098325716272&#45;&gt;134098325711040 -->\n<g id=\"edge15\" class=\"edge\">\n<title>134098325716272&#45;&gt;134098325711040</title>\n<path fill=\"none\" stroke=\"black\" d=\"M172.5,-451.75C172.5,-444.8 172.5,-434.85 172.5,-426.13\"/>\n<polygon fill=\"black\" stroke=\"black\" points=\"176,-426.09 172.5,-416.09 169,-426.09 176,-426.09\"/>\n</g>\n<!-- 134098325711088&#45;&gt;134098325716272 -->\n<g id=\"edge16\" class=\"edge\">\n<title>134098325711088&#45;&gt;134098325716272</title>\n<path fill=\"none\" stroke=\"black\" d=\"M172.5,-506.75C172.5,-499.8 172.5,-489.85 172.5,-481.13\"/>\n<polygon fill=\"black\" stroke=\"black\" points=\"176,-481.09 172.5,-471.09 169,-481.09 176,-481.09\"/>\n</g>\n<!-- 134098325707824 -->\n<g id=\"node19\" class=\"node\">\n<title>134098325707824</title>\n<polygon fill=\"lightgrey\" stroke=\"black\" points=\"447,-306 352,-306 352,-287 447,-287 447,-306\"/>\n<text text-anchor=\"middle\" x=\"399.5\" y=\"-294\" font-family=\"monospace\" font-size=\"10.00\">MeanBackward0</text>\n</g>\n<!-- 134098325707824&#45;&gt;134098325711808 -->\n<g id=\"edge18\" class=\"edge\">\n<title>134098325707824&#45;&gt;134098325711808</title>\n<path fill=\"none\" stroke=\"black\" d=\"M399.5,-286.75C399.5,-279.8 399.5,-269.85 399.5,-261.13\"/>\n<polygon fill=\"black\" stroke=\"black\" points=\"403,-261.09 399.5,-251.09 396,-261.09 403,-261.09\"/>\n</g>\n<!-- 134098325708256 -->\n<g id=\"node20\" class=\"node\">\n<title>134098325708256</title>\n<polygon fill=\"lightgrey\" stroke=\"black\" points=\"441,-416 358,-416 358,-397 441,-397 441,-416\"/>\n<text text-anchor=\"middle\" x=\"399.5\" y=\"-404\" font-family=\"monospace\" font-size=\"10.00\">MvBackward0</text>\n</g>\n<!-- 134098325708256&#45;&gt;134098325707824 -->\n<g id=\"edge19\" class=\"edge\">\n<title>134098325708256&#45;&gt;134098325707824</title>\n<path fill=\"none\" stroke=\"black\" d=\"M399.5,-396.66C399.5,-379.17 399.5,-339.8 399.5,-316.27\"/>\n<polygon fill=\"black\" stroke=\"black\" points=\"403,-316.16 399.5,-306.16 396,-316.16 403,-316.16\"/>\n</g>\n<!-- 134098325707872 -->\n<g id=\"node21\" class=\"node\">\n<title>134098325707872</title>\n<polygon fill=\"lightgrey\" stroke=\"black\" points=\"346,-471 245,-471 245,-452 346,-452 346,-471\"/>\n<text text-anchor=\"middle\" x=\"295.5\" y=\"-459\" font-family=\"monospace\" font-size=\"10.00\">SliceBackward0</text>\n</g>\n<!-- 134098325707872&#45;&gt;134098325708256 -->\n<g id=\"edge20\" class=\"edge\">\n<title>134098325707872&#45;&gt;134098325708256</title>\n<path fill=\"none\" stroke=\"black\" d=\"M312.21,-451.98C328.71,-443.57 354.2,-430.59 373.38,-420.81\"/>\n<polygon fill=\"black\" stroke=\"black\" points=\"375.17,-423.83 382.49,-416.17 371.99,-417.59 375.17,-423.83\"/>\n</g>\n<!-- 134098325711328 -->\n<g id=\"node22\" class=\"node\">\n<title>134098325711328</title>\n<polygon fill=\"lightgrey\" stroke=\"black\" points=\"345,-526 244,-526 244,-507 345,-507 345,-526\"/>\n<text text-anchor=\"middle\" x=\"294.5\" y=\"-514\" font-family=\"monospace\" font-size=\"10.00\">SliceBackward0</text>\n</g>\n<!-- 134098325711328&#45;&gt;134098325707872 -->\n<g id=\"edge21\" class=\"edge\">\n<title>134098325711328&#45;&gt;134098325707872</title>\n<path fill=\"none\" stroke=\"black\" d=\"M294.67,-506.75C294.8,-499.8 294.98,-489.85 295.15,-481.13\"/>\n<polygon fill=\"black\" stroke=\"black\" points=\"298.65,-481.15 295.34,-471.09 291.65,-481.02 298.65,-481.15\"/>\n</g>\n<!-- 134098325715552 -->\n<g id=\"node23\" class=\"node\">\n<title>134098325715552</title>\n<polygon fill=\"lightgrey\" stroke=\"black\" points=\"467,-581 366,-581 366,-562 467,-562 467,-581\"/>\n<text text-anchor=\"middle\" x=\"416.5\" y=\"-569\" font-family=\"monospace\" font-size=\"10.00\">SliceBackward0</text>\n</g>\n<!-- 134098325715552&#45;&gt;134098325711328 -->\n<g id=\"edge22\" class=\"edge\">\n<title>134098325715552&#45;&gt;134098325711328</title>\n<path fill=\"none\" stroke=\"black\" d=\"M396.9,-561.98C377.18,-553.42 346.55,-540.11 323.92,-530.28\"/>\n<polygon fill=\"black\" stroke=\"black\" points=\"325.02,-526.94 314.46,-526.17 322.24,-533.37 325.02,-526.94\"/>\n</g>\n<!-- 134098325716176 -->\n<g id=\"node26\" class=\"node\">\n<title>134098325716176</title>\n<polygon fill=\"lightgrey\" stroke=\"black\" points=\"470,-526 363,-526 363,-507 470,-507 470,-526\"/>\n<text text-anchor=\"middle\" x=\"416.5\" y=\"-514\" font-family=\"monospace\" font-size=\"10.00\">SelectBackward0</text>\n</g>\n<!-- 134098325715552&#45;&gt;134098325716176 -->\n<g id=\"edge27\" class=\"edge\">\n<title>134098325715552&#45;&gt;134098325716176</title>\n<path fill=\"none\" stroke=\"black\" d=\"M416.5,-561.75C416.5,-554.8 416.5,-544.85 416.5,-536.13\"/>\n<polygon fill=\"black\" stroke=\"black\" points=\"420,-536.09 416.5,-526.09 413,-536.09 420,-536.09\"/>\n</g>\n<!-- 134098325713056&#45;&gt;134098325715552 -->\n<g id=\"edge23\" class=\"edge\">\n<title>134098325713056&#45;&gt;134098325715552</title>\n<path fill=\"none\" stroke=\"black\" d=\"M443.22,-616.75C438.79,-609.42 432.34,-598.73 426.88,-589.7\"/>\n<polygon fill=\"black\" stroke=\"black\" points=\"429.85,-587.84 421.69,-581.09 423.86,-591.46 429.85,-587.84\"/>\n</g>\n<!-- 134098325709216 -->\n<g id=\"node25\" class=\"node\">\n<title>134098325709216</title>\n<polygon fill=\"lightgrey\" stroke=\"black\" points=\"466,-471 365,-471 365,-452 466,-452 466,-471\"/>\n<text text-anchor=\"middle\" x=\"415.5\" y=\"-459\" font-family=\"monospace\" font-size=\"10.00\">SliceBackward0</text>\n</g>\n<!-- 134098325709216&#45;&gt;134098325708256 -->\n<g id=\"edge25\" class=\"edge\">\n<title>134098325709216&#45;&gt;134098325708256</title>\n<path fill=\"none\" stroke=\"black\" d=\"M412.86,-451.75C410.74,-444.72 407.69,-434.62 405.04,-425.84\"/>\n<polygon fill=\"black\" stroke=\"black\" points=\"408.33,-424.65 402.09,-416.09 401.63,-426.67 408.33,-424.65\"/>\n</g>\n<!-- 134098325716176&#45;&gt;134098325709216 -->\n<g id=\"edge26\" class=\"edge\">\n<title>134098325716176&#45;&gt;134098325709216</title>\n<path fill=\"none\" stroke=\"black\" d=\"M416.33,-506.75C416.2,-499.8 416.02,-489.85 415.85,-481.13\"/>\n<polygon fill=\"black\" stroke=\"black\" points=\"419.35,-481.02 415.66,-471.09 412.35,-481.15 419.35,-481.02\"/>\n</g>\n<!-- 134098325710608 -->\n<g id=\"node27\" class=\"node\">\n<title>134098325710608</title>\n<polygon fill=\"lightgrey\" stroke=\"black\" points=\"648,-251 553,-251 553,-232 648,-232 648,-251\"/>\n<text text-anchor=\"middle\" x=\"600.5\" y=\"-239\" font-family=\"monospace\" font-size=\"10.00\">MeanBackward0</text>\n</g>\n<!-- 134098325710608&#45;&gt;134098325715504 -->\n<g id=\"edge28\" class=\"edge\">\n<title>134098325710608&#45;&gt;134098325715504</title>\n<path fill=\"none\" stroke=\"black\" d=\"M600.5,-231.75C600.5,-224.8 600.5,-214.85 600.5,-206.13\"/>\n<polygon fill=\"black\" stroke=\"black\" points=\"604,-206.09 600.5,-196.09 597,-206.09 604,-206.09\"/>\n</g>\n<!-- 134098325707728 -->\n<g id=\"node28\" class=\"node\">\n<title>134098325707728</title>\n<polygon fill=\"lightgrey\" stroke=\"black\" points=\"642,-416 559,-416 559,-397 642,-397 642,-416\"/>\n<text text-anchor=\"middle\" x=\"600.5\" y=\"-404\" font-family=\"monospace\" font-size=\"10.00\">MvBackward0</text>\n</g>\n<!-- 134098325707728&#45;&gt;134098325710608 -->\n<g id=\"edge29\" class=\"edge\">\n<title>134098325707728&#45;&gt;134098325710608</title>\n<path fill=\"none\" stroke=\"black\" d=\"M600.5,-396.74C600.5,-371.31 600.5,-297.08 600.5,-261.69\"/>\n<polygon fill=\"black\" stroke=\"black\" points=\"604,-261.31 600.5,-251.31 597,-261.31 604,-261.31\"/>\n</g>\n<!-- 134098325713104 -->\n<g id=\"node29\" class=\"node\">\n<title>134098325713104</title>\n<polygon fill=\"lightgrey\" stroke=\"black\" points=\"590,-471 489,-471 489,-452 590,-452 590,-471\"/>\n<text text-anchor=\"middle\" x=\"539.5\" y=\"-459\" font-family=\"monospace\" font-size=\"10.00\">SliceBackward0</text>\n</g>\n<!-- 134098325713104&#45;&gt;134098325707728 -->\n<g id=\"edge30\" class=\"edge\">\n<title>134098325713104&#45;&gt;134098325707728</title>\n<path fill=\"none\" stroke=\"black\" d=\"M549.3,-451.98C558.32,-444.15 571.91,-432.34 582.82,-422.86\"/>\n<polygon fill=\"black\" stroke=\"black\" points=\"585.27,-425.37 590.52,-416.17 580.68,-420.09 585.27,-425.37\"/>\n</g>\n<!-- 134098325711904 -->\n<g id=\"node30\" class=\"node\">\n<title>134098325711904</title>\n<polygon fill=\"lightgrey\" stroke=\"black\" points=\"589,-526 488,-526 488,-507 589,-507 589,-526\"/>\n<text text-anchor=\"middle\" x=\"538.5\" y=\"-514\" font-family=\"monospace\" font-size=\"10.00\">SliceBackward0</text>\n</g>\n<!-- 134098325711904&#45;&gt;134098325713104 -->\n<g id=\"edge31\" class=\"edge\">\n<title>134098325711904&#45;&gt;134098325713104</title>\n<path fill=\"none\" stroke=\"black\" d=\"M538.67,-506.75C538.8,-499.8 538.98,-489.85 539.15,-481.13\"/>\n<polygon fill=\"black\" stroke=\"black\" points=\"542.65,-481.15 539.34,-471.09 535.65,-481.02 542.65,-481.15\"/>\n</g>\n<!-- 134098325707056 -->\n<g id=\"node31\" class=\"node\">\n<title>134098325707056</title>\n<polygon fill=\"lightgrey\" stroke=\"black\" points=\"680,-581 579,-581 579,-562 680,-562 680,-581\"/>\n<text text-anchor=\"middle\" x=\"629.5\" y=\"-569\" font-family=\"monospace\" font-size=\"10.00\">SliceBackward0</text>\n</g>\n<!-- 134098325707056&#45;&gt;134098325711904 -->\n<g id=\"edge32\" class=\"edge\">\n<title>134098325707056&#45;&gt;134098325711904</title>\n<path fill=\"none\" stroke=\"black\" d=\"M614.88,-561.98C600.64,-553.69 578.75,-540.94 562.05,-531.22\"/>\n<polygon fill=\"black\" stroke=\"black\" points=\"563.79,-528.18 553.39,-526.17 560.27,-534.23 563.79,-528.18\"/>\n</g>\n<!-- 134098325707104 -->\n<g id=\"node34\" class=\"node\">\n<title>134098325707104</title>\n<polygon fill=\"lightgrey\" stroke=\"black\" points=\"714,-526 607,-526 607,-507 714,-507 714,-526\"/>\n<text text-anchor=\"middle\" x=\"660.5\" y=\"-514\" font-family=\"monospace\" font-size=\"10.00\">SelectBackward0</text>\n</g>\n<!-- 134098325707056&#45;&gt;134098325707104 -->\n<g id=\"edge37\" class=\"edge\">\n<title>134098325707056&#45;&gt;134098325707104</title>\n<path fill=\"none\" stroke=\"black\" d=\"M634.62,-561.75C638.86,-554.49 645.03,-543.95 650.28,-534.98\"/>\n<polygon fill=\"black\" stroke=\"black\" points=\"653.45,-536.49 655.48,-526.09 647.41,-532.95 653.45,-536.49\"/>\n</g>\n<!-- 134098325712912&#45;&gt;134098325707056 -->\n<g id=\"edge33\" class=\"edge\">\n<title>134098325712912&#45;&gt;134098325707056</title>\n<path fill=\"none\" stroke=\"black\" d=\"M629.5,-616.75C629.5,-609.8 629.5,-599.85 629.5,-591.13\"/>\n<polygon fill=\"black\" stroke=\"black\" points=\"633,-591.09 629.5,-581.09 626,-591.09 633,-591.09\"/>\n</g>\n<!-- 134098325712960 -->\n<g id=\"node33\" class=\"node\">\n<title>134098325712960</title>\n<polygon fill=\"lightgrey\" stroke=\"black\" points=\"710,-471 609,-471 609,-452 710,-452 710,-471\"/>\n<text text-anchor=\"middle\" x=\"659.5\" y=\"-459\" font-family=\"monospace\" font-size=\"10.00\">SliceBackward0</text>\n</g>\n<!-- 134098325712960&#45;&gt;134098325707728 -->\n<g id=\"edge35\" class=\"edge\">\n<title>134098325712960&#45;&gt;134098325707728</title>\n<path fill=\"none\" stroke=\"black\" d=\"M650.02,-451.98C641.3,-444.15 628.16,-432.34 617.6,-422.86\"/>\n<polygon fill=\"black\" stroke=\"black\" points=\"619.93,-420.25 610.15,-416.17 615.25,-425.46 619.93,-420.25\"/>\n</g>\n<!-- 134098325707104&#45;&gt;134098325712960 -->\n<g id=\"edge36\" class=\"edge\">\n<title>134098325707104&#45;&gt;134098325712960</title>\n<path fill=\"none\" stroke=\"black\" d=\"M660.33,-506.75C660.2,-499.8 660.02,-489.85 659.85,-481.13\"/>\n<polygon fill=\"black\" stroke=\"black\" points=\"663.35,-481.02 659.66,-471.09 656.35,-481.15 663.35,-481.02\"/>\n</g>\n<!-- 134098325715600 -->\n<g id=\"node35\" class=\"node\">\n<title>134098325715600</title>\n<polygon fill=\"lightgrey\" stroke=\"black\" points=\"853,-196 758,-196 758,-177 853,-177 853,-196\"/>\n<text text-anchor=\"middle\" x=\"805.5\" y=\"-184\" font-family=\"monospace\" font-size=\"10.00\">MeanBackward0</text>\n</g>\n<!-- 134098325715600&#45;&gt;134098325709264 -->\n<g id=\"edge38\" class=\"edge\">\n<title>134098325715600&#45;&gt;134098325709264</title>\n<path fill=\"none\" stroke=\"black\" d=\"M805.5,-176.75C805.5,-169.8 805.5,-159.85 805.5,-151.13\"/>\n<polygon fill=\"black\" stroke=\"black\" points=\"809,-151.09 805.5,-141.09 802,-151.09 809,-151.09\"/>\n</g>\n<!-- 134098325716320 -->\n<g id=\"node36\" class=\"node\">\n<title>134098325716320</title>\n<polygon fill=\"lightgrey\" stroke=\"black\" points=\"847,-416 764,-416 764,-397 847,-397 847,-416\"/>\n<text text-anchor=\"middle\" x=\"805.5\" y=\"-404\" font-family=\"monospace\" font-size=\"10.00\">MvBackward0</text>\n</g>\n<!-- 134098325716320&#45;&gt;134098325715600 -->\n<g id=\"edge39\" class=\"edge\">\n<title>134098325716320&#45;&gt;134098325715600</title>\n<path fill=\"none\" stroke=\"black\" d=\"M805.5,-396.95C805.5,-364.95 805.5,-251.68 805.5,-206.4\"/>\n<polygon fill=\"black\" stroke=\"black\" points=\"809,-206.22 805.5,-196.22 802,-206.22 809,-206.22\"/>\n</g>\n<!-- 134098325704800 -->\n<g id=\"node37\" class=\"node\">\n<title>134098325704800</title>\n<polygon fill=\"lightgrey\" stroke=\"black\" points=\"834,-471 733,-471 733,-452 834,-452 834,-471\"/>\n<text text-anchor=\"middle\" x=\"783.5\" y=\"-459\" font-family=\"monospace\" font-size=\"10.00\">SliceBackward0</text>\n</g>\n<!-- 134098325704800&#45;&gt;134098325716320 -->\n<g id=\"edge40\" class=\"edge\">\n<title>134098325704800&#45;&gt;134098325716320</title>\n<path fill=\"none\" stroke=\"black\" d=\"M787.13,-451.75C790.08,-444.65 794.33,-434.4 798.01,-425.56\"/>\n<polygon fill=\"black\" stroke=\"black\" points=\"801.33,-426.67 801.93,-416.09 794.87,-423.98 801.33,-426.67\"/>\n</g>\n<!-- 134098325713152 -->\n<g id=\"node38\" class=\"node\">\n<title>134098325713152</title>\n<polygon fill=\"lightgrey\" stroke=\"black\" points=\"833,-526 732,-526 732,-507 833,-507 833,-526\"/>\n<text text-anchor=\"middle\" x=\"782.5\" y=\"-514\" font-family=\"monospace\" font-size=\"10.00\">SliceBackward0</text>\n</g>\n<!-- 134098325713152&#45;&gt;134098325704800 -->\n<g id=\"edge41\" class=\"edge\">\n<title>134098325713152&#45;&gt;134098325704800</title>\n<path fill=\"none\" stroke=\"black\" d=\"M782.67,-506.75C782.8,-499.8 782.98,-489.85 783.15,-481.13\"/>\n<polygon fill=\"black\" stroke=\"black\" points=\"786.65,-481.15 783.34,-471.09 779.65,-481.02 786.65,-481.15\"/>\n</g>\n<!-- 134098325706960 -->\n<g id=\"node39\" class=\"node\">\n<title>134098325706960</title>\n<polygon fill=\"lightgrey\" stroke=\"black\" points=\"833,-581 732,-581 732,-562 833,-562 833,-581\"/>\n<text text-anchor=\"middle\" x=\"782.5\" y=\"-569\" font-family=\"monospace\" font-size=\"10.00\">SliceBackward0</text>\n</g>\n<!-- 134098325706960&#45;&gt;134098325713152 -->\n<g id=\"edge42\" class=\"edge\">\n<title>134098325706960&#45;&gt;134098325713152</title>\n<path fill=\"none\" stroke=\"black\" d=\"M782.5,-561.75C782.5,-554.8 782.5,-544.85 782.5,-536.13\"/>\n<polygon fill=\"black\" stroke=\"black\" points=\"786,-536.09 782.5,-526.09 779,-536.09 786,-536.09\"/>\n</g>\n<!-- 134098325705136 -->\n<g id=\"node42\" class=\"node\">\n<title>134098325705136</title>\n<polygon fill=\"lightgrey\" stroke=\"black\" points=\"958,-526 851,-526 851,-507 958,-507 958,-526\"/>\n<text text-anchor=\"middle\" x=\"904.5\" y=\"-514\" font-family=\"monospace\" font-size=\"10.00\">SelectBackward0</text>\n</g>\n<!-- 134098325706960&#45;&gt;134098325705136 -->\n<g id=\"edge47\" class=\"edge\">\n<title>134098325706960&#45;&gt;134098325705136</title>\n<path fill=\"none\" stroke=\"black\" d=\"M802.1,-561.98C821.82,-553.42 852.45,-540.11 875.08,-530.28\"/>\n<polygon fill=\"black\" stroke=\"black\" points=\"876.76,-533.37 884.54,-526.17 873.98,-526.94 876.76,-533.37\"/>\n</g>\n<!-- 134098325704992&#45;&gt;134098325706960 -->\n<g id=\"edge43\" class=\"edge\">\n<title>134098325704992&#45;&gt;134098325706960</title>\n<path fill=\"none\" stroke=\"black\" d=\"M781.67,-616.75C781.8,-609.8 781.98,-599.85 782.15,-591.13\"/>\n<polygon fill=\"black\" stroke=\"black\" points=\"785.65,-591.15 782.34,-581.09 778.65,-591.02 785.65,-591.15\"/>\n</g>\n<!-- 134098325707008 -->\n<g id=\"node41\" class=\"node\">\n<title>134098325707008</title>\n<polygon fill=\"lightgrey\" stroke=\"black\" points=\"954,-471 853,-471 853,-452 954,-452 954,-471\"/>\n<text text-anchor=\"middle\" x=\"903.5\" y=\"-459\" font-family=\"monospace\" font-size=\"10.00\">SliceBackward0</text>\n</g>\n<!-- 134098325707008&#45;&gt;134098325716320 -->\n<g id=\"edge45\" class=\"edge\">\n<title>134098325707008&#45;&gt;134098325716320</title>\n<path fill=\"none\" stroke=\"black\" d=\"M887.75,-451.98C872.27,-443.61 848.41,-430.7 830.36,-420.95\"/>\n<polygon fill=\"black\" stroke=\"black\" points=\"831.99,-417.85 821.53,-416.17 828.66,-424.01 831.99,-417.85\"/>\n</g>\n<!-- 134098325705136&#45;&gt;134098325707008 -->\n<g id=\"edge46\" class=\"edge\">\n<title>134098325705136&#45;&gt;134098325707008</title>\n<path fill=\"none\" stroke=\"black\" d=\"M904.33,-506.75C904.2,-499.8 904.02,-489.85 903.85,-481.13\"/>\n<polygon fill=\"black\" stroke=\"black\" points=\"907.35,-481.02 903.66,-471.09 900.35,-481.15 907.35,-481.02\"/>\n</g>\n<!-- 134098325709312 -->\n<g id=\"node43\" class=\"node\">\n<title>134098325709312</title>\n<polygon fill=\"lightgrey\" stroke=\"black\" points=\"1052,-306 957,-306 957,-287 1052,-287 1052,-306\"/>\n<text text-anchor=\"middle\" x=\"1004.5\" y=\"-294\" font-family=\"monospace\" font-size=\"10.00\">MeanBackward0</text>\n</g>\n<!-- 134098325709312&#45;&gt;134098325713392 -->\n<g id=\"edge48\" class=\"edge\">\n<title>134098325709312&#45;&gt;134098325713392</title>\n<path fill=\"none\" stroke=\"black\" d=\"M998.19,-286.95C974.2,-254.47 888.4,-138.29 856,-94.43\"/>\n<polygon fill=\"black\" stroke=\"black\" points=\"858.7,-92.19 849.94,-86.22 853.07,-96.35 858.7,-92.19\"/>\n</g>\n<!-- 134098325715360 -->\n<g id=\"node44\" class=\"node\">\n<title>134098325715360</title>\n<polygon fill=\"lightgrey\" stroke=\"black\" points=\"1068,-471 985,-471 985,-452 1068,-452 1068,-471\"/>\n<text text-anchor=\"middle\" x=\"1026.5\" y=\"-459\" font-family=\"monospace\" font-size=\"10.00\">MvBackward0</text>\n</g>\n<!-- 134098325715360&#45;&gt;134098325709312 -->\n<g id=\"edge49\" class=\"edge\">\n<title>134098325715360&#45;&gt;134098325709312</title>\n<path fill=\"none\" stroke=\"black\" d=\"M1025.32,-451.74C1021.87,-426.2 1011.78,-351.43 1007.03,-316.23\"/>\n<polygon fill=\"black\" stroke=\"black\" points=\"1010.49,-315.75 1005.69,-306.31 1003.56,-316.69 1010.49,-315.75\"/>\n</g>\n<!-- 134098325704944 -->\n<g id=\"node45\" class=\"node\">\n<title>134098325704944</title>\n<polygon fill=\"lightgrey\" stroke=\"black\" points=\"1077,-526 976,-526 976,-507 1077,-507 1077,-526\"/>\n<text text-anchor=\"middle\" x=\"1026.5\" y=\"-514\" font-family=\"monospace\" font-size=\"10.00\">SliceBackward0</text>\n</g>\n<!-- 134098325704944&#45;&gt;134098325715360 -->\n<g id=\"edge50\" class=\"edge\">\n<title>134098325704944&#45;&gt;134098325715360</title>\n<path fill=\"none\" stroke=\"black\" d=\"M1026.5,-506.75C1026.5,-499.8 1026.5,-489.85 1026.5,-481.13\"/>\n<polygon fill=\"black\" stroke=\"black\" points=\"1030,-481.09 1026.5,-471.09 1023,-481.09 1030,-481.09\"/>\n</g>\n<!-- 134098325706864 -->\n<g id=\"node46\" class=\"node\">\n<title>134098325706864</title>\n<polygon fill=\"lightgrey\" stroke=\"black\" points=\"1074,-581 973,-581 973,-562 1074,-562 1074,-581\"/>\n<text text-anchor=\"middle\" x=\"1023.5\" y=\"-569\" font-family=\"monospace\" font-size=\"10.00\">SliceBackward0</text>\n</g>\n<!-- 134098325706864&#45;&gt;134098325704944 -->\n<g id=\"edge51\" class=\"edge\">\n<title>134098325706864&#45;&gt;134098325704944</title>\n<path fill=\"none\" stroke=\"black\" d=\"M1024,-561.75C1024.39,-554.8 1024.95,-544.85 1025.45,-536.13\"/>\n<polygon fill=\"black\" stroke=\"black\" points=\"1028.94,-536.27 1026.01,-526.09 1021.95,-535.88 1028.94,-536.27\"/>\n</g>\n<!-- 134098325710080&#45;&gt;134098325706864 -->\n<g id=\"edge52\" class=\"edge\">\n<title>134098325710080&#45;&gt;134098325706864</title>\n<path fill=\"none\" stroke=\"black\" d=\"M1023.5,-616.75C1023.5,-609.8 1023.5,-599.85 1023.5,-591.13\"/>\n<polygon fill=\"black\" stroke=\"black\" points=\"1027,-591.09 1023.5,-581.09 1020,-591.09 1027,-591.09\"/>\n</g>\n<!-- 134098325709984 -->\n<g id=\"node49\" class=\"node\">\n<title>134098325709984</title>\n<polygon fill=\"lightgrey\" stroke=\"black\" points=\"1199,-581 1092,-581 1092,-562 1199,-562 1199,-581\"/>\n<text text-anchor=\"middle\" x=\"1145.5\" y=\"-569\" font-family=\"monospace\" font-size=\"10.00\">SelectBackward0</text>\n</g>\n<!-- 134098325710080&#45;&gt;134098325709984 -->\n<g id=\"edge56\" class=\"edge\">\n<title>134098325710080&#45;&gt;134098325709984</title>\n<path fill=\"none\" stroke=\"black\" d=\"M1043.1,-616.98C1062.82,-608.42 1093.45,-595.11 1116.08,-585.28\"/>\n<polygon fill=\"black\" stroke=\"black\" points=\"1117.76,-588.37 1125.54,-581.17 1114.98,-581.94 1117.76,-588.37\"/>\n</g>\n<!-- 134098325706912 -->\n<g id=\"node48\" class=\"node\">\n<title>134098325706912</title>\n<polygon fill=\"lightgrey\" stroke=\"black\" points=\"1196,-526 1095,-526 1095,-507 1196,-507 1196,-526\"/>\n<text text-anchor=\"middle\" x=\"1145.5\" y=\"-514\" font-family=\"monospace\" font-size=\"10.00\">SliceBackward0</text>\n</g>\n<!-- 134098325706912&#45;&gt;134098325715360 -->\n<g id=\"edge54\" class=\"edge\">\n<title>134098325706912&#45;&gt;134098325715360</title>\n<path fill=\"none\" stroke=\"black\" d=\"M1126.38,-506.98C1107.15,-498.42 1077.27,-485.11 1055.19,-475.28\"/>\n<polygon fill=\"black\" stroke=\"black\" points=\"1056.53,-472.04 1045.97,-471.17 1053.68,-478.44 1056.53,-472.04\"/>\n</g>\n<!-- 134098325709984&#45;&gt;134098325706912 -->\n<g id=\"edge55\" class=\"edge\">\n<title>134098325709984&#45;&gt;134098325706912</title>\n<path fill=\"none\" stroke=\"black\" d=\"M1145.5,-561.75C1145.5,-554.8 1145.5,-544.85 1145.5,-536.13\"/>\n<polygon fill=\"black\" stroke=\"black\" points=\"1149,-536.09 1145.5,-526.09 1142,-536.09 1149,-536.09\"/>\n</g>\n</g>\n</svg>\n",
            "text/plain": [
              "<graphviz.graphs.Digraph at 0x79f63311abf0>"
            ]
          },
          "metadata": {},
          "execution_count": 9
        }
      ],
      "source": [
        "torchviz.make_dot(loss)"
      ]
    },
    {
      "cell_type": "code",
      "execution_count": 10,
      "metadata": {
        "id": "eIRPn7Hzl79t"
      },
      "outputs": [],
      "source": [
        "model2 = Model().to(\"cuda\")\n",
        "loss_fn2 = Loss()"
      ]
    },
    {
      "cell_type": "code",
      "execution_count": 11,
      "metadata": {
        "colab": {
          "base_uri": "https://localhost:8080/"
        },
        "id": "2zMtHDsIl79t",
        "outputId": "cd538416-1155-4d44-f184-1946bcea7bd1"
      },
      "outputs": [
        {
          "output_type": "execute_result",
          "data": {
            "text/plain": [
              "32.768512"
            ]
          },
          "metadata": {},
          "execution_count": 11
        }
      ],
      "source": [
        "torch.cuda.memory_allocated() / 1e6"
      ]
    },
    {
      "cell_type": "code",
      "execution_count": 12,
      "metadata": {
        "colab": {
          "base_uri": "https://localhost:8080/"
        },
        "id": "OUKICtsCl79t",
        "outputId": "4a0ecd1f-28c8-4717-a076-d91e466e3810"
      },
      "outputs": [
        {
          "output_type": "stream",
          "name": "stdout",
          "text": [
            "39.06048\n",
            "42.206208\n",
            "42.206208\n",
            "42.206208\n",
            "42.206208\n",
            "42.206208\n",
            "42.206208\n",
            "42.206208\n",
            "42.206208\n",
            "42.206208\n"
          ]
        }
      ],
      "source": [
        "X: torch.Tensor = model2(x.clone())\n",
        "X_detached = X.detach()\n",
        "X_detached.requires_grad = True\n",
        "for dim in dims:\n",
        "    loss2 = loss_fn2(X_detached[:, :dim])\n",
        "    print(torch.cuda.memory_allocated() / 1e6)\n",
        "    loss2.backward()\n",
        "    print(torch.cuda.memory_allocated() / 1e6)\n",
        "X.backward(gradient=X_detached.grad)"
      ]
    },
    {
      "cell_type": "code",
      "execution_count": 13,
      "metadata": {
        "colab": {
          "base_uri": "https://localhost:8080/"
        },
        "id": "xEfAEaEMl79u",
        "outputId": "d047240f-7a85-4062-dfc3-0fd44c4d5360"
      },
      "outputs": [
        {
          "output_type": "execute_result",
          "data": {
            "text/plain": [
              "39.06048"
            ]
          },
          "metadata": {},
          "execution_count": 13
        }
      ],
      "source": [
        "torch.cuda.memory_allocated() / 1e6"
      ]
    },
    {
      "cell_type": "code",
      "execution_count": 14,
      "metadata": {
        "id": "ytKW5N8yl79u",
        "outputId": "f8cf57f0-278d-4148-ed34-e6d246b57a37",
        "colab": {
          "base_uri": "https://localhost:8080/",
          "height": 603
        }
      },
      "outputs": [
        {
          "output_type": "execute_result",
          "data": {
            "image/svg+xml": "<?xml version=\"1.0\" encoding=\"UTF-8\" standalone=\"no\"?>\n<!DOCTYPE svg PUBLIC \"-//W3C//DTD SVG 1.1//EN\"\n \"http://www.w3.org/Graphics/SVG/1.1/DTD/svg11.dtd\">\n<!-- Generated by graphviz version 2.43.0 (0)\n -->\n<!-- Title: %3 Pages: 1 -->\n<svg width=\"234pt\" height=\"436pt\"\n viewBox=\"0.00 0.00 234.00 436.00\" xmlns=\"http://www.w3.org/2000/svg\" xmlns:xlink=\"http://www.w3.org/1999/xlink\">\n<g id=\"graph0\" class=\"graph\" transform=\"scale(1 1) rotate(0) translate(4 432)\">\n<title>%3</title>\n<polygon fill=\"white\" stroke=\"transparent\" points=\"-4,4 -4,-432 230,-432 230,4 -4,4\"/>\n<!-- 134098325780208 -->\n<g id=\"node1\" class=\"node\">\n<title>134098325780208</title>\n<polygon fill=\"#caff70\" stroke=\"black\" points=\"137.5,-31 83.5,-31 83.5,0 137.5,0 137.5,-31\"/>\n<text text-anchor=\"middle\" x=\"110.5\" y=\"-7\" font-family=\"monospace\" font-size=\"10.00\"> ()</text>\n</g>\n<!-- 134098325716896 -->\n<g id=\"node2\" class=\"node\">\n<title>134098325716896</title>\n<polygon fill=\"lightgrey\" stroke=\"black\" points=\"158,-86 63,-86 63,-67 158,-67 158,-86\"/>\n<text text-anchor=\"middle\" x=\"110.5\" y=\"-74\" font-family=\"monospace\" font-size=\"10.00\">MeanBackward0</text>\n</g>\n<!-- 134098325716896&#45;&gt;134098325780208 -->\n<g id=\"edge10\" class=\"edge\">\n<title>134098325716896&#45;&gt;134098325780208</title>\n<path fill=\"none\" stroke=\"black\" d=\"M110.5,-66.79C110.5,-60.07 110.5,-50.4 110.5,-41.34\"/>\n<polygon fill=\"black\" stroke=\"black\" points=\"114,-41.19 110.5,-31.19 107,-41.19 114,-41.19\"/>\n</g>\n<!-- 134098325705520 -->\n<g id=\"node3\" class=\"node\">\n<title>134098325705520</title>\n<polygon fill=\"lightgrey\" stroke=\"black\" points=\"152,-141 69,-141 69,-122 152,-122 152,-141\"/>\n<text text-anchor=\"middle\" x=\"110.5\" y=\"-129\" font-family=\"monospace\" font-size=\"10.00\">MvBackward0</text>\n</g>\n<!-- 134098325705520&#45;&gt;134098325716896 -->\n<g id=\"edge1\" class=\"edge\">\n<title>134098325705520&#45;&gt;134098325716896</title>\n<path fill=\"none\" stroke=\"black\" d=\"M110.5,-121.75C110.5,-114.8 110.5,-104.85 110.5,-96.13\"/>\n<polygon fill=\"black\" stroke=\"black\" points=\"114,-96.09 110.5,-86.09 107,-96.09 114,-96.09\"/>\n</g>\n<!-- 134098325708016 -->\n<g id=\"node4\" class=\"node\">\n<title>134098325708016</title>\n<polygon fill=\"lightgrey\" stroke=\"black\" points=\"102,-196 1,-196 1,-177 102,-177 102,-196\"/>\n<text text-anchor=\"middle\" x=\"51.5\" y=\"-184\" font-family=\"monospace\" font-size=\"10.00\">SliceBackward0</text>\n</g>\n<!-- 134098325708016&#45;&gt;134098325705520 -->\n<g id=\"edge2\" class=\"edge\">\n<title>134098325708016&#45;&gt;134098325705520</title>\n<path fill=\"none\" stroke=\"black\" d=\"M60.98,-176.98C69.7,-169.15 82.84,-157.34 93.4,-147.86\"/>\n<polygon fill=\"black\" stroke=\"black\" points=\"95.75,-150.46 100.85,-141.17 91.07,-145.25 95.75,-150.46\"/>\n</g>\n<!-- 134098325706048 -->\n<g id=\"node5\" class=\"node\">\n<title>134098325706048</title>\n<polygon fill=\"lightgrey\" stroke=\"black\" points=\"101,-251 0,-251 0,-232 101,-232 101,-251\"/>\n<text text-anchor=\"middle\" x=\"50.5\" y=\"-239\" font-family=\"monospace\" font-size=\"10.00\">SliceBackward0</text>\n</g>\n<!-- 134098325706048&#45;&gt;134098325708016 -->\n<g id=\"edge3\" class=\"edge\">\n<title>134098325706048&#45;&gt;134098325708016</title>\n<path fill=\"none\" stroke=\"black\" d=\"M50.67,-231.75C50.8,-224.8 50.98,-214.85 51.15,-206.13\"/>\n<polygon fill=\"black\" stroke=\"black\" points=\"54.65,-206.15 51.34,-196.09 47.65,-206.02 54.65,-206.15\"/>\n</g>\n<!-- 134098325711616 -->\n<g id=\"node6\" class=\"node\">\n<title>134098325711616</title>\n<polygon fill=\"lightgrey\" stroke=\"black\" points=\"162,-306 61,-306 61,-287 162,-287 162,-306\"/>\n<text text-anchor=\"middle\" x=\"111.5\" y=\"-294\" font-family=\"monospace\" font-size=\"10.00\">SliceBackward0</text>\n</g>\n<!-- 134098325711616&#45;&gt;134098325706048 -->\n<g id=\"edge4\" class=\"edge\">\n<title>134098325711616&#45;&gt;134098325706048</title>\n<path fill=\"none\" stroke=\"black\" d=\"M101.7,-286.98C92.68,-279.15 79.09,-267.34 68.18,-257.86\"/>\n<polygon fill=\"black\" stroke=\"black\" points=\"70.32,-255.09 60.48,-251.17 65.73,-260.37 70.32,-255.09\"/>\n</g>\n<!-- 134098325714544 -->\n<g id=\"node10\" class=\"node\">\n<title>134098325714544</title>\n<polygon fill=\"lightgrey\" stroke=\"black\" points=\"226,-251 119,-251 119,-232 226,-232 226,-251\"/>\n<text text-anchor=\"middle\" x=\"172.5\" y=\"-239\" font-family=\"monospace\" font-size=\"10.00\">SelectBackward0</text>\n</g>\n<!-- 134098325711616&#45;&gt;134098325714544 -->\n<g id=\"edge9\" class=\"edge\">\n<title>134098325711616&#45;&gt;134098325714544</title>\n<path fill=\"none\" stroke=\"black\" d=\"M121.3,-286.98C130.32,-279.15 143.91,-267.34 154.82,-257.86\"/>\n<polygon fill=\"black\" stroke=\"black\" points=\"157.27,-260.37 162.52,-251.17 152.68,-255.09 157.27,-260.37\"/>\n</g>\n<!-- 134098325711568 -->\n<g id=\"node7\" class=\"node\">\n<title>134098325711568</title>\n<polygon fill=\"lightgrey\" stroke=\"black\" points=\"162,-361 61,-361 61,-342 162,-342 162,-361\"/>\n<text text-anchor=\"middle\" x=\"111.5\" y=\"-349\" font-family=\"monospace\" font-size=\"10.00\">AccumulateGrad</text>\n</g>\n<!-- 134098325711568&#45;&gt;134098325711616 -->\n<g id=\"edge5\" class=\"edge\">\n<title>134098325711568&#45;&gt;134098325711616</title>\n<path fill=\"none\" stroke=\"black\" d=\"M111.5,-341.75C111.5,-334.8 111.5,-324.85 111.5,-316.13\"/>\n<polygon fill=\"black\" stroke=\"black\" points=\"115,-316.09 111.5,-306.09 108,-316.09 115,-316.09\"/>\n</g>\n<!-- 134098325948752 -->\n<g id=\"node8\" class=\"node\">\n<title>134098325948752</title>\n<polygon fill=\"lightblue\" stroke=\"black\" points=\"156,-428 67,-428 67,-397 156,-397 156,-428\"/>\n<text text-anchor=\"middle\" x=\"111.5\" y=\"-404\" font-family=\"monospace\" font-size=\"10.00\"> (1024, 768)</text>\n</g>\n<!-- 134098325948752&#45;&gt;134098325711568 -->\n<g id=\"edge6\" class=\"edge\">\n<title>134098325948752&#45;&gt;134098325711568</title>\n<path fill=\"none\" stroke=\"black\" d=\"M111.5,-396.92C111.5,-389.22 111.5,-379.69 111.5,-371.43\"/>\n<polygon fill=\"black\" stroke=\"black\" points=\"115,-371.25 111.5,-361.25 108,-371.25 115,-371.25\"/>\n</g>\n<!-- 134098325708448 -->\n<g id=\"node9\" class=\"node\">\n<title>134098325708448</title>\n<polygon fill=\"lightgrey\" stroke=\"black\" points=\"222,-196 121,-196 121,-177 222,-177 222,-196\"/>\n<text text-anchor=\"middle\" x=\"171.5\" y=\"-184\" font-family=\"monospace\" font-size=\"10.00\">SliceBackward0</text>\n</g>\n<!-- 134098325708448&#45;&gt;134098325705520 -->\n<g id=\"edge7\" class=\"edge\">\n<title>134098325708448&#45;&gt;134098325705520</title>\n<path fill=\"none\" stroke=\"black\" d=\"M161.7,-176.98C152.68,-169.15 139.09,-157.34 128.18,-147.86\"/>\n<polygon fill=\"black\" stroke=\"black\" points=\"130.32,-145.09 120.48,-141.17 125.73,-150.37 130.32,-145.09\"/>\n</g>\n<!-- 134098325714544&#45;&gt;134098325708448 -->\n<g id=\"edge8\" class=\"edge\">\n<title>134098325714544&#45;&gt;134098325708448</title>\n<path fill=\"none\" stroke=\"black\" d=\"M172.33,-231.75C172.2,-224.8 172.02,-214.85 171.85,-206.13\"/>\n<polygon fill=\"black\" stroke=\"black\" points=\"175.35,-206.02 171.66,-196.09 168.35,-206.15 175.35,-206.02\"/>\n</g>\n</g>\n</svg>\n",
            "text/plain": [
              "<graphviz.graphs.Digraph at 0x79f63311ad70>"
            ]
          },
          "metadata": {},
          "execution_count": 14
        }
      ],
      "source": [
        "torchviz.make_dot(loss2)"
      ]
    },
    {
      "cell_type": "code",
      "execution_count": 15,
      "metadata": {
        "id": "L5dbzMDsl79u"
      },
      "outputs": [],
      "source": [
        "assert torch.allclose(model.W.grad, model2.W.grad, atol=1e-05)"
      ]
    }
  ],
  "metadata": {
    "kernelspec": {
      "display_name": "Python 3",
      "name": "python3"
    },
    "language_info": {
      "codemirror_mode": {
        "name": "ipython",
        "version": 3
      },
      "file_extension": ".py",
      "mimetype": "text/x-python",
      "name": "python",
      "nbconvert_exporter": "python",
      "pygments_lexer": "ipython3",
      "version": "3.11.8"
    },
    "colab": {
      "provenance": [],
      "gpuType": "T4"
    },
    "accelerator": "GPU"
  },
  "nbformat": 4,
  "nbformat_minor": 0
}