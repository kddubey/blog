{
 "cells": [
  {
   "attachments": {},
   "cell_type": "markdown",
   "metadata": {},
   "source": [
    "**Description**: Why did precision drop in production? This notebook proves that an\n",
    "arbitrary out-of-sample precision can be achieved simply by reducing the frequency of\n",
    "positive observations going from in-sample to out-of-sample data. The analysis provides\n",
    "formulas which make the most out of a limited set of information. But more importantly,\n",
    "it reveals a simple workflow which detects and remedies a drop in precision for\n",
    "anticausal learning problems:\n",
    "\n",
    "1. To identify the problem, track the average production prediction (as a proxy for the\n",
    "   average production label). If there's evidence that this decreased, then estimate the\n",
    "   precision in production by labeling ≥200 observations which were predicted to be\n",
    "   positive. Expect this estimate of precision to be lower than the one you computed on\n",
    "   in-sample data.\n",
    "2. Estimate the new proportion of positives in production using\n",
    "   `estimate_frac_positives_out_sample` (or by counting if you've labeled negative\n",
    "   observations as well).\n",
    "3. To fix the problem, a simple temporary fix is to adjust predictions using the ratio\n",
    "   of proportions of positives in production vs. in-sample. This fix is implemented in\n",
    "   `predict_proba_adjusted`.\n",
    "\n",
    "**Estimated runtime**: 5 sec.\n",
    "\n",
    "**Required packages**:\n",
    "```\n",
    "matplotlib>=3.4.3\n",
    "scikit-learn>=0.24.2\n",
    "```"
   ]
  },
  {
   "attachments": {},
   "cell_type": "markdown",
   "metadata": {},
   "source": [
    "[Input desired precision](#input-desired-precision)\n",
    "\n",
    "[Prepare in-sample data](#prepare-in-sample-data)\n",
    "\n",
    "[Fit](#fit)\n",
    "\n",
    "[Gather in-sample metrics](#gather-in-sample-metrics)\n",
    "\n",
    "[Specify out-of-sample distribution](#specify-out-of-sample-distribution)\n",
    "\n",
    "[Gather out-of-sample metrics](#gather-out-of-sample-metrics)\n",
    "\n",
    "[A simple fix](#a-simple-fix)\n",
    "\n",
    "[A note on covariate drift detectors](#a-note-on-covariate-drift-detectors)\n",
    "\n",
    "  * [References](#references)"
   ]
  },
  {
   "cell_type": "code",
   "execution_count": 1,
   "metadata": {},
   "outputs": [],
   "source": [
    "import matplotlib.pyplot as plt\n",
    "import numpy as np\n",
    "\n",
    "from sklearn.datasets import make_classification\n",
    "from sklearn.linear_model import LogisticRegression\n",
    "from sklearn.model_selection import train_test_split\n",
    "from sklearn.metrics import precision_score, confusion_matrix\n",
    "from sklearn.calibration import calibration_curve, CalibratedClassifierCV"
   ]
  },
  {
   "attachments": {},
   "cell_type": "markdown",
   "metadata": {},
   "source": [
    "# Input desired precision"
   ]
  },
  {
   "attachments": {},
   "cell_type": "markdown",
   "metadata": {},
   "source": [
    "By default, in-sample precision is ~0.95. The desired precision should be less than\n",
    "that, since the notebook drops positives. If we want greater precision, we'd have to\n",
    "drop negatives."
   ]
  },
  {
   "cell_type": "code",
   "execution_count": 2,
   "metadata": {},
   "outputs": [],
   "source": [
    "desired_precision_out_sample = 0.60\n",
    "assert desired_precision_out_sample < 0.95"
   ]
  },
  {
   "attachments": {},
   "cell_type": "markdown",
   "metadata": {},
   "source": [
    "Hypothesis: assuming a model is calibrated-in-the-large, then precision decreases\n",
    "but recall stays the same on data which has fewer positives."
   ]
  },
  {
   "attachments": {},
   "cell_type": "markdown",
   "metadata": {},
   "source": [
    "# Prepare in-sample data"
   ]
  },
  {
   "cell_type": "code",
   "execution_count": 3,
   "metadata": {},
   "outputs": [],
   "source": [
    "X, y = make_classification(\n",
    "    n_samples=100_000,\n",
    "    n_classes=2,\n",
    "    n_features=5,\n",
    "    n_informative=5,\n",
    "    n_redundant=0,\n",
    "    random_state=123,  # this seed gets ~95% precision. dont change it lol\n",
    ")"
   ]
  },
  {
   "attachments": {},
   "cell_type": "markdown",
   "metadata": {},
   "source": [
    "Split this data into in-sample data—the sample we used to train and test a model—and\n",
    "out-of-sample data, i.e., data after the model is deployed. The only difference between\n",
    "in-sample and out-of-sample data is the frequency of positive observations. (A positive\n",
    "observation is one whose label is 1.)"
   ]
  },
  {
   "cell_type": "code",
   "execution_count": 4,
   "metadata": {},
   "outputs": [],
   "source": [
    "# split into in and out-of-sample data. we'll make out-of-sample data unbalanced\n",
    "_X_in_sample, _X_out_sample, _y_in_sample, _y_out_sample = train_test_split(\n",
    "    X, y, test_size=0.2, random_state=120741\n",
    ")\n",
    "\n",
    "# split in-sample data into training and test. both balanced\n",
    "X_tr, X_te, y_tr, y_te = train_test_split(\n",
    "    _X_in_sample, _y_in_sample, test_size=0.2, random_state=81545\n",
    ")"
   ]
  },
  {
   "cell_type": "code",
   "execution_count": 5,
   "metadata": {},
   "outputs": [
    {
     "name": "stdout",
     "output_type": "stream",
     "text": [
      "0.498921875\n",
      "0.5015\n"
     ]
    }
   ],
   "source": [
    "# in-sample data is balanced\n",
    "print(y_tr.mean())\n",
    "print(y_te.mean())"
   ]
  },
  {
   "attachments": {},
   "cell_type": "markdown",
   "metadata": {},
   "source": [
    "# Fit"
   ]
  },
  {
   "attachments": {},
   "cell_type": "markdown",
   "metadata": {},
   "source": [
    "We'll fit a logistic regression b/c we know it's calibrated-in-the-large."
   ]
  },
  {
   "cell_type": "code",
   "execution_count": 6,
   "metadata": {},
   "outputs": [],
   "source": [
    "model = LogisticRegression().fit(X_tr, y_tr)\n",
    "_accuracy = model.score(X_tr, y_tr)\n",
    "assert _accuracy > 0.94, f\"accuracy: {round(_accuracy, 3)}. That's not good enough!\""
   ]
  },
  {
   "attachments": {},
   "cell_type": "markdown",
   "metadata": {},
   "source": [
    "# Gather in-sample metrics"
   ]
  },
  {
   "cell_type": "code",
   "execution_count": 7,
   "metadata": {},
   "outputs": [],
   "source": [
    "def metrics(y_true: np.ndarray, y_pred: np.ndarray):\n",
    "    \"\"\"\n",
    "    - Fraction `y_true` positive\n",
    "    - Fraction `y_pred` positive\n",
    "    - Precision\n",
    "    - Recall\n",
    "    - Specificity\n",
    "    \"\"\"\n",
    "    # input checks\n",
    "    _binary_array = np.array([0, 1])\n",
    "    if not np.all(np.unique(y_true) == _binary_array):\n",
    "        raise ValueError(\"y_true must only contain 0s and 1s.\")\n",
    "    if not np.all(np.unique(y_pred) == _binary_array):\n",
    "        raise ValueError(\"y_pred must only contain 0s and 1s.\")\n",
    "\n",
    "    metric_to_value = dict()\n",
    "    # marginal scores\n",
    "    metric_to_value[\"frac_positive\"] = y_true.sum() / len(y_true)\n",
    "    metric_to_value[\"frac_positive_pred\"] = y_pred.sum() / len(y_pred)\n",
    "    # conditional scores\n",
    "    tn, fp, fn, tp = confusion_matrix(y_true, y_pred).ravel()\n",
    "    metric_to_value[\"precision\"] = tp / (tp + fp)\n",
    "    metric_to_value[\"recall\"] = tp / (tp + fn)\n",
    "    metric_to_value[\"specificity\"] = tn / (tn + fp)\n",
    "\n",
    "    return metric_to_value"
   ]
  },
  {
   "cell_type": "code",
   "execution_count": 8,
   "metadata": {},
   "outputs": [],
   "source": [
    "metrics_in_sample = metrics(y_te, model.predict(X_te))"
   ]
  },
  {
   "cell_type": "code",
   "execution_count": 9,
   "metadata": {},
   "outputs": [
    {
     "data": {
      "text/plain": [
       "{'frac_positive': 0.5015,\n",
       " 'frac_positive_pred': 0.5005,\n",
       " 'precision': 0.9441808191808192,\n",
       " 'recall': 0.9422981056829511,\n",
       " 'specificity': 0.9439568706118355}"
      ]
     },
     "execution_count": 9,
     "metadata": {},
     "output_type": "execute_result"
    }
   ],
   "source": [
    "metrics_in_sample"
   ]
  },
  {
   "attachments": {},
   "cell_type": "markdown",
   "metadata": {},
   "source": [
    "Model looks great on in-sample data. Deploy it! ([no](https://youtu.be/ajUlhaX9hQI?t=11))"
   ]
  },
  {
   "attachments": {},
   "cell_type": "markdown",
   "metadata": {},
   "source": [
    "# Specify out-of-sample distribution"
   ]
  },
  {
   "attachments": {},
   "cell_type": "markdown",
   "metadata": {},
   "source": [
    "In this section, we'll formalize some stuff so that we can figure out how to achieve\n",
    "`desired_precision_out_sample`."
   ]
  },
  {
   "attachments": {},
   "cell_type": "markdown",
   "metadata": {},
   "source": [
    "Let $P$ be the distribution from our in-sample data was sampled, and $Q$ be that for\n",
    "out-of-sample data. The only fundamental difference between the universes of $P$ and $Q$\n",
    "is that the latter has fewer positive observations.\n",
    "\n",
    "Assume a model was fit on a sample from $P$. Assume the model is\n",
    "calibrated-in-the-large, i.e., $P(Y = 1) = P(\\hat{Y} = 1)$. We need a way to calculate\n",
    "$q = Q(Y = 1)$ so that it results in a given precision on $Q$. It's safe to assume that\n",
    "recall and specificity are equivalent across $P$ and $Q$, because these metrics are\n",
    "conditional on the class, which was the only thing that changed. (This fact is\n",
    "demonstrated later.)\n",
    "\n",
    "Apply Bayes' rule to the precision on $Q$:\n",
    "\n",
    "$$\n",
    "\\begin{align*}\n",
    "Q(Y = 1 \\: | \\: \\hat{Y} = 1) &= Q(\\hat{Y} = 1 \\: | \\: Y = 1) \\frac{Q(Y = 1)}{ Q(\\hat{Y}\n",
    "= 1)} \\\\\n",
    "Q(Y = 1 \\: | \\: \\hat{Y} = 1) &= P(\\hat{Y} = 1 \\: | \\: Y = 1) \\frac{Q(Y = 1)}{Q(\\hat{Y} =\n",
    "1)}\n",
    "\\end{align*}\n",
    "$$\n",
    "\n",
    "At this point, we can already see the problem. A drop from in-sample precision occurs\n",
    "when $Q(Y = 1) < Q(Ŷ = 1)$. This happens if our in-sample data over-sampled the positive\n",
    "class, because our trained model ends up overestimating the frequency of positive\n",
    "observations.\n",
    "\n",
    "Back to the main calculation:\n",
    "\n",
    "$$\n",
    "\\begin{align*}\n",
    "Q(Y = 1) &= \\frac{Q(Y = 1 \\: | \\: \\hat{Y} = 1)}{P(\\hat{Y} = 1 \\: | \\: Y = 1)} Q(\\hat{Y}\n",
    "= 1) \\\\\n",
    "q &= \\frac{Q_{\\text{precision}}}{P_{\\text{recall}}} Q(\\hat{Y} = 1) \\\\\n",
    "&= r Q(\\hat{Y} = 1).\n",
    "\\end{align*}\n",
    "$$\n",
    "\n",
    "If we were just trying to estimate $q$ given basic in-sample and out-of-sample metrics,\n",
    "then we'd be done here. But for this analysis, we're trying to set $q$ based only on\n",
    "out-of-sample precision and whatever in-sample metrics. We can't estimate $Q(\\hat{Y} =\n",
    "1)$ because we haven't even specified what $Q$ is! We have to go a bit further to get\n",
    "around this chicken-egg problem. Apply the law of total probability to break down\n",
    "$Q(\\hat{Y} = 1)$:\n",
    "\n",
    "$$\n",
    "\\begin{align*}\n",
    "Q(\\hat{Y} = 1) &= Q(\\hat{Y} = 1 \\: | \\: Y = 1)q + Q(\\hat{Y} = 1 \\: | \\: Y = 0)(1-q) \\\\\n",
    "&= P(\\hat{Y} = 1 \\: | \\: Y = 1)q + P(\\hat{Y} = 1 \\: | \\: Y = 0)(1-q) \\\\\n",
    "&= P_{\\text{recall}}q + (1 - P_{\\text{specificity}})(1-q).\n",
    "\\end{align*}\n",
    "$$\n",
    "\n",
    "Plugging it in to the first equation for $q$, we can now solve for $q$.\n",
    "\n",
    "$$\n",
    "\\begin{align*}\n",
    "q &= r \\cdot \\big( P_{\\text{recall}}q + (1 - P_{\\text{specificity}})(1-q) \\big) \\\\\n",
    "q &= r \\cdot \\big( P_{\\text{recall}}q + (1 - P_{\\text{specificity}}) - (1 -\n",
    "P_{\\text{specificity}})q \\big) \\\\\n",
    "q - r P_{\\text{recall}}q + r(1 - P_{\\text{specificity}})q &= r \\cdot \\big( 1 -\n",
    "P_{\\text{specificity}} \\big) \\\\\n",
    "q &= \\frac{r \\cdot \\big( 1 - P_{\\text{specificity}} \\big)}{1 - r P_{\\text{recall}} + r\n",
    "\\cdot \\big( 1 - P_{\\text{specificity}} \\big)}\n",
    "\\end{align*}\n",
    "$$\n",
    "\n",
    "So we can calculate the fraction of positives in $Q$ given in-sample recall, in-sample\n",
    "precision, and out-of-sampe precision (it's the numerator of the ratio $r$)."
   ]
  },
  {
   "cell_type": "code",
   "execution_count": 10,
   "metadata": {},
   "outputs": [],
   "source": [
    "def estimate_frac_positives_out_sample(\n",
    "    out_sample_precision: float,\n",
    "    in_sample_recall: float,\n",
    "    in_sample_specificity: float = None,\n",
    "    out_sample_frac_positive_pred: float = None,\n",
    ") -> float:\n",
    "    \"\"\"\n",
    "    Estimates the fraction of positive observations in out-of-sample data given:\n",
    "    - out-of-sample precision\n",
    "    - in-sample recall\n",
    "    - either in-sample specificity, or the fraction of out-of-sample predictions which\n",
    "    are positive. The latter should result in more accurate estimation.\n",
    "\n",
    "    Parameters\n",
    "    ----------\n",
    "    out_sample_precision : float\n",
    "        hi\n",
    "    in_sample_recall : float\n",
    "        hello\n",
    "    in_sample_specificity : float, optional\n",
    "        hola, by default None\n",
    "    out_sample_frac_positive_pred : float, optional\n",
    "        amigo, by default None\n",
    "\n",
    "    Returns\n",
    "    -------\n",
    "    float\n",
    "        Estimated fraction of positive observations in out-of-sample data.\n",
    "\n",
    "    Raises\n",
    "    ------\n",
    "    ValueError\n",
    "        if neither `in_sample_specificity` nor `out_sample_frac_positive_pred` are\n",
    "        provided.\n",
    "    \"\"\"\n",
    "    if out_sample_frac_positive_pred is None and in_sample_specificity is None:\n",
    "        raise ValueError(\n",
    "            \"in_sample_specificity or out_sample_frac_positive_pred must be specified. \"\n",
    "            \"The latter should result in more accurate estimation.\"\n",
    "        )\n",
    "    if out_sample_frac_positive_pred is not None:\n",
    "        return (out_sample_precision / in_sample_recall) * out_sample_frac_positive_pred\n",
    "    _r = out_sample_precision / in_sample_recall\n",
    "    _numerator = _r * (1 - in_sample_specificity)\n",
    "    return _numerator / (1 - _r * in_sample_recall + _numerator)"
   ]
  },
  {
   "cell_type": "code",
   "execution_count": 11,
   "metadata": {},
   "outputs": [
    {
     "data": {
      "text/plain": [
       "0.9116045763839605"
      ]
     },
     "execution_count": 11,
     "metadata": {},
     "output_type": "execute_result"
    }
   ],
   "source": [
    "_q = estimate_frac_positives_out_sample(\n",
    "    desired_precision_out_sample,\n",
    "    metrics_in_sample[\"recall\"],\n",
    "    in_sample_specificity=metrics_in_sample[\"specificity\"],\n",
    ")\n",
    "\n",
    "# calculate the drop_probability needed to achieve q\n",
    "_n_pos = _y_out_sample.sum()\n",
    "_n_neg = len(_y_out_sample) - _n_pos\n",
    "drop_probability = 1 - ((_q * _n_neg) / (_n_pos - _q * _n_pos))\n",
    "drop_probability"
   ]
  },
  {
   "cell_type": "code",
   "execution_count": 12,
   "metadata": {},
   "outputs": [],
   "source": [
    "# make out-of-sample data unbalanced, dropping positives\n",
    "\n",
    "rng = np.random.default_rng(seed=abs(hash(\"🦖 ☄️ 💥\")))  # Happy Asteroid Day!\n",
    "\n",
    "mask_positive = _y_out_sample == 1\n",
    "mask = ~mask_positive\n",
    "mask_random = rng.choice(\n",
    "    [True, False], size=mask_positive.sum(), p=[1 - drop_probability, drop_probability]\n",
    ")\n",
    "mask[mask_positive] = mask_random\n",
    "\n",
    "# no negative labels dropped\n",
    "assert (_y_out_sample[mask] == 0).sum() == (_y_out_sample == 0).sum()\n",
    "\n",
    "# some positive labels dropped\n",
    "assert _y_out_sample[mask].sum() < _y_out_sample.sum()\n",
    "\n",
    "# apply mask to simulate out-of-sample data, which isn't balanced\n",
    "X_out_sample = _X_out_sample[mask]\n",
    "y_out_sample = _y_out_sample[mask]"
   ]
  },
  {
   "attachments": {},
   "cell_type": "markdown",
   "metadata": {},
   "source": [
    "# Gather out-of-sample metrics"
   ]
  },
  {
   "attachments": {},
   "cell_type": "markdown",
   "metadata": {},
   "source": [
    "First, recall in-sample metrics:"
   ]
  },
  {
   "cell_type": "code",
   "execution_count": 13,
   "metadata": {},
   "outputs": [
    {
     "data": {
      "text/plain": [
       "{'frac_positive': 0.5015,\n",
       " 'frac_positive_pred': 0.5005,\n",
       " 'precision': 0.9441808191808192,\n",
       " 'recall': 0.9422981056829511,\n",
       " 'specificity': 0.9439568706118355}"
      ]
     },
     "execution_count": 13,
     "metadata": {},
     "output_type": "execute_result"
    }
   ],
   "source": [
    "metrics_in_sample"
   ]
  },
  {
   "attachments": {},
   "cell_type": "markdown",
   "metadata": {},
   "source": [
    "Here are out-of-sample metrics:"
   ]
  },
  {
   "cell_type": "code",
   "execution_count": 14,
   "metadata": {},
   "outputs": [
    {
     "data": {
      "text/plain": [
       "{'frac_positive': 0.08258064516129032,\n",
       " 'frac_positive_pred': 0.12516129032258064,\n",
       " 'precision': 0.6192930780559647,\n",
       " 'recall': 0.9386160714285714,\n",
       " 'specificity': 0.9480610809724733}"
      ]
     },
     "execution_count": 14,
     "metadata": {},
     "output_type": "execute_result"
    }
   ],
   "source": [
    "metrics_out_sample = metrics(y_out_sample, model.predict(X_out_sample))\n",
    "metrics_out_sample"
   ]
  },
  {
   "attachments": {},
   "cell_type": "markdown",
   "metadata": {},
   "source": [
    "Quite close to the desired 60% precision. The sources of error are that we used\n",
    "in-sample recall to estimate out-of-sample recall and specificity. Recall stayed\n",
    "similar.\n",
    "\n",
    "Methinks it's close enough. Hypothesis confirmed."
   ]
  },
  {
   "attachments": {},
   "cell_type": "markdown",
   "metadata": {},
   "source": [
    "# A simple fix"
   ]
  },
  {
   "attachments": {},
   "cell_type": "markdown",
   "metadata": {},
   "source": [
    "Let's recall the story. You've deployed a model trained on $P$, only to see that its\n",
    "precision (but not recall) has dropped on $Q$. The basic analysis above revealed to you\n",
    "that the drop is explained by a reduced frequency of positives in $Q$.\n",
    "\n",
    "Now what? How do you fix the problem?\n",
    "\n",
    "If you recall Bayes' rule, you know that the class frequency is just a number which gets\n",
    "multiplied by the likelihood. Crucially, the likelihood is fixed from $P$ to $Q$. Maybe\n",
    "we can figure out how to transform Bayes-optimal predictions on $P$ to Bayes-optimal\n",
    "predictions on $Q$ by changing the quantity that gets multiplied."
   ]
  },
  {
   "attachments": {},
   "cell_type": "markdown",
   "metadata": {},
   "source": [
    "Probabilities from in-sample data (where we trained) are:\n",
    "\n",
    "$$\n",
    "\\begin{align*}\n",
    "y_P &= P(Y = 1 \\: | \\: x) \\\\\n",
    "&= \\frac{P(x \\: | \\: Y = 1) p}{P(x)} \\\\\n",
    "&= \\frac{P(x \\: | \\: Y = 1) p}{P(x \\: | \\: Y = 1) p + P(x \\: | \\: Y = 0) (1-p)}\n",
    "\\end{align*}\n",
    "$$\n",
    "\n",
    "On out-of-sample data, they should be:\n",
    "\n",
    "$$\n",
    "\\begin{align*}\n",
    "y_Q &= Q(Y = 1 \\: | \\: x) \\\\\n",
    "&= \\frac{Q(x \\: | \\: Y = 1) q}{Q(x \\: | \\: Y = 1) q + Q(x \\: | \\: Y = 0) (1-q)} \\\\\n",
    "&= \\frac{P(x \\: | \\: Y = 1) q}{P(x \\: | \\: Y = 1) q + P(x \\: | \\: Y = 0) (1-q)}\n",
    "\\end{align*}\n",
    "$$\n",
    "\n",
    "Using the facts that\n",
    "\n",
    "$$\n",
    "\\begin{align*}\n",
    "P(x \\: | \\: Y = 1) &= \\frac{P(Y = 1 \\: | \\: x) P(x)}{p} \\\\\n",
    "&= P(x) \\frac{y_P}{p}\n",
    "\\end{align*}\n",
    "$$\n",
    "\n",
    "and\n",
    "\n",
    "$$\n",
    "\\begin{align*}\n",
    "P(x \\: | \\: Y = 0) &= \\frac{P(Y = 0 \\: | \\: x) P(x)}{1 - p} \\\\\n",
    "&= P(x) \\frac{1 - y_P}{1 - p}\n",
    "\\end{align*}\n",
    "$$\n",
    "\n",
    "we can express $y_Q$ purely as a function of $y_P, p, q$:\n",
    "\n",
    "$$\n",
    "\\begin{align*}\n",
    "y_Q &= \\frac{P(x) \\frac{y_P}{p} q}{P(x) \\frac{y_P}{p} q + P(x) \\frac{1-y_P}{1-p}(1-q)}\n",
    "\\\\\n",
    "&= \\frac{P(x) y_P \\cdot \\frac{q}{p}}{P(x) \\bigg( y_P \\cdot \\frac{q}{p} + (1 - y_P) \\cdot\n",
    "\\frac{1-q}{1-p} \\bigg)} \\\\\n",
    "&= \\frac{y_P \\cdot \\frac{q}{p}}{y_P \\cdot \\frac{q}{p} + (1 - y_P) \\cdot\n",
    "\\frac{1-q}{1-p}}\n",
    "\\end{align*}\n",
    "$$\n",
    "\n",
    "In other words, if the only difference b/t $P$ and $Q$ is the frequency of positives, we\n",
    "can \"re-calibrate\" Bayes-optimal probabilities from $P$ so that they're Bayes-optimal\n",
    "for $Q$. For this to work of course, $\\hat{y}_P$ should be well-calibrated.\n",
    "\n",
    "(The adjustment rule can be extended to multi-class problems.)"
   ]
  },
  {
   "attachments": {},
   "cell_type": "markdown",
   "metadata": {},
   "source": [
    "Let's empirically evaluate the adjustment rule, plugging in estimates for true values."
   ]
  },
  {
   "cell_type": "code",
   "execution_count": 15,
   "metadata": {},
   "outputs": [],
   "source": [
    "(X_out_sample_tr, X_out_sample_te, y_out_sample_tr, y_out_sample_te) = train_test_split(\n",
    "    X_out_sample,\n",
    "    y_out_sample,\n",
    "    test_size=0.5,\n",
    "    random_state=257452145,\n",
    ")"
   ]
  },
  {
   "cell_type": "code",
   "execution_count": 16,
   "metadata": {},
   "outputs": [],
   "source": [
    "def predict_proba_adjusted(\n",
    "    pred_probs_out_sample: np.ndarray,\n",
    "    frac_positive_out_sample_est: float,\n",
    "    frac_positive_in_sample_est: float,\n",
    ") -> np.ndarray:\n",
    "    \"\"\"\n",
    "    Adjusts predictions made by a model trained on a sample whose class frequency is\n",
    "    different than that of out-of-sample / production data.\n",
    "\n",
    "    Parameters\n",
    "    ----------\n",
    "    pred_probs_out_sample : np.ndarray\n",
    "        1-D array of predicted probabilities of the positive class. These are assumed\n",
    "        to come from a model trained on biased in-sample data which has been applied to\n",
    "        out-of-sample data\n",
    "    frac_positive_out_sample_est : float\n",
    "        estimated fraction of positives in out-of-sample data\n",
    "    frac_positive_in_sample_est : float\n",
    "        estimated fraction of positives in in-sample data\n",
    "\n",
    "    Returns\n",
    "    -------\n",
    "    np.ndarray\n",
    "        1-D array of adjusted predicted probabilities of the positive class\n",
    "    \"\"\"\n",
    "    _numerator = pred_probs_out_sample * (\n",
    "        frac_positive_out_sample_est / frac_positive_in_sample_est\n",
    "    )\n",
    "    _denominator = _numerator + (\n",
    "        (1 - pred_probs_out_sample)\n",
    "        * ((1 - frac_positive_out_sample_est) / (1 - frac_positive_in_sample_est))\n",
    "    )\n",
    "    return _numerator / _denominator"
   ]
  },
  {
   "attachments": {},
   "cell_type": "markdown",
   "metadata": {},
   "source": [
    "We need to estimate $q$, i.e., `frac_positive_out_sample_est`, the fraction of positives\n",
    "in out-of-sample data.\n",
    "\n",
    "Here's a nice fact. Say we computed out-of-sample precision by *only labeling positive\n",
    "predictions (from production)* for correctness, i.e., we never looked at negative\n",
    "predictions. We can still estimate the fraction of positives in out-of-sample data by\n",
    "using the formula in `estimate_frac_positives_out_sample`."
   ]
  },
  {
   "cell_type": "code",
   "execution_count": 17,
   "metadata": {},
   "outputs": [],
   "source": [
    "preds_out_sample_tr = model.predict(X_out_sample_tr)\n",
    "\n",
    "out_sample_precision_est = precision_score(\n",
    "    y_out_sample_tr, preds_out_sample_tr\n",
    ")\n",
    "\n",
    "frac_positive_out_sample_est = estimate_frac_positives_out_sample(\n",
    "    out_sample_precision_est,\n",
    "    metrics_in_sample[\"recall\"],\n",
    "    out_sample_frac_positive_pred=preds_out_sample_tr.sum() / len(preds_out_sample_tr),\n",
    ")"
   ]
  },
  {
   "attachments": {},
   "cell_type": "markdown",
   "metadata": {},
   "source": [
    "Apply the adjustment."
   ]
  },
  {
   "cell_type": "code",
   "execution_count": 18,
   "metadata": {},
   "outputs": [],
   "source": [
    "pred_probs_out_sample_te = model.predict_proba(X_out_sample_te)[:, 1]\n",
    "\n",
    "pred_probs_out_sample_te_adjusted = predict_proba_adjusted(\n",
    "    pred_probs_out_sample_te,\n",
    "    frac_positive_out_sample_est,\n",
    "    metrics_in_sample[\"frac_positive\"],\n",
    ")"
   ]
  },
  {
   "attachments": {},
   "cell_type": "markdown",
   "metadata": {},
   "source": [
    "How good are the adjusted predictions?"
   ]
  },
  {
   "cell_type": "code",
   "execution_count": 19,
   "metadata": {},
   "outputs": [
    {
     "data": {
      "text/plain": [
       "{'frac_positive': 0.08110599078341015,\n",
       " 'frac_positive_pred': 0.06728110599078341,\n",
       " 'precision': 0.9013698630136986,\n",
       " 'recall': 0.7477272727272727,\n",
       " 'specificity': 0.992778335005015}"
      ]
     },
     "execution_count": 19,
     "metadata": {},
     "output_type": "execute_result"
    }
   ],
   "source": [
    "metrics(y_out_sample_te, pred_probs_out_sample_te_adjusted > 0.5)"
   ]
  },
  {
   "attachments": {},
   "cell_type": "markdown",
   "metadata": {},
   "source": [
    "Retraining is probably better(?) For logistic regression, you'd just have to adjust the\n",
    "intercept (there should be a formula for that). TBH idk why this adjustment method\n",
    "didn't work *great*. But it's simple and easy to deploy. It's fine as a temporary\n",
    "measure."
   ]
  },
  {
   "attachments": {},
   "cell_type": "markdown",
   "metadata": {},
   "source": [
    "I'm more curious about calibration."
   ]
  },
  {
   "cell_type": "code",
   "execution_count": 20,
   "metadata": {},
   "outputs": [],
   "source": [
    "def plot_calibration_curve(y, pred_probs, n_bins=5, title=\"\"):\n",
    "    # gather statistics\n",
    "    prob_true, prob_pred = calibration_curve(y, pred_probs, n_bins=n_bins)\n",
    "    bins = np.linspace(0, 1, n_bins + 1)\n",
    "    bin_inds = np.digitize(pred_probs, bins) - 1\n",
    "    bin_sizes = np.bincount(bin_inds)\n",
    "    y_std_err = np.sqrt(prob_true * (1 - prob_true) / bin_sizes)\n",
    "\n",
    "    # plot curve\n",
    "    plt.errorbar(\n",
    "        prob_pred,\n",
    "        prob_true,\n",
    "        yerr=2 * y_std_err,\n",
    "        label=\"Model w/ 95% CI\",\n",
    "        capsize=5,\n",
    "        marker=\"o\",\n",
    "        linestyle=\"dashed\",\n",
    "    )\n",
    "    plt.plot([0, 1], [0, 1], label=\"Perfect calibration\")\n",
    "    plt.legend()\n",
    "    plt.ylim(0, 1)\n",
    "    plt.xlim(0, 1)\n",
    "    plt.xlabel(\"Predicted probability\")\n",
    "    plt.ylabel(\"Observed fraction\")\n",
    "    plt.title(title)"
   ]
  },
  {
   "cell_type": "code",
   "execution_count": 21,
   "metadata": {},
   "outputs": [
    {
     "data": {
      "image/png": "[encoded data removed]",
      "text/plain": [
       "<Figure size 640x480 with 1 Axes>"
      ]
     },
     "metadata": {},
     "output_type": "display_data"
    }
   ],
   "source": [
    "plot_calibration_curve(\n",
    "    y_out_sample_te, pred_probs_out_sample_te_adjusted, title=\"Simple adjustment\"\n",
    ")"
   ]
  },
  {
   "attachments": {},
   "cell_type": "markdown",
   "metadata": {},
   "source": [
    "The adjustment is an underestimator for some reason. If we had a labeled dataset which\n",
    "includes positives and negatives, we could instead fit a logistic regression on top of\n",
    "the original model's predicted probabilities. Let's see how that compares."
   ]
  },
  {
   "cell_type": "code",
   "execution_count": 22,
   "metadata": {},
   "outputs": [
    {
     "data": {
      "image/png": "[encoded data removed]",
      "text/plain": [
       "<Figure size 640x480 with 1 Axes>"
      ]
     },
     "metadata": {},
     "output_type": "display_data"
    }
   ],
   "source": [
    "recalibrator = CalibratedClassifierCV(estimator=model).fit(\n",
    "    X_out_sample_tr, y_out_sample_tr\n",
    ")\n",
    "plot_calibration_curve(\n",
    "    y_out_sample_te,\n",
    "    recalibrator.predict_proba(X_out_sample_te)[:, 1],\n",
    "    title=\"CalibratedClassifierCV\",\n",
    ")"
   ]
  },
  {
   "attachments": {},
   "cell_type": "markdown",
   "metadata": {},
   "source": [
    "After running the notebook on many different seeds, there isn't a case where\n",
    "`CalibratedClassifierCV` is significantly better than the adjustment rule. Recall that\n",
    "the latter only requires out-of-sample positive predictions to be labeled."
   ]
  },
  {
   "attachments": {},
   "cell_type": "markdown",
   "metadata": {},
   "source": [
    "# A note on covariate drift detectors"
   ]
  },
  {
   "attachments": {},
   "cell_type": "markdown",
   "metadata": {},
   "source": [
    "The top of this notebook says that this analysis \"reveals a simple workflow which\n",
    "detects and remedies a drop in precision for anticausal learning problems\".\n",
    "\n",
    "What's an \"anticausal learning problem\", and why did I need to specify that? An\n",
    "anticausal learning problem is one where the target causes covariates.<sup>1</sup> For\n",
    "example, diseases cause symptoms. In these problems, $P(x \\: | \\: y)$ is fixed. This\n",
    "means that the only thing we need to track and correct is the marginal probability\n",
    "distribution over labels. Why? Because, in this setting, covariate shift is completely\n",
    "explained by label shift:\n",
    "\n",
    "$$\n",
    "\\begin{align*}\n",
    "Q(x) &= \\sum_{y} Q(x \\: | \\: y) Q(y) && \\text{total probability} \\\\\n",
    "&= \\sum_{y} P(x \\: | \\: y) Q(y)      && \\text{anticausal} \\\\\n",
    "&\\neq  \\sum_{y} P(x \\: | \\: y) P(y)  && \\text{label shift} \\\\\n",
    "&= P(x)\n",
    "\\end{align*}\n",
    "$$\n",
    "\n",
    "For a common class of learning tasks, covariate shift alerts more than useless. They're\n",
    "a red herring. The problem was just label shift, for which there are simple remedies\n",
    "which don't involve retraining. (Note that this fact has nothing to do with the accuracy\n",
    "of covariate shift detectors, which are theoretically and empirically\n",
    "[faulty](https://www.nannyml.com/blog/when-data-drift-does-not-affect-performance-machine-learning-models).)\n",
    "\n",
    "I wanted to mention this because you may not need any data to decide beforehand whether\n",
    "to set up covariate drift alerts; you just need some domain understanding. If you know\n",
    "that your task is an anticausal one, then covariate drift alerts are definitely not\n",
    "worth implementing over simple prediction averaging. On the other hand, if you know your\n",
    "task is a causal one (e.g., house features cause its price) then covariate drift\n",
    "estimators may be diagnostically useful.\n",
    "\n",
    "These aren't my ideas btw. They're pulled straight out of [this lesser-known\n",
    "talk](https://www.youtube.com/watch?v=enBoCZnSsvw). [This\n",
    "lecture](https://www.youtube.com/watch?v=ZSDWhevW-N0) is also good."
   ]
  },
  {
   "attachments": {},
   "cell_type": "markdown",
   "metadata": {},
   "source": [
    "## References\n",
    "\n",
    "1. Schölkopf, Bernhard, et al. \"On causal and anticausal learning.\" arXiv preprint arXiv:1206.6471 (2012)."
   ]
  }
 ],
 "metadata": {
  "kernelspec": {
   "display_name": "base",
   "language": "python",
   "name": "python3"
  },
  "language_info": {
   "codemirror_mode": {
    "name": "ipython",
    "version": 3
   },
   "file_extension": ".py",
   "mimetype": "text/x-python",
   "name": "python",
   "nbconvert_exporter": "python",
   "pygments_lexer": "ipython3",
   "version": "3.11.3"
  },
  "orig_nbformat": 4
 },
 "nbformat": 4,
 "nbformat_minor": 2
}
