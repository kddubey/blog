{
 "cells": [
  {
   "attachments": {},
   "cell_type": "markdown",
   "metadata": {},
   "source": [
    "**Description**: Demonstrate that an arbitrary out-of-sample precision can be achieved\n",
    "simply by reducing the frequency of positive observations going from in-sample to\n",
    "out-of-sample data. The analysis reveals a useful workflow:\n",
    "\n",
    "1. To identify the problem, simply track the average production label. If there's\n",
    "   evidence that this is going down, then estimate the precision in production by\n",
    "   labeling >=200 observations which were predicted to be positive. Expect this estimate\n",
    "   to be lower than the one you computed on in-sample data.\n",
    "2. Estimate the new proportion of positives in production using\n",
    "   `estimate_frac_positives_out_sample`.\n",
    "3. To fix the problem, a simple/temporary fix is to adjust predictions using the\n",
    "   ratio of proportions of positives in production vs. in-sample. This fix is\n",
    "   implemented in `predict_proba_adjusted`.\n",
    "\n",
    "**Estimated runtime**: 10 sec.\n",
    "\n",
    "**Package requirements**:\n",
    "```\n",
    "matplotlib==3.4.3\n",
    "scikit-learn==0.24.2\n",
    "```"
   ]
  },
  {
   "cell_type": "code",
   "execution_count": 1,
   "metadata": {},
   "outputs": [],
   "source": [
    "import matplotlib.pyplot as plt\n",
    "import numpy as np\n",
    "\n",
    "from sklearn.base import ClassifierMixin\n",
    "from sklearn.datasets import make_classification\n",
    "from sklearn.linear_model import LogisticRegression\n",
    "from sklearn.model_selection import train_test_split\n",
    "from sklearn.metrics import precision_score, confusion_matrix\n",
    "from sklearn.calibration import calibration_curve, CalibratedClassifierCV"
   ]
  },
  {
   "attachments": {},
   "cell_type": "markdown",
   "metadata": {},
   "source": [
    "# Input parameters"
   ]
  },
  {
   "attachments": {},
   "cell_type": "markdown",
   "metadata": {},
   "source": [
    "By default, in-sample precision is ~0.95. The desired precision should be less than\n",
    "that, since the notebook drops positives. If we want greater precision, we'd have to\n",
    "drop negatives."
   ]
  },
  {
   "cell_type": "code",
   "execution_count": 2,
   "metadata": {},
   "outputs": [],
   "source": [
    "desired_precision_out_sample = 0.60\n",
    "assert desired_precision_out_sample < 0.95"
   ]
  },
  {
   "attachments": {},
   "cell_type": "markdown",
   "metadata": {},
   "source": [
    "Hypothesis: assuming a model is calibrated-in-the-large, then precision decreases\n",
    "but recall stays the same on out-of-sample data w/ fewer positives than in-sample data."
   ]
  },
  {
   "attachments": {},
   "cell_type": "markdown",
   "metadata": {},
   "source": [
    "# Prepare data in-sample"
   ]
  },
  {
   "cell_type": "code",
   "execution_count": 3,
   "metadata": {},
   "outputs": [],
   "source": [
    "X, y = make_classification(\n",
    "    n_samples=100_000,\n",
    "    n_classes=2,\n",
    "    n_features=5,\n",
    "    n_informative=5,\n",
    "    n_redundant=0,\n",
    "    random_state=123,\n",
    ")"
   ]
  },
  {
   "cell_type": "code",
   "execution_count": 4,
   "metadata": {},
   "outputs": [],
   "source": [
    "# split into in and out-of-sample data. we'll make out-of-sample data unbalanced\n",
    "_X_in_sample, _X_out_sample, _y_in_sample, _y_out_sample = train_test_split(\n",
    "    X, y, test_size=0.2, random_state=42\n",
    ")\n",
    "\n",
    "# split in-sample data into training and test. both balanced\n",
    "X_tr, X_te, y_tr, y_te = train_test_split(\n",
    "    _X_in_sample, _y_in_sample, test_size=0.2, random_state=42\n",
    ")"
   ]
  },
  {
   "cell_type": "code",
   "execution_count": 5,
   "metadata": {},
   "outputs": [
    {
     "name": "stdout",
     "output_type": "stream",
     "text": [
      "0.4983125\n",
      "0.50275\n"
     ]
    }
   ],
   "source": [
    "# in-sample data is balanced\n",
    "print(y_tr.mean())\n",
    "print(y_te.mean())"
   ]
  },
  {
   "attachments": {},
   "cell_type": "markdown",
   "metadata": {},
   "source": [
    "# Fit"
   ]
  },
  {
   "attachments": {},
   "cell_type": "markdown",
   "metadata": {},
   "source": [
    "We'll fit a logistic regression b/c we know it's calibrated-in-the-large."
   ]
  },
  {
   "cell_type": "code",
   "execution_count": 6,
   "metadata": {},
   "outputs": [],
   "source": [
    "model = LogisticRegression().fit(X_tr, y_tr)\n",
    "assert model.score(X_tr, y_tr) > 0.6, \"really bad fit\""
   ]
  },
  {
   "attachments": {},
   "cell_type": "markdown",
   "metadata": {},
   "source": [
    "# Gather metrics in-sample"
   ]
  },
  {
   "cell_type": "code",
   "execution_count": 7,
   "metadata": {},
   "outputs": [],
   "source": [
    "def metrics(y_true: np.ndarray, y_pred: np.ndarray):\n",
    "    # input checks\n",
    "    _binary_array = np.array([0, 1])\n",
    "    if not np.all(np.unique(y_true) == _binary_array):\n",
    "        raise ValueError(\"y_true must only contain 0s and 1s.\")\n",
    "    if not np.all(np.unique(y_pred) == _binary_array):\n",
    "        raise ValueError(\"y_pred must only contain 0s and 1s.\")\n",
    "\n",
    "    metric_to_value = dict()\n",
    "    # marginal scores\n",
    "    metric_to_value[\"frac_positive\"] = y_true.sum() / len(y_true)\n",
    "    metric_to_value[\"frac_positive_pred\"] = y_pred.sum() / len(y_pred)\n",
    "    # conditional scores\n",
    "    tn, fp, fn, tp = confusion_matrix(y_true, y_pred).ravel()\n",
    "    metric_to_value[\"precision\"] = tp / (tp + fp)\n",
    "    metric_to_value[\"recall\"] = tp / (tp + fn)\n",
    "    metric_to_value[\"specificity\"] = tn / (tn + fp)\n",
    "\n",
    "    return metric_to_value"
   ]
  },
  {
   "cell_type": "code",
   "execution_count": 8,
   "metadata": {},
   "outputs": [],
   "source": [
    "metrics_in_sample = metrics(y_te, model.predict(X_te))"
   ]
  },
  {
   "cell_type": "code",
   "execution_count": 9,
   "metadata": {},
   "outputs": [
    {
     "data": {
      "text/plain": [
       "{'frac_positive': 0.50275,\n",
       " 'frac_positive_pred': 0.4955,\n",
       " 'precision': 0.9513118062563067,\n",
       " 'recall': 0.9375932371954252,\n",
       " 'specificity': 0.9514831573655103}"
      ]
     },
     "execution_count": 9,
     "metadata": {},
     "output_type": "execute_result"
    }
   ],
   "source": [
    "metrics_in_sample"
   ]
  },
  {
   "attachments": {},
   "cell_type": "markdown",
   "metadata": {},
   "source": [
    "# Prepare data out-of-sample"
   ]
  },
  {
   "attachments": {},
   "cell_type": "markdown",
   "metadata": {},
   "source": [
    "Let $P$ be the distribution from our in-sample data was sampled, and $Q$ be that for\n",
    "out-of-sample data. The only fundamental difference between $P$ and $Q$ is that the\n",
    "latter has fewer positive observations.\n",
    "\n",
    "Assume a model was fit on a sample from $P$. Assume the model is\n",
    "calibrated-in-the-large, i.e., $P(Y = 1) = P(\\hat{Y} = 1)$. We need a way to calculate\n",
    "$q = Q(Y = 1)$ so that it results in a given precision on $Q$. It's safe to assume that\n",
    "recall and specificity are equivalent across $P$ and $Q$, because these metrics are\n",
    "conditional on the class.\n",
    "\n",
    "Apply Bayes' rule to the precision on $Q$:\n",
    "\n",
    "$$\n",
    "\\begin{align*}\n",
    "Q(Y = 1 \\: | \\: \\hat{Y} = 1) &= Q(\\hat{Y} = 1 \\: | \\: Y = 1) \\frac{Q(Y = 1)}{ Q(\\hat{Y}\n",
    "= 1)} \\\\\n",
    "Q(Y = 1 \\: | \\: \\hat{Y} = 1) &= P(\\hat{Y} = 1 \\: | \\: Y = 1) \\frac{Q(Y = 1)}{Q(\\hat{Y} =\n",
    "1)} \\\\\n",
    "Q(Y = 1) &= \\frac{Q(Y = 1 \\: | \\: \\hat{Y} = 1)}{P(\\hat{Y} = 1 \\: | \\: Y = 1)} Q(\\hat{Y}\n",
    "= 1) \\\\\n",
    "q &= \\frac{Q_{\\text{precision}}}{P_{\\text{recall}}} Q(\\hat{Y} = 1) \\\\\n",
    "&= r Q(\\hat{Y} = 1).\n",
    "\\end{align*}\n",
    "$$\n",
    "\n",
    "Apply the law of total probability to break down $Q(\\hat{Y} = 1)$:\n",
    "\n",
    "$$\n",
    "\\begin{align*}\n",
    "Q(\\hat{Y} = 1) &= Q(\\hat{Y} = 1 \\: | \\: Y = 1)q + Q(\\hat{Y} = 1 \\: | \\: Y = 0)(1-q) \\\\\n",
    "&= P(\\hat{Y} = 1 \\: | \\: Y = 1)q + P(\\hat{Y} = 1 \\: | \\: Y = 0)(1-q) \\\\\n",
    "&= P_{\\text{recall}}q + (1 - P_{\\text{specificity}})(1-q).\n",
    "\\end{align*}\n",
    "$$\n",
    "\n",
    "Plugging it in to the first equation for $q$, we can now solve for $q$. First let $r = \n",
    "\n",
    "$$\n",
    "\\begin{align*}\n",
    "q &= r \\cdot \\big( P_{\\text{recall}}q + (1 - P_{\\text{specificity}})(1-q) \\big) \\\\\n",
    "q &= r \\cdot \\big( P_{\\text{recall}}q + (1 - P_{\\text{specificity}}) - (1 -\n",
    "P_{\\text{specificity}})q \\big) \\\\\n",
    "q - r P_{\\text{recall}}q + r(1 - P_{\\text{specificity}})q &= r \\cdot \\big( 1 -\n",
    "P_{\\text{specificity}} \\big) \\\\\n",
    "q &= \\frac{r \\cdot \\big( 1 - P_{\\text{specificity}} \\big)}{1 - r P_{\\text{recall}} + r\n",
    "\\cdot \\big( 1 - P_{\\text{specificity}} \\big)}\n",
    "\\end{align*}\n",
    "$$\n",
    "\n",
    "So we can calculate the fraction of positives in $Q$ given in-sample recall and\n",
    "precision, and given out-of-sampe precision (it's the numerator of the ratio $r$)."
   ]
  },
  {
   "cell_type": "code",
   "execution_count": 10,
   "metadata": {},
   "outputs": [],
   "source": [
    "def estimate_frac_positives_out_sample(\n",
    "    out_sample_precision: float, in_sample_recall: float, in_sample_specificity: float\n",
    "):\n",
    "    _r = out_sample_precision / in_sample_recall\n",
    "    _numerator = _r * (1 - in_sample_specificity)\n",
    "    return _numerator / (1 - _r * in_sample_recall + _numerator)"
   ]
  },
  {
   "cell_type": "code",
   "execution_count": 11,
   "metadata": {},
   "outputs": [
    {
     "data": {
      "text/plain": [
       "0.9233833047565825"
      ]
     },
     "execution_count": 11,
     "metadata": {},
     "output_type": "execute_result"
    }
   ],
   "source": [
    "_q = estimate_frac_positives_out_sample(\n",
    "    desired_precision_out_sample,\n",
    "    metrics_in_sample[\"recall\"],\n",
    "    metrics_in_sample[\"specificity\"],\n",
    ")\n",
    "\n",
    "# calculate the drop_probability needed to achieve q\n",
    "_n_pos = _y_out_sample.sum()\n",
    "_n_neg = len(_y_out_sample) - _n_pos\n",
    "drop_probability = 1 - ((_q * _n_neg) / (_n_pos - _q * _n_pos))\n",
    "drop_probability"
   ]
  },
  {
   "cell_type": "code",
   "execution_count": 12,
   "metadata": {},
   "outputs": [],
   "source": [
    "# make out-of-sample data unbalanced, dropping positives\n",
    "# recall hypothesis from math: dropping positives causes precision to decrease\n",
    "\n",
    "mask_positive = _y_out_sample == 1\n",
    "mask = ~mask_positive\n",
    "mask_random = np.random.choice(\n",
    "    [True, False], size=mask_positive.sum(), p=[1 - drop_probability, drop_probability]\n",
    ")\n",
    "mask[mask_positive] = mask_random\n",
    "\n",
    "# no negative labels dropped\n",
    "assert (_y_out_sample[mask] == 0).sum() == (_y_out_sample == 0).sum()\n",
    "\n",
    "# some positive labels dropped\n",
    "assert _y_out_sample[mask].sum() < _y_out_sample.sum()\n",
    "\n",
    "# apply mask to simulate out-of-sample data, which isn't balanced\n",
    "X_out_sample = _X_out_sample[mask]\n",
    "y_out_sample = _y_out_sample[mask]"
   ]
  },
  {
   "attachments": {},
   "cell_type": "markdown",
   "metadata": {},
   "source": [
    "# Gather metrics out-of-sample"
   ]
  },
  {
   "attachments": {},
   "cell_type": "markdown",
   "metadata": {},
   "source": [
    "First, recall in-sample metrics:"
   ]
  },
  {
   "cell_type": "code",
   "execution_count": 13,
   "metadata": {},
   "outputs": [
    {
     "data": {
      "text/plain": [
       "{'frac_positive': 0.50275,\n",
       " 'frac_positive_pred': 0.4955,\n",
       " 'precision': 0.9513118062563067,\n",
       " 'recall': 0.9375932371954252,\n",
       " 'specificity': 0.9514831573655103}"
      ]
     },
     "execution_count": 13,
     "metadata": {},
     "output_type": "execute_result"
    }
   ],
   "source": [
    "metrics_in_sample"
   ]
  },
  {
   "attachments": {},
   "cell_type": "markdown",
   "metadata": {},
   "source": [
    "Here are out-of-sample metrics:"
   ]
  },
  {
   "cell_type": "code",
   "execution_count": 14,
   "metadata": {},
   "outputs": [
    {
     "data": {
      "text/plain": [
       "{'frac_positive': 0.07149532710280374,\n",
       " 'frac_positive_pred': 0.11700934579439252,\n",
       " 'precision': 0.5814696485623003,\n",
       " 'recall': 0.9516339869281045,\n",
       " 'specificity': 0.9472571716155007}"
      ]
     },
     "execution_count": 14,
     "metadata": {},
     "output_type": "execute_result"
    }
   ],
   "source": [
    "metrics_out_sample = metrics(y_out_sample, model.predict(X_out_sample))\n",
    "metrics_out_sample"
   ]
  },
  {
   "attachments": {},
   "cell_type": "markdown",
   "metadata": {},
   "source": [
    "We didn't hit 60% precision exactly. The sources of error are that we used in-sample\n",
    "recall to estimate out-of-sample recall and specificty. Methinks it's close enough.\n",
    "Hypothesis confirmed."
   ]
  },
  {
   "attachments": {},
   "cell_type": "markdown",
   "metadata": {},
   "source": [
    "# A simple fix"
   ]
  },
  {
   "attachments": {},
   "cell_type": "markdown",
   "metadata": {},
   "source": [
    "Probabilities from in-sample data (where we trained) are:\n",
    "\n",
    "$$\n",
    "\\begin{align*}\n",
    "y_P &= P(Y = 1 \\: | \\: x) \\\\\n",
    "&= \\frac{P(x \\: | \\: Y = 1) p}{P(x)} \\\\\n",
    "&= \\frac{P(x \\: | \\: Y = 1) p}{P(x \\: | \\: Y = 1) p + P(x \\: | \\: Y = 0) (1-p)}\n",
    "\\end{align*}\n",
    "$$\n",
    "\n",
    "On out-of-sample data, they should be:\n",
    "\n",
    "$$\n",
    "\\begin{align*}\n",
    "y_Q &= Q(Y = 1 \\: | \\: x) \\\\\n",
    "&= \\frac{Q(x \\: | \\: Y = 1) q}{Q(x \\: | \\: Y = 1) q + Q(x \\: | \\: Y = 0) (1-q)} \\\\\n",
    "&= \\frac{P(x \\: | \\: Y = 1) q}{P(x \\: | \\: Y = 1) q + P(x \\: | \\: Y = 0) (1-q)}\n",
    "\\end{align*}\n",
    "$$\n",
    "\n",
    "Using the facts that\n",
    "\n",
    "$$\n",
    "\\begin{align*}\n",
    "P(x \\: | \\: Y = 1) &= \\frac{P(Y = 1 \\: | \\: x) P(x)}{p} \\\\\n",
    "&= P(x) \\frac{y_P}{p}\n",
    "\\end{align*}\n",
    "$$\n",
    "\n",
    "and\n",
    "\n",
    "$$\n",
    "\\begin{align*}\n",
    "P(x \\: | \\: Y = 0) &= \\frac{P(Y = 0 \\: | \\: x) P(x)}{1 - p} \\\\\n",
    "&= P(x) \\frac{1 - y_P}{1 - p}\n",
    "\\end{align*}\n",
    "$$\n",
    "\n",
    "we can express $y_Q$ purely as a function of $y_P, p, q$:\n",
    "\n",
    "$$\n",
    "\\begin{align*}\n",
    "y_Q &= \\frac{P(x) \\frac{y_P}{p} q}{P(x) \\frac{y_P}{p} q + P(x) \\frac{1-y_P}{1-p}(1-q)}\n",
    "\\\\\n",
    "&= \\frac{P(x) y_P \\cdot \\frac{q}{p}}{P(x) \\bigg( y_P \\cdot \\frac{q}{p} + (1 - y_P) \\cdot\n",
    "\\frac{1-q}{1-p} \\bigg)} \\\\\n",
    "&= \\frac{y_P \\cdot \\frac{q}{p}}{y_P \\cdot \\frac{q}{p} + (1 - y_P) \\cdot\n",
    "\\frac{1-q}{1-p}}\n",
    "\\end{align*}\n",
    "$$\n",
    "\n",
    "In other words, if the only difference b/t $P$ and $Q$ is the frequency of positives, we\n",
    "can \"re-calibrate\" predictions from $P$ so that they work for $Q$."
   ]
  },
  {
   "attachments": {},
   "cell_type": "markdown",
   "metadata": {},
   "source": [
    "We need to estimate the fraction of positives in out-of-sample data.\n",
    "\n",
    "Say we computed out-of-sample precision by *only labeling positive predictions (from\n",
    "production)* for correctness, i.e., we never looked at negative predictions. We can\n",
    "still estimate the fraction of positives in out-of-sample data by using the formula in\n",
    "`estimate_frac_positives_out_sample`."
   ]
  },
  {
   "cell_type": "code",
   "execution_count": 15,
   "metadata": {},
   "outputs": [],
   "source": [
    "(X_out_sample_tr, X_out_sample_te, y_out_sample_tr, y_out_sample_te) = train_test_split(\n",
    "    X_out_sample, y_out_sample, test_size=0.5, random_state=53\n",
    ")"
   ]
  },
  {
   "cell_type": "code",
   "execution_count": 16,
   "metadata": {},
   "outputs": [],
   "source": [
    "out_sample_precision_est = precision_score(\n",
    "    y_out_sample_tr, model.predict(X_out_sample_tr)\n",
    ")\n",
    "\n",
    "frac_positive_out_sample_est = estimate_frac_positives_out_sample(\n",
    "    out_sample_precision_est,\n",
    "    metrics_in_sample[\"recall\"],\n",
    "    metrics_in_sample[\"specificity\"],\n",
    ")"
   ]
  },
  {
   "cell_type": "code",
   "execution_count": 17,
   "metadata": {},
   "outputs": [],
   "source": [
    "def predict_proba_adjusted(\n",
    "    model: ClassifierMixin,\n",
    "    X: np.ndarray,\n",
    "    frac_positive_out_sample_est: float,\n",
    "    frac_positive_in_sample_est: float,\n",
    ") -> np.ndarray:\n",
    "    pred_probs_out_sample_te = model.predict_proba(X)[:, 1]\n",
    "\n",
    "    _numerator = pred_probs_out_sample_te * (\n",
    "        frac_positive_out_sample_est / frac_positive_in_sample_est\n",
    "    )\n",
    "    _denominator = _numerator + (\n",
    "        (1 - pred_probs_out_sample_te)\n",
    "        * ((1 - frac_positive_out_sample_est) / (1 - frac_positive_in_sample_est))\n",
    "    )\n",
    "    return _numerator / _denominator"
   ]
  },
  {
   "cell_type": "code",
   "execution_count": 18,
   "metadata": {},
   "outputs": [],
   "source": [
    "pred_probs_out_sample_te_adjusted = predict_proba_adjusted(\n",
    "    model,\n",
    "    X_out_sample_te,\n",
    "    frac_positive_out_sample_est,\n",
    "    metrics_in_sample[\"frac_positive\"],\n",
    ")"
   ]
  },
  {
   "cell_type": "code",
   "execution_count": 19,
   "metadata": {},
   "outputs": [
    {
     "data": {
      "text/plain": [
       "{'frac_positive': 0.07177570093457944,\n",
       " 'frac_positive_pred': 0.0605607476635514,\n",
       " 'precision': 0.9259259259259259,\n",
       " 'recall': 0.78125,\n",
       " 'specificity': 0.9951671365283931}"
      ]
     },
     "execution_count": 19,
     "metadata": {},
     "output_type": "execute_result"
    }
   ],
   "source": [
    "metrics(y_out_sample_te, pred_probs_out_sample_te_adjusted > 0.5)"
   ]
  },
  {
   "attachments": {},
   "cell_type": "markdown",
   "metadata": {},
   "source": [
    "Retraining is probably better. For logistic regression, you'd just have to adjust the\n",
    "intercept (there should be a formula for that). TBH idk why this adjustment method\n",
    "didn't work *great*. But it's simple and easy to deploy. It's fine as a temporary\n",
    "measure.\n",
    "\n",
    "Mess w/ threshold too:"
   ]
  },
  {
   "cell_type": "code",
   "execution_count": 20,
   "metadata": {},
   "outputs": [
    {
     "data": {
      "text/plain": [
       "{'frac_positive': 0.07177570093457944,\n",
       " 'frac_positive_pred': 0.07121495327102803,\n",
       " 'precision': 0.868766404199475,\n",
       " 'recall': 0.8619791666666666,\n",
       " 'specificity': 0.9899315344341523}"
      ]
     },
     "execution_count": 20,
     "metadata": {},
     "output_type": "execute_result"
    }
   ],
   "source": [
    "metrics(y_out_sample_te, pred_probs_out_sample_te_adjusted > 0.3)"
   ]
  },
  {
   "attachments": {},
   "cell_type": "markdown",
   "metadata": {},
   "source": [
    "I'm curious about calibration."
   ]
  },
  {
   "cell_type": "code",
   "execution_count": 21,
   "metadata": {},
   "outputs": [],
   "source": [
    "def plot_calibration_curve(y, pred_probs, n_bins=5, title=\"\"):\n",
    "    # gather statistics\n",
    "    prob_true, prob_pred = calibration_curve(y, pred_probs, n_bins=n_bins)\n",
    "    bins = np.linspace(0, 1, n_bins+1)\n",
    "    bin_inds = np.digitize(pred_probs, bins) - 1\n",
    "    bin_sizes = np.bincount(bin_inds)\n",
    "    y_std_err = np.sqrt(prob_true*(1 - prob_true) / bin_sizes)\n",
    "\n",
    "    # plot curve\n",
    "    plt.errorbar(prob_pred, prob_true, yerr=2*y_std_err, \n",
    "                 label='Model w/ 95% CI',\n",
    "                 capsize=5, marker='o', linestyle='dashed')\n",
    "    plt.plot([0, 1], [0, 1], label='Perfect calibration')\n",
    "    plt.legend()\n",
    "    plt.ylim(0,1)\n",
    "    plt.xlim(0,1)\n",
    "    plt.xlabel(\"Predicted probability\")\n",
    "    plt.ylabel(\"Observed fraction\")\n",
    "    plt.title(title)"
   ]
  },
  {
   "cell_type": "code",
   "execution_count": 22,
   "metadata": {},
   "outputs": [
    {
     "data": {
      "image/png": "[encoded data removed]",
      "text/plain": [
       "<Figure size 640x480 with 1 Axes>"
      ]
     },
     "metadata": {},
     "output_type": "display_data"
    }
   ],
   "source": [
    "plot_calibration_curve(y_out_sample_te, pred_probs_out_sample_te_adjusted)"
   ]
  },
  {
   "attachments": {},
   "cell_type": "markdown",
   "metadata": {},
   "source": [
    "The adjustment is an underestimator for some reason. If we had a labeled dataset which\n",
    "includes positives and negatives, we could instead fit a logistic regression on top of\n",
    "the original model's predicted probabilities. Let's see how that compares."
   ]
  },
  {
   "cell_type": "code",
   "execution_count": 23,
   "metadata": {},
   "outputs": [
    {
     "data": {
      "image/png": "[encoded data removed]",
      "text/plain": [
       "<Figure size 640x480 with 1 Axes>"
      ]
     },
     "metadata": {},
     "output_type": "display_data"
    }
   ],
   "source": [
    "recalibrator = CalibratedClassifierCV(estimator=model).fit(\n",
    "    X_out_sample_tr, y_out_sample_tr\n",
    ")\n",
    "plot_calibration_curve(\n",
    "    y_out_sample_te,\n",
    "    recalibrator.predict_proba(X_out_sample_te)[:, 1],\n",
    ")"
   ]
  },
  {
   "attachments": {},
   "cell_type": "markdown",
   "metadata": {},
   "source": [
    "Not significantly better than the adjustment rule for this particular `model`."
   ]
  }
 ],
 "metadata": {
  "kernelspec": {
   "display_name": "base",
   "language": "python",
   "name": "python3"
  },
  "language_info": {
   "codemirror_mode": {
    "name": "ipython",
    "version": 3
   },
   "file_extension": ".py",
   "mimetype": "text/x-python",
   "name": "python",
   "nbconvert_exporter": "python",
   "pygments_lexer": "ipython3",
   "version": "3.11.3"
  },
  "orig_nbformat": 4
 },
 "nbformat": 4,
 "nbformat_minor": 2
}
