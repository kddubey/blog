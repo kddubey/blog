{
 "cells": [
  {
   "cell_type": "markdown",
   "metadata": {
    "id": "hPcpWU5PsO9q"
   },
   "source": [
    "**Description**: Sigmoid loss for text similarity training. Inspired by\n",
    "[SigLIP](https://arxiv.org/abs/2303.15343). Benefits are outlined in the SigLIP paper;\n",
    "it's easier to increase the batch size to get more negatives.\n",
    "\n",
    "**Usage**: run on a T4 GPU.\n",
    "\n",
    "Modified from this SentenceTransformers\n",
    "[script](https://github.com/UKPLab/sentence-transformers/blob/master/examples/training/matryoshka/matryoshka_nli.py)."
   ]
  },
  {
   "cell_type": "code",
   "execution_count": null,
   "metadata": {
    "collapsed": true,
    "id": "ZHpA1fetsVag"
   },
   "outputs": [],
   "source": [
    "!pip install datasets --upgrade sentence-transformers"
   ]
  },
  {
   "cell_type": "code",
   "execution_count": null,
   "metadata": {
    "collapsed": true,
    "id": "Tn25uJsOvmIf"
   },
   "outputs": [],
   "source": [
    "!pip uninstall wandb"
   ]
  },
  {
   "cell_type": "code",
   "execution_count": null,
   "metadata": {
    "id": "oBGfPJwnsO9r"
   },
   "outputs": [],
   "source": [
    "from datetime import datetime\n",
    "from typing import Any, Iterable\n",
    "\n",
    "from datasets import load_dataset\n",
    "from sentence_transformers import (\n",
    "    SentenceTransformer,\n",
    "    SentenceTransformerTrainer,\n",
    "    SentenceTransformerTrainingArguments,\n",
    "    losses,\n",
    "    util,\n",
    ")\n",
    "from sentence_transformers.evaluation import (\n",
    "    EmbeddingSimilarityEvaluator,\n",
    "    SimilarityFunction,\n",
    ")\n",
    "from sentence_transformers.training_args import BatchSamplers\n",
    "import torch\n",
    "import tqdm"
   ]
  },
  {
   "cell_type": "code",
   "execution_count": null,
   "metadata": {
    "id": "DWyTFKWKsO9r"
   },
   "outputs": [],
   "source": [
    "USE_CUSTOM = True"
   ]
  },
  {
   "cell_type": "code",
   "execution_count": null,
   "metadata": {
    "id": "9RVjC8F0sO9s"
   },
   "outputs": [],
   "source": [
    "model_name = \"distilroberta-base\"\n",
    "\n",
    "batch_size = 128\n",
    "num_train_epochs = 1\n",
    "\n",
    "# Save path of the model\n",
    "output_dir = f\"output/sigltt_nli_{model_name.replace('/', '-')}-{datetime.now().strftime('%Y-%m-%d_%H-%M-%S')}\""
   ]
  },
  {
   "cell_type": "code",
   "execution_count": null,
   "metadata": {
    "colab": {
     "base_uri": "https://localhost:8080/"
    },
    "id": "Ki9kAIxwsO9s",
    "outputId": "bb96e265-06b0-47a0-f5be-7458c8986004"
   },
   "outputs": [],
   "source": [
    "# 1. Here we define our SentenceTransformer model. If not already a Sentence Transformer model, it will automatically\n",
    "# create one with \"mean\" pooling.\n",
    "model = SentenceTransformer(model_name)\n",
    "# If we want, we can limit the maximum sequence length for the model\n",
    "# model.max_seq_length = 75"
   ]
  },
  {
   "cell_type": "code",
   "execution_count": null,
   "metadata": {
    "id": "Qzhfz9pIsO9t"
   },
   "outputs": [],
   "source": [
    "# 2. Load the AllNLI dataset: https://huggingface.co/datasets/sentence-transformers/all-nli\n",
    "train_dataset = load_dataset(\"sentence-transformers/all-nli\", \"triplet\", split=\"train\")\n",
    "\n",
    "# If you wish, you can limit the number of training samples\n",
    "train_dataset = train_dataset.select(range(10_000))"
   ]
  },
  {
   "cell_type": "markdown",
   "metadata": {
    "id": "c4-y3BvBuZQI"
   },
   "source": [
    "# Quick demo"
   ]
  },
  {
   "cell_type": "code",
   "execution_count": null,
   "metadata": {
    "id": "ASskVikquZQI"
   },
   "outputs": [],
   "source": [
    "b = 3\n",
    "_nn = 3\n",
    "m = b * (1 + _nn)  # m = len(candidates)\n",
    "\n",
    "scores = torch.randn((b, m))\n",
    "Y = torch.concat((torch.eye(b), torch.zeros((b, m - b))), dim=1)"
   ]
  },
  {
   "cell_type": "code",
   "execution_count": null,
   "metadata": {
    "colab": {
     "base_uri": "https://localhost:8080/"
    },
    "id": "8eI7_u3LuZQI",
    "outputId": "02eeca98-901a-4909-f377-85615db02073"
   },
   "outputs": [],
   "source": [
    "loss = torch.nn.BCEWithLogitsLoss(reduction=\"sum\")\n",
    "loss(scores, Y) / b"
   ]
  },
  {
   "cell_type": "code",
   "execution_count": null,
   "metadata": {
    "colab": {
     "base_uri": "https://localhost:8080/"
    },
    "id": "HSeFHZ8vuZQI",
    "outputId": "13b92ad1-20ae-43ef-dc15-9e469f798b33"
   },
   "outputs": [],
   "source": [
    "log_sigmoid = torch.nn.LogSigmoid()\n",
    "-torch.sum(log_sigmoid((2 * Y - 1) * scores)) / b"
   ]
  },
  {
   "cell_type": "markdown",
   "metadata": {
    "id": "pxIKRhWmuZQJ"
   },
   "source": [
    "# Loss implementation"
   ]
  },
  {
   "cell_type": "code",
   "execution_count": null,
   "metadata": {
    "id": "z8FlKUpW-dWK"
   },
   "outputs": [],
   "source": [
    "# 3. Define our training loss\n",
    "class MultipleNegativesRankingSigmoidLoss(torch.nn.Module):\n",
    "    def __init__(\n",
    "        self,\n",
    "        model: SentenceTransformer,\n",
    "        scale: float = 20.0,\n",
    "        similarity_fct=util.cos_sim,\n",
    "        bias: float = -10.0,\n",
    "    ) -> None:\n",
    "        super(MultipleNegativesRankingSigmoidLoss, self).__init__()\n",
    "        self.model = model\n",
    "        self.scale = torch.nn.Parameter(torch.tensor(scale, device=model.device))\n",
    "        self.similarity_fct = similarity_fct\n",
    "        self.bias = torch.nn.Parameter(torch.tensor(bias, device=model.device))\n",
    "        self.bce_loss = torch.nn.BCEWithLogitsLoss(reduction=\"sum\")\n",
    "\n",
    "    def forward(\n",
    "        self, sentence_features: Iterable[dict[str, torch.Tensor]], labels: torch.Tensor\n",
    "    ) -> torch.Tensor:\n",
    "        # Compute the embeddings and distribute them to anchor and candidates (positive and optionally negatives)\n",
    "        embeddings = [\n",
    "            self.model(sentence_feature)[\"sentence_embedding\"]\n",
    "            for sentence_feature in sentence_features\n",
    "        ]\n",
    "        anchors = embeddings[0]  # (batch_size, embedding_dim)\n",
    "        candidates = torch.cat(\n",
    "            embeddings[1:]\n",
    "        )  # (batch_size * (1 + num_negatives), embedding_dim)\n",
    "\n",
    "        # For every anchor, we compute the similarity to all other candidates (positives and negatives),\n",
    "        # also from other anchors. This gives us a lot of in-batch negatives.\n",
    "        scores: torch.Tensor = (\n",
    "            self.similarity_fct(anchors, candidates) * self.scale\n",
    "        ) + self.bias\n",
    "        # (batch_size, batch_size * (1 + num_negatives))\n",
    "\n",
    "        # anchor[i] should be most similar to candidates[i], as that is the paired positive,\n",
    "        # so the label for anchor[i] is i\n",
    "        b = len(anchors)\n",
    "        m = len(candidates)\n",
    "        labels = torch.concat(\n",
    "            (\n",
    "                torch.eye(b, device=scores.device),\n",
    "                torch.zeros((b, m - b), device=scores.device),\n",
    "            ),\n",
    "            dim=1,\n",
    "        )\n",
    "        return self.bce_loss(scores, labels) / b\n",
    "\n",
    "    def get_config_dict(self) -> dict[str, Any]:\n",
    "        return {\n",
    "            \"scale\": self.scale.item(),\n",
    "            \"similarity_fct\": self.similarity_fct.__name__,\n",
    "            \"bias\": self.bias.item(),\n",
    "        }\n",
    "\n",
    "    @property\n",
    "    def citation(self) -> str:\n",
    "        return \"\"\"\n",
    "@inproceedings{zhai2023sigmoid,\n",
    "    title={Sigmoid loss for language image pre-training},\n",
    "    author={Zhai, Xiaohua and Mustafa, Basil and Kolesnikov, Alexander and Beyer, Lucas},\n",
    "    booktitle={Proceedings of the IEEE/CVF International Conference on Computer Vision},\n",
    "    pages={11975--11986},\n",
    "    year={2023}\n",
    "}\n",
    "\"\"\""
   ]
  },
  {
   "cell_type": "code",
   "execution_count": null,
   "metadata": {},
   "outputs": [],
   "source": [
    "# 3. Define our training loss\n",
    "class AccumulatedMultipleNegativesRankingSigmoidLoss(torch.nn.Module):\n",
    "    def __init__(\n",
    "        self,\n",
    "        model: SentenceTransformer,\n",
    "        scale: float = 20.0,\n",
    "        bias: float = -10.0,\n",
    "        similarity_fct=util.cos_sim,\n",
    "        mini_batch_size: int = 32,\n",
    "        show_progress_bar: bool = False,\n",
    "    ) -> None:\n",
    "        super(AccumulatedMultipleNegativesRankingSigmoidLoss, self).__init__()\n",
    "        self.model = model\n",
    "        self.scale = torch.nn.Parameter(torch.tensor(scale, device=model.device))\n",
    "        self.bias = torch.nn.Parameter(torch.tensor(bias, device=model.device))\n",
    "        self.similarity_fct = similarity_fct\n",
    "        self.mini_batch_size = mini_batch_size\n",
    "        self.show_progress_bar = show_progress_bar\n",
    "        self.bce_loss = torch.nn.BCEWithLogitsLoss()\n",
    "\n",
    "    def _calculate_loss_mini_batch(\n",
    "        self, begin: int, anchors_mini_batch: torch.Tensor, candidates: torch.Tensor\n",
    "    ) -> torch.Tensor:\n",
    "        \"\"\"\n",
    "        Loss for a mini-batch of anchors against all candidates. It's an average.\n",
    "        \"\"\"\n",
    "        mini_batch_size, _ = anchors_mini_batch.shape\n",
    "        # For every anchor, we compute the similarity to all other candidates (positives\n",
    "        # and negatives), also from other anchors. This gives us a lot of in-batch\n",
    "        # negatives.\n",
    "        scores: torch.Tensor = (\n",
    "            self.similarity_fct(anchors_mini_batch, candidates) * self.scale\n",
    "        ) + self.bias\n",
    "        # (mini_batch_size, full batch size * (1 + num negatives))\n",
    "\n",
    "        # NOTE: we could additionally batch over candidates, since the loss is just a\n",
    "        # (double) sum. (Then we'd need to backward in here.) That'd only be useful if\n",
    "        # there are millions of candidates / something wild where a mini_batch_size of 1\n",
    "        # still gives you OOMs.\n",
    "\n",
    "        # anchor[i] should be most similar to candidates[i], as that is the paired\n",
    "        # positive, so the label for anchor[i] is i. B/c we're batching anchors but not\n",
    "        # batching candidates, we need to offset the label by begin.\n",
    "        labels = torch.zeros_like(scores)\n",
    "        for i in range(mini_batch_size):\n",
    "            labels[i, begin + i] = 1.0\n",
    "        return self.bce_loss(scores, labels)\n",
    "\n",
    "    def forward(\n",
    "        self, sentence_features: Iterable[dict[str, torch.Tensor]], labels: torch.Tensor\n",
    "    ) -> torch.Tensor:\n",
    "        # Compute the embeddings and distribute them to anchor and candidates (positive\n",
    "        # and optionally negatives)\n",
    "        embeddings = [\n",
    "            self.model(sentence_feature)[\"sentence_embedding\"]\n",
    "            for sentence_feature in sentence_features\n",
    "        ]\n",
    "        anchors: torch.Tensor = embeddings[0]  # (batch_size, embedding_dim)\n",
    "        candidates = torch.cat(\n",
    "            embeddings[1:]\n",
    "        )  # (batch_size * (1 + num_negatives), embedding_dim)\n",
    "        batch_size = len(anchors)\n",
    "\n",
    "        # Detach from the computation graph => don't back-propagate the gradient to the\n",
    "        # model's parameters yet. Accumulate the 2 embeddings' gradients.\n",
    "        anchors_detached = anchors.detach()\n",
    "        anchors_detached.requires_grad = True\n",
    "        candidates_detached = candidates.detach()\n",
    "        candidates_detached.requires_grad = True\n",
    "\n",
    "        # Accumulate the gradients over mini-batches of anchors, i.e., batch over rows\n",
    "        # of the similarity matrix.\n",
    "        losses: list[torch.Tensor] = []\n",
    "        for begin in tqdm.trange(\n",
    "            0,\n",
    "            batch_size,\n",
    "            self.mini_batch_size,\n",
    "            desc=\"Mini-batching\",\n",
    "            disable=not self.show_progress_bar,\n",
    "        ):\n",
    "            anchors_mini_batch = anchors_detached[\n",
    "                begin : (begin + self.mini_batch_size)\n",
    "            ]\n",
    "            mini_batch_size, _ = anchors_mini_batch.shape\n",
    "            loss_mini_batch = self._calculate_loss_mini_batch(\n",
    "                begin, anchors_mini_batch, candidates_detached\n",
    "            ) * (mini_batch_size / batch_size)  # re-scale to mimic mean over the batch\n",
    "            loss_mini_batch.backward()  # accumulate the gradient\n",
    "            losses.append(loss_mini_batch.detach())\n",
    "\n",
    "        anchors.backward(gradient=anchors_detached.grad)\n",
    "        candidates.backward(gradient=candidates_detached.grad)\n",
    "\n",
    "        loss = sum(losses).requires_grad_()\n",
    "        # That requires_grad_() lets the trainer call backward on the loss. That call\n",
    "        # does nothing b/c the loss is a sum over detached tensors. We already\n",
    "        # accumulated the gradient in the loop.\n",
    "        return loss\n",
    "\n",
    "    def get_config_dict(self) -> dict[str, Any]:\n",
    "        return {\n",
    "            \"scale\": self.scale.item(),\n",
    "            \"similarity_fct\": self.similarity_fct.__name__,\n",
    "            \"bias\": self.bias.item(),\n",
    "        }\n",
    "\n",
    "    @property\n",
    "    def citation(self) -> str:\n",
    "        return \"\"\"\n",
    "@inproceedings{zhai2023sigmoid,\n",
    "    title={Sigmoid loss for language image pre-training},\n",
    "    author={Zhai, Xiaohua and Mustafa, Basil and Kolesnikov, Alexander and Beyer, Lucas},\n",
    "    booktitle={Proceedings of the IEEE/CVF International Conference on Computer Vision},\n",
    "    pages={11975--11986},\n",
    "    year={2023}\n",
    "}\n",
    "\"\"\""
   ]
  },
  {
   "cell_type": "markdown",
   "metadata": {
    "id": "Wk1mUkNMuZQJ"
   },
   "source": [
    "# Demo"
   ]
  },
  {
   "cell_type": "code",
   "execution_count": null,
   "metadata": {
    "colab": {
     "base_uri": "https://localhost:8080/"
    },
    "id": "mCJgJZTdUha8",
    "outputId": "9f256e1b-1303-468e-d647-75fbb4a0cfba"
   },
   "outputs": [],
   "source": [
    "bf16 = torch.cuda.is_bf16_supported()\n",
    "if bf16:\n",
    "    print(\"Using mixed precision in bf16\")\n",
    "else:\n",
    "    print(\"Not using mixed precision\")"
   ]
  },
  {
   "cell_type": "code",
   "execution_count": null,
   "metadata": {
    "id": "GpSAL8RKsO9u"
   },
   "outputs": [],
   "source": [
    "# 5. Define the training arguments\n",
    "args = SentenceTransformerTrainingArguments(\n",
    "    # Required parameter:\n",
    "    output_dir=output_dir,\n",
    "    use_mps_device=False,\n",
    "    # Optional training parameters:\n",
    "    num_train_epochs=num_train_epochs,\n",
    "    per_device_train_batch_size=batch_size,\n",
    "    per_device_eval_batch_size=batch_size,\n",
    "    warmup_ratio=0.1,\n",
    "    fp16=False,\n",
    "    bf16=bf16,\n",
    "    batch_sampler=BatchSamplers.NO_DUPLICATES,  # MultipleNegativesRankingLoss benefits from no duplicate samples in a batch\n",
    "    seed=42,\n",
    ")"
   ]
  },
  {
   "cell_type": "code",
   "execution_count": null,
   "metadata": {
    "colab": {
     "base_uri": "https://localhost:8080/"
    },
    "id": "vy7qKIOfsO9u",
    "outputId": "a0328ecd-81a1-4b93-8e13-0f7217de1cbf"
   },
   "outputs": [],
   "source": [
    "# 6. Create the trainer\n",
    "if USE_CUSTOM:\n",
    "    print(\"Using **CUSTOM** Sigmoid loss\")\n",
    "    train_loss = AccumulatedMultipleNegativesRankingSigmoidLoss(model)\n",
    "else:\n",
    "    print(\"Using OG MNRL\")\n",
    "    train_loss = losses.MultipleNegativesRankingLoss(model)\n",
    "trainer = SentenceTransformerTrainer(\n",
    "    model=model,\n",
    "    args=args,\n",
    "    train_dataset=train_dataset,\n",
    "    loss=train_loss,\n",
    ")"
   ]
  },
  {
   "cell_type": "code",
   "execution_count": null,
   "metadata": {
    "id": "LqU0H7v1fbGX"
   },
   "outputs": [],
   "source": [
    "torch.cuda.reset_peak_memory_stats()"
   ]
  },
  {
   "cell_type": "code",
   "execution_count": null,
   "metadata": {
    "colab": {
     "base_uri": "https://localhost:8080/",
     "height": 127,
     "referenced_widgets": [
      "70eb7e7fbf3347cd8778653419e0250b",
      "ef0cdbcdf477480386a860b30d1d3a84",
      "36f97112a4e2431d864c5b3f238bcff1",
      "2ff71ec6a7314507a31940f4a561762d",
      "ca794285629f4160bb6d120e13d73323",
      "d8c33ae57c9241878ef5f604a6bea157",
      "67dadcfbc174429da91d2b728c54268f",
      "f27536e8ca2d4290a59fb48e2633c6ad",
      "eb09f9fda5704cc7a3b730f2991360fa",
      "f82eaff99e934bc1b79917a84c059424",
      "247c0700f77046d68b8b04cad456097f"
     ]
    },
    "id": "MRM3MB-SQo0u",
    "outputId": "33beca0d-ae8d-41b6-8ed8-b227bde891f0"
   },
   "outputs": [],
   "source": [
    "trainer.train()  # og"
   ]
  },
  {
   "cell_type": "code",
   "execution_count": null,
   "metadata": {
    "colab": {
     "base_uri": "https://localhost:8080/",
     "height": 127,
     "referenced_widgets": [
      "2b6f6464b1884340ace975367ad0da70",
      "4afc51af11ba46588a4c03f34a408efb",
      "afb38642685547aaabd4533e0728e834",
      "92828412bff6419db612c5af0ba20594",
      "e4c542f6880f47d7a203496b7906ef37",
      "23b696a512604e69a96c98db48d8cbd2",
      "7aba1ebdd1c84eb085c074159b530cb8",
      "0fd09d25edd447fc9821267a5aad9b8b",
      "d00e4cfc3e954f7eb83cc87496761375",
      "55ff7d979a88471a83294e3d98e707dd",
      "08e4ac3b7c194f0fb250be397d7a9881"
     ]
    },
    "id": "YkNBMaOax8ce",
    "outputId": "66e62386-16ef-49f0-9a82-5977c25c2e0d"
   },
   "outputs": [],
   "source": [
    "trainer.train()  # custom"
   ]
  },
  {
   "cell_type": "code",
   "execution_count": null,
   "metadata": {
    "colab": {
     "base_uri": "https://localhost:8080/"
    },
    "id": "mUG7QNdo_bKu",
    "outputId": "49913591-7047-4651-ea86-5126aea506b5"
   },
   "outputs": [],
   "source": [
    "if USE_CUSTOM:\n",
    "    print(train_loss.scale)\n",
    "    print(train_loss.bias)"
   ]
  },
  {
   "cell_type": "code",
   "execution_count": null,
   "metadata": {
    "colab": {
     "base_uri": "https://localhost:8080/"
    },
    "id": "s9lAllgIfeSL",
    "outputId": "3ada86bb-6a28-4de3-d415-52924ac951ec"
   },
   "outputs": [],
   "source": [
    "# og\n",
    "peak_memory_allocated = torch.cuda.max_memory_allocated()\n",
    "peak_memory_reserved = torch.cuda.max_memory_reserved()\n",
    "\n",
    "print(f\"Peak memory allocated: {peak_memory_allocated / 1024**3:.2f} GB\")\n",
    "print(f\"Peak memory reserved: {peak_memory_reserved / 1024**3:.2f} GB\")"
   ]
  },
  {
   "cell_type": "code",
   "execution_count": null,
   "metadata": {
    "colab": {
     "base_uri": "https://localhost:8080/"
    },
    "id": "jHR6mlRHVUrv",
    "outputId": "0ca7d3a1-b32f-471a-bbd1-5cb35b1c4d4d"
   },
   "outputs": [],
   "source": [
    "# custom\n",
    "peak_memory_allocated = torch.cuda.max_memory_allocated()\n",
    "peak_memory_reserved = torch.cuda.max_memory_reserved()\n",
    "\n",
    "print(f\"Peak memory allocated: {peak_memory_allocated / 1024**3:.2f} GB\")\n",
    "print(f\"Peak memory reserved: {peak_memory_reserved / 1024**3:.2f} GB\")"
   ]
  },
  {
   "cell_type": "code",
   "execution_count": null,
   "metadata": {
    "id": "kuv2LbxXsO9u"
   },
   "outputs": [],
   "source": [
    "# 7. Evaluate the model performance on the STS Benchmark test dataset\n",
    "test_dataset = load_dataset(\"sentence-transformers/stsb\", split=\"test\")\n",
    "evaluator = EmbeddingSimilarityEvaluator(\n",
    "    sentences1=test_dataset[\"sentence1\"],\n",
    "    sentences2=test_dataset[\"sentence2\"],\n",
    "    scores=test_dataset[\"score\"],\n",
    "    main_similarity=SimilarityFunction.COSINE,\n",
    "    name=\"sts-test\",\n",
    ")\n",
    "test_result = evaluator(model)"
   ]
  },
  {
   "cell_type": "code",
   "execution_count": null,
   "metadata": {
    "colab": {
     "base_uri": "https://localhost:8080/"
    },
    "id": "wGiZbPTnQ71Z",
    "outputId": "fdf896e0-918c-4edb-d254-ecb72a12da60"
   },
   "outputs": [],
   "source": [
    "test_result  # og"
   ]
  },
  {
   "cell_type": "code",
   "execution_count": null,
   "metadata": {
    "colab": {
     "base_uri": "https://localhost:8080/"
    },
    "id": "BdcnbOKsxvhM",
    "outputId": "c308ddec-fbbb-4f9d-fea2-77b02b0e267b"
   },
   "outputs": [],
   "source": [
    "test_result  # custom"
   ]
  },
  {
   "cell_type": "code",
   "execution_count": null,
   "metadata": {
    "id": "BzMCwWvIsO9u"
   },
   "outputs": [],
   "source": [
    "# # 8. Save the trained & evaluated model locally\n",
    "# final_output_dir = f\"{output_dir}/final\"\n",
    "# model.save(final_output_dir)\n",
    "# final_output_dir"
   ]
  }
 ],
 "metadata": {
  "accelerator": "GPU",
  "colab": {
   "gpuType": "T4",
   "provenance": [],
   "toc_visible": true
  },
  "kernelspec": {
   "display_name": "base",
   "language": "python",
   "name": "python3"
  },
  "language_info": {
   "codemirror_mode": {
    "name": "ipython",
    "version": 3
   },
   "file_extension": ".py",
   "mimetype": "text/x-python",
   "name": "python",
   "nbconvert_exporter": "python",
   "pygments_lexer": "ipython3",
   "version": "3.11.8"
  },
  "widgets": {
   "application/vnd.jupyter.widget-state+json": {
    "08e4ac3b7c194f0fb250be397d7a9881": {
     "model_module": "@jupyter-widgets/controls",
     "model_module_version": "1.5.0",
     "model_name": "DescriptionStyleModel",
     "state": {
      "_model_module": "@jupyter-widgets/controls",
      "_model_module_version": "1.5.0",
      "_model_name": "DescriptionStyleModel",
      "_view_count": null,
      "_view_module": "@jupyter-widgets/base",
      "_view_module_version": "1.2.0",
      "_view_name": "StyleView",
      "description_width": ""
     }
    },
    "0fd09d25edd447fc9821267a5aad9b8b": {
     "model_module": "@jupyter-widgets/base",
     "model_module_version": "1.2.0",
     "model_name": "LayoutModel",
     "state": {
      "_model_module": "@jupyter-widgets/base",
      "_model_module_version": "1.2.0",
      "_model_name": "LayoutModel",
      "_view_count": null,
      "_view_module": "@jupyter-widgets/base",
      "_view_module_version": "1.2.0",
      "_view_name": "LayoutView",
      "align_content": null,
      "align_items": null,
      "align_self": null,
      "border": null,
      "bottom": null,
      "display": null,
      "flex": null,
      "flex_flow": null,
      "grid_area": null,
      "grid_auto_columns": null,
      "grid_auto_flow": null,
      "grid_auto_rows": null,
      "grid_column": null,
      "grid_gap": null,
      "grid_row": null,
      "grid_template_areas": null,
      "grid_template_columns": null,
      "grid_template_rows": null,
      "height": null,
      "justify_content": null,
      "justify_items": null,
      "left": null,
      "margin": null,
      "max_height": null,
      "max_width": null,
      "min_height": null,
      "min_width": null,
      "object_fit": null,
      "object_position": null,
      "order": null,
      "overflow": null,
      "overflow_x": null,
      "overflow_y": null,
      "padding": null,
      "right": null,
      "top": null,
      "visibility": null,
      "width": null
     }
    },
    "23b696a512604e69a96c98db48d8cbd2": {
     "model_module": "@jupyter-widgets/base",
     "model_module_version": "1.2.0",
     "model_name": "LayoutModel",
     "state": {
      "_model_module": "@jupyter-widgets/base",
      "_model_module_version": "1.2.0",
      "_model_name": "LayoutModel",
      "_view_count": null,
      "_view_module": "@jupyter-widgets/base",
      "_view_module_version": "1.2.0",
      "_view_name": "LayoutView",
      "align_content": null,
      "align_items": null,
      "align_self": null,
      "border": null,
      "bottom": null,
      "display": null,
      "flex": null,
      "flex_flow": null,
      "grid_area": null,
      "grid_auto_columns": null,
      "grid_auto_flow": null,
      "grid_auto_rows": null,
      "grid_column": null,
      "grid_gap": null,
      "grid_row": null,
      "grid_template_areas": null,
      "grid_template_columns": null,
      "grid_template_rows": null,
      "height": null,
      "justify_content": null,
      "justify_items": null,
      "left": null,
      "margin": null,
      "max_height": null,
      "max_width": null,
      "min_height": null,
      "min_width": null,
      "object_fit": null,
      "object_position": null,
      "order": null,
      "overflow": null,
      "overflow_x": null,
      "overflow_y": null,
      "padding": null,
      "right": null,
      "top": null,
      "visibility": null,
      "width": null
     }
    },
    "247c0700f77046d68b8b04cad456097f": {
     "model_module": "@jupyter-widgets/controls",
     "model_module_version": "1.5.0",
     "model_name": "DescriptionStyleModel",
     "state": {
      "_model_module": "@jupyter-widgets/controls",
      "_model_module_version": "1.5.0",
      "_model_name": "DescriptionStyleModel",
      "_view_count": null,
      "_view_module": "@jupyter-widgets/base",
      "_view_module_version": "1.2.0",
      "_view_name": "StyleView",
      "description_width": ""
     }
    },
    "2b6f6464b1884340ace975367ad0da70": {
     "model_module": "@jupyter-widgets/controls",
     "model_module_version": "1.5.0",
     "model_name": "HBoxModel",
     "state": {
      "_dom_classes": [],
      "_model_module": "@jupyter-widgets/controls",
      "_model_module_version": "1.5.0",
      "_model_name": "HBoxModel",
      "_view_count": null,
      "_view_module": "@jupyter-widgets/controls",
      "_view_module_version": "1.5.0",
      "_view_name": "HBoxView",
      "box_style": "",
      "children": [
       "IPY_MODEL_4afc51af11ba46588a4c03f34a408efb",
       "IPY_MODEL_afb38642685547aaabd4533e0728e834",
       "IPY_MODEL_92828412bff6419db612c5af0ba20594"
      ],
      "layout": "IPY_MODEL_e4c542f6880f47d7a203496b7906ef37"
     }
    },
    "2ff71ec6a7314507a31940f4a561762d": {
     "model_module": "@jupyter-widgets/controls",
     "model_module_version": "1.5.0",
     "model_name": "HTMLModel",
     "state": {
      "_dom_classes": [],
      "_model_module": "@jupyter-widgets/controls",
      "_model_module_version": "1.5.0",
      "_model_name": "HTMLModel",
      "_view_count": null,
      "_view_module": "@jupyter-widgets/controls",
      "_view_module_version": "1.5.0",
      "_view_name": "HTMLView",
      "description": "",
      "description_tooltip": null,
      "layout": "IPY_MODEL_f82eaff99e934bc1b79917a84c059424",
      "placeholder": "​",
      "style": "IPY_MODEL_247c0700f77046d68b8b04cad456097f",
      "value": " 1/1 [00:00&lt;00:00,  8.64example/s]"
     }
    },
    "36f97112a4e2431d864c5b3f238bcff1": {
     "model_module": "@jupyter-widgets/controls",
     "model_module_version": "1.5.0",
     "model_name": "FloatProgressModel",
     "state": {
      "_dom_classes": [],
      "_model_module": "@jupyter-widgets/controls",
      "_model_module_version": "1.5.0",
      "_model_name": "FloatProgressModel",
      "_view_count": null,
      "_view_module": "@jupyter-widgets/controls",
      "_view_module_version": "1.5.0",
      "_view_name": "ProgressView",
      "bar_style": "",
      "description": "",
      "description_tooltip": null,
      "layout": "IPY_MODEL_f27536e8ca2d4290a59fb48e2633c6ad",
      "max": 1,
      "min": 0,
      "orientation": "horizontal",
      "style": "IPY_MODEL_eb09f9fda5704cc7a3b730f2991360fa",
      "value": 1
     }
    },
    "4afc51af11ba46588a4c03f34a408efb": {
     "model_module": "@jupyter-widgets/controls",
     "model_module_version": "1.5.0",
     "model_name": "HTMLModel",
     "state": {
      "_dom_classes": [],
      "_model_module": "@jupyter-widgets/controls",
      "_model_module_version": "1.5.0",
      "_model_name": "HTMLModel",
      "_view_count": null,
      "_view_module": "@jupyter-widgets/controls",
      "_view_module_version": "1.5.0",
      "_view_name": "HTMLView",
      "description": "",
      "description_tooltip": null,
      "layout": "IPY_MODEL_23b696a512604e69a96c98db48d8cbd2",
      "placeholder": "​",
      "style": "IPY_MODEL_7aba1ebdd1c84eb085c074159b530cb8",
      "value": "Computing widget examples: 100%"
     }
    },
    "55ff7d979a88471a83294e3d98e707dd": {
     "model_module": "@jupyter-widgets/base",
     "model_module_version": "1.2.0",
     "model_name": "LayoutModel",
     "state": {
      "_model_module": "@jupyter-widgets/base",
      "_model_module_version": "1.2.0",
      "_model_name": "LayoutModel",
      "_view_count": null,
      "_view_module": "@jupyter-widgets/base",
      "_view_module_version": "1.2.0",
      "_view_name": "LayoutView",
      "align_content": null,
      "align_items": null,
      "align_self": null,
      "border": null,
      "bottom": null,
      "display": null,
      "flex": null,
      "flex_flow": null,
      "grid_area": null,
      "grid_auto_columns": null,
      "grid_auto_flow": null,
      "grid_auto_rows": null,
      "grid_column": null,
      "grid_gap": null,
      "grid_row": null,
      "grid_template_areas": null,
      "grid_template_columns": null,
      "grid_template_rows": null,
      "height": null,
      "justify_content": null,
      "justify_items": null,
      "left": null,
      "margin": null,
      "max_height": null,
      "max_width": null,
      "min_height": null,
      "min_width": null,
      "object_fit": null,
      "object_position": null,
      "order": null,
      "overflow": null,
      "overflow_x": null,
      "overflow_y": null,
      "padding": null,
      "right": null,
      "top": null,
      "visibility": null,
      "width": null
     }
    },
    "67dadcfbc174429da91d2b728c54268f": {
     "model_module": "@jupyter-widgets/controls",
     "model_module_version": "1.5.0",
     "model_name": "DescriptionStyleModel",
     "state": {
      "_model_module": "@jupyter-widgets/controls",
      "_model_module_version": "1.5.0",
      "_model_name": "DescriptionStyleModel",
      "_view_count": null,
      "_view_module": "@jupyter-widgets/base",
      "_view_module_version": "1.2.0",
      "_view_name": "StyleView",
      "description_width": ""
     }
    },
    "70eb7e7fbf3347cd8778653419e0250b": {
     "model_module": "@jupyter-widgets/controls",
     "model_module_version": "1.5.0",
     "model_name": "HBoxModel",
     "state": {
      "_dom_classes": [],
      "_model_module": "@jupyter-widgets/controls",
      "_model_module_version": "1.5.0",
      "_model_name": "HBoxModel",
      "_view_count": null,
      "_view_module": "@jupyter-widgets/controls",
      "_view_module_version": "1.5.0",
      "_view_name": "HBoxView",
      "box_style": "",
      "children": [
       "IPY_MODEL_ef0cdbcdf477480386a860b30d1d3a84",
       "IPY_MODEL_36f97112a4e2431d864c5b3f238bcff1",
       "IPY_MODEL_2ff71ec6a7314507a31940f4a561762d"
      ],
      "layout": "IPY_MODEL_ca794285629f4160bb6d120e13d73323"
     }
    },
    "7aba1ebdd1c84eb085c074159b530cb8": {
     "model_module": "@jupyter-widgets/controls",
     "model_module_version": "1.5.0",
     "model_name": "DescriptionStyleModel",
     "state": {
      "_model_module": "@jupyter-widgets/controls",
      "_model_module_version": "1.5.0",
      "_model_name": "DescriptionStyleModel",
      "_view_count": null,
      "_view_module": "@jupyter-widgets/base",
      "_view_module_version": "1.2.0",
      "_view_name": "StyleView",
      "description_width": ""
     }
    },
    "92828412bff6419db612c5af0ba20594": {
     "model_module": "@jupyter-widgets/controls",
     "model_module_version": "1.5.0",
     "model_name": "HTMLModel",
     "state": {
      "_dom_classes": [],
      "_model_module": "@jupyter-widgets/controls",
      "_model_module_version": "1.5.0",
      "_model_name": "HTMLModel",
      "_view_count": null,
      "_view_module": "@jupyter-widgets/controls",
      "_view_module_version": "1.5.0",
      "_view_name": "HTMLView",
      "description": "",
      "description_tooltip": null,
      "layout": "IPY_MODEL_55ff7d979a88471a83294e3d98e707dd",
      "placeholder": "​",
      "style": "IPY_MODEL_08e4ac3b7c194f0fb250be397d7a9881",
      "value": " 1/1 [00:00&lt;00:00,  9.55example/s]"
     }
    },
    "afb38642685547aaabd4533e0728e834": {
     "model_module": "@jupyter-widgets/controls",
     "model_module_version": "1.5.0",
     "model_name": "FloatProgressModel",
     "state": {
      "_dom_classes": [],
      "_model_module": "@jupyter-widgets/controls",
      "_model_module_version": "1.5.0",
      "_model_name": "FloatProgressModel",
      "_view_count": null,
      "_view_module": "@jupyter-widgets/controls",
      "_view_module_version": "1.5.0",
      "_view_name": "ProgressView",
      "bar_style": "",
      "description": "",
      "description_tooltip": null,
      "layout": "IPY_MODEL_0fd09d25edd447fc9821267a5aad9b8b",
      "max": 1,
      "min": 0,
      "orientation": "horizontal",
      "style": "IPY_MODEL_d00e4cfc3e954f7eb83cc87496761375",
      "value": 1
     }
    },
    "ca794285629f4160bb6d120e13d73323": {
     "model_module": "@jupyter-widgets/base",
     "model_module_version": "1.2.0",
     "model_name": "LayoutModel",
     "state": {
      "_model_module": "@jupyter-widgets/base",
      "_model_module_version": "1.2.0",
      "_model_name": "LayoutModel",
      "_view_count": null,
      "_view_module": "@jupyter-widgets/base",
      "_view_module_version": "1.2.0",
      "_view_name": "LayoutView",
      "align_content": null,
      "align_items": null,
      "align_self": null,
      "border": null,
      "bottom": null,
      "display": null,
      "flex": null,
      "flex_flow": null,
      "grid_area": null,
      "grid_auto_columns": null,
      "grid_auto_flow": null,
      "grid_auto_rows": null,
      "grid_column": null,
      "grid_gap": null,
      "grid_row": null,
      "grid_template_areas": null,
      "grid_template_columns": null,
      "grid_template_rows": null,
      "height": null,
      "justify_content": null,
      "justify_items": null,
      "left": null,
      "margin": null,
      "max_height": null,
      "max_width": null,
      "min_height": null,
      "min_width": null,
      "object_fit": null,
      "object_position": null,
      "order": null,
      "overflow": null,
      "overflow_x": null,
      "overflow_y": null,
      "padding": null,
      "right": null,
      "top": null,
      "visibility": "hidden",
      "width": null
     }
    },
    "d00e4cfc3e954f7eb83cc87496761375": {
     "model_module": "@jupyter-widgets/controls",
     "model_module_version": "1.5.0",
     "model_name": "ProgressStyleModel",
     "state": {
      "_model_module": "@jupyter-widgets/controls",
      "_model_module_version": "1.5.0",
      "_model_name": "ProgressStyleModel",
      "_view_count": null,
      "_view_module": "@jupyter-widgets/base",
      "_view_module_version": "1.2.0",
      "_view_name": "StyleView",
      "bar_color": null,
      "description_width": ""
     }
    },
    "d8c33ae57c9241878ef5f604a6bea157": {
     "model_module": "@jupyter-widgets/base",
     "model_module_version": "1.2.0",
     "model_name": "LayoutModel",
     "state": {
      "_model_module": "@jupyter-widgets/base",
      "_model_module_version": "1.2.0",
      "_model_name": "LayoutModel",
      "_view_count": null,
      "_view_module": "@jupyter-widgets/base",
      "_view_module_version": "1.2.0",
      "_view_name": "LayoutView",
      "align_content": null,
      "align_items": null,
      "align_self": null,
      "border": null,
      "bottom": null,
      "display": null,
      "flex": null,
      "flex_flow": null,
      "grid_area": null,
      "grid_auto_columns": null,
      "grid_auto_flow": null,
      "grid_auto_rows": null,
      "grid_column": null,
      "grid_gap": null,
      "grid_row": null,
      "grid_template_areas": null,
      "grid_template_columns": null,
      "grid_template_rows": null,
      "height": null,
      "justify_content": null,
      "justify_items": null,
      "left": null,
      "margin": null,
      "max_height": null,
      "max_width": null,
      "min_height": null,
      "min_width": null,
      "object_fit": null,
      "object_position": null,
      "order": null,
      "overflow": null,
      "overflow_x": null,
      "overflow_y": null,
      "padding": null,
      "right": null,
      "top": null,
      "visibility": null,
      "width": null
     }
    },
    "e4c542f6880f47d7a203496b7906ef37": {
     "model_module": "@jupyter-widgets/base",
     "model_module_version": "1.2.0",
     "model_name": "LayoutModel",
     "state": {
      "_model_module": "@jupyter-widgets/base",
      "_model_module_version": "1.2.0",
      "_model_name": "LayoutModel",
      "_view_count": null,
      "_view_module": "@jupyter-widgets/base",
      "_view_module_version": "1.2.0",
      "_view_name": "LayoutView",
      "align_content": null,
      "align_items": null,
      "align_self": null,
      "border": null,
      "bottom": null,
      "display": null,
      "flex": null,
      "flex_flow": null,
      "grid_area": null,
      "grid_auto_columns": null,
      "grid_auto_flow": null,
      "grid_auto_rows": null,
      "grid_column": null,
      "grid_gap": null,
      "grid_row": null,
      "grid_template_areas": null,
      "grid_template_columns": null,
      "grid_template_rows": null,
      "height": null,
      "justify_content": null,
      "justify_items": null,
      "left": null,
      "margin": null,
      "max_height": null,
      "max_width": null,
      "min_height": null,
      "min_width": null,
      "object_fit": null,
      "object_position": null,
      "order": null,
      "overflow": null,
      "overflow_x": null,
      "overflow_y": null,
      "padding": null,
      "right": null,
      "top": null,
      "visibility": "hidden",
      "width": null
     }
    },
    "eb09f9fda5704cc7a3b730f2991360fa": {
     "model_module": "@jupyter-widgets/controls",
     "model_module_version": "1.5.0",
     "model_name": "ProgressStyleModel",
     "state": {
      "_model_module": "@jupyter-widgets/controls",
      "_model_module_version": "1.5.0",
      "_model_name": "ProgressStyleModel",
      "_view_count": null,
      "_view_module": "@jupyter-widgets/base",
      "_view_module_version": "1.2.0",
      "_view_name": "StyleView",
      "bar_color": null,
      "description_width": ""
     }
    },
    "ef0cdbcdf477480386a860b30d1d3a84": {
     "model_module": "@jupyter-widgets/controls",
     "model_module_version": "1.5.0",
     "model_name": "HTMLModel",
     "state": {
      "_dom_classes": [],
      "_model_module": "@jupyter-widgets/controls",
      "_model_module_version": "1.5.0",
      "_model_name": "HTMLModel",
      "_view_count": null,
      "_view_module": "@jupyter-widgets/controls",
      "_view_module_version": "1.5.0",
      "_view_name": "HTMLView",
      "description": "",
      "description_tooltip": null,
      "layout": "IPY_MODEL_d8c33ae57c9241878ef5f604a6bea157",
      "placeholder": "​",
      "style": "IPY_MODEL_67dadcfbc174429da91d2b728c54268f",
      "value": "Computing widget examples: 100%"
     }
    },
    "f27536e8ca2d4290a59fb48e2633c6ad": {
     "model_module": "@jupyter-widgets/base",
     "model_module_version": "1.2.0",
     "model_name": "LayoutModel",
     "state": {
      "_model_module": "@jupyter-widgets/base",
      "_model_module_version": "1.2.0",
      "_model_name": "LayoutModel",
      "_view_count": null,
      "_view_module": "@jupyter-widgets/base",
      "_view_module_version": "1.2.0",
      "_view_name": "LayoutView",
      "align_content": null,
      "align_items": null,
      "align_self": null,
      "border": null,
      "bottom": null,
      "display": null,
      "flex": null,
      "flex_flow": null,
      "grid_area": null,
      "grid_auto_columns": null,
      "grid_auto_flow": null,
      "grid_auto_rows": null,
      "grid_column": null,
      "grid_gap": null,
      "grid_row": null,
      "grid_template_areas": null,
      "grid_template_columns": null,
      "grid_template_rows": null,
      "height": null,
      "justify_content": null,
      "justify_items": null,
      "left": null,
      "margin": null,
      "max_height": null,
      "max_width": null,
      "min_height": null,
      "min_width": null,
      "object_fit": null,
      "object_position": null,
      "order": null,
      "overflow": null,
      "overflow_x": null,
      "overflow_y": null,
      "padding": null,
      "right": null,
      "top": null,
      "visibility": null,
      "width": null
     }
    },
    "f82eaff99e934bc1b79917a84c059424": {
     "model_module": "@jupyter-widgets/base",
     "model_module_version": "1.2.0",
     "model_name": "LayoutModel",
     "state": {
      "_model_module": "@jupyter-widgets/base",
      "_model_module_version": "1.2.0",
      "_model_name": "LayoutModel",
      "_view_count": null,
      "_view_module": "@jupyter-widgets/base",
      "_view_module_version": "1.2.0",
      "_view_name": "LayoutView",
      "align_content": null,
      "align_items": null,
      "align_self": null,
      "border": null,
      "bottom": null,
      "display": null,
      "flex": null,
      "flex_flow": null,
      "grid_area": null,
      "grid_auto_columns": null,
      "grid_auto_flow": null,
      "grid_auto_rows": null,
      "grid_column": null,
      "grid_gap": null,
      "grid_row": null,
      "grid_template_areas": null,
      "grid_template_columns": null,
      "grid_template_rows": null,
      "height": null,
      "justify_content": null,
      "justify_items": null,
      "left": null,
      "margin": null,
      "max_height": null,
      "max_width": null,
      "min_height": null,
      "min_width": null,
      "object_fit": null,
      "object_position": null,
      "order": null,
      "overflow": null,
      "overflow_x": null,
      "overflow_y": null,
      "padding": null,
      "right": null,
      "top": null,
      "visibility": null,
      "width": null
     }
    }
   }
  }
 },
 "nbformat": 4,
 "nbformat_minor": 0
}
