{
 "cells": [
  {
   "attachments": {},
   "cell_type": "markdown",
   "metadata": {},
   "source": [
    "**Description**: Evaluation of barebones PyTorch implementation of the Gumbel-max trick.\n",
    "\n",
    "**Estimated runtime**: a few minutes, depends on hardware"
   ]
  },
  {
   "cell_type": "code",
   "execution_count": 1,
   "metadata": {},
   "outputs": [],
   "source": [
    "from __future__ import annotations\n",
    "from collections import Counter\n",
    "import itertools\n",
    "from time import time\n",
    "from typing import Sequence\n",
    "\n",
    "import numpy as np\n",
    "import pandas as pd\n",
    "from scipy.stats import trim_mean, chisquare\n",
    "import torch\n",
    "from tqdm.auto import tqdm"
   ]
  },
  {
   "cell_type": "code",
   "execution_count": 2,
   "metadata": {},
   "outputs": [
    {
     "data": {
      "text/plain": [
       "'cpu'"
      ]
     },
     "execution_count": 2,
     "metadata": {},
     "output_type": "execute_result"
    }
   ],
   "source": [
    "DEVICE = 'cuda' if torch.cuda.is_available() else 'cpu'\n",
    "DEVICE"
   ]
  },
  {
   "cell_type": "code",
   "execution_count": 3,
   "metadata": {},
   "outputs": [],
   "source": [
    "def sample_via_gumbel_max_trick(logits: torch.Tensor) -> torch.Tensor:\n",
    "    # https://timvieira.github.io/blog/post/2014/07/31/gumbel-max-trick/\n",
    "    gumbels = -torch.log(-torch.log(torch.rand(*logits.size(), device=logits.device)))\n",
    "    gumbels_rescaled = logits + gumbels\n",
    "    max_idxs = gumbels_rescaled.max(dim=-1)[1]\n",
    "    return max_idxs\n",
    "\n",
    "\n",
    "def sample_vanilla(logits: torch.Tensor) -> torch.Tensor:\n",
    "    probs = torch.nn.functional.softmax(logits, dim=-1)\n",
    "    return torch.multinomial(probs, num_samples=1).squeeze(1)"
   ]
  },
  {
   "attachments": {},
   "cell_type": "markdown",
   "metadata": {},
   "source": [
    "## Statistical check"
   ]
  },
  {
   "attachments": {},
   "cell_type": "markdown",
   "metadata": {},
   "source": [
    "Repeated samples from a set of independetly parametrized categorical distributions.\n",
    "Instead of directly generating logits, we'll generate the distributions first and then\n",
    "transform them to logits. Going the other way gives an unfair advantage to softmax +\n",
    "multinomial b/c both take a softmax."
   ]
  },
  {
   "cell_type": "code",
   "execution_count": 4,
   "metadata": {},
   "outputs": [
    {
     "data": {
      "application/vnd.jupyter.widget-view+json": {
       "model_id": "f53e0079d9024ab6b84b4c43f1003594",
       "version_major": 2,
       "version_minor": 0
      },
      "text/plain": [
       "  0%|          | 0/100000 [00:00<?, ?it/s]"
      ]
     },
     "metadata": {},
     "output_type": "display_data"
    }
   ],
   "source": [
    "sample_size = 100_000  # i.e., the number of tokens to sample\n",
    "batch_size = 1\n",
    "vocab_size = 500\n",
    "\n",
    "_rand = torch.fmod(torch.randn(size=(batch_size, vocab_size), device=DEVICE), 2) + 2\n",
    "# ~ Truncated Normal(mean=2, var=1)\n",
    "true_distr = _rand / _rand.sum(dim=-1, keepdim=True)\n",
    "logits = true_distr.log() + true_distr.logsumexp(dim=-1, keepdim=True)\n",
    "\n",
    "samples_vanilla = torch.empty(size=(sample_size, batch_size), device=DEVICE)\n",
    "samples_gumbel = torch.empty(size=(sample_size, batch_size), device=DEVICE)\n",
    "for i in tqdm(range(sample_size)):\n",
    "    samples_vanilla[i] = sample_vanilla(logits)\n",
    "    samples_gumbel[i] = sample_via_gumbel_max_trick(logits)"
   ]
  },
  {
   "cell_type": "code",
   "execution_count": 5,
   "metadata": {},
   "outputs": [],
   "source": [
    "def empirical_distr(discrete_samples: torch.Tensor):\n",
    "    counts_all = torch.empty((batch_size, vocab_size), device=DEVICE)\n",
    "    for j in range(discrete_samples.shape[1]):\n",
    "        # init counter to 0s\n",
    "        counter = Counter(dict(zip(range(vocab_size), [0] * vocab_size)))\n",
    "        # update counts\n",
    "        counter.update(discrete_samples[:,j].cpu().numpy().astype(int))\n",
    "        # turn into flat list where the counter key is the list index\n",
    "        counter_sorted_by_idx = sorted(counter.items(), key=lambda x: x[0])\n",
    "        _, counts = tuple(zip(*counter_sorted_by_idx))\n",
    "        # update counts_all\n",
    "        counts_all[j] = torch.tensor(counts, device=DEVICE)\n",
    "    return counts_all / counts_all.sum(dim=-1, keepdim=True)\n",
    "\n",
    "\n",
    "empirical_distr_vanilla = empirical_distr(samples_vanilla)\n",
    "empirical_distr_gumbel = empirical_distr(samples_gumbel)"
   ]
  },
  {
   "cell_type": "code",
   "execution_count": 6,
   "metadata": {},
   "outputs": [],
   "source": [
    "def rel_error(true_distr: torch.Tensor, empirical_distr: torch.Tensor, dim: int=None):\n",
    "    return torch.mean((true_distr - empirical_distr) / true_distr, dim=dim).abs()"
   ]
  },
  {
   "cell_type": "code",
   "execution_count": 7,
   "metadata": {},
   "outputs": [
    {
     "name": "stdout",
     "output_type": "stream",
     "text": [
      "Average relative error (across all distributions and categories):\n",
      "softmax + multinomial: 0.002358077559620142\n",
      "     Gumbel-max trick: 0.00033274214365519583\n"
     ]
    }
   ],
   "source": [
    "print('Average relative error (across all distributions and categories):')\n",
    "print('softmax + multinomial:', rel_error(true_distr, empirical_distr_vanilla).item())\n",
    "print('     Gumbel-max trick:', rel_error(true_distr, empirical_distr_gumbel).item())"
   ]
  },
  {
   "attachments": {},
   "cell_type": "markdown",
   "metadata": {},
   "source": [
    "For thoroughness, run a chi-square goodness of fit test for each distribution. Expect\n",
    "p-values to be close to 1 b/c of math."
   ]
  },
  {
   "cell_type": "code",
   "execution_count": 8,
   "metadata": {},
   "outputs": [],
   "source": [
    "def _float64_and_normalize(input: torch.Tensor, dim: int=-1) -> np.ndarray:\n",
    "    # scipy's chi square test requires distr sums to be 1 up to 1e-8 rtol. need to\n",
    "    # increase precision and re-normalize the torch float32 distributions to pass this\n",
    "    # input check\n",
    "    output = input.cpu().numpy().astype(np.float64)\n",
    "    return output / output.sum(axis=dim, keepdims=True)"
   ]
  },
  {
   "cell_type": "code",
   "execution_count": 9,
   "metadata": {},
   "outputs": [],
   "source": [
    "true_distr = _float64_and_normalize(true_distr)\n",
    "empirical_distr_vanilla = _float64_and_normalize(empirical_distr_vanilla)\n",
    "empirical_distr_gumbel = _float64_and_normalize(empirical_distr_gumbel)\n",
    "\n",
    "p_values_vanilla = []\n",
    "p_values_gumbel = []\n",
    "for distr_idx in range(true_distr.shape[0]):\n",
    "    p_values_vanilla.append(chisquare(f_obs=empirical_distr_vanilla[distr_idx],\n",
    "                                      f_exp=true_distr[distr_idx]).pvalue)\n",
    "    p_values_gumbel.append(chisquare(f_obs=empirical_distr_gumbel[distr_idx],\n",
    "                                     f_exp=true_distr[distr_idx]).pvalue)\n",
    "# purposefully not going to correct for multiple comparisons (correction methods\n",
    "# increase p-values, but we should never see a p-value too far from 1)"
   ]
  },
  {
   "cell_type": "code",
   "execution_count": 10,
   "metadata": {},
   "outputs": [
    {
     "name": "stdout",
     "output_type": "stream",
     "text": [
      "H0: samples were generated via categorical distribution parametrized by true_distr.\n",
      "Below: *lowest* p-value across 1 categorical distributions, each with 500 categories.\n",
      "\n",
      "softmax + multinomial: 1.0\n",
      "     Gumbel-max trick: 1.0\n"
     ]
    }
   ],
   "source": [
    "print('H0: samples were generated via categorical distribution parametrized by '\n",
    "      'true_distr.')\n",
    "print(f'Below: *lowest* p-value across {true_distr.shape[0]} categorical '\n",
    "      f'distributions, each with {true_distr.shape[1]} categories.')\n",
    "print()\n",
    "print('softmax + multinomial:', pd.Series(p_values_vanilla).min())\n",
    "print('     Gumbel-max trick:', pd.Series(p_values_gumbel).min())"
   ]
  },
  {
   "attachments": {},
   "cell_type": "markdown",
   "metadata": {},
   "source": [
    "## Computational eval"
   ]
  },
  {
   "cell_type": "code",
   "execution_count": 11,
   "metadata": {},
   "outputs": [],
   "source": [
    "def time_func(func, *args, num_replications: int=50,\n",
    "              progress_bar_desc: str=None, **kwargs) -> list[float]:\n",
    "    '''\n",
    "    Returns a list, `times`, where `times[i]` is the time it took to run\n",
    "    `func(*args, **kwargs)` at replication `i` of `num_replications`.\n",
    "    '''\n",
    "    times = []\n",
    "    for _ in range(num_replications):\n",
    "        time_start = time()\n",
    "        _ = func(*args, **kwargs)\n",
    "        time_end = time()\n",
    "        times.append(time_end - time_start)\n",
    "    return times\n",
    "\n",
    "\n",
    "def collect_sampling_times(batch_sizes: Sequence[int], vocab_sizes: Sequence[int],\n",
    "                           num_replications: int=50, trim_frac: float=0.0) -> pd.DataFrame:\n",
    "    times_vanilla = []\n",
    "    times_gumbel = []\n",
    "    for batch_size, vocab_size in tqdm(itertools.product(batch_sizes, vocab_sizes),\n",
    "                                       total=len(batch_sizes) * len(vocab_sizes)):\n",
    "        progress_bar_desc = f'batch size={batch_size}, vocab size={vocab_size}'\n",
    "        logits = torch.randn((batch_size, vocab_size), device=DEVICE)\n",
    "        times_vanilla.append(time_func(sample_vanilla,\n",
    "                                       logits,\n",
    "                                       num_replications=num_replications,\n",
    "                                       progress_bar_desc=progress_bar_desc))\n",
    "        times_gumbel.append(time_func(sample_via_gumbel_max_trick,\n",
    "                                      logits,\n",
    "                                      num_replications=num_replications,\n",
    "                                      progress_bar_desc=progress_bar_desc + ' (Gumbel)'))\n",
    "    return pd.DataFrame({'batch size': np.repeat(batch_sizes, len(vocab_sizes)),\n",
    "                         'vocab size': np.tile(vocab_sizes, len(batch_sizes)),\n",
    "                         'softmax + multinomial': trim_mean(times_vanilla, trim_frac, axis=1),\n",
    "                         'Gumbel-max trick': trim_mean(times_gumbel, trim_frac, axis=1)})"
   ]
  },
  {
   "cell_type": "code",
   "execution_count": 12,
   "metadata": {},
   "outputs": [
    {
     "data": {
      "application/vnd.jupyter.widget-view+json": {
       "model_id": "94fcc01872b34fc0884270e9a68b443e",
       "version_major": 2,
       "version_minor": 0
      },
      "text/plain": [
       "  0%|          | 0/25 [00:00<?, ?it/s]"
      ]
     },
     "metadata": {},
     "output_type": "display_data"
    }
   ],
   "source": [
    "batch_sizes = np.power(2, np.arange(0, 5)) # 10\n",
    "vocab_sizes = np.power(2, np.arange(5, 10)) # 17\n",
    "\n",
    "times_df = collect_sampling_times(batch_sizes, vocab_sizes)"
   ]
  },
  {
   "cell_type": "code",
   "execution_count": 13,
   "metadata": {},
   "outputs": [],
   "source": [
    "# filename = 'gumbel_times.csv'\n",
    "# times_df.to_csv(filename)\n",
    "\n",
    "# def is_using_colab():\n",
    "#     try:\n",
    "#         import google.colab\n",
    "#     except:\n",
    "#         return False\n",
    "#     else:\n",
    "#         return True\n",
    "\n",
    "# if is_using_colab():\n",
    "#     from google.colab import files\n",
    "#     files.download(filename)"
   ]
  },
  {
   "cell_type": "code",
   "execution_count": 14,
   "metadata": {},
   "outputs": [
    {
     "name": "stdout",
     "output_type": "stream",
     "text": [
      "The Gumbel-max trick is faster in 20 out of 25 configurations (on CPU).\n",
      "Here are the configurations where it's slower:\n"
     ]
    },
    {
     "data": {
      "text/html": [
       "<div>\n",
       "<style scoped>\n",
       "    .dataframe tbody tr th:only-of-type {\n",
       "        vertical-align: middle;\n",
       "    }\n",
       "\n",
       "    .dataframe tbody tr th {\n",
       "        vertical-align: top;\n",
       "    }\n",
       "\n",
       "    .dataframe thead th {\n",
       "        text-align: right;\n",
       "    }\n",
       "</style>\n",
       "<table border=\"1\" class=\"dataframe\">\n",
       "  <thead>\n",
       "    <tr style=\"text-align: right;\">\n",
       "      <th></th>\n",
       "      <th>batch size</th>\n",
       "      <th>vocab size</th>\n",
       "      <th>softmax + multinomial</th>\n",
       "      <th>Gumbel-max trick</th>\n",
       "    </tr>\n",
       "  </thead>\n",
       "  <tbody>\n",
       "    <tr>\n",
       "      <th>4</th>\n",
       "      <td>1</td>\n",
       "      <td>512</td>\n",
       "      <td>0.00020</td>\n",
       "      <td>0.00076</td>\n",
       "    </tr>\n",
       "    <tr>\n",
       "      <th>5</th>\n",
       "      <td>2</td>\n",
       "      <td>32</td>\n",
       "      <td>0.00014</td>\n",
       "      <td>0.00232</td>\n",
       "    </tr>\n",
       "    <tr>\n",
       "      <th>7</th>\n",
       "      <td>2</td>\n",
       "      <td>128</td>\n",
       "      <td>0.00018</td>\n",
       "      <td>0.00020</td>\n",
       "    </tr>\n",
       "    <tr>\n",
       "      <th>10</th>\n",
       "      <td>4</td>\n",
       "      <td>32</td>\n",
       "      <td>0.00014</td>\n",
       "      <td>0.00016</td>\n",
       "    </tr>\n",
       "    <tr>\n",
       "      <th>16</th>\n",
       "      <td>8</td>\n",
       "      <td>64</td>\n",
       "      <td>0.00022</td>\n",
       "      <td>0.00024</td>\n",
       "    </tr>\n",
       "  </tbody>\n",
       "</table>\n",
       "</div>"
      ],
      "text/plain": [
       "    batch size  vocab size  softmax + multinomial  Gumbel-max trick\n",
       "4            1         512                0.00020           0.00076\n",
       "5            2          32                0.00014           0.00232\n",
       "7            2         128                0.00018           0.00020\n",
       "10           4          32                0.00014           0.00016\n",
       "16           8          64                0.00022           0.00024"
      ]
     },
     "execution_count": 14,
     "metadata": {},
     "output_type": "execute_result"
    }
   ],
   "source": [
    "mask_faster = times_df['softmax + multinomial'] > times_df['Gumbel-max trick']\n",
    "print(f'The Gumbel-max trick is faster in {mask_faster.sum()} out of {len(times_df)} '\n",
    "      f'configurations (on {DEVICE.upper()}).')\n",
    "print(\"Here are the configurations where it's slower:\")\n",
    "times_df[~mask_faster]"
   ]
  },
  {
   "cell_type": "code",
   "execution_count": 15,
   "metadata": {},
   "outputs": [],
   "source": [
    "def barplot(batch_size: int=None, vocab_size: int=None):\n",
    "    if ((batch_size is None and vocab_size is None) or\n",
    "        (batch_size is not None and vocab_size is not None)):\n",
    "        raise ValueError('Either batch_size or vocab_size must be passed.')\n",
    "    val = batch_size or vocab_size\n",
    "    select, index = 'batch size', 'vocab size'\n",
    "    if vocab_size is not None:\n",
    "        select, index = 'vocab size', 'batch size'\n",
    "\n",
    "    (times_df.copy()\n",
    "     [times_df[select] == val]\n",
    "     .drop(columns=[select])\n",
    "     .set_index(index)\n",
    "     .plot.bar(ylabel='mean wall-clock time (sec)',\n",
    "               title=f'Sampling time ({select} = {val}, device = {DEVICE})'));"
   ]
  },
  {
   "cell_type": "code",
   "execution_count": 16,
   "metadata": {},
   "outputs": [
    {
     "data": {
      "image/png": "[encoded data removed]",
      "text/plain": [
       "<Figure size 640x480 with 1 Axes>"
      ]
     },
     "metadata": {},
     "output_type": "display_data"
    }
   ],
   "source": [
    "barplot(batch_size=1)"
   ]
  },
  {
   "cell_type": "code",
   "execution_count": 17,
   "metadata": {},
   "outputs": [
    {
     "data": {
      "image/png": "[encoded data removed]",
      "text/plain": [
       "<Figure size 640x480 with 1 Axes>"
      ]
     },
     "metadata": {},
     "output_type": "display_data"
    }
   ],
   "source": [
    "barplot(vocab_size=32)"
   ]
  }
 ],
 "metadata": {
  "kernelspec": {
   "display_name": "base",
   "language": "python",
   "name": "python3"
  },
  "language_info": {
   "codemirror_mode": {
    "name": "ipython",
    "version": 3
   },
   "file_extension": ".py",
   "mimetype": "text/x-python",
   "name": "python",
   "nbconvert_exporter": "python",
   "pygments_lexer": "ipython3",
   "version": "3.11.3"
  },
  "orig_nbformat": 4
 },
 "nbformat": 4,
 "nbformat_minor": 2
}
