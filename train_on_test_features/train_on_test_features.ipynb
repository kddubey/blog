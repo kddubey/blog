{
  "cells": [
    {
      "attachments": {},
      "cell_type": "markdown",
      "metadata": {},
      "source": [
        "**Description**: Tries to answer [my answer on\n",
        "stats.stackexchange.com](https://stats.stackexchange.com/q/611877/337906) by pretraining\n",
        "BERT on real classification datasets. This experiment suggests that training on test set\n",
        "features (no labels) is okay, which is weird and doesn't sound right. A simpler (CPU)\n",
        "experiment would be to fit PCA + classifier/regressor.\n",
        "\n",
        "**Estimated runtime**: 30 minutes on GPU. Eternity on CPU.\n",
        "\n",
        "**Package requirements**:\n",
        "```\n",
        "datasets==2.9.0\n",
        "matplotlib==3.4.3\n",
        "pandas==1.3.4\n",
        "torch==1.13.1\n",
        "tqdm==4.62.3\n",
        "transformers==4.26.1\n",
        "```"
      ]
    },
    {
      "cell_type": "code",
      "execution_count": null,
      "metadata": {
        "id": "VsEQMpnJAQOK"
      },
      "outputs": [],
      "source": [
        "from __future__ import annotations\n",
        "\n",
        "from datasets import load_dataset\n",
        "from IPython.display import clear_output\n",
        "import matplotlib.pyplot as plt\n",
        "import numpy as np\n",
        "import pandas as pd\n",
        "from sklearn.model_selection import train_test_split\n",
        "\n",
        "import torch\n",
        "from torch.utils.data import Dataset, TensorDataset\n",
        "from transformers import (BertTokenizer, BertForMaskedLM,\n",
        "                          BertForSequenceClassification,\n",
        "                          TextDataset, DataCollatorForLanguageModeling,\n",
        "                          Trainer, TrainingArguments)"
      ]
    },
    {
      "cell_type": "code",
      "execution_count": null,
      "metadata": {
        "id": "Fog91uCwFrmR"
      },
      "outputs": [],
      "source": [
        "assert torch.cuda.is_available(), 'This notebook needs to run on a GPU'"
      ]
    },
    {
      "cell_type": "markdown",
      "metadata": {
        "id": "3ssaw2GiULib"
      },
      "source": [
        "# Load dataset"
      ]
    },
    {
      "cell_type": "code",
      "execution_count": null,
      "metadata": {
        "id": "mGEUlUgDqnTl"
      },
      "outputs": [],
      "source": [
        "# DATASET_NAME = \"ag_news\"\n",
        "# DATASET_NAME = \"SetFit/amazon_counterfactual_en\"\n",
        "DATASET_NAME = \"SetFit/enron_spam\""
      ]
    },
    {
      "cell_type": "code",
      "execution_count": null,
      "metadata": {
        "colab": {
          "base_uri": "https://localhost:8080/"
        },
        "id": "ylF9BI0uAj8Y",
        "outputId": "d825273c-1529-4437-9358-995d61be10c6"
      },
      "outputs": [
        {
          "name": "stderr",
          "output_type": "stream",
          "text": [
            "WARNING:datasets.builder:Found cached dataset json (/root/.cache/huggingface/datasets/SetFit___json/SetFit--enron_spam-dfe3f29b8d121b65/0.0.0/fe5dd6ea2639a6df622901539cb550cf8797e5a6b2dd7af1cf934bed8e233e6e)\n"
          ]
        }
      ],
      "source": [
        "df = pd.DataFrame(load_dataset(DATASET_NAME, split='train'))"
      ]
    },
    {
      "cell_type": "code",
      "execution_count": null,
      "metadata": {
        "colab": {
          "base_uri": "https://localhost:8080/"
        },
        "id": "4QAk3rdDA1vs",
        "outputId": "558a0a53-42c0-4509-f6f9-4d08616c927f"
      },
      "outputs": [
        {
          "data": {
            "text/plain": [
              "31716"
            ]
          },
          "execution_count": 6,
          "metadata": {},
          "output_type": "execute_result"
        }
      ],
      "source": [
        "len(df)"
      ]
    },
    {
      "cell_type": "markdown",
      "metadata": {
        "id": "zTjTBx5ql06I"
      },
      "source": [
        "We'll only need 50 + 500 + 500 = 1.05k observations"
      ]
    },
    {
      "cell_type": "code",
      "execution_count": null,
      "metadata": {
        "colab": {
          "base_uri": "https://localhost:8080/",
          "height": 337
        },
        "id": "NLNov0SNBIhI",
        "outputId": "92224617-4667-4228-96dc-c7f17360cb02"
      },
      "outputs": [
        {
          "data": {
            "text/html": [
              "\n",
              "  <div id=\"df-fd435087-a6b2-40b5-9d04-65b7ff2e4fe8\">\n",
              "    <div class=\"colab-df-container\">\n",
              "      <div>\n",
              "<style scoped>\n",
              "    .dataframe tbody tr th:only-of-type {\n",
              "        vertical-align: middle;\n",
              "    }\n",
              "\n",
              "    .dataframe tbody tr th {\n",
              "        vertical-align: top;\n",
              "    }\n",
              "\n",
              "    .dataframe thead th {\n",
              "        text-align: right;\n",
              "    }\n",
              "</style>\n",
              "<table border=\"1\" class=\"dataframe\">\n",
              "  <thead>\n",
              "    <tr style=\"text-align: right;\">\n",
              "      <th></th>\n",
              "      <th>message_id</th>\n",
              "      <th>text</th>\n",
              "      <th>label</th>\n",
              "      <th>label_text</th>\n",
              "      <th>subject</th>\n",
              "      <th>message</th>\n",
              "      <th>date</th>\n",
              "    </tr>\n",
              "  </thead>\n",
              "  <tbody>\n",
              "    <tr>\n",
              "      <th>0</th>\n",
              "      <td>33214</td>\n",
              "      <td>any software just for 15 $ - 99 $ understandin...</td>\n",
              "      <td>1</td>\n",
              "      <td>spam</td>\n",
              "      <td>any software just for 15 $ - 99 $</td>\n",
              "      <td>understanding oem software\\nlead me not into t...</td>\n",
              "      <td>2005-06-18</td>\n",
              "    </tr>\n",
              "    <tr>\n",
              "      <th>1</th>\n",
              "      <td>11929</td>\n",
              "      <td>perspective on ferc regulatory action client c...</td>\n",
              "      <td>0</td>\n",
              "      <td>ham</td>\n",
              "      <td>perspective on ferc regulatory action client c...</td>\n",
              "      <td>19 th , 2 : 00 pm edt\\nperspective on ferc reg...</td>\n",
              "      <td>2001-06-19</td>\n",
              "    </tr>\n",
              "    <tr>\n",
              "      <th>2</th>\n",
              "      <td>19784</td>\n",
              "      <td>wanted to try ci 4 lis but thought it was way ...</td>\n",
              "      <td>1</td>\n",
              "      <td>spam</td>\n",
              "      <td>wanted to try ci 4 lis but thought it was way ...</td>\n",
              "      <td>viagra at $ 1 . 12 per dose\\nready to boost yo...</td>\n",
              "      <td>2004-09-11</td>\n",
              "    </tr>\n",
              "    <tr>\n",
              "      <th>3</th>\n",
              "      <td>2209</td>\n",
              "      <td>enron / hpl actuals for december 11 , 2000 tec...</td>\n",
              "      <td>0</td>\n",
              "      <td>ham</td>\n",
              "      <td>enron / hpl actuals for december 11 , 2000</td>\n",
              "      <td>teco tap 30 . 000 / enron ; 120 . 000 / hpl ga...</td>\n",
              "      <td>2000-12-12</td>\n",
              "    </tr>\n",
              "    <tr>\n",
              "      <th>4</th>\n",
              "      <td>15880</td>\n",
              "      <td>looking for cheap high - quality software ? ro...</td>\n",
              "      <td>1</td>\n",
              "      <td>spam</td>\n",
              "      <td>looking for cheap high - quality software ? ro...</td>\n",
              "      <td>water past also , burn , course . gave country...</td>\n",
              "      <td>2005-02-13</td>\n",
              "    </tr>\n",
              "  </tbody>\n",
              "</table>\n",
              "</div>\n",
              "      <button class=\"colab-df-convert\" onclick=\"convertToInteractive('df-fd435087-a6b2-40b5-9d04-65b7ff2e4fe8')\"\n",
              "              title=\"Convert this dataframe to an interactive table.\"\n",
              "              style=\"display:none;\">\n",
              "        \n",
              "  <svg xmlns=\"http://www.w3.org/2000/svg\" height=\"24px\"viewBox=\"0 0 24 24\"\n",
              "       width=\"24px\">\n",
              "    <path d=\"M0 0h24v24H0V0z\" fill=\"none\"/>\n",
              "    <path d=\"M18.56 5.44l.94 2.06.94-2.06 2.06-.94-2.06-.94-.94-2.06-.94 2.06-2.06.94zm-11 1L8.5 8.5l.94-2.06 2.06-.94-2.06-.94L8.5 2.5l-.94 2.06-2.06.94zm10 10l.94 2.06.94-2.06 2.06-.94-2.06-.94-.94-2.06-.94 2.06-2.06.94z\"/><path d=\"M17.41 7.96l-1.37-1.37c-.4-.4-.92-.59-1.43-.59-.52 0-1.04.2-1.43.59L10.3 9.45l-7.72 7.72c-.78.78-.78 2.05 0 2.83L4 21.41c.39.39.9.59 1.41.59.51 0 1.02-.2 1.41-.59l7.78-7.78 2.81-2.81c.8-.78.8-2.07 0-2.86zM5.41 20L4 18.59l7.72-7.72 1.47 1.35L5.41 20z\"/>\n",
              "  </svg>\n",
              "      </button>\n",
              "      \n",
              "  <style>\n",
              "    .colab-df-container {\n",
              "      display:flex;\n",
              "      flex-wrap:wrap;\n",
              "      gap: 12px;\n",
              "    }\n",
              "\n",
              "    .colab-df-convert {\n",
              "      background-color: #E8F0FE;\n",
              "      border: none;\n",
              "      border-radius: 50%;\n",
              "      cursor: pointer;\n",
              "      display: none;\n",
              "      fill: #1967D2;\n",
              "      height: 32px;\n",
              "      padding: 0 0 0 0;\n",
              "      width: 32px;\n",
              "    }\n",
              "\n",
              "    .colab-df-convert:hover {\n",
              "      background-color: #E2EBFA;\n",
              "      box-shadow: 0px 1px 2px rgba(60, 64, 67, 0.3), 0px 1px 3px 1px rgba(60, 64, 67, 0.15);\n",
              "      fill: #174EA6;\n",
              "    }\n",
              "\n",
              "    [theme=dark] .colab-df-convert {\n",
              "      background-color: #3B4455;\n",
              "      fill: #D2E3FC;\n",
              "    }\n",
              "\n",
              "    [theme=dark] .colab-df-convert:hover {\n",
              "      background-color: #434B5C;\n",
              "      box-shadow: 0px 1px 3px 1px rgba(0, 0, 0, 0.15);\n",
              "      filter: drop-shadow(0px 1px 2px rgba(0, 0, 0, 0.3));\n",
              "      fill: #FFFFFF;\n",
              "    }\n",
              "  </style>\n",
              "\n",
              "      <script>\n",
              "        const buttonEl =\n",
              "          document.querySelector('#df-fd435087-a6b2-40b5-9d04-65b7ff2e4fe8 button.colab-df-convert');\n",
              "        buttonEl.style.display =\n",
              "          google.colab.kernel.accessAllowed ? 'block' : 'none';\n",
              "\n",
              "        async function convertToInteractive(key) {\n",
              "          const element = document.querySelector('#df-fd435087-a6b2-40b5-9d04-65b7ff2e4fe8');\n",
              "          const dataTable =\n",
              "            await google.colab.kernel.invokeFunction('convertToInteractive',\n",
              "                                                     [key], {});\n",
              "          if (!dataTable) return;\n",
              "\n",
              "          const docLinkHtml = 'Like what you see? Visit the ' +\n",
              "            '<a target=\"_blank\" href=https://colab.research.google.com/notebooks/data_table.ipynb>data table notebook</a>'\n",
              "            + ' to learn more about interactive tables.';\n",
              "          element.innerHTML = '';\n",
              "          dataTable['output_type'] = 'display_data';\n",
              "          await google.colab.output.renderOutput(dataTable, element);\n",
              "          const docLink = document.createElement('div');\n",
              "          docLink.innerHTML = docLinkHtml;\n",
              "          element.appendChild(docLink);\n",
              "        }\n",
              "      </script>\n",
              "    </div>\n",
              "  </div>\n",
              "  "
            ],
            "text/plain": [
              "   message_id                                               text  label  \\\n",
              "0       33214  any software just for 15 $ - 99 $ understandin...      1   \n",
              "1       11929  perspective on ferc regulatory action client c...      0   \n",
              "2       19784  wanted to try ci 4 lis but thought it was way ...      1   \n",
              "3        2209  enron / hpl actuals for december 11 , 2000 tec...      0   \n",
              "4       15880  looking for cheap high - quality software ? ro...      1   \n",
              "\n",
              "  label_text                                            subject  \\\n",
              "0       spam                  any software just for 15 $ - 99 $   \n",
              "1        ham  perspective on ferc regulatory action client c...   \n",
              "2       spam  wanted to try ci 4 lis but thought it was way ...   \n",
              "3        ham         enron / hpl actuals for december 11 , 2000   \n",
              "4       spam  looking for cheap high - quality software ? ro...   \n",
              "\n",
              "                                             message       date  \n",
              "0  understanding oem software\\nlead me not into t... 2005-06-18  \n",
              "1  19 th , 2 : 00 pm edt\\nperspective on ferc reg... 2001-06-19  \n",
              "2  viagra at $ 1 . 12 per dose\\nready to boost yo... 2004-09-11  \n",
              "3  teco tap 30 . 000 / enron ; 120 . 000 / hpl ga... 2000-12-12  \n",
              "4  water past also , burn , course . gave country... 2005-02-13  "
            ]
          },
          "execution_count": 7,
          "metadata": {},
          "output_type": "execute_result"
        }
      ],
      "source": [
        "df.head()"
      ]
    },
    {
      "cell_type": "markdown",
      "metadata": {
        "id": "l_8qU5gYhywL"
      },
      "source": [
        "Ensure your dataframe passes these checks"
      ]
    },
    {
      "cell_type": "code",
      "execution_count": null,
      "metadata": {
        "id": "dO4XIN07gH-O"
      },
      "outputs": [],
      "source": [
        "assert len(set(df.index)) == len(df)"
      ]
    },
    {
      "cell_type": "code",
      "execution_count": null,
      "metadata": {
        "id": "BqEee7PHhaBj"
      },
      "outputs": [],
      "source": [
        "assert 'text' in df.columns\n",
        "assert 'label' in df.columns\n",
        "# please assign a new column if the test fails"
      ]
    },
    {
      "cell_type": "code",
      "execution_count": null,
      "metadata": {
        "id": "lWa3ll_WhhId"
      },
      "outputs": [],
      "source": [
        "df['text'] = df['text'].astype(str)\n",
        "df['label'] = df['label'].astype(int)"
      ]
    },
    {
      "cell_type": "code",
      "execution_count": null,
      "metadata": {
        "colab": {
          "base_uri": "https://localhost:8080/"
        },
        "id": "JrpIf8TfuUJe",
        "outputId": "aec00f98-7144-4973-eddb-1c24f552b6d4"
      },
      "outputs": [
        {
          "data": {
            "text/plain": [
              "1    0.509617\n",
              "0    0.490383\n",
              "Name: label, dtype: float64"
            ]
          },
          "execution_count": 11,
          "metadata": {},
          "output_type": "execute_result"
        }
      ],
      "source": [
        "df['label'].value_counts(normalize=True)"
      ]
    },
    {
      "cell_type": "markdown",
      "metadata": {
        "id": "CLtATGskrOzH"
      },
      "source": [
        "# Download model"
      ]
    },
    {
      "cell_type": "code",
      "execution_count": null,
      "metadata": {
        "colab": {
          "base_uri": "https://localhost:8080/"
        },
        "id": "XKu1mBnhElEZ",
        "outputId": "e1156999-a377-4ff4-9b2a-8e7b7471d42f"
      },
      "outputs": [
        {
          "name": "stderr",
          "output_type": "stream",
          "text": [
            "Some weights of the model checkpoint at bert-base-uncased were not used when initializing BertForMaskedLM: ['cls.seq_relationship.bias', 'cls.seq_relationship.weight']\n",
            "- This IS expected if you are initializing BertForMaskedLM from the checkpoint of a model trained on another task or with another architecture (e.g. initializing a BertForSequenceClassification model from a BertForPreTraining model).\n",
            "- This IS NOT expected if you are initializing BertForMaskedLM from the checkpoint of a model that you expect to be exactly identical (initializing a BertForSequenceClassification model from a BertForSequenceClassification model).\n"
          ]
        }
      ],
      "source": [
        "_ = BertForMaskedLM.from_pretrained('bert-base-uncased')\n",
        "# just downloading it to your comp if it hasn't already been downloaded\n",
        "\n",
        "tokenizer = BertTokenizer.from_pretrained('bert-base-uncased')"
      ]
    },
    {
      "cell_type": "markdown",
      "metadata": {
        "id": "qkM46zTNU_NQ"
      },
      "source": [
        "# MLM"
      ]
    },
    {
      "cell_type": "code",
      "execution_count": null,
      "metadata": {
        "id": "PWswag-0VFdT"
      },
      "outputs": [],
      "source": [
        "class TokenizedSentencesDataset(Dataset):\n",
        "    '''\n",
        "    taken from https://github.com/UKPLab/sentence-transformers/blob/master/examples/unsupervised_learning/MLM/train_mlm.py\n",
        "    '''\n",
        "    def __init__(self, sentences, tokenizer, max_length,\n",
        "                 cache_tokenization=False):\n",
        "        self.tokenizer = tokenizer\n",
        "        self.sentences = sentences\n",
        "        self.max_length = max_length\n",
        "        self.cache_tokenization = cache_tokenization\n",
        "\n",
        "    def __getitem__(self, item):\n",
        "        if not self.cache_tokenization:\n",
        "            return self.tokenizer(self.sentences[item],\n",
        "                                  add_special_tokens=True,\n",
        "                                  truncation=True, max_length=self.max_length,\n",
        "                                  return_special_tokens_mask=True)\n",
        "\n",
        "        if isinstance(self.sentences[item], str):\n",
        "            self.sentences[item] = self.tokenizer(self.sentences[item],\n",
        "                                                  add_special_tokens=True,\n",
        "                                                  truncation=True,\n",
        "                                                  max_length=self.max_length,\n",
        "                                                  return_special_tokens_mask=True)\n",
        "        return self.sentences[item]\n",
        "\n",
        "    def __len__(self):\n",
        "        return len(self.sentences)"
      ]
    },
    {
      "cell_type": "code",
      "execution_count": null,
      "metadata": {
        "id": "71S-j6aFVRdN"
      },
      "outputs": [],
      "source": [
        "def bert_pretrain(texts: list[str], output_dir: str ='./pretrained_bert'):\n",
        "    '''\n",
        "    Saves a BERT model which was pretrained on `texts` to `output_dir` using\n",
        "    masked language modeling loss.\n",
        "\n",
        "    It can be loaded for other tasks using, for example::\n",
        "\n",
        "        from transformers import BertForSequenceClassification\n",
        "        model = BertForSequenceClassification.from_pretrained(output_dir)\n",
        "    '''\n",
        "    # Set up data\n",
        "    train_dataset = TokenizedSentencesDataset(texts, tokenizer, max_length=100)\n",
        "    data_collator = DataCollatorForLanguageModeling(tokenizer=tokenizer,\n",
        "                                                    mlm=True,\n",
        "                                                    mlm_probability=0.15)\n",
        "\n",
        "    # Set up Trainer\n",
        "    training_args = TrainingArguments(\n",
        "        output_dir=output_dir,\n",
        "        overwrite_output_dir=True,\n",
        "        num_train_epochs=3,\n",
        "        per_device_train_batch_size=32,\n",
        "        save_strategy='no',\n",
        "        optim=\"adamw_torch\",\n",
        "        prediction_loss_only=True,\n",
        "    )\n",
        "\n",
        "    # Trainer will modify this model, so need to re-load a fresh one every time\n",
        "    # this function is called\n",
        "    trainer = Trainer(\n",
        "        model=BertForMaskedLM.from_pretrained('bert-base-uncased').to('cuda'),\n",
        "        args=training_args,\n",
        "        data_collator=data_collator,\n",
        "        train_dataset=train_dataset,\n",
        "    )\n",
        "\n",
        "    trainer.train()\n",
        "    trainer.save_model()"
      ]
    },
    {
      "cell_type": "markdown",
      "metadata": {
        "id": "4dp0d1EDYH5q"
      },
      "source": [
        "# Classification"
      ]
    },
    {
      "cell_type": "code",
      "execution_count": null,
      "metadata": {
        "id": "wzKGIHNvYK33"
      },
      "outputs": [],
      "source": [
        "class TextClassificationDataset(torch.utils.data.Dataset):\n",
        "    '''\n",
        "    taken from https://huggingface.co/transformers/v3.2.0/custom_datasets.html#sequence-classification-with-imdb-reviews\n",
        "    '''\n",
        "    def __init__(self, encodings, labels):\n",
        "        self.encodings = encodings\n",
        "        self.labels = labels\n",
        "\n",
        "    def __getitem__(self, idx):\n",
        "        item = {key: val[idx] for key, val in self.encodings.items()}\n",
        "        item['labels'] = self.labels[idx]\n",
        "        return item\n",
        "\n",
        "    def __len__(self):\n",
        "        return len(self.labels)"
      ]
    },
    {
      "cell_type": "code",
      "execution_count": null,
      "metadata": {
        "id": "hmDsi31oZxEJ"
      },
      "outputs": [],
      "source": [
        "def _classification_dataset(texts: list[str], labels: list[int]) -> TextClassificationDataset:\n",
        "    encodings = tokenizer(texts, return_tensors='pt', truncation=True,\n",
        "                          padding=True)\n",
        "    labels = torch.tensor(labels)\n",
        "    return TextClassificationDataset(encodings, labels)"
      ]
    },
    {
      "cell_type": "code",
      "execution_count": null,
      "metadata": {
        "id": "kQqXR4BTYMuY"
      },
      "outputs": [],
      "source": [
        "def bert_finetune_classification(texts: list[str],\n",
        "                                 labels: list[int],\n",
        "                                 num_labels: int,\n",
        "                                 pretrained_model_name_or_path: str = './pretrained_bert') -> Trainer:\n",
        "    '''\n",
        "    Returns a BERT model `Trainer` which was finetuned on classification data\n",
        "    `texts, labels`. \n",
        "    '''\n",
        "    train_dataset = _classification_dataset(texts, labels)\n",
        "    classifier_args = TrainingArguments(\n",
        "        output_dir='./results',\n",
        "        num_train_epochs=3,\n",
        "        per_device_train_batch_size=16,\n",
        "        per_device_eval_batch_size=64,\n",
        "        weight_decay=0.01,\n",
        "        optim=\"adamw_torch\",\n",
        "    )\n",
        "    classifier_trainer = Trainer(\n",
        "        model=(BertForSequenceClassification\n",
        "               .from_pretrained(pretrained_model_name_or_path,\n",
        "                                num_labels=num_labels)\n",
        "               .to('cuda')),\n",
        "        args=classifier_args,\n",
        "        train_dataset=train_dataset,\n",
        "    )\n",
        "    classifier_trainer.train()\n",
        "    return classifier_trainer"
      ]
    },
    {
      "cell_type": "code",
      "execution_count": null,
      "metadata": {
        "id": "3dTHMo8vZQDg"
      },
      "outputs": [],
      "source": [
        "def classifier_accuracy(texts: list[str],\n",
        "                        labels: list[int],\n",
        "                        trained_classifier: Trainer) -> float:\n",
        "    '''\n",
        "    Returns the accuracy of `trained_classifier` on `texts` by comparing its\n",
        "    predictions to `labels`.\n",
        "    '''\n",
        "    eval_dataset = _classification_dataset(texts, labels)\n",
        "    pred_out = trained_classifier.predict(eval_dataset)\n",
        "    preds = pred_out.predictions.argmax(axis=1)\n",
        "    return (preds == labels).mean()"
      ]
    },
    {
      "cell_type": "markdown",
      "metadata": {
        "id": "hzylZ8pqa-B3"
      },
      "source": [
        "# Experiment"
      ]
    },
    {
      "cell_type": "code",
      "execution_count": null,
      "metadata": {
        "id": "IFZop_AubAlt"
      },
      "outputs": [],
      "source": [
        "def _stratified_sample(df: pd.DataFrame, sample_size: int,\n",
        "                       random_state: int=None) -> pd.DataFrame:\n",
        "    # let's not worry about not exactly returning a df w/ size sample_size for\n",
        "    # now. it's nbd for this experiment\n",
        "    num_labels = len(set(df['label']))\n",
        "    num_obs_per_label = int(sample_size / num_labels)\n",
        "\n",
        "    def label_sampler(df_label: pd.DataFrame) -> pd.DataFrame:\n",
        "        return df_label.sample(num_obs_per_label, random_state=random_state)\n",
        "\n",
        "    return df.groupby('label', group_keys=False).apply(label_sampler)\n",
        "\n",
        "\n",
        "def _split(df: pd.DataFrame, num_train: int=50, num_test: int=2000,\n",
        "           random_state: int=None, stratified_train: bool=True\n",
        "           ) -> tuple[pd.DataFrame, pd.DataFrame, pd.DataFrame]:\n",
        "    '''\n",
        "    Returns 3 (non-overlapping) dataframes which are randomly subsampled from\n",
        "    `df`. The first has `num_train` rows, and the last two have `num_test` rows\n",
        "    each.\n",
        "    '''\n",
        "    if stratified_train:\n",
        "        df_train = _stratified_sample(df, num_train, random_state=random_state)\n",
        "    else:\n",
        "        df_train = df.sample(num_train, random_state=random_state)\n",
        "\n",
        "    random_state = None if random_state is None else random_state+1\n",
        "    df_extra, df_test = train_test_split(df.drop(df_train.index),\n",
        "                                         train_size=num_test,\n",
        "                                         test_size=num_test,\n",
        "                                         random_state=random_state)\n",
        "    return df_train, df_extra, df_test"
      ]
    },
    {
      "cell_type": "code",
      "execution_count": null,
      "metadata": {
        "id": "7qq6T4ZZdKti"
      },
      "outputs": [],
      "source": [
        "def experiment_loop(df: pd.DataFrame, num_train: int=50, num_test: int=500,\n",
        "                    stratified_train: bool=True, random_state: int=None):\n",
        "    num_labels = len(set(df['label']))\n",
        "    df_train, df_extra, df_test = _split(df, num_train=num_train,\n",
        "                                         num_test=num_test,\n",
        "                                         stratified_train=stratified_train,\n",
        "                                         random_state=random_state)\n",
        "\n",
        "    print('Pretraining on extra')\n",
        "    bert_pretrain(df_extra['text'].tolist())  # overwrites ./pretrained_bert/\n",
        "    print('Training bert-base-uncased on train')\n",
        "    trained_classifier = bert_finetune_classification(df_train['text'].tolist(),\n",
        "                                                      df_train['label'].tolist(),\n",
        "                                                      num_labels=num_labels)\n",
        "    print('Testing on test')\n",
        "    extra_accuracy = classifier_accuracy(df_test['text'].tolist(),\n",
        "                                         df_test['label'].tolist(),\n",
        "                                         trained_classifier)\n",
        "\n",
        "    print('Pretraining on test')\n",
        "    bert_pretrain(df_test['text'].tolist())  # overwrites ./pretrained_bert/\n",
        "    print('Training on train')\n",
        "    trained_classifier = bert_finetune_classification(df_train['text'].tolist(),\n",
        "                                                      df_train['label'].tolist(),\n",
        "                                                      num_labels=num_labels)\n",
        "    print('Testing on test')\n",
        "    test_accuracy = classifier_accuracy(df_test['text'].tolist(),\n",
        "                                        df_test['label'].tolist(),\n",
        "                                        trained_classifier)\n",
        "\n",
        "    return extra_accuracy, test_accuracy  # paired data"
      ]
    },
    {
      "cell_type": "code",
      "execution_count": null,
      "metadata": {
        "colab": {
          "base_uri": "https://localhost:8080/",
          "height": 686
        },
        "id": "m3v-0lnnoUNz",
        "outputId": "7ca133a1-7665-451d-ed31-18fb611420fa"
      },
      "outputs": [
        {
          "name": "stdout",
          "output_type": "stream",
          "text": [
            "Running trial 20\n",
            "\n",
            "Pretraining on extra\n"
          ]
        },
        {
          "name": "stderr",
          "output_type": "stream",
          "text": [
            "Some weights of the model checkpoint at bert-base-uncased were not used when initializing BertForMaskedLM: ['cls.seq_relationship.bias', 'cls.seq_relationship.weight']\n",
            "- This IS expected if you are initializing BertForMaskedLM from the checkpoint of a model trained on another task or with another architecture (e.g. initializing a BertForSequenceClassification model from a BertForPreTraining model).\n",
            "- This IS NOT expected if you are initializing BertForMaskedLM from the checkpoint of a model that you expect to be exactly identical (initializing a BertForSequenceClassification model from a BertForSequenceClassification model).\n"
          ]
        },
        {
          "data": {
            "text/html": [
              "\n",
              "    <div>\n",
              "      \n",
              "      <progress value='48' max='48' style='width:300px; height:20px; vertical-align: middle;'></progress>\n",
              "      [48/48 00:36, Epoch 3/3]\n",
              "    </div>\n",
              "    <table border=\"1\" class=\"dataframe\">\n",
              "  <thead>\n",
              " <tr style=\"text-align: left;\">\n",
              "      <th>Step</th>\n",
              "      <th>Training Loss</th>\n",
              "    </tr>\n",
              "  </thead>\n",
              "  <tbody>\n",
              "  </tbody>\n",
              "</table><p>"
            ],
            "text/plain": [
              "<IPython.core.display.HTML object>"
            ]
          },
          "metadata": {},
          "output_type": "display_data"
        },
        {
          "name": "stdout",
          "output_type": "stream",
          "text": [
            "Training bert-base-uncased on train\n"
          ]
        },
        {
          "name": "stderr",
          "output_type": "stream",
          "text": [
            "Some weights of the model checkpoint at ./pretrained_bert were not used when initializing BertForSequenceClassification: ['cls.predictions.bias', 'cls.predictions.decoder.weight', 'cls.predictions.transform.dense.bias', 'cls.predictions.decoder.bias', 'cls.predictions.transform.LayerNorm.bias', 'cls.predictions.transform.dense.weight', 'cls.predictions.transform.LayerNorm.weight']\n",
            "- This IS expected if you are initializing BertForSequenceClassification from the checkpoint of a model trained on another task or with another architecture (e.g. initializing a BertForSequenceClassification model from a BertForPreTraining model).\n",
            "- This IS NOT expected if you are initializing BertForSequenceClassification from the checkpoint of a model that you expect to be exactly identical (initializing a BertForSequenceClassification model from a BertForSequenceClassification model).\n",
            "Some weights of BertForSequenceClassification were not initialized from the model checkpoint at ./pretrained_bert and are newly initialized: ['classifier.bias', 'bert.pooler.dense.weight', 'bert.pooler.dense.bias', 'classifier.weight']\n",
            "You should probably TRAIN this model on a down-stream task to be able to use it for predictions and inference.\n"
          ]
        },
        {
          "data": {
            "text/html": [
              "\n",
              "    <div>\n",
              "      \n",
              "      <progress value='12' max='12' style='width:300px; height:20px; vertical-align: middle;'></progress>\n",
              "      [12/12 00:12, Epoch 3/3]\n",
              "    </div>\n",
              "    <table border=\"1\" class=\"dataframe\">\n",
              "  <thead>\n",
              " <tr style=\"text-align: left;\">\n",
              "      <th>Step</th>\n",
              "      <th>Training Loss</th>\n",
              "    </tr>\n",
              "  </thead>\n",
              "  <tbody>\n",
              "  </tbody>\n",
              "</table><p>"
            ],
            "text/plain": [
              "<IPython.core.display.HTML object>"
            ]
          },
          "metadata": {},
          "output_type": "display_data"
        },
        {
          "name": "stdout",
          "output_type": "stream",
          "text": [
            "Testing on test\n"
          ]
        },
        {
          "data": {
            "text/html": [],
            "text/plain": [
              "<IPython.core.display.HTML object>"
            ]
          },
          "metadata": {},
          "output_type": "display_data"
        },
        {
          "name": "stdout",
          "output_type": "stream",
          "text": [
            "Pretraining on test\n"
          ]
        },
        {
          "name": "stderr",
          "output_type": "stream",
          "text": [
            "Some weights of the model checkpoint at bert-base-uncased were not used when initializing BertForMaskedLM: ['cls.seq_relationship.bias', 'cls.seq_relationship.weight']\n",
            "- This IS expected if you are initializing BertForMaskedLM from the checkpoint of a model trained on another task or with another architecture (e.g. initializing a BertForSequenceClassification model from a BertForPreTraining model).\n",
            "- This IS NOT expected if you are initializing BertForMaskedLM from the checkpoint of a model that you expect to be exactly identical (initializing a BertForSequenceClassification model from a BertForSequenceClassification model).\n"
          ]
        },
        {
          "data": {
            "text/html": [
              "\n",
              "    <div>\n",
              "      \n",
              "      <progress value='48' max='48' style='width:300px; height:20px; vertical-align: middle;'></progress>\n",
              "      [48/48 00:35, Epoch 3/3]\n",
              "    </div>\n",
              "    <table border=\"1\" class=\"dataframe\">\n",
              "  <thead>\n",
              " <tr style=\"text-align: left;\">\n",
              "      <th>Step</th>\n",
              "      <th>Training Loss</th>\n",
              "    </tr>\n",
              "  </thead>\n",
              "  <tbody>\n",
              "  </tbody>\n",
              "</table><p>"
            ],
            "text/plain": [
              "<IPython.core.display.HTML object>"
            ]
          },
          "metadata": {},
          "output_type": "display_data"
        },
        {
          "name": "stdout",
          "output_type": "stream",
          "text": [
            "Training on train\n"
          ]
        },
        {
          "name": "stderr",
          "output_type": "stream",
          "text": [
            "Some weights of the model checkpoint at ./pretrained_bert were not used when initializing BertForSequenceClassification: ['cls.predictions.bias', 'cls.predictions.decoder.weight', 'cls.predictions.transform.dense.bias', 'cls.predictions.decoder.bias', 'cls.predictions.transform.LayerNorm.bias', 'cls.predictions.transform.dense.weight', 'cls.predictions.transform.LayerNorm.weight']\n",
            "- This IS expected if you are initializing BertForSequenceClassification from the checkpoint of a model trained on another task or with another architecture (e.g. initializing a BertForSequenceClassification model from a BertForPreTraining model).\n",
            "- This IS NOT expected if you are initializing BertForSequenceClassification from the checkpoint of a model that you expect to be exactly identical (initializing a BertForSequenceClassification model from a BertForSequenceClassification model).\n",
            "Some weights of BertForSequenceClassification were not initialized from the model checkpoint at ./pretrained_bert and are newly initialized: ['classifier.bias', 'bert.pooler.dense.weight', 'bert.pooler.dense.bias', 'classifier.weight']\n",
            "You should probably TRAIN this model on a down-stream task to be able to use it for predictions and inference.\n"
          ]
        },
        {
          "data": {
            "text/html": [
              "\n",
              "    <div>\n",
              "      \n",
              "      <progress value='12' max='12' style='width:300px; height:20px; vertical-align: middle;'></progress>\n",
              "      [12/12 00:12, Epoch 3/3]\n",
              "    </div>\n",
              "    <table border=\"1\" class=\"dataframe\">\n",
              "  <thead>\n",
              " <tr style=\"text-align: left;\">\n",
              "      <th>Step</th>\n",
              "      <th>Training Loss</th>\n",
              "    </tr>\n",
              "  </thead>\n",
              "  <tbody>\n",
              "  </tbody>\n",
              "</table><p>"
            ],
            "text/plain": [
              "<IPython.core.display.HTML object>"
            ]
          },
          "metadata": {},
          "output_type": "display_data"
        },
        {
          "name": "stdout",
          "output_type": "stream",
          "text": [
            "Testing on test\n"
          ]
        },
        {
          "data": {
            "text/html": [],
            "text/plain": [
              "<IPython.core.display.HTML object>"
            ]
          },
          "metadata": {},
          "output_type": "display_data"
        }
      ],
      "source": [
        "num_trials = 20\n",
        "extra_accuracies = []\n",
        "test_accuracies = []\n",
        "\n",
        "for i in range(num_trials):\n",
        "    clear_output(wait=True)\n",
        "    print(f'Running trial {i+1}\\n')\n",
        "    extra_accuracy, test_accuracy = experiment_loop(df, random_state=42+i)\n",
        "    extra_accuracies.append(extra_accuracy)\n",
        "    test_accuracies.append(test_accuracy)"
      ]
    },
    {
      "cell_type": "code",
      "execution_count": null,
      "metadata": {
        "colab": {
          "base_uri": "https://localhost:8080/"
        },
        "id": "dZz9de5ouvzB",
        "outputId": "0063745e-5e35-4129-85f8-19ec410b211a"
      },
      "outputs": [
        {
          "data": {
            "text/plain": [
              "[0.85,\n",
              " 0.644,\n",
              " 0.76,\n",
              " 0.662,\n",
              " 0.582,\n",
              " 0.69,\n",
              " 0.762,\n",
              " 0.78,\n",
              " 0.778,\n",
              " 0.572,\n",
              " 0.556,\n",
              " 0.726,\n",
              " 0.73,\n",
              " 0.646,\n",
              " 0.728,\n",
              " 0.724,\n",
              " 0.81,\n",
              " 0.84,\n",
              " 0.768,\n",
              " 0.794]"
            ]
          },
          "execution_count": 22,
          "metadata": {},
          "output_type": "execute_result"
        }
      ],
      "source": [
        "extra_accuracies"
      ]
    },
    {
      "cell_type": "code",
      "execution_count": null,
      "metadata": {
        "colab": {
          "base_uri": "https://localhost:8080/"
        },
        "id": "6lkrOoAiuw1O",
        "outputId": "296eec0e-428a-4d81-f06a-ffd715e07aa0"
      },
      "outputs": [
        {
          "data": {
            "text/plain": [
              "[0.834,\n",
              " 0.676,\n",
              " 0.642,\n",
              " 0.676,\n",
              " 0.536,\n",
              " 0.598,\n",
              " 0.808,\n",
              " 0.688,\n",
              " 0.828,\n",
              " 0.7,\n",
              " 0.564,\n",
              " 0.704,\n",
              " 0.732,\n",
              " 0.64,\n",
              " 0.76,\n",
              " 0.616,\n",
              " 0.812,\n",
              " 0.82,\n",
              " 0.734,\n",
              " 0.852]"
            ]
          },
          "execution_count": 23,
          "metadata": {},
          "output_type": "execute_result"
        }
      ],
      "source": [
        "test_accuracies"
      ]
    },
    {
      "cell_type": "code",
      "execution_count": null,
      "metadata": {
        "id": "_tD5QxkAqjWV"
      },
      "outputs": [],
      "source": [
        "extra_accuracies = np.array(extra_accuracies)\n",
        "test_accuracies = np.array(test_accuracies)"
      ]
    },
    {
      "cell_type": "code",
      "execution_count": null,
      "metadata": {
        "id": "mca0Xzg9rOh2"
      },
      "outputs": [],
      "source": [
        "dataset = DATASET_NAME.split('/')[-1]"
      ]
    },
    {
      "cell_type": "code",
      "execution_count": null,
      "metadata": {
        "colab": {
          "base_uri": "https://localhost:8080/",
          "height": 471
        },
        "id": "2cSHGXabwhSv",
        "outputId": "ac289c7c-0bdb-4a35-e496-05ec9872dbce"
      },
      "outputs": [
        {
          "data": {
            "image/png": "[encoded data removed]",
            "text/plain": [
              "<Figure size 640x480 with 1 Axes>"
            ]
          },
          "metadata": {},
          "output_type": "display_data"
        }
      ],
      "source": [
        "plt.hist(extra_accuracies, label='extra', color='blue',   alpha=0.5)\n",
        "plt.hist(test_accuracies,  label='test',  color='orange', alpha=0.5)\n",
        "plt.xlabel('accuracy')\n",
        "plt.ylabel('# trials')\n",
        "plt.title(f'Dataset: {dataset}')\n",
        "plt.legend();"
      ]
    },
    {
      "cell_type": "code",
      "execution_count": null,
      "metadata": {
        "colab": {
          "base_uri": "https://localhost:8080/",
          "height": 471
        },
        "id": "_7_Uc0sstMvN",
        "outputId": "8162b186-95b6-412e-88b8-70962e9eb3e8"
      },
      "outputs": [
        {
          "data": {
            "image/png": "[encoded data removed]",
            "text/plain": [
              "<Figure size 640x480 with 1 Axes>"
            ]
          },
          "metadata": {},
          "output_type": "display_data"
        }
      ],
      "source": [
        "plt.hist(test_accuracies - extra_accuracies)\n",
        "plt.xlabel('test - extra accuracy')\n",
        "plt.ylabel('# trials')\n",
        "plt.title(f'Dataset: {dataset}');"
      ]
    },
    {
      "cell_type": "code",
      "execution_count": null,
      "metadata": {
        "colab": {
          "base_uri": "https://localhost:8080/"
        },
        "id": "88RZeTe9PLx-",
        "outputId": "4accd6be-1f98-4556-e637-306fa9df0e87"
      },
      "outputs": [
        {
          "data": {
            "text/plain": [
              "-0.009100000000000007"
            ]
          },
          "execution_count": 28,
          "metadata": {},
          "output_type": "execute_result"
        }
      ],
      "source": [
        "(test_accuracies - extra_accuracies).mean()"
      ]
    }
  ],
  "metadata": {
    "accelerator": "GPU",
    "colab": {
      "gpuType": "T4",
      "provenance": [],
      "toc_visible": true
    },
    "gpuClass": "standard",
    "kernelspec": {
      "display_name": "Python 3",
      "name": "python3"
    },
    "language_info": {
      "name": "python",
      "version": "3.9.7"
    }
  },
  "nbformat": 4,
  "nbformat_minor": 0
}
