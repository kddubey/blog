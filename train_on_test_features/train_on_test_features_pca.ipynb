{
 "cells": [
  {
   "cell_type": "code",
   "execution_count": 1,
   "metadata": {},
   "outputs": [],
   "source": [
    "from __future__ import annotations\n",
    "\n",
    "import matplotlib.pyplot as plt\n",
    "import numpy as np\n",
    "from tqdm.auto import tqdm\n",
    "\n",
    "from sklearn.datasets import make_regression\n",
    "from sklearn.decomposition import PCA\n",
    "from sklearn.linear_model import LinearRegression\n",
    "from sklearn.model_selection import train_test_split"
   ]
  },
  {
   "attachments": {},
   "cell_type": "markdown",
   "metadata": {},
   "source": [
    "## Set simluation parameters"
   ]
  },
  {
   "attachments": {},
   "cell_type": "markdown",
   "metadata": {},
   "source": [
    "These are for generating data from a linear model, where features can be correlated with\n",
    "each other."
   ]
  },
  {
   "cell_type": "code",
   "execution_count": 2,
   "metadata": {},
   "outputs": [],
   "source": [
    "NUM_TRIALS = 300\n",
    "\n",
    "# sample sizes\n",
    "NUM_TRAIN_OBS = 100  # obs to train linear regression on\n",
    "NUM_TEST_OBS = (list(range(25, 200, 25)) +\n",
    "                list(range(200, 500, 50)))  # also the # of obs to fit PCA  \n",
    "\n",
    "# features\n",
    "NUM_FEATURES = 20              # keep in mind the number of train and test obs\n",
    "NUM_FEATURES_INFORMATIVE = 10  # must be <= NUM_FEATURES ofc\n",
    "EFFECTIVE_RANK = 10            # < NUM_FEATURES implies PCA should help\n",
    "NUM_PCA_COMPONENTS = int(0.6*EFFECTIVE_RANK)  # what do we often get in practice?\n",
    "\n",
    "# seeds\n",
    "RANDOM_STATE_GENERATE_DATA = 123\n",
    "RANDOM_STATE_SPLIT_DATA = 42\n",
    "\n",
    "# labels\n",
    "NOISE_ST_DEV = 1.0"
   ]
  },
  {
   "attachments": {},
   "cell_type": "markdown",
   "metadata": {},
   "source": [
    "## Run simulations"
   ]
  },
  {
   "cell_type": "code",
   "execution_count": 3,
   "metadata": {},
   "outputs": [],
   "source": [
    "def _split(X: np.ndarray,\n",
    "           y: np.ndarray,\n",
    "           num_test: int,\n",
    "           num_train: int=NUM_TRAIN_OBS,\n",
    "           random_state: int=None,\n",
    "    ) -> tuple[np.ndarray, np.ndarray,\n",
    "               np.ndarray, np.ndarray,\n",
    "               np.ndarray, np.ndarray]:\n",
    "    X_tr, X_te, y_tr, y_te = train_test_split(X, y, train_size=num_train,\n",
    "                                              random_state=random_state)\n",
    "    random_state = None if random_state is None else random_state+1\n",
    "    X_ex, X_te, y_ex, y_te = train_test_split(X_te, y_te, train_size=num_test,\n",
    "                                              test_size=num_test,\n",
    "                                              random_state=random_state)\n",
    "    return (X_tr, X_ex, X_te,\n",
    "            y_tr, y_ex, y_te)"
   ]
  },
  {
   "cell_type": "code",
   "execution_count": 4,
   "metadata": {},
   "outputs": [],
   "source": [
    "def _simulation(X: np.ndarray,\n",
    "                y: np.ndarray,\n",
    "                num_test: int,\n",
    "                num_trials: int=NUM_TRIALS,\n",
    "                n_components: int=EFFECTIVE_RANK  # assume it's known for now\n",
    "    ) -> tuple[np.ndarray, np.ndarray]:\n",
    "    rmses_ex: list[float] = []\n",
    "    rmses_te: list[float] = []\n",
    "\n",
    "    for i in tqdm(range(num_trials)):\n",
    "        X_tr, X_ex, X_te, y_tr, _, y_te = _split(X, y, num_test=num_test,\n",
    "                                                 random_state=RANDOM_STATE_SPLIT_DATA+i)\n",
    "\n",
    "        def rmse(X_for_fitting_pca) -> float:\n",
    "            pca = PCA(n_components=n_components).fit(X_for_fitting_pca)\n",
    "            X_tr_reduced = pca.transform(X_tr)\n",
    "            model = LinearRegression().fit(X_tr_reduced, y_tr)\n",
    "            # score the model on test\n",
    "            X_te_reduced = pca.transform(X_te)\n",
    "            y_te_pred = model.predict(X_te_reduced)\n",
    "            return np.sqrt(np.mean((y_te_pred - y_te)**2))\n",
    "\n",
    "        rmses_ex.append(rmse(X_ex))\n",
    "        rmses_te.append(rmse(X_te))\n",
    "\n",
    "    return np.array(rmses_ex), np.array(rmses_te)\n",
    "\n",
    "\n",
    "def simulation():\n",
    "    rmses_ex = []\n",
    "    rmses_te = []\n",
    "    for num_test in tqdm(NUM_TEST_OBS):\n",
    "        X, y = make_regression(n_samples=NUM_TRAIN_OBS + num_test + num_test,\n",
    "                               n_features=NUM_FEATURES,\n",
    "                               n_informative=NUM_FEATURES_INFORMATIVE,\n",
    "                               effective_rank=EFFECTIVE_RANK,\n",
    "                               noise=NOISE_ST_DEV,\n",
    "                               random_state=RANDOM_STATE_GENERATE_DATA)\n",
    "        _rmses_ex, _rmses_te = _simulation(X, y, num_test)\n",
    "        rmses_ex.append(_rmses_ex)\n",
    "        rmses_te.append(_rmses_te)\n",
    "    return np.array(rmses_ex), np.array(rmses_te)"
   ]
  },
  {
   "cell_type": "code",
   "execution_count": 5,
   "metadata": {},
   "outputs": [
    {
     "name": "stderr",
     "output_type": "stream",
     "text": [
      "100%|██████████| 300/300 [00:01<00:00, 179.78it/s]\n",
      "100%|██████████| 300/300 [00:01<00:00, 172.63it/s]\n",
      "100%|██████████| 300/300 [00:01<00:00, 181.67it/s]\n",
      "100%|██████████| 300/300 [00:01<00:00, 174.13it/s]\n",
      "100%|██████████| 300/300 [00:01<00:00, 165.77it/s]\n",
      "100%|██████████| 300/300 [00:01<00:00, 157.41it/s]\n",
      "100%|██████████| 300/300 [00:01<00:00, 159.96it/s]\n",
      "100%|██████████| 300/300 [00:01<00:00, 158.87it/s]\n",
      "100%|██████████| 300/300 [00:02<00:00, 148.47it/s]\n",
      "100%|██████████| 300/300 [00:01<00:00, 166.43it/s]\n",
      "100%|██████████| 300/300 [00:02<00:00, 148.13it/s]\n",
      "100%|██████████| 300/300 [00:02<00:00, 140.29it/s]\n",
      "100%|██████████| 300/300 [00:01<00:00, 157.79it/s]\n",
      "100%|██████████| 13/13 [00:24<00:00,  1.88s/it]\n"
     ]
    }
   ],
   "source": [
    "rmses_ex, rmses_te = simulation()"
   ]
  },
  {
   "cell_type": "code",
   "execution_count": 6,
   "metadata": {},
   "outputs": [],
   "source": [
    "paired_diffs: np.ndarray = rmses_ex - rmses_te\n",
    "standard_errors = np.sqrt(np.var(paired_diffs, axis=1, ddof=1) / rmses_ex.shape[1])"
   ]
  },
  {
   "cell_type": "code",
   "execution_count": 7,
   "metadata": {},
   "outputs": [
    {
     "data": {
      "image/png": "[encoded data removed]",
      "text/plain": [
       "<Figure size 720x360 with 1 Axes>"
      ]
     },
     "metadata": {
      "needs_background": "light"
     },
     "output_type": "display_data"
    }
   ],
   "source": [
    "plt.figure(figsize=(10,5))\n",
    "plt.errorbar(x=NUM_TEST_OBS,\n",
    "             y=paired_diffs.mean(axis=1),\n",
    "             yerr=1.96*standard_errors,\n",
    "             fmt='o',\n",
    "             capsize=3,\n",
    "             label='95% CI paired difference')\n",
    "plt.xlabel('# PCA training observations')\n",
    "plt.ylabel('RMSE underestimation')\n",
    "plt.title(f'# features = {NUM_FEATURES}, '\n",
    "          f'effective rank = {EFFECTIVE_RANK}, '\n",
    "          f'PCA components = {NUM_PCA_COMPONENTS}, '\n",
    "          f'$\\sigma$ = {NOISE_ST_DEV}')\n",
    "plt.xticks(np.arange(0, max(NUM_TEST_OBS), step=50))\n",
    "plt.grid()\n",
    "plt.legend();"
   ]
  }
 ],
 "metadata": {
  "kernelspec": {
   "display_name": "base",
   "language": "python",
   "name": "python3"
  },
  "language_info": {
   "codemirror_mode": {
    "name": "ipython",
    "version": 3
   },
   "file_extension": ".py",
   "mimetype": "text/x-python",
   "name": "python",
   "nbconvert_exporter": "python",
   "pygments_lexer": "ipython3",
   "version": "3.9.7"
  },
  "orig_nbformat": 4
 },
 "nbformat": 4,
 "nbformat_minor": 2
}
