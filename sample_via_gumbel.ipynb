{
 "cells": [
  {
   "attachments": {},
   "cell_type": "markdown",
   "metadata": {},
   "source": [
    "**Description**: Simulation for [my answer on\n",
    "stackoverflow.com](https://stackoverflow.com/a/76230531/18758987) that there's an\n",
    "efficient way to sample from log-probabilities or unnnormalized logits.\n",
    "\n",
    "**Estimated runtime**: < 10 sec.\n",
    "\n",
    "**TODO**: does precomputing the Gumbels result in dependence b/t draws? Methinks yes.\n",
    "But if not, then there's a way to speed up the existing [LM sampling logic](https://github.com/huggingface/transformers/blob/dee673232bdc300ced32f7c1c4cd0b9447b1478f/src/transformers/generation/utils.py#L2646-L2648).\n",
    "\n",
    "**Package requirements**:\n",
    "```\n",
    "matplotlib==3.4.3\n",
    "pandas==1.3.4\n",
    "scipy==1.7.1\n",
    "```"
   ]
  },
  {
   "cell_type": "code",
   "execution_count": 1,
   "metadata": {},
   "outputs": [],
   "source": [
    "from __future__ import annotations\n",
    "from time import time\n",
    "from typing import Union\n",
    "\n",
    "import numpy as np\n",
    "import pandas as pd\n",
    "from scipy.special import logsumexp, softmax\n",
    "from scipy.stats import trim_mean"
   ]
  },
  {
   "cell_type": "code",
   "execution_count": 2,
   "metadata": {},
   "outputs": [],
   "source": [
    "def random_choice_log_space(\n",
    "    logits: np.ndarray,\n",
    "    size: int = 1,\n",
    "    random_state: Union[np.random.RandomState, int] = None,\n",
    ") -> np.ndarray:\n",
    "    \"\"\"\n",
    "    Sample (with replacement) from a categorical distribution parametrized by logits or\n",
    "    log-probabilities.\n",
    "\n",
    "    Parameters\n",
    "    ----------\n",
    "    logits : np.ndarray\n",
    "        the last dimension contains log-probabilities (e.g., out of a log-softmax\n",
    "        function) or unnormalized logits corresponding to the categorical\n",
    "        distribution(s)\n",
    "    size : int, optional\n",
    "        sample size, by default 1\n",
    "    random_state : Union[np.random.RandomState, int], optional\n",
    "        ``np.random.RandomState`` object or an integer seed, by default None\n",
    "\n",
    "    Returns\n",
    "    -------\n",
    "    np.ndarray\n",
    "        sampled indexes\n",
    "\n",
    "    Raises\n",
    "    ------\n",
    "    ValueError\n",
    "        if `size` is negative\n",
    "    \"\"\"\n",
    "    if size < 0:\n",
    "        raise ValueError(\"size must be at least 1.\")\n",
    "    # Independently sample as many Gumbels as needed. During addition, they'll be\n",
    "    # broadcasted\n",
    "    _gumbels_shape = (size,) + logits.shape if size > 1 else logits.shape\n",
    "    # Create a RandomState if needed\n",
    "    if not isinstance(random_state, np.random.RandomState):\n",
    "        random_state = np.random.RandomState(seed=random_state)\n",
    "    gumbels = random_state.gumbel(size=_gumbels_shape)\n",
    "    gumbels_rescaled: np.ndarray = logits + gumbels\n",
    "    return gumbels_rescaled.argmax(axis=-1)"
   ]
  },
  {
   "cell_type": "code",
   "execution_count": 3,
   "metadata": {},
   "outputs": [],
   "source": [
    "_probs = np.array([0.1, 0.2, 0.3, 0.4])\n",
    "\n",
    "log_probs = np.log(_probs)\n",
    "logits = np.log(_probs) + logsumexp(_probs, axis=-1)\n",
    "# You start out with access to log_probs or logits\n",
    "\n",
    "num_categories = len(_probs)\n",
    "\n",
    "sample_size = 500_000\n",
    "seed = 123\n",
    "random_state = np.random.RandomState(seed)\n",
    "\n",
    "\n",
    "# helper function\n",
    "def empirical_distr(discrete_samples):\n",
    "    return (pd.Series(discrete_samples)\n",
    "            .value_counts(normalize=True)\n",
    "            .sort_index()\n",
    "            .to_numpy())\n",
    "\n",
    "\n",
    "# np.random.choice (select one at a time) AKA vanilla sampling\n",
    "def random_choice_log_space_vanilla(logits, size, random_state=None):\n",
    "    probs = softmax(logits, axis=-1)\n",
    "    if not isinstance(random_state, np.random.RandomState):\n",
    "        random_state = np.random.RandomState(seed=random_state)\n",
    "    return random_state.choice(len(probs), p=probs, size=size, replace=True)\n",
    "\n",
    "samples = random_choice_log_space_vanilla(logits, size=sample_size, random_state=random_state)\n",
    "distr_vanilla = empirical_distr(samples)\n",
    "\n",
    "\n",
    "# random_choice_log_space for log-probabilities input\n",
    "samples = random_choice_log_space(log_probs, size=sample_size, random_state=random_state)\n",
    "distr_log_probs = empirical_distr(samples)\n",
    "\n",
    "\n",
    "# random_choice_log_space for logits input\n",
    "samples = random_choice_log_space(logits, size=sample_size, random_state=random_state)\n",
    "distr_logits = empirical_distr(samples)"
   ]
  },
  {
   "cell_type": "code",
   "execution_count": 4,
   "metadata": {},
   "outputs": [
    {
     "data": {
      "text/html": [
       "<div>\n",
       "<style scoped>\n",
       "    .dataframe tbody tr th:only-of-type {\n",
       "        vertical-align: middle;\n",
       "    }\n",
       "\n",
       "    .dataframe tbody tr th {\n",
       "        vertical-align: top;\n",
       "    }\n",
       "\n",
       "    .dataframe thead th {\n",
       "        text-align: right;\n",
       "    }\n",
       "</style>\n",
       "<table border=\"1\" class=\"dataframe\">\n",
       "  <thead>\n",
       "    <tr style=\"text-align: right;\">\n",
       "      <th></th>\n",
       "      <th>rel error (vanilla)</th>\n",
       "      <th>rel error (log-probs)</th>\n",
       "      <th>rel error (logits)</th>\n",
       "    </tr>\n",
       "    <tr>\n",
       "      <th>category</th>\n",
       "      <th></th>\n",
       "      <th></th>\n",
       "      <th></th>\n",
       "    </tr>\n",
       "  </thead>\n",
       "  <tbody>\n",
       "    <tr>\n",
       "      <th>0</th>\n",
       "      <td>-0.005760</td>\n",
       "      <td>0.000560</td>\n",
       "      <td>-0.002960</td>\n",
       "    </tr>\n",
       "    <tr>\n",
       "      <th>1</th>\n",
       "      <td>0.004730</td>\n",
       "      <td>0.000380</td>\n",
       "      <td>-0.002560</td>\n",
       "    </tr>\n",
       "    <tr>\n",
       "      <th>2</th>\n",
       "      <td>-0.002367</td>\n",
       "      <td>-0.000567</td>\n",
       "      <td>0.004273</td>\n",
       "    </tr>\n",
       "    <tr>\n",
       "      <th>3</th>\n",
       "      <td>0.000850</td>\n",
       "      <td>0.000095</td>\n",
       "      <td>-0.001185</td>\n",
       "    </tr>\n",
       "  </tbody>\n",
       "</table>\n",
       "</div>"
      ],
      "text/plain": [
       "          rel error (vanilla)  rel error (log-probs)  rel error (logits)\n",
       "category                                                                \n",
       "0                   -0.005760               0.000560           -0.002960\n",
       "1                    0.004730               0.000380           -0.002560\n",
       "2                   -0.002367              -0.000567            0.004273\n",
       "3                    0.000850               0.000095           -0.001185"
      ]
     },
     "execution_count": 4,
     "metadata": {},
     "output_type": "execute_result"
    }
   ],
   "source": [
    "pd.DataFrame({'rel error (vanilla)': (distr_vanilla - _probs)/_probs,\n",
    "              'rel error (log-probs)': (distr_log_probs - _probs)/_probs,\n",
    "              'rel error (logits)': (distr_logits - _probs)/_probs},\n",
    "              index=pd.Index(range(num_categories), name='category'))"
   ]
  },
  {
   "cell_type": "code",
   "execution_count": 5,
   "metadata": {},
   "outputs": [
    {
     "data": {
      "image/png": "[encoded data removed]",
      "text/plain": [
       "<Figure size 576x360 with 1 Axes>"
      ]
     },
     "metadata": {
      "needs_background": "light"
     },
     "output_type": "display_data"
    }
   ],
   "source": [
    "def time_func(func, *args, num_replications: int=50, **kwargs) -> list[float]:\n",
    "    '''\n",
    "    Returns a list, `times`, where `times[i]` is the time it took to run\n",
    "    `func(*args, **kwargs)` at replication `i` for `i in range(num_replications)`.\n",
    "    '''\n",
    "    times = []\n",
    "    for _ in range(num_replications):\n",
    "        time_start = time()\n",
    "        _ = func(*args, **kwargs)\n",
    "        time_end = time()\n",
    "        times.append(time_end - time_start)\n",
    "    return times\n",
    "\n",
    "\n",
    "category_sizes = np.power(2, np.arange(1, 14+1))\n",
    "num_replications = 100\n",
    "\n",
    "times_vanilla = []\n",
    "times_gumbel = []\n",
    "for size in category_sizes:\n",
    "    logits = np.random.normal(size=size)\n",
    "    times_vanilla.append(time_func(random_choice_log_space_vanilla, logits, size=1,\n",
    "                                   num_replications=num_replications))\n",
    "    times_gumbel.append(time_func(random_choice_log_space, logits, size=1,\n",
    "                                  num_replications=num_replications))\n",
    "\n",
    "\n",
    "(pd.DataFrame({'vanilla': trim_mean(times_vanilla, 0.1, axis=1),\n",
    "               'Gumbel': trim_mean(times_gumbel, 0.1, axis=1)},\n",
    "              index=pd.Index(category_sizes, name='# categories'))\n",
    " .plot.bar(title='Categorical sampling',\n",
    "           figsize=(8,5),\n",
    "           ylabel='mean wall-clock time (sec)'));"
   ]
  },
  {
   "cell_type": "code",
   "execution_count": 6,
   "metadata": {},
   "outputs": [],
   "source": [
    "logits = np.random.normal(size=50_257)"
   ]
  },
  {
   "cell_type": "code",
   "execution_count": 7,
   "metadata": {},
   "outputs": [
    {
     "name": "stdout",
     "output_type": "stream",
     "text": [
      "2.55 ms ± 218 µs per loop (mean ± std. dev. of 7 runs, 100 loops each)\n"
     ]
    }
   ],
   "source": [
    "%timeit random_choice_log_space_vanilla(logits, size=1)"
   ]
  },
  {
   "cell_type": "code",
   "execution_count": 8,
   "metadata": {},
   "outputs": [
    {
     "name": "stdout",
     "output_type": "stream",
     "text": [
      "2.91 ms ± 159 µs per loop (mean ± std. dev. of 7 runs, 100 loops each)\n"
     ]
    }
   ],
   "source": [
    "%timeit random_choice_log_space(logits, size=1)"
   ]
  }
 ],
 "metadata": {
  "kernelspec": {
   "display_name": "base",
   "language": "python",
   "name": "python3"
  },
  "language_info": {
   "codemirror_mode": {
    "name": "ipython",
    "version": 3
   },
   "file_extension": ".py",
   "mimetype": "text/x-python",
   "name": "python",
   "nbconvert_exporter": "python",
   "pygments_lexer": "ipython3",
   "version": "3.9.7"
  },
  "orig_nbformat": 4
 },
 "nbformat": 4,
 "nbformat_minor": 2
}
