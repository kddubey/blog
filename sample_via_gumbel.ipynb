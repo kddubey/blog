{
 "cells": [
  {
   "attachments": {},
   "cell_type": "markdown",
   "metadata": {},
   "source": [
    "**Description**: Simulation for [my answer on\n",
    "stackoverflow.com](https://stackoverflow.com/a/76230531/18758987) that there's an\n",
    "efficient way to sample from log-probabilities or unnnormalized logits.\n",
    "\n",
    "**Estimated runtime**: 1 min.\n",
    "\n",
    "**TODO**: See if we can speed up the existing [LM sampling\n",
    "logic](https://github.com/huggingface/transformers/blob/dee673232bdc300ced32f7c1c4cd0b9447b1478f/src/transformers/generation/utils.py#L2646-L2648).\n",
    "\n",
    "**Package requirements**:\n",
    "```\n",
    "matplotlib==3.4.3\n",
    "pandas==1.3.4\n",
    "scipy==1.7.1\n",
    "seaborn==0.11.2\n",
    "tqdm==4.62.3\n",
    "```"
   ]
  },
  {
   "cell_type": "code",
   "execution_count": 1,
   "metadata": {},
   "outputs": [],
   "source": [
    "from __future__ import annotations\n",
    "from itertools import combinations\n",
    "from time import time\n",
    "from typing import Union, Sequence\n",
    "\n",
    "import numpy as np\n",
    "import pandas as pd\n",
    "from scipy.special import logsumexp, softmax\n",
    "from scipy.stats import chisquare, chi2_contingency, trim_mean\n",
    "import seaborn as sns\n",
    "from tqdm.auto import tqdm"
   ]
  },
  {
   "attachments": {},
   "cell_type": "markdown",
   "metadata": {},
   "source": [
    "## Implementation"
   ]
  },
  {
   "cell_type": "code",
   "execution_count": 2,
   "metadata": {},
   "outputs": [],
   "source": [
    "def random_choice_log_space(\n",
    "    logits: np.ndarray,\n",
    "    size: int = 1,\n",
    "    gumbels: np.ndarray = None,\n",
    "    rng: Union[np.random.Generator, int] = None,\n",
    "    shuffle_gumbels: bool = True,\n",
    ") -> np.ndarray:\n",
    "    \"\"\"\n",
    "    Sample (with replacement) from a categorical distribution parametrized by logits or\n",
    "    log-probabilities.\n",
    "\n",
    "    Parameters\n",
    "    ----------\n",
    "    logits : np.ndarray\n",
    "        the last dimension contains log-probabilities (e.g., out of a log-softmax\n",
    "        function) or unnormalized logits corresponding to the categorical\n",
    "        distribution(s)\n",
    "    size : int, optional\n",
    "        sample size, by default 1\n",
    "    gumbels : np.ndarray, optional\n",
    "        pre-computed Gumbel samples which will be added to `logits`, by default None\n",
    "    rng : Union[np.random.Generator, int], optional\n",
    "        ``np.random.Generator`` object or an integer seed, by default None\n",
    "    shuffle_gumbels : bool, optional\n",
    "        whether or not to shuffle `gumbels` (if provided) before taking the argmax, by\n",
    "        default True. If you're not careful, setting this to False causes serial\n",
    "        categorical samples to become correlated through `gumbels`, which is wrong\n",
    "\n",
    "    Returns\n",
    "    -------\n",
    "    np.ndarray\n",
    "        sampled indexes\n",
    "\n",
    "    Raises\n",
    "    ------\n",
    "    ValueError\n",
    "        if `size` is negative\n",
    "    \"\"\"\n",
    "    if size < 1:\n",
    "        raise ValueError(\"size must be at least 1.\")\n",
    "    is_gumbels_precomputed = gumbels is not None\n",
    "    # Create a Generator if needed\n",
    "    if not isinstance(rng, np.random.Generator):\n",
    "        rng = np.random.default_rng(seed=rng)\n",
    "    if not is_gumbels_precomputed:\n",
    "        # Independently sample as many Gumbels as needed. During addition, they'll be\n",
    "        # broadcasted\n",
    "        _gumbels_shape = (size,) + logits.shape if size > 1 else logits.shape\n",
    "        gumbels: np.ndarray = rng.gumbel(size=_gumbels_shape)\n",
    "    if is_gumbels_precomputed and shuffle_gumbels:\n",
    "        # Shuffling is unnecessary if the Gumbels were just randomly sampled.\n",
    "        # It's necessary if the Gumbels were pre-computed and plan to be re-used.\n",
    "        gumbels = rng.permutation(gumbels, axis=0)\n",
    "    gumbels_rescaled: np.ndarray = logits + gumbels\n",
    "    return gumbels_rescaled.argmax(axis=-1)"
   ]
  },
  {
   "attachments": {},
   "cell_type": "markdown",
   "metadata": {},
   "source": [
    "## Statistical check"
   ]
  },
  {
   "cell_type": "code",
   "execution_count": 3,
   "metadata": {},
   "outputs": [],
   "source": [
    "_probs = np.array([0.1, 0.2, 0.3, 0.4])\n",
    "\n",
    "log_probs = np.log(_probs)\n",
    "logits = np.log(_probs) + logsumexp(_probs, axis=-1)\n",
    "# You start out with access to log_probs or logits\n",
    "\n",
    "num_categories = len(_probs)\n",
    "\n",
    "sample_size = 500_000\n",
    "seed = 123\n",
    "rng = np.random.default_rng(seed)\n",
    "\n",
    "\n",
    "# helper function\n",
    "def empirical_distr(discrete_samples):\n",
    "    return (pd.Series(discrete_samples)\n",
    "            .value_counts(normalize=True)\n",
    "            .sort_index()\n",
    "            .to_numpy())\n",
    "\n",
    "\n",
    "# np.random.choice (select one at a time) AKA vanilla sampling\n",
    "def random_choice_log_space_vanilla(logits, size, rng=None):\n",
    "    probs = softmax(logits, axis=-1)\n",
    "    if not isinstance(rng, np.random.Generator):\n",
    "        rng = np.random.default_rng(seed=rng)\n",
    "    return rng.choice(len(probs), p=probs, size=size, replace=True)\n",
    "\n",
    "\n",
    "samples = random_choice_log_space_vanilla(logits, size=sample_size, rng=rng)\n",
    "distr_vanilla = empirical_distr(samples)\n",
    "\n",
    "\n",
    "# random_choice_log_space for log-probabilities input\n",
    "samples = random_choice_log_space(log_probs, size=sample_size, rng=rng)\n",
    "distr_log_probs = empirical_distr(samples)\n",
    "\n",
    "\n",
    "# random_choice_log_space for logits input\n",
    "samples = random_choice_log_space(logits, size=sample_size, rng=rng)\n",
    "distr_logits = empirical_distr(samples)"
   ]
  },
  {
   "cell_type": "code",
   "execution_count": 4,
   "metadata": {},
   "outputs": [
    {
     "data": {
      "text/html": [
       "<div>\n",
       "<style scoped>\n",
       "    .dataframe tbody tr th:only-of-type {\n",
       "        vertical-align: middle;\n",
       "    }\n",
       "\n",
       "    .dataframe tbody tr th {\n",
       "        vertical-align: top;\n",
       "    }\n",
       "\n",
       "    .dataframe thead th {\n",
       "        text-align: right;\n",
       "    }\n",
       "</style>\n",
       "<table border=\"1\" class=\"dataframe\">\n",
       "  <thead>\n",
       "    <tr style=\"text-align: right;\">\n",
       "      <th></th>\n",
       "      <th>rel error (vanilla)</th>\n",
       "      <th>rel error (log-probs)</th>\n",
       "      <th>rel error (logits)</th>\n",
       "    </tr>\n",
       "    <tr>\n",
       "      <th>category</th>\n",
       "      <th></th>\n",
       "      <th></th>\n",
       "      <th></th>\n",
       "    </tr>\n",
       "  </thead>\n",
       "  <tbody>\n",
       "    <tr>\n",
       "      <th>0</th>\n",
       "      <td>-0.004760</td>\n",
       "      <td>0.006600</td>\n",
       "      <td>0.001760</td>\n",
       "    </tr>\n",
       "    <tr>\n",
       "      <th>1</th>\n",
       "      <td>0.000170</td>\n",
       "      <td>-0.004080</td>\n",
       "      <td>-0.000170</td>\n",
       "    </tr>\n",
       "    <tr>\n",
       "      <th>2</th>\n",
       "      <td>0.002773</td>\n",
       "      <td>0.001373</td>\n",
       "      <td>-0.000693</td>\n",
       "    </tr>\n",
       "    <tr>\n",
       "      <th>3</th>\n",
       "      <td>-0.000975</td>\n",
       "      <td>-0.000640</td>\n",
       "      <td>0.000165</td>\n",
       "    </tr>\n",
       "  </tbody>\n",
       "</table>\n",
       "</div>"
      ],
      "text/plain": [
       "          rel error (vanilla)  rel error (log-probs)  rel error (logits)\n",
       "category                                                                \n",
       "0                   -0.004760               0.006600            0.001760\n",
       "1                    0.000170              -0.004080           -0.000170\n",
       "2                    0.002773               0.001373           -0.000693\n",
       "3                   -0.000975              -0.000640            0.000165"
      ]
     },
     "execution_count": 4,
     "metadata": {},
     "output_type": "execute_result"
    }
   ],
   "source": [
    "pd.DataFrame({'rel error (vanilla)': (distr_vanilla - _probs)/_probs,\n",
    "              'rel error (log-probs)': (distr_log_probs - _probs)/_probs,\n",
    "              'rel error (logits)': (distr_logits - _probs)/_probs},\n",
    "              index=pd.Index(range(len(_probs)), name='category'))\n",
    "\n",
    "# print(pd.DataFrame({'rel error (vanilla)': (distr_vanilla - _probs)/_probs,\n",
    "#                     'rel error (log-probs)': (distr_log_probs - _probs)/_probs,\n",
    "#                     'rel error (logits)': (distr_logits - _probs)/_probs},\n",
    "#                     index=pd.Index(range(len(_probs)), name='category')))"
   ]
  },
  {
   "attachments": {},
   "cell_type": "markdown",
   "metadata": {},
   "source": [
    "Even at this super high sample size, the p-value for a [chi-squared\n",
    "test](https://en.wikipedia.org/wiki/Chi-squared_test) is nearly 1 for all methods."
   ]
  },
  {
   "cell_type": "code",
   "execution_count": 5,
   "metadata": {},
   "outputs": [
    {
     "name": "stdout",
     "output_type": "stream",
     "text": [
      "0.999999997062783\n",
      "0.9999999935077725\n",
      "0.999999999914127\n"
     ]
    }
   ],
   "source": [
    "print(chisquare(f_obs=distr_vanilla,   f_exp=_probs).pvalue)\n",
    "print(chisquare(f_obs=distr_log_probs, f_exp=_probs).pvalue)\n",
    "print(chisquare(f_obs=distr_logits,    f_exp=_probs).pvalue)"
   ]
  },
  {
   "attachments": {},
   "cell_type": "markdown",
   "metadata": {},
   "source": [
    "## Precompute and shuffle Gumbels"
   ]
  },
  {
   "attachments": {},
   "cell_type": "markdown",
   "metadata": {},
   "source": [
    "### Statistical check"
   ]
  },
  {
   "attachments": {},
   "cell_type": "markdown",
   "metadata": {},
   "source": [
    "First, let's demonstrate that not shuffling pre-computed Gumbels causes samples across\n",
    "draws to become dependent. This fact can be mathematically proven, but it's easier for\n",
    "me to just simulate. It's trivial in the case where logits are constant across draws\n",
    "(the exact same category will be selected!). It may seem less trivial in the case where\n",
    "logits are different across draws, like during LLM sampling."
   ]
  },
  {
   "cell_type": "code",
   "execution_count": 6,
   "metadata": {},
   "outputs": [],
   "source": [
    "# ty: https://stackoverflow.com/a/39266194/18758987\n",
    "def cramers_corrected_stat(confusion_matrix: np.ndarray):\n",
    "    \"\"\" calculate Cramers V statistic for categorial-categorial association.\n",
    "        uses correction from Bergsma and Wicher, \n",
    "        Journal of the Korean Statistical Society 42 (2013): 323-328\n",
    "    \"\"\"\n",
    "    correction = confusion_matrix.shape[0] != 2\n",
    "    chi2 = chi2_contingency(confusion_matrix, correction=correction)[0]\n",
    "    n = confusion_matrix.sum()\n",
    "    phi2 = chi2/n\n",
    "    r,k = confusion_matrix.shape\n",
    "    phi2corr = max(0, phi2 - ((k-1)*(r-1))/(n-1))    \n",
    "    rcorr = r - ((r-1)**2)/(n-1)\n",
    "    kcorr = k - ((k-1)**2)/(n-1)\n",
    "    return np.sqrt(phi2corr / min(kcorr-1, rcorr-1))\n",
    "\n",
    "\n",
    "def sample_across(num_draws: int, gumbels: np.ndarray, shuffle_gumbels: bool,\n",
    "                  rng: Union[np.random.Generator, int]=None):\n",
    "    # Create a Generator if needed\n",
    "    if not isinstance(rng, np.random.Generator):\n",
    "        rng = np.random.default_rng(seed=rng)\n",
    "\n",
    "    samples_all = []\n",
    "    # Generate logits independently\n",
    "    logits = rng.normal(size=(num_draws, num_categories))\n",
    "    for i in range(num_draws):\n",
    "        samples_all.append(random_choice_log_space(logits[i], size=sample_size,\n",
    "                                                   gumbels=gumbels,\n",
    "                                                   rng=rng,\n",
    "                                                   shuffle_gumbels=shuffle_gumbels))\n",
    "    return np.array(samples_all), logits\n",
    "\n",
    "\n",
    "def correlation_heatmap(num_categories: int, sample_size: int, shuffle_gumbels: bool,\n",
    "                        num_draws: int=20, rng: Union[np.random.Generator, int]=None):\n",
    "    if sample_size <= 1:\n",
    "        raise ValueError( 'To compute correlations, need sample_size > 1. '\n",
    "                         f'Got {sample_size}.')\n",
    "\n",
    "    # Create a Generator if needed\n",
    "    if not isinstance(rng, np.random.Generator):\n",
    "        rng = np.random.default_rng(seed=rng)\n",
    "\n",
    "    # Precompute Gumbels\n",
    "    gumbels = rng.gumbel(size=(sample_size, num_categories))\n",
    "\n",
    "    # Samples\n",
    "    samples_all, _ = sample_across(num_draws, gumbels, shuffle_gumbels, rng=rng)\n",
    "\n",
    "    # Correlation matrix\n",
    "    correlation_matrix = np.empty((num_draws, num_draws))\n",
    "    correlation_matrix[:] = np.NaN  # I want errors if anything is unfilled\n",
    "    np.fill_diagonal(correlation_matrix, 1)\n",
    "\n",
    "    for i, j in tqdm(combinations(range(num_draws), 2),\n",
    "                     total=int(num_draws*(num_draws-1)/2),\n",
    "                     desc='Estimating correlations'):\n",
    "        if not np.isnan(correlation_matrix[i,j]):\n",
    "            continue\n",
    "        confusion_matrix = pd.crosstab(samples_all[i], samples_all[j]).to_numpy()\n",
    "        correlation = cramers_corrected_stat(confusion_matrix)\n",
    "        correlation_matrix[i,j] = correlation\n",
    "        correlation_matrix[j,i] = correlation\n",
    "\n",
    "    assert not np.any(np.isnan(correlation_matrix)), 'Ruh roh, some are NaN'\n",
    "\n",
    "    # Add a bit so that we can filter out zeros later\n",
    "    correlation_matrix += np.finfo(float).eps\n",
    "\n",
    "    # Summary stats for correlation, dropping diagonal since they're trivially all 1s\n",
    "    # and duplicate correlations b/c it's symmetric\n",
    "    print('Summary of correlations')\n",
    "    tril = np.tril(correlation_matrix, k=-1)\n",
    "    tril[-1, -1] = 0\n",
    "    correlations_flat = tril.ravel()\n",
    "    # tril filled the upper triangle with 0s. now we filter them out\n",
    "    correlations_flat = correlations_flat[correlations_flat != 0]\n",
    "    print(pd.Series(correlations_flat).describe())\n",
    "\n",
    "    # Heatmap\n",
    "    sns.heatmap(correlation_matrix)"
   ]
  },
  {
   "attachments": {},
   "cell_type": "markdown",
   "metadata": {},
   "source": [
    "If we don't shuffle, expect correlations > 0 everywhere."
   ]
  },
  {
   "cell_type": "code",
   "execution_count": 7,
   "metadata": {},
   "outputs": [
    {
     "name": "stderr",
     "output_type": "stream",
     "text": [
      "Estimating correlations: 100%|██████████| 190/190 [00:03<00:00, 58.80it/s]\n"
     ]
    },
    {
     "name": "stdout",
     "output_type": "stream",
     "text": [
      "Summary of correlations\n",
      "count    190.000000\n",
      "mean       0.556727\n",
      "std        0.253358\n",
      "min        0.069154\n",
      "25%        0.340351\n",
      "50%        0.569148\n",
      "75%        0.751827\n",
      "max        1.000000\n",
      "dtype: float64\n"
     ]
    },
    {
     "data": {
      "image/png": "[encoded data removed]",
      "text/plain": [
       "<Figure size 432x288 with 2 Axes>"
      ]
     },
     "metadata": {
      "needs_background": "light"
     },
     "output_type": "display_data"
    }
   ],
   "source": [
    "num_categories = 2\n",
    "sample_size = 1_000\n",
    "num_draws = 20\n",
    "seed = 42\n",
    "shuffle_gumbels = False\n",
    "\n",
    "correlation_heatmap(num_categories, sample_size, shuffle_gumbels=shuffle_gumbels,\n",
    "                    num_draws=num_draws, rng=seed)"
   ]
  },
  {
   "attachments": {},
   "cell_type": "markdown",
   "metadata": {},
   "source": [
    "If we do shuffle, expect correlations approximately 0 everywhere (except diagonal ofc)."
   ]
  },
  {
   "cell_type": "code",
   "execution_count": 8,
   "metadata": {},
   "outputs": [
    {
     "name": "stderr",
     "output_type": "stream",
     "text": [
      "Estimating correlations: 100%|██████████| 190/190 [00:02<00:00, 70.54it/s]\n"
     ]
    },
    {
     "name": "stdout",
     "output_type": "stream",
     "text": [
      "Summary of correlations\n",
      "count    1.900000e+02\n",
      "mean     9.756419e-03\n",
      "std      1.851235e-02\n",
      "min      2.220446e-16\n",
      "25%      2.220446e-16\n",
      "50%      2.220446e-16\n",
      "75%      1.401692e-02\n",
      "max      9.574906e-02\n",
      "dtype: float64\n"
     ]
    },
    {
     "data": {
      "image/png": "[encoded data removed]",
      "text/plain": [
       "<Figure size 432x288 with 2 Axes>"
      ]
     },
     "metadata": {
      "needs_background": "light"
     },
     "output_type": "display_data"
    }
   ],
   "source": [
    "num_categories = 2\n",
    "sample_size = 1_000\n",
    "num_draws = 20\n",
    "seed = 42\n",
    "shuffle_gumbels = True\n",
    "\n",
    "correlation_heatmap(num_categories, sample_size, shuffle_gumbels=shuffle_gumbels,\n",
    "                    num_draws=num_draws, rng=seed)"
   ]
  },
  {
   "attachments": {},
   "cell_type": "markdown",
   "metadata": {},
   "source": [
    "Next, let's verify that the empirical distribution is good."
   ]
  },
  {
   "cell_type": "code",
   "execution_count": 9,
   "metadata": {},
   "outputs": [
    {
     "name": "stdout",
     "output_type": "stream",
     "text": [
      "Avg relative error: -0.001895066882882174\n"
     ]
    }
   ],
   "source": [
    "num_categories = 4\n",
    "sample_size = 100_000\n",
    "num_draws = 20\n",
    "seed = 42\n",
    "shuffle_gumbels = True\n",
    "\n",
    "gumbels = rng.gumbel(size=(sample_size, num_categories))\n",
    "samples_all, logits = sample_across(num_draws, gumbels, shuffle_gumbels=True, rng=seed)\n",
    "\n",
    "prob_distrs = softmax(logits, axis=1)\n",
    "empirical_distrs = np.array([empirical_distr(samples) for samples in samples_all])\n",
    "print('Avg relative error:', np.mean((prob_distrs - empirical_distrs) / prob_distrs))"
   ]
  },
  {
   "attachments": {},
   "cell_type": "markdown",
   "metadata": {},
   "source": [
    "Good"
   ]
  },
  {
   "attachments": {},
   "cell_type": "markdown",
   "metadata": {},
   "source": [
    "### Computational check"
   ]
  },
  {
   "attachments": {},
   "cell_type": "markdown",
   "metadata": {},
   "source": [
    "Now for a computational comparison, not including the time to generate Gumbels."
   ]
  },
  {
   "cell_type": "code",
   "execution_count": 10,
   "metadata": {},
   "outputs": [],
   "source": [
    "def time_func(func, *args, num_replications: int=50, **kwargs) -> list[float]:\n",
    "    '''\n",
    "    Returns a list, `times`, where `times[i]` is the time it took to run\n",
    "    `func(*args, **kwargs)` at replication `i` for `i in range(num_replications)`.\n",
    "    '''\n",
    "    times = []\n",
    "    for _ in range(num_replications):\n",
    "        time_start = time()\n",
    "        _ = func(*args, **kwargs)\n",
    "        time_end = time()\n",
    "        times.append(time_end - time_start)\n",
    "    return times\n",
    "\n",
    "\n",
    "def plot_sampling_times(category_sizes: Sequence[int], sample_size: int,\n",
    "                        num_replications: int=100, trim_frac: float=0.1):\n",
    "    times_vanilla = []\n",
    "    times_gumbel = []\n",
    "    times_gumbel_pre = []\n",
    "    for size in category_sizes:\n",
    "        logits: np.ndarray = np.random.normal(size=size)\n",
    "        gumbels = np.random.gumbel(size=logits.shape)\n",
    "        times_vanilla.append(time_func(random_choice_log_space_vanilla,\n",
    "                                       logits,\n",
    "                                       size=sample_size,\n",
    "                                       num_replications=num_replications))\n",
    "        times_gumbel.append(time_func(random_choice_log_space,\n",
    "                                      logits,\n",
    "                                      size=sample_size,\n",
    "                                      num_replications=num_replications))\n",
    "        times_gumbel_pre.append(time_func(random_choice_log_space,\n",
    "                                          logits,\n",
    "                                          size=sample_size,\n",
    "                                          gumbels=gumbels,\n",
    "                                          num_replications=num_replications))\n",
    "    # By default, only look at middle 80% of times\n",
    "    (pd.DataFrame({'vanilla': trim_mean(times_vanilla, trim_frac, axis=1),\n",
    "                   'Gumbel': trim_mean(times_gumbel, trim_frac, axis=1),\n",
    "                   'Gumbel (pre-computed)': trim_mean(times_gumbel_pre, trim_frac,\n",
    "                                                      axis=1)},\n",
    "                  index=pd.Index(category_sizes, name='# categories'))\n",
    "     .plot.bar(title='Categorical sampling',\n",
    "               figsize=(8,5),\n",
    "               ylabel='mean wall-clock time (sec)'));"
   ]
  },
  {
   "cell_type": "code",
   "execution_count": 11,
   "metadata": {},
   "outputs": [],
   "source": [
    "logits = np.random.normal(size=50_257)"
   ]
  },
  {
   "cell_type": "code",
   "execution_count": 12,
   "metadata": {},
   "outputs": [],
   "source": [
    "gumbels = np.random.gumbel(size=logits.shape)"
   ]
  },
  {
   "cell_type": "code",
   "execution_count": 13,
   "metadata": {},
   "outputs": [
    {
     "name": "stdout",
     "output_type": "stream",
     "text": [
      "2.69 ms ± 393 µs per loop (mean ± std. dev. of 7 runs, 100 loops each)\n"
     ]
    }
   ],
   "source": [
    "%timeit np.random.gumbel(size=logits.shape)"
   ]
  },
  {
   "cell_type": "code",
   "execution_count": 14,
   "metadata": {},
   "outputs": [
    {
     "data": {
      "image/png": "[encoded data removed]",
      "text/plain": [
       "<Figure size 576x360 with 1 Axes>"
      ]
     },
     "metadata": {
      "needs_background": "light"
     },
     "output_type": "display_data"
    }
   ],
   "source": [
    "category_sizes = np.linspace(10_000, 100_000, num=10).astype(int)\n",
    "sample_size = 1\n",
    "num_replications = 100\n",
    "\n",
    "plot_sampling_times(category_sizes, sample_size, num_replications=num_replications)"
   ]
  },
  {
   "attachments": {},
   "cell_type": "markdown",
   "metadata": {},
   "source": [
    "Not a significant speed-up using pre-computed Gumbel-max trick vs vanilla categorical\n",
    "sampling. But if it's done many times, maybe the difference is practically significant.\n",
    "I'm bored so I'll quantify the speed-up for GPT-2 sampling."
   ]
  }
 ],
 "metadata": {
  "kernelspec": {
   "display_name": "base",
   "language": "python",
   "name": "python3"
  },
  "language_info": {
   "codemirror_mode": {
    "name": "ipython",
    "version": 3
   },
   "file_extension": ".py",
   "mimetype": "text/x-python",
   "name": "python",
   "nbconvert_exporter": "python",
   "pygments_lexer": "ipython3",
   "version": "3.9.7"
  },
  "orig_nbformat": 4
 },
 "nbformat": 4,
 "nbformat_minor": 2
}
