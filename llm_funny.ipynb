{
 "cells": [
  {
   "cell_type": "code",
   "execution_count": 1,
   "metadata": {},
   "outputs": [],
   "source": [
    "from IPython.display import display, Markdown\n",
    "import openai"
   ]
  },
  {
   "cell_type": "code",
   "execution_count": 2,
   "metadata": {},
   "outputs": [],
   "source": [
    "problem = \"\"\"\n",
    "Given an integer array `nums`, find the subarray with the largest average, and return\n",
    "its average.\n",
    "\n",
    "A subarray is a contiguous non-empty sequence of elements within an array.\n",
    "\n",
    "For example, for `nums = [-2,1,-3,4,-1,2,1,-5,4]`, one subarray is `[2,1,-5,4]`. Its\n",
    "average is `2 + 1 + (-5) + 4 / 4 = 0.5`.\n",
    "\n",
    "Implement your solution in Python. Think step-by-step.\n",
    "\"\"\""
   ]
  },
  {
   "cell_type": "markdown",
   "metadata": {},
   "source": [
    "# Problem"
   ]
  },
  {
   "cell_type": "markdown",
   "metadata": {},
   "source": [
    "Here's a LeetCode-esque problem:"
   ]
  },
  {
   "cell_type": "code",
   "execution_count": 3,
   "metadata": {},
   "outputs": [
    {
     "data": {
      "text/markdown": [
       "####################################################################################################\n",
       "\n",
       "Given an integer array `nums`, find the subarray with the largest average, and return\n",
       "its average.\n",
       "\n",
       "A subarray is a contiguous non-empty sequence of elements within an array.\n",
       "\n",
       "For example, for `nums = [-2,1,-3,4,-1,2,1,-5,4]`, one subarray is `[2,1,-5,4]`. Its\n",
       "average is `2 + 1 + (-5) + 4 / 4 = 0.5`.\n",
       "\n",
       "Implement your solution in Python. Think step-by-step.\n",
       "\n",
       "####################################################################################################"
      ],
      "text/plain": [
       "<IPython.core.display.Markdown object>"
      ]
     },
     "metadata": {},
     "output_type": "display_data"
    }
   ],
   "source": [
    "border = \"#\" * 100\n",
    "display(Markdown(f\"{border}\\n{problem}\\n{border}\"))"
   ]
  },
  {
   "cell_type": "markdown",
   "metadata": {},
   "source": [
    "That last sentence is mainly for the AI."
   ]
  },
  {
   "cell_type": "markdown",
   "metadata": {},
   "source": [
    "# Pause"
   ]
  },
  {
   "cell_type": "markdown",
   "metadata": {},
   "source": [
    "Take a second to come up with the solution.\n",
    "\n",
    "Hint: there's a reason that you won't find this problem in LeetCode."
   ]
  },
  {
   "cell_type": "markdown",
   "metadata": {},
   "source": [
    "# AI"
   ]
  },
  {
   "cell_type": "markdown",
   "metadata": {},
   "source": [
    "Got it? How do you think GPT-4o will respond?"
   ]
  },
  {
   "cell_type": "code",
   "execution_count": 4,
   "metadata": {},
   "outputs": [],
   "source": [
    "client = openai.Client()"
   ]
  },
  {
   "cell_type": "code",
   "execution_count": 5,
   "metadata": {},
   "outputs": [],
   "source": [
    "completion = client.chat.completions.create(\n",
    "    messages=[\n",
    "        {\"role\": \"system\", \"content\": \"You are a helpful coding assistant.\"},\n",
    "        {\"role\": \"user\", \"content\": problem},\n",
    "    ],\n",
    "    model=\"gpt-4o\",\n",
    ")"
   ]
  },
  {
   "cell_type": "code",
   "execution_count": 6,
   "metadata": {},
   "outputs": [
    {
     "data": {
      "text/markdown": [
       "To solve this problem, we need to find a subarray in the given array that has the largest average value. The average is calculated by summing the elements of the subarray and dividing by the number of elements in that subarray.\n",
       "\n",
       "Here's a step-by-step approach to solve this problem using a sliding window technique combined with a prefix sum approach:\n",
       "\n",
       "1. **Prefix Sum Calculation:** Compute a prefix sum array where each element at index `i` gives the sum of elements from index `0` to index `i` of the original array. This helps in quickly calculating the sum of any subarray.\n",
       "\n",
       "2. **Sliding Window Technique:** Use a sliding window approach to consider all possible subarrays:\n",
       "   - For each window size `len`, starting from 1 up to the length of the array, slide the window across the array and calculate the average of the elements in the window.\n",
       "   - Keep track of the maximum average found.\n",
       "\n",
       "3. **Return the Maximum Average:** Finally, return the maximum average found during the sliding.\n",
       "\n",
       "Here's how the implementation looks in Python:\n",
       "\n",
       "```python\n",
       "def find_max_average(nums):\n",
       "    n = len(nums)\n",
       "    \n",
       "    # Step 1: Compute the prefix sum array\n",
       "    prefix_sum = [0] * (n + 1)\n",
       "    for i in range(n):\n",
       "        prefix_sum[i + 1] = prefix_sum[i] + nums[i]\n",
       "    \n",
       "    # Step 2: Initialize the maximum average variable\n",
       "    max_average = float('-inf')\n",
       "    \n",
       "    # Step 3: Use the sliding window to find the subarray with the largest average\n",
       "    for length in range(1, n + 1):\n",
       "        for i in range(n - length + 1):\n",
       "            total_sum = prefix_sum[i + length] - prefix_sum[i]\n",
       "            average = total_sum / length\n",
       "            if average > max_average:\n",
       "                max_average = average\n",
       "    \n",
       "    return max_average\n",
       "\n",
       "# Example usage:\n",
       "nums = [-2, 1, -3, 4, -1, 2, 1, -5, 4]\n",
       "print(find_max_average(nums))  # Output: 2.0 (subarray [4, -1, 2, 1] has the maximum average of 1.5)\n",
       "```\n",
       "\n",
       "### Explanation:\n",
       "\n",
       "- **Prefix Sum Array:** The prefix sum array helps in calculating the sum of any subarray in constant time. For example, the sum of the subarray from index `i` to `j` can be calculated as `prefix_sum[j + 1] - prefix_sum[i]`.\n",
       "\n",
       "- **Sliding Window:** We iterate over all possible lengths of subarrays and then over all possible starting indices of subarrays for that length. For each subarray, we calculate the average and compare it to the current maximum average.\n",
       "\n",
       "- **Optimal Solution:** This might not be the most optimally performing solution for large arrays because it has a time complexity of O(n^3) in the worst case due to the double nested loops over `length` and `i`. However, it correctly solves the problem in reasonable time for typical input sizes.\n",
       "\n",
       "If performance becomes a concern for larger arrays, more advanced techniques like binary search combined with sliding windows can be used to improve efficiency."
      ],
      "text/plain": [
       "<IPython.core.display.Markdown object>"
      ]
     },
     "metadata": {},
     "output_type": "display_data"
    }
   ],
   "source": [
    "ai_answer = completion.choices[0].message.content\n",
    "display(Markdown(ai_answer))"
   ]
  },
  {
   "cell_type": "markdown",
   "metadata": {},
   "source": [
    "# Conclusion"
   ]
  },
  {
   "cell_type": "markdown",
   "metadata": {},
   "source": [
    "We can all agree that the best solution to the problem is much simpler.\n",
    "\n",
    "Are you surprised by the AI's response? I am."
   ]
  }
 ],
 "metadata": {
  "kernelspec": {
   "display_name": "base",
   "language": "python",
   "name": "python3"
  },
  "language_info": {
   "codemirror_mode": {
    "name": "ipython",
    "version": 3
   },
   "file_extension": ".py",
   "mimetype": "text/x-python",
   "name": "python",
   "nbconvert_exporter": "python",
   "pygments_lexer": "ipython3",
   "version": "3.11.8"
  }
 },
 "nbformat": 4,
 "nbformat_minor": 2
}
