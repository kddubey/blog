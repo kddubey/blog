{
 "cells": [
  {
   "cell_type": "code",
   "execution_count": 1,
   "metadata": {},
   "outputs": [],
   "source": [
    "from IPython.display import display, Markdown\n",
    "import openai"
   ]
  },
  {
   "cell_type": "code",
   "execution_count": 2,
   "metadata": {},
   "outputs": [],
   "source": [
    "problem = \"\"\"\n",
    "Given an integer array `nums`, find the subarray with the largest average, and return\n",
    "its average.\n",
    "\n",
    "A subarray is a contiguous non-empty sequence of elements within an array.\n",
    "\n",
    "For example, for `nums = [-2,1,-3,4,-1,2,1,-5,4]`, one subarray is `[2,1,-5,4]`. Its\n",
    "average is `2 + 1 + (-5) + 4 / 4 = 0.5`.\n",
    "\n",
    "Implement your solution in Python. Think step-by-step.\n",
    "\"\"\""
   ]
  },
  {
   "cell_type": "markdown",
   "metadata": {},
   "source": [
    "# Problem"
   ]
  },
  {
   "cell_type": "markdown",
   "metadata": {},
   "source": [
    "Here's a LeetCode-looking problem:"
   ]
  },
  {
   "cell_type": "code",
   "execution_count": 3,
   "metadata": {},
   "outputs": [
    {
     "data": {
      "text/markdown": [
       "####################################################################################################\n",
       "\n",
       "Given an integer array `nums`, find the subarray with the largest average, and return\n",
       "its average.\n",
       "\n",
       "A subarray is a contiguous non-empty sequence of elements within an array.\n",
       "\n",
       "For example, for `nums = [-2,1,-3,4,-1,2,1,-5,4]`, one subarray is `[2,1,-5,4]`. Its\n",
       "average is `2 + 1 + (-5) + 4 / 4 = 0.5`.\n",
       "\n",
       "Implement your solution in Python. Think step-by-step.\n",
       "\n",
       "####################################################################################################"
      ],
      "text/plain": [
       "<IPython.core.display.Markdown object>"
      ]
     },
     "metadata": {},
     "output_type": "display_data"
    }
   ],
   "source": [
    "border = \"#\" * 100\n",
    "display(Markdown(f\"{border}\\n{problem}\\n{border}\"))"
   ]
  },
  {
   "cell_type": "markdown",
   "metadata": {},
   "source": [
    "# Pause"
   ]
  },
  {
   "cell_type": "markdown",
   "metadata": {},
   "source": [
    "Take a second to come up with the solution.\n",
    "\n",
    "Hint: there's a reson that you won't find this problem in LeetCode."
   ]
  },
  {
   "cell_type": "markdown",
   "metadata": {},
   "source": [
    "# AI"
   ]
  },
  {
   "cell_type": "markdown",
   "metadata": {},
   "source": [
    "Got it? Now let's see what GPT-4o says."
   ]
  },
  {
   "cell_type": "code",
   "execution_count": 4,
   "metadata": {},
   "outputs": [],
   "source": [
    "client = openai.Client()"
   ]
  },
  {
   "cell_type": "code",
   "execution_count": 5,
   "metadata": {},
   "outputs": [],
   "source": [
    "completion = client.chat.completions.create(\n",
    "    messages=[\n",
    "        {\"role\": \"system\", \"content\": \"You are a helpful coding assistant.\"},\n",
    "        {\"role\": \"user\", \"content\": problem},\n",
    "    ],\n",
    "    model=\"gpt-4o\",\n",
    ")"
   ]
  },
  {
   "cell_type": "code",
   "execution_count": 6,
   "metadata": {},
   "outputs": [
    {
     "data": {
      "text/markdown": [
       "To solve this problem, we need to find the subarray with the largest average and return that average. Here's a step-by-step approach to solve this using a variant of Kadane's Algorithm, which is typically used to find the subarray with the maximum sum.\n",
       "\n",
       "Here's the detailed plan:\n",
       "1. Initialize variables to store the maximum sum found so far (`max_sum`) and the current running sum (`current_sum`).\n",
       "2. Iterate over the elements of the array to update the running sum and the maximum sum.\n",
       "3. At each step, if the running sum becomes less than the current element, reset the running sum to the current element. This way, we are effectively starting a new subarray.\n",
       "4. Keep track of the number of elements in the subarray that gives the maximum sum to calculate the average at the end.\n",
       "5. After completing the iteration, return the highest average found.\n",
       "\n",
       "Here is the Python code implementing this logic:\n",
       "\n",
       "```python\n",
       "def find_largest_average(nums):\n",
       "    # Initialize variables to store the maximum sum and the current sum along with their lengths\n",
       "    max_sum = float('-inf')\n",
       "    current_sum = 0\n",
       "    max_length = 0\n",
       "    current_length = 0\n",
       "    \n",
       "    for num in nums:\n",
       "        # Update the current sum and length of the current subarray\n",
       "        if current_sum < 0:\n",
       "            current_sum = num\n",
       "            current_length = 1\n",
       "        else:\n",
       "            current_sum += num\n",
       "            current_length += 1\n",
       "        \n",
       "        # Check if we have found a new maximum sum subarray\n",
       "        if current_sum > max_sum or (current_sum == max_sum and current_length < max_length):\n",
       "            max_sum = current_sum\n",
       "            max_length = current_length\n",
       "    \n",
       "    # Return the maximum average\n",
       "    return max_sum / max_length\n",
       "\n",
       "# Example usage\n",
       "nums = [-2, 1, -3, 4, -1, 2, 1, -5, 4]\n",
       "print(find_largest_average(nums))  # Output: 2.0\n",
       "```\n",
       "\n",
       "### Explanation of the Code:\n",
       "1. **Initialization:**\n",
       "    - `max_sum` is initialized to negative infinity to ensure any subarray sum will be larger initially.\n",
       "    - `current_sum` and `current_length` are initialized to zero to start tracking sums and lengths of subarrays from scratch.\n",
       "    \n",
       "2. **Iterating through `nums`:**\n",
       "    - For each element `num`, if `current_sum` is less than zero, it indicates that adding `num` to the current subarray sum would only decrease the sum further. Hence, we start a new subarray with `current_sum` reset to `num` and `current_length` to 1.\n",
       "    - Otherwise, we add `num` to the `current_sum` and increment `current_length`.\n",
       "    \n",
       "3. **Tracking the Maximum Sum:**\n",
       "    - If `current_sum` is greater than `max_sum`, we update `max_sum` to `current_sum` and `max_length` to `current_length`.\n",
       "    - If `current_sum` is equal to `max_sum` but the length of the current subarray is shorter than the previously recorded subarray with the same sum, we update `max_length`.\n",
       "\n",
       "4. **Returning the Result:**\n",
       "    - Finally, we calculate the average by dividing `max_sum` by `max_length` and return it.\n",
       "\n",
       "In the provided example, the subarray `[4, -1, 2, 1]` gives the largest average when summed up."
      ],
      "text/plain": [
       "<IPython.core.display.Markdown object>"
      ]
     },
     "metadata": {},
     "output_type": "display_data"
    }
   ],
   "source": [
    "display(Markdown(completion.choices[0].message.content))"
   ]
  },
  {
   "cell_type": "markdown",
   "metadata": {},
   "source": [
    "Maybe the AI is correct, maybe it isn't. It doesn't really matter because the best\n",
    "answer is just `max(nums)`!"
   ]
  }
 ],
 "metadata": {
  "kernelspec": {
   "display_name": "base",
   "language": "python",
   "name": "python3"
  },
  "language_info": {
   "codemirror_mode": {
    "name": "ipython",
    "version": 3
   },
   "file_extension": ".py",
   "mimetype": "text/x-python",
   "name": "python",
   "nbconvert_exporter": "python",
   "pygments_lexer": "ipython3",
   "version": "3.11.8"
  }
 },
 "nbformat": 4,
 "nbformat_minor": 2
}
