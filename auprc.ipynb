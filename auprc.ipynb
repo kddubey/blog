{
 "cells": [
  {
   "cell_type": "markdown",
   "metadata": {},
   "source": [
    "**Description**: Simulate estimators—proposed in this\n",
    "[question](https://stats.stackexchange.com/q/622333/337906), its comments, and [my\n",
    "answer](https://stats.stackexchange.com/a/623015/337906)—which attempt to reduce the\n",
    "amount of model compute required to estimate average precision / the area under the\n",
    "precision-recall curve. TODO: understand why the $\\text{down-sample}$ estimator is\n",
    "biased one way or another depending on the implementation.\n",
    "\n",
    "**Estimated runtime**: 6 min.\n",
    "\n",
    "**Required packages**:\n",
    "```\n",
    "matplotlib>=3.4.3\n",
    "pandas\n",
    "scikit-learn>=0.24.2\n",
    "tqdm>=4.62.3\n",
    "```"
   ]
  },
  {
   "cell_type": "code",
   "execution_count": 1,
   "metadata": {},
   "outputs": [],
   "source": [
    "import matplotlib.pyplot as plt\n",
    "import numpy as np\n",
    "import pandas as pd\n",
    "from scipy.interpolate import interp1d\n",
    "\n",
    "from sklearn.metrics import roc_curve, average_precision_score, precision_recall_curve\n",
    "\n",
    "from tqdm.auto import tqdm"
   ]
  },
  {
   "cell_type": "markdown",
   "metadata": {},
   "source": [
    "# Utilities"
   ]
  },
  {
   "cell_type": "markdown",
   "metadata": {},
   "source": [
    "Steal and patch the [ECDF implementation from\n",
    "statsmodels](https://www.statsmodels.org/devel/_modules/statsmodels/distributions/empirical_distribution.html#ECDF)\n",
    "with a new method called `sample`. This allows for interpolated re-sampling, which helps\n",
    "in [avoiding\n",
    "ties](https://stats.stackexchange.com/questions/622333/is-it-valid-to-calculate-the-auprc-of-a-model-by-undersampling-one-class-and-the#comment1159941_622333)\n",
    "when we compute the precision-recall curve."
   ]
  },
  {
   "cell_type": "code",
   "execution_count": 2,
   "metadata": {},
   "outputs": [],
   "source": [
    "class StepFunction:\n",
    "    \"\"\"\n",
    "    A basic step function.\n",
    "\n",
    "    Values at the ends are handled in the simplest way possible:\n",
    "    everything to the left of x[0] is set to ival; everything\n",
    "    to the right of x[-1] is set to y[-1].\n",
    "\n",
    "    Parameters\n",
    "    ----------\n",
    "    x : array_like\n",
    "    y : array_like\n",
    "    ival : float\n",
    "        ival is the value given to the values to the left of x[0]. Default\n",
    "        is 0.\n",
    "    sorted : bool\n",
    "        Default is False.\n",
    "    side : {'left', 'right'}, optional\n",
    "        Default is 'left'. Defines the shape of the intervals constituting the\n",
    "        steps. 'right' correspond to [a, b) intervals and 'left' to (a, b].\n",
    "\n",
    "    Examples\n",
    "    --------\n",
    "    >>> import numpy as np\n",
    "    >>> from statsmodels.distributions.empirical_distribution import (\n",
    "    >>>     StepFunction)\n",
    "    >>>\n",
    "    >>> x = np.arange(20)\n",
    "    >>> y = np.arange(20)\n",
    "    >>> f = StepFunction(x, y)\n",
    "    >>>\n",
    "    >>> print(f(3.2))\n",
    "    3.0\n",
    "    >>> print(f([[3.2,4.5],[24,-3.1]]))\n",
    "    [[  3.   4.]\n",
    "     [ 19.   0.]]\n",
    "    >>> f2 = StepFunction(x, y, side='right')\n",
    "    >>>\n",
    "    >>> print(f(3.0))\n",
    "    2.0\n",
    "    >>> print(f2(3.0))\n",
    "    3.0\n",
    "    \"\"\"\n",
    "\n",
    "    def __init__(self, x, y, ival=0.0, sorted=False, side=\"left\"):  # noqa\n",
    "        if side.lower() not in [\"right\", \"left\"]:\n",
    "            msg = \"side can take the values 'right' or 'left'\"\n",
    "            raise ValueError(msg)\n",
    "        self.side = side\n",
    "\n",
    "        _x = np.asarray(x)\n",
    "        _y = np.asarray(y)\n",
    "\n",
    "        if _x.shape != _y.shape:\n",
    "            msg = \"x and y do not have the same shape\"\n",
    "            raise ValueError(msg)\n",
    "        if len(_x.shape) != 1:\n",
    "            msg = \"x and y must be 1-dimensional\"\n",
    "            raise ValueError(msg)\n",
    "\n",
    "        self.x = np.r_[-np.inf, _x]\n",
    "        self.y = np.r_[ival, _y]\n",
    "\n",
    "        if not sorted:\n",
    "            asort = np.argsort(self.x)\n",
    "            self.x = np.take(self.x, asort, 0)\n",
    "            self.y = np.take(self.y, asort, 0)\n",
    "        self.n = self.x.shape[0]\n",
    "\n",
    "    def __call__(self, time):\n",
    "        tind = np.searchsorted(self.x, time, self.side) - 1\n",
    "        return self.y[tind]\n",
    "\n",
    "\n",
    "class ECDF(StepFunction):\n",
    "    \"\"\"\n",
    "    Return the Empirical CDF of an array as a step function.\n",
    "\n",
    "    Parameters\n",
    "    ----------\n",
    "    x : array_like\n",
    "        Observations\n",
    "    side : {'left', 'right'}, optional\n",
    "        Default is 'right'. Defines the shape of the intervals constituting the\n",
    "        steps. 'right' correspond to [a, b) intervals and 'left' to (a, b].\n",
    "\n",
    "    Returns\n",
    "    -------\n",
    "    Empirical CDF as a step function.\n",
    "\n",
    "    Examples\n",
    "    --------\n",
    "    >>> import numpy as np\n",
    "    >>> from statsmodels.distributions.empirical_distribution import ECDF\n",
    "    >>>\n",
    "    >>> ecdf = ECDF([3, 3, 1, 4])\n",
    "    >>>\n",
    "    >>> ecdf([3, 55, 0.5, 1.5])\n",
    "    array([ 0.75,  1.  ,  0.  ,  0.25])\n",
    "    \"\"\"\n",
    "\n",
    "    def __init__(self, x, side=\"right\"):\n",
    "        x = np.array(x, copy=True)\n",
    "        x.sort()\n",
    "        nobs = len(x)\n",
    "        y = np.linspace(1.0 / nobs, 1, nobs)\n",
    "        super(ECDF, self).__init__(x, y, side=side, sorted=True)\n",
    "        self.inverse_ecdf = interp1d(self.y, self.x, assume_sorted=True)\n",
    "\n",
    "    def sample(\n",
    "        self,\n",
    "        n: int = 1,\n",
    "        theoretical_min: float | None = None,\n",
    "        rng: np.random.Generator = None,\n",
    "    ) -> float | np.ndarray:\n",
    "        \"\"\"\n",
    "        Sample data using an interpolated inverse of the ECDF.\n",
    "\n",
    "        Parameters\n",
    "        ----------\n",
    "        n : int, optional\n",
    "            number of samples to draw, by default 1\n",
    "        theoretical_min : float, optional\n",
    "            theoretical minimum of the range of the data, by default None\n",
    "        rng : np.random.Generator, optional\n",
    "            random number generator, by default None\n",
    "\n",
    "        Returns\n",
    "        -------\n",
    "        np.float64 | np.ndarray\n",
    "            sample(s)\n",
    "\n",
    "        Examples\n",
    "        --------\n",
    "        >>> import numpy as np\n",
    "        >>> from statsmodels.distributions.empirical_distribution import ECDF\n",
    "        >>>\n",
    "        >>> ecdf = ECDF([3, 3, 1, 4])\n",
    "        >>>\n",
    "        >>> ecdf.sample()\n",
    "        3.589682525325097\n",
    "        \"\"\"\n",
    "        if rng is None:\n",
    "            uniforms = np.random.uniform(size=n)\n",
    "        else:\n",
    "            uniforms = rng.uniform(size=n)\n",
    "        samples = self.inverse_ecdf(uniforms)\n",
    "        if theoretical_min is None:\n",
    "            return samples[0] if n == 1 else samples\n",
    "        samples[samples == -np.inf] = theoretical_min\n",
    "        return samples[0] if n == 1 else samples"
   ]
  },
  {
   "cell_type": "markdown",
   "metadata": {},
   "source": [
    "# Scratch head"
   ]
  },
  {
   "cell_type": "markdown",
   "metadata": {},
   "source": [
    "Here's a more naive and slow re-implementation of sklearn's `average_precision`. It ends\n",
    "up being quite close to sklearn, which is a bummer b/c it means I have no idea what's\n",
    "causing inaccuracies during re-sampling when compared to the (second)\n",
    "`average_precision_slow` function which I end up using."
   ]
  },
  {
   "cell_type": "code",
   "execution_count": 3,
   "metadata": {},
   "outputs": [],
   "source": [
    "# def _binary_clf_curve_slow(\n",
    "#     y_true: np.ndarray,\n",
    "#     y_score: np.ndarray,\n",
    "# ) -> tuple[np.ndarray, np.ndarray, np.ndarray]:\n",
    "#     # steal the nice properties of sklearn's thresholds by calling roc_curve\n",
    "#     # _, _, thresholds = roc_curve(\n",
    "#     #     y_true,\n",
    "#     #     y_score,\n",
    "#     # )\n",
    "\n",
    "#     thresholds = np.linspace(0, 1, num=2_000)[::-1]\n",
    "\n",
    "#     # mask out positive predictions\n",
    "#     positives_mask: np.ndarray = y_true == 1\n",
    "\n",
    "#     # given threshold t, false positive rate = Pr(pred > t | label is negative)\n",
    "#     _negative_scores = y_score[~positives_mask]\n",
    "#     fps = np.array([np.sum(_negative_scores > t) for t in thresholds])\n",
    "\n",
    "#     # given threshold t, true positive rate  = Pr(pred > t | label is positive)\n",
    "#     _positive_scores = y_score[positives_mask]\n",
    "#     tps = np.array([np.sum(_positive_scores > t) for t in thresholds])\n",
    "\n",
    "#     return fps, tps, thresholds\n",
    "\n",
    "\n",
    "# def roc_curve_slow(\n",
    "#     y_true: np.ndarray,\n",
    "#     y_score: np.ndarray,\n",
    "# ) -> tuple[np.ndarray, np.ndarray, np.ndarray]:\n",
    "#     fps, tps, thresholds = _binary_clf_curve_slow(y_true, y_score)\n",
    "#     fprs = fps / fps[-1]  # / Pr(label is negative)\n",
    "#     tprs = tps / tps[-1]  # / Pr(label is positive)\n",
    "#     return fprs, tprs, thresholds\n",
    "\n",
    "\n",
    "# def precision_recall_curve_slow(\n",
    "#     y_true: np.ndarray,\n",
    "#     y_score: np.ndarray,\n",
    "#     frac_positive_observed: float | None = None,\n",
    "# ) -> tuple[np.ndarray, np.ndarray, np.ndarray]:\n",
    "#     fps, tps, thresholds = _binary_clf_curve_slow(y_true, y_score)\n",
    "\n",
    "#     ps = tps + fps\n",
    "#     tprs = tps / tps[-1]  # recalls\n",
    "#     if frac_positive_observed is None:\n",
    "#         numerators = tps\n",
    "#         denominators = ps\n",
    "#     else:\n",
    "#         # estimate precision using law of total probability\n",
    "#         numerators = tprs * frac_positive_observed\n",
    "#         denominators = numerators + ((fps / fps[-1]) * (1 - frac_positive_observed))\n",
    "\n",
    "#     precisions = np.zeros_like(tps).astype(np.float64)\n",
    "#     np.divide(numerators, denominators, out=precisions, where=(ps != 0))\n",
    "\n",
    "#     return precisions[::-1], tprs[::-1], thresholds\n",
    "\n",
    "\n",
    "# def average_precision_score_slow(\n",
    "#     y_true: np.ndarray, y_score: np.ndarray, frac_positive_observed: float | None = None\n",
    "# ) -> float:\n",
    "#     precisions, recalls, _ = precision_recall_curve_slow(\n",
    "#         y_true, y_score, frac_positive_observed=frac_positive_observed\n",
    "#     )\n",
    "#     return -np.diff(recalls) @ precisions[:-1]"
   ]
  },
  {
   "cell_type": "code",
   "execution_count": 4,
   "metadata": {},
   "outputs": [],
   "source": [
    "# NUM_NEGATIVES = 100_000\n",
    "# NUM_POSITIVES = 1_000\n",
    "# PARAMETERS_NEGATIVE = (0.3, 1.3)  # a, b for beta distr\n",
    "# PARAMETERS_POSITIVE = (2, 0.9)  # a, b for beta distr\n",
    "\n",
    "# slow = []\n",
    "# fast = []\n",
    "\n",
    "# for _ in tqdm(range(200)):\n",
    "#     _negatives = np.random.beta(*PARAMETERS_NEGATIVE, NUM_NEGATIVES)\n",
    "#     _positives = np.random.beta(*PARAMETERS_POSITIVE, NUM_POSITIVES)\n",
    "\n",
    "#     y_true = np.concatenate((np.zeros(len(_negatives)), np.ones(len(_positives))))\n",
    "#     y_score = np.concatenate((_negatives, _positives))\n",
    "#     precisions_slow, recalls_slow, thresholds_slow = precision_recall_curve_slow(\n",
    "#         y_true, y_score\n",
    "#     )\n",
    "#     precisions, recalls, thresholds = precision_recall_curve(y_true, y_score)\n",
    "#     slow.append(-np.diff(recalls_slow) @ precisions_slow[:-1])\n",
    "#     fast.append(-np.diff(recalls) @ precisions[:-1])\n",
    "\n",
    "# slow = np.array(slow)\n",
    "# fast = np.array(fast)\n",
    "\n",
    "# plt.hist(fast - slow, bins=20);"
   ]
  },
  {
   "cell_type": "markdown",
   "metadata": {},
   "source": [
    "I have no idea why this function works better than sklearn's."
   ]
  },
  {
   "cell_type": "code",
   "execution_count": 5,
   "metadata": {},
   "outputs": [],
   "source": [
    "def average_precision_score_slow(\n",
    "    y_true: np.ndarray,\n",
    "    y_score: np.ndarray,\n",
    "    frac_positive_observed: float | None = None,\n",
    "    linear_grid: bool = False,\n",
    ") -> float:\n",
    "    if not np.all(np.unique(y_true) == np.array([0, 1])):\n",
    "        raise ValueError(\"y_true must only contain 1s and 0s\")\n",
    "\n",
    "    # set grid of thresholds. currently arbitrarily using 2001\n",
    "    if linear_grid:\n",
    "        thresholds = np.linspace(0, 1, num=2_001)\n",
    "        sign = -1\n",
    "    else:\n",
    "        # steal the nice properties of sklearn's thresholds by calling roc_curve\n",
    "        _, _, thresholds = roc_curve(\n",
    "            y_true,\n",
    "            y_score,\n",
    "        )\n",
    "        sign = 1\n",
    "\n",
    "    # mask out positive predictions\n",
    "    positives_mask: np.ndarray = y_true == 1\n",
    "\n",
    "    # given threshold t, false positive rate = Pr(pred > t | label is negative)\n",
    "    _negative_scores = y_score[~positives_mask]\n",
    "    false_positive_rates = np.array([np.mean(_negative_scores > t) for t in thresholds])\n",
    "\n",
    "    # given threshold t, recall AKA TPR/sens = Pr(pred > t | label is positive)\n",
    "    _positive_scores = y_score[positives_mask]\n",
    "    recalls = np.array([np.mean(_positive_scores > t) for t in thresholds])\n",
    "\n",
    "    # exclude the few cases where the Pr(pred > t) estimate is exactly 0 b/c either\n",
    "    # fpr is 0 or recall is 0. this would happen in the early indexes b/c thresholds is\n",
    "    # decreasing. need to check this\n",
    "    _one_nonzero_mask = (false_positive_rates != 0) | (recalls != 0)\n",
    "    false_positive_rates = false_positive_rates[_one_nonzero_mask]\n",
    "    recalls = recalls[_one_nonzero_mask]\n",
    "\n",
    "    # estimate precision using law of total probability\n",
    "    if frac_positive_observed is None:\n",
    "        _num_positives = positives_mask.sum()\n",
    "        _num_negatives = len(y_score) - _num_positives\n",
    "        frac_positive_observed = _num_positives / (_num_positives + _num_negatives)\n",
    "    numerators = recalls * frac_positive_observed\n",
    "    denominators = numerators + (false_positive_rates * (1 - frac_positive_observed))\n",
    "    precisions = numerators / denominators\n",
    "\n",
    "    # Return the step function integral.\n",
    "    # precisions[-1] is excluded to align properly w/ np.diff(recalls)\n",
    "    return sign * (np.diff(recalls) @ precisions[:-1])"
   ]
  },
  {
   "cell_type": "code",
   "execution_count": 6,
   "metadata": {},
   "outputs": [],
   "source": [
    "def auprc(\n",
    "    scores_of_negatives: np.ndarray,\n",
    "    scores_of_positives: np.ndarray,\n",
    "    use_slow: bool = False,\n",
    "    frac_positive_observed: float | None = None,\n",
    ") -> float:\n",
    "    \"\"\"\n",
    "    Average precision, i.e., area under the precision-recall curve where recall is on\n",
    "    the x axis.\n",
    "    \"\"\"\n",
    "    y_true = np.concatenate(\n",
    "        (np.zeros(len(scores_of_negatives)), np.ones(len(scores_of_positives)))\n",
    "    )\n",
    "    y_score = np.concatenate((scores_of_negatives, scores_of_positives))\n",
    "    if use_slow or frac_positive_observed is not None:\n",
    "        return average_precision_score_slow(\n",
    "            y_true, y_score, frac_positive_observed=frac_positive_observed\n",
    "        )\n",
    "    else:\n",
    "        return average_precision_score(y_true, y_score)"
   ]
  },
  {
   "cell_type": "markdown",
   "metadata": {},
   "source": [
    "# Simulation"
   ]
  },
  {
   "cell_type": "code",
   "execution_count": 7,
   "metadata": {},
   "outputs": [],
   "source": [
    "# Input simulation parameters\n",
    "NUM_SIMULATIONS = 500\n",
    "NUM_NEGATIVES = 100_000\n",
    "NUM_POSITIVES = 1_000\n",
    "PARAMETERS_NEGATIVE = (0.3, 1.3)  # a, b for beta distr\n",
    "PARAMETERS_POSITIVE = (2, 0.9)  # a, b for beta distr\n",
    "\n",
    "# Checks\n",
    "assert NUM_NEGATIVES > NUM_POSITIVES, \"This simulation currently assumes more - than +\""
   ]
  },
  {
   "cell_type": "code",
   "execution_count": 8,
   "metadata": {},
   "outputs": [
    {
     "data": {
      "application/vnd.jupyter.widget-view+json": {
       "model_id": "5e57986a0fc04e72a2177ecbb5d7ae3c",
       "version_major": 2,
       "version_minor": 0
      },
      "text/plain": [
       "  0%|          | 0/500 [00:00<?, ?it/s]"
      ]
     },
     "metadata": {},
     "output_type": "display_data"
    }
   ],
   "source": [
    "# we'll fill in the lists\n",
    "auprc_df: dict[str, list[float]] = {\n",
    "    \"true\": [],\n",
    "    \"down-sample\": [],\n",
    "    \"repeat\": [],\n",
    "    \"up-sample\": [],\n",
    "    \"re-weigh\": [],\n",
    "}\n",
    "\n",
    "# run simulation ~6 min.\n",
    "for _ in tqdm(range(NUM_SIMULATIONS)):\n",
    "    # simluate classifier scores. TODO: instead use an actual model's scores\n",
    "    negatives = np.random.beta(*PARAMETERS_NEGATIVE, NUM_NEGATIVES)\n",
    "    positives = np.random.beta(*PARAMETERS_POSITIVE, NUM_POSITIVES)\n",
    "\n",
    "    frac_positive_observed = len(positives) / (len(positives) + len(negatives))\n",
    "\n",
    "    # \"true\" AUPRC\n",
    "    auprc_df[\"true\"].append(auprc(negatives, positives))\n",
    "\n",
    "    # downsample positives and negatives equally. it uses the same amount of model\n",
    "    # compute as other estimators\n",
    "    _total = NUM_POSITIVES * 2\n",
    "    _num_negatives = int((1 - frac_positive_observed) * _total)\n",
    "    _num_positives = int(frac_positive_observed * _total)\n",
    "    _negatives_downsampled = np.random.choice(negatives, _num_negatives, replace=False)\n",
    "    _positives_downsampled = np.random.choice(positives, _num_positives, replace=False)\n",
    "    auprc_df[\"down-sample\"].append(\n",
    "        auprc(_negatives_downsampled, _positives_downsampled, use_slow=True)\n",
    "    )\n",
    "\n",
    "    # down-sample negatives to match positive frequency. motivation: we can only afford\n",
    "    # to run the model on this subset.\n",
    "    # all estimators should use this particular data subset to reduce the variance of\n",
    "    # our comparisons.\n",
    "    negatives_downsampled = np.random.choice(negatives, len(positives), replace=False)\n",
    "\n",
    "    # repeat the negatives to match the actual number of negatives\n",
    "    _negatives_repeated = np.repeat(\n",
    "        negatives_downsampled, int(len(negatives) / len(positives))\n",
    "    )\n",
    "    auprc_df[\"repeat\"].append(auprc(_negatives_repeated, positives, use_slow=True))\n",
    "\n",
    "    # randomly up-sample the negatives to match the actual number of negatives\n",
    "    _ecdf = ECDF(negatives_downsampled)\n",
    "    _negatives_upsampled = _ecdf.sample(len(negatives), theoretical_min=0)\n",
    "    auprc_df[\"up-sample\"].append(auprc(_negatives_upsampled, positives, use_slow=True))\n",
    "\n",
    "    # re-weigh the AUPRC\n",
    "    auprc_df[\"re-weigh\"].append(\n",
    "        auprc(\n",
    "            negatives_downsampled,\n",
    "            positives,\n",
    "            use_slow=True,\n",
    "            frac_positive_observed=frac_positive_observed,\n",
    "        )\n",
    "    )"
   ]
  },
  {
   "cell_type": "markdown",
   "metadata": {},
   "source": [
    "Here's what the distributions look like for a somewhat discriminative model trained on a\n",
    "pretty imbalanced dataset (lot of negatives):"
   ]
  },
  {
   "cell_type": "code",
   "execution_count": 9,
   "metadata": {},
   "outputs": [
    {
     "data": {
      "image/png": "[encoded data removed]",
      "text/plain": [
       "<Figure size 500x300 with 1 Axes>"
      ]
     },
     "metadata": {},
     "output_type": "display_data"
    }
   ],
   "source": [
    "plt.figure(figsize=(5, 3))\n",
    "plt.hist(negatives, label=\"negative observation\", alpha=0.5, bins=20, density=True)\n",
    "plt.hist(positives, label=\"positive observation\", alpha=0.5, bins=20, density=True)\n",
    "plt.xlabel(\"predicted probability of positive class\")\n",
    "plt.ylabel(\"density\")\n",
    "plt.legend();"
   ]
  },
  {
   "cell_type": "code",
   "execution_count": 10,
   "metadata": {},
   "outputs": [],
   "source": [
    "auprc_df: pd.DataFrame = pd.DataFrame(auprc_df)"
   ]
  },
  {
   "cell_type": "code",
   "execution_count": 11,
   "metadata": {},
   "outputs": [
    {
     "data": {
      "text/plain": [
       "count    500.000\n",
       "mean       0.114\n",
       "std        0.008\n",
       "min        0.089\n",
       "25%        0.108\n",
       "50%        0.113\n",
       "75%        0.119\n",
       "max        0.143\n",
       "Name: true, dtype: float64"
      ]
     },
     "execution_count": 11,
     "metadata": {},
     "output_type": "execute_result"
    }
   ],
   "source": [
    "auprc_df[\"true\"].describe().round(3)"
   ]
  },
  {
   "cell_type": "markdown",
   "metadata": {},
   "source": [
    "Make a dataframe of paired errors for each estimator"
   ]
  },
  {
   "cell_type": "code",
   "execution_count": 12,
   "metadata": {},
   "outputs": [],
   "source": [
    "error_df = dict()  # signed\n",
    "_error_column_prefix = \"error \"\n",
    "for estimator in auprc_df.columns:\n",
    "    if estimator == \"true\":\n",
    "        continue\n",
    "    error_df[f\"{_error_column_prefix}{estimator}\"] = (\n",
    "        auprc_df[estimator] - auprc_df[\"true\"]\n",
    "    )\n",
    "error_df: pd.DataFrame = pd.DataFrame(error_df)"
   ]
  },
  {
   "cell_type": "code",
   "execution_count": 13,
   "metadata": {},
   "outputs": [
    {
     "name": "stdout",
     "output_type": "stream",
     "text": [
      "       error down-sample  error repeat  error up-sample  error re-weigh\n",
      "count            500.000       500.000          500.000         500.000\n",
      "mean              -0.021         0.009           -0.002           0.009\n",
      "std                0.041         0.027            0.020           0.027\n",
      "min               -0.094        -0.042           -0.047          -0.042\n",
      "25%               -0.050        -0.010           -0.015          -0.010\n",
      "50%               -0.031         0.004           -0.005           0.004\n",
      "75%                0.001         0.024            0.009           0.024\n",
      "max                0.220         0.113            0.066           0.113\n"
     ]
    }
   ],
   "source": [
    "print(error_df.describe().round(3))  # print for easy copy-paste"
   ]
  },
  {
   "cell_type": "code",
   "execution_count": 14,
   "metadata": {},
   "outputs": [
    {
     "data": {
      "text/plain": [
       "error down-sample    0.260\n",
       "error repeat         0.568\n",
       "error up-sample      0.384\n",
       "error re-weigh       0.568\n",
       "dtype: float64"
      ]
     },
     "execution_count": 14,
     "metadata": {},
     "output_type": "execute_result"
    }
   ],
   "source": [
    "(error_df > 0).mean()"
   ]
  },
  {
   "cell_type": "markdown",
   "metadata": {},
   "source": [
    "As expected, down-sampling incurs really high variance b/c it's only looking at a\n",
    "handful of positive cases. Don't ask me why it's so biased."
   ]
  },
  {
   "cell_type": "code",
   "execution_count": 15,
   "metadata": {},
   "outputs": [],
   "source": [
    "# error_df.plot.hist(\n",
    "#     bins=20,\n",
    "#     alpha=1/len(error_df.columns),\n",
    "#     xlabel=\"error\",\n",
    "#     ylabel=\"frequency\",\n",
    "#     title=\"AUPRC estimator error distributions\",\n",
    "# );"
   ]
  },
  {
   "cell_type": "code",
   "execution_count": 16,
   "metadata": {},
   "outputs": [
    {
     "data": {
      "image/png": "[encoded data removed]",
      "text/plain": [
       "<Figure size 600x600 with 4 Axes>"
      ]
     },
     "metadata": {},
     "output_type": "display_data"
    }
   ],
   "source": [
    "bins = 20\n",
    "\n",
    "fig, axes = plt.subplots(\n",
    "    nrows=len(error_df.columns), ncols=1, figsize=(6, len(error_df.columns) * 1.5)\n",
    ")\n",
    "\n",
    "_common_min = error_df.min().min()\n",
    "_common_max = error_df.max().max()\n",
    "colors = plt.rcParams[\"axes.prop_cycle\"].by_key()[\"color\"]\n",
    "\n",
    "# Plot histograms for each column\n",
    "for i, column in enumerate(error_df.columns):\n",
    "    error_df[column].hist(\n",
    "        bins=bins, ax=axes[i], range=(_common_min, _common_max), color=colors[i]\n",
    "    )\n",
    "    estimator = column.removeprefix(_error_column_prefix)\n",
    "    axes[i].set_xlabel(f\"{estimator} - true AUPRC\")\n",
    "    axes[i].set_ylabel(\"frequency\")\n",
    "\n",
    "fig.suptitle(\"AUPRC estimator error distributions\", fontsize=12)\n",
    "plt.tight_layout()\n",
    "plt.subplots_adjust(hspace=1.2)"
   ]
  }
 ],
 "metadata": {
  "kernelspec": {
   "display_name": "base",
   "language": "python",
   "name": "python3"
  },
  "language_info": {
   "codemirror_mode": {
    "name": "ipython",
    "version": 3
   },
   "file_extension": ".py",
   "mimetype": "text/x-python",
   "name": "python",
   "nbconvert_exporter": "python",
   "pygments_lexer": "ipython3",
   "version": "3.11.3"
  },
  "orig_nbformat": 4
 },
 "nbformat": 4,
 "nbformat_minor": 2
}
