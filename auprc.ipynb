{
 "cells": [
  {
   "cell_type": "markdown",
   "metadata": {},
   "source": [
    "**Description**: Simulate estimators—proposed in this\n",
    "[question](https://stats.stackexchange.com/q/622333/337906), its comments, and [my\n",
    "answer](https://stats.stackexchange.com/a/623015/337906)—which attempt to reduce the\n",
    "amount of model compute required to estimate average precision / the area under the\n",
    "precision-recall curve. TODO: understand why the non-$\\text{re-weigh}$ estimators are\n",
    "overestimators. I'm pretty sure it's due to an artifact in sklearn's thresholds for\n",
    "ROC and precision-recall curves.\n",
    "\n",
    "**Estimated runtime**: 3 min.\n",
    "\n",
    "**Required packages**:\n",
    "```\n",
    "matplotlib>=3.4.3\n",
    "pandas\n",
    "scikit-learn>=0.24.2\n",
    "tqdm>=4.62.3\n",
    "```"
   ]
  },
  {
   "cell_type": "code",
   "execution_count": 1,
   "metadata": {},
   "outputs": [],
   "source": [
    "import matplotlib.pyplot as plt\n",
    "import numpy as np\n",
    "import pandas as pd\n",
    "from scipy.interpolate import interp1d\n",
    "\n",
    "from sklearn.metrics import roc_curve, average_precision_score\n",
    "\n",
    "from tqdm.auto import tqdm"
   ]
  },
  {
   "cell_type": "markdown",
   "metadata": {},
   "source": [
    "# Utilities"
   ]
  },
  {
   "cell_type": "markdown",
   "metadata": {},
   "source": [
    "Steal and patch the [ECDF implementation from\n",
    "statsmodels](https://www.statsmodels.org/devel/_modules/statsmodels/distributions/empirical_distribution.html#ECDF)\n",
    "with a new method called `sample`. This allows for interpolated re-sampling, which helps\n",
    "in [avoiding\n",
    "ties](https://stats.stackexchange.com/questions/622333/is-it-valid-to-calculate-the-auprc-of-a-model-by-undersampling-one-class-and-the#comment1159941_622333)\n",
    "when we compute the precision-recall curve.\n",
    "\n",
    "The `sample` method is based on the [SO answer\n",
    "here](https://stackoverflow.com/questions/44132543/python-inverse-empirical-cumulative-distribution-function-ecdf)."
   ]
  },
  {
   "cell_type": "code",
   "execution_count": 2,
   "metadata": {},
   "outputs": [],
   "source": [
    "class StepFunction:\n",
    "    \"\"\"\n",
    "    A basic step function.\n",
    "\n",
    "    Values at the ends are handled in the simplest way possible:\n",
    "    everything to the left of x[0] is set to ival; everything\n",
    "    to the right of x[-1] is set to y[-1].\n",
    "\n",
    "    Parameters\n",
    "    ----------\n",
    "    x : array_like\n",
    "    y : array_like\n",
    "    ival : float\n",
    "        ival is the value given to the values to the left of x[0]. Default\n",
    "        is 0.\n",
    "    sorted : bool\n",
    "        Default is False.\n",
    "    side : {'left', 'right'}, optional\n",
    "        Default is 'left'. Defines the shape of the intervals constituting the\n",
    "        steps. 'right' correspond to [a, b) intervals and 'left' to (a, b].\n",
    "\n",
    "    Examples\n",
    "    --------\n",
    "    >>> import numpy as np\n",
    "    >>> from statsmodels.distributions.empirical_distribution import (\n",
    "    >>>     StepFunction)\n",
    "    >>>\n",
    "    >>> x = np.arange(20)\n",
    "    >>> y = np.arange(20)\n",
    "    >>> f = StepFunction(x, y)\n",
    "    >>>\n",
    "    >>> print(f(3.2))\n",
    "    3.0\n",
    "    >>> print(f([[3.2,4.5],[24,-3.1]]))\n",
    "    [[  3.   4.]\n",
    "     [ 19.   0.]]\n",
    "    >>> f2 = StepFunction(x, y, side='right')\n",
    "    >>>\n",
    "    >>> print(f(3.0))\n",
    "    2.0\n",
    "    >>> print(f2(3.0))\n",
    "    3.0\n",
    "    \"\"\"\n",
    "\n",
    "    def __init__(self, x, y, ival=0.0, sorted=False, side=\"left\"):  # noqa\n",
    "        if side.lower() not in [\"right\", \"left\"]:\n",
    "            msg = \"side can take the values 'right' or 'left'\"\n",
    "            raise ValueError(msg)\n",
    "        self.side = side\n",
    "\n",
    "        _x = np.asarray(x)\n",
    "        _y = np.asarray(y)\n",
    "\n",
    "        if _x.shape != _y.shape:\n",
    "            msg = \"x and y do not have the same shape\"\n",
    "            raise ValueError(msg)\n",
    "        if len(_x.shape) != 1:\n",
    "            msg = \"x and y must be 1-dimensional\"\n",
    "            raise ValueError(msg)\n",
    "\n",
    "        self.x = np.r_[-np.inf, _x]\n",
    "        self.y = np.r_[ival, _y]\n",
    "\n",
    "        if not sorted:\n",
    "            asort = np.argsort(self.x)\n",
    "            self.x = np.take(self.x, asort, 0)\n",
    "            self.y = np.take(self.y, asort, 0)\n",
    "        self.n = self.x.shape[0]\n",
    "\n",
    "    def __call__(self, time):\n",
    "        tind = np.searchsorted(self.x, time, self.side) - 1\n",
    "        return self.y[tind]\n",
    "\n",
    "\n",
    "class ECDF(StepFunction):\n",
    "    \"\"\"\n",
    "    Return the Empirical CDF of an array as a step function.\n",
    "\n",
    "    Parameters\n",
    "    ----------\n",
    "    x : array_like\n",
    "        Observations\n",
    "    side : {'left', 'right'}, optional\n",
    "        Default is 'right'. Defines the shape of the intervals constituting the\n",
    "        steps. 'right' correspond to [a, b) intervals and 'left' to (a, b].\n",
    "\n",
    "    Returns\n",
    "    -------\n",
    "    Empirical CDF as a step function.\n",
    "\n",
    "    Examples\n",
    "    --------\n",
    "    >>> import numpy as np\n",
    "    >>> from statsmodels.distributions.empirical_distribution import ECDF\n",
    "    >>>\n",
    "    >>> ecdf = ECDF([3, 3, 1, 4])\n",
    "    >>>\n",
    "    >>> ecdf([3, 55, 0.5, 1.5])\n",
    "    array([ 0.75,  1.  ,  0.  ,  0.25])\n",
    "    \"\"\"\n",
    "\n",
    "    def __init__(self, x, side=\"right\"):\n",
    "        x = np.array(x, copy=True)\n",
    "        x.sort()\n",
    "        nobs = len(x)\n",
    "        y = np.linspace(1.0 / nobs, 1, nobs)\n",
    "        super(ECDF, self).__init__(x, y, side=side, sorted=True)\n",
    "        self.inverse_ecdf = interp1d(self.y, self.x, assume_sorted=True)\n",
    "\n",
    "    def sample(\n",
    "        self,\n",
    "        n: int = 1,\n",
    "        theoretical_min: float | None = None,\n",
    "        rng: np.random.Generator = None,\n",
    "    ) -> np.float64 | np.ndarray:\n",
    "        \"\"\"\n",
    "        Sample data using an interpolated inverse of the ECDF.\n",
    "\n",
    "        Parameters\n",
    "        ----------\n",
    "        n : int, optional\n",
    "            number of samples to draw, by default 1\n",
    "        theoretical_min : float, optional\n",
    "            theoretical minimum of the range of the data, by default None\n",
    "        rng : np.random.Generator, optional\n",
    "            random number generator, by default None\n",
    "\n",
    "        Returns\n",
    "        -------\n",
    "        np.float64 | np.ndarray\n",
    "            sample(s)\n",
    "\n",
    "        Examples\n",
    "        --------\n",
    "        >>> import numpy as np\n",
    "        >>> from statsmodels.distributions.empirical_distribution import ECDF\n",
    "        >>>\n",
    "        >>> ecdf = ECDF([3, 3, 1, 4])\n",
    "        >>>\n",
    "        >>> ecdf.sample()\n",
    "        3.0\n",
    "        \"\"\"\n",
    "        if rng is None:\n",
    "            uniforms = np.random.uniform(size=n)\n",
    "        else:\n",
    "            uniforms = rng.uniform(size=n)\n",
    "        samples = self.inverse_ecdf(uniforms)\n",
    "        if theoretical_min is None:\n",
    "            return samples[0] if n == 1 else samples\n",
    "        samples[samples == -np.inf] = theoretical_min\n",
    "        return samples[0] if n == 1 else samples"
   ]
  },
  {
   "cell_type": "code",
   "execution_count": 3,
   "metadata": {},
   "outputs": [],
   "source": [
    "def average_precision_score_reweighed(\n",
    "    y_true,\n",
    "    y_score,\n",
    "    frac_positive_observed: float,\n",
    "):\n",
    "    # steal the nice properties of sklearn's thresholds by calling roc_curve\n",
    "    _, _, thresholds = roc_curve(\n",
    "        y_true,\n",
    "        y_score,\n",
    "    )\n",
    "\n",
    "    # mask out positive predictions\n",
    "    _positives_mask = y_true == 1\n",
    "\n",
    "    # given threshold t, false positive rate = Pr(pred > t | label is negative)\n",
    "    _negative_scores = y_score[~_positives_mask]\n",
    "    false_positive_rates = np.array([np.mean(_negative_scores > t) for t in thresholds])\n",
    "\n",
    "    # given threshold t, recall AKA TPR/sens = Pr(pred > t | label is positive)\n",
    "    _positive_scores = y_score[_positives_mask]\n",
    "    recalls = np.array([np.mean(_positive_scores > t) for t in thresholds])\n",
    "\n",
    "    # exclude the few cases where the Pr(pred > t) estimate is exactly 0 b/c either\n",
    "    # fpr is 0 or recall is 0\n",
    "    _one_nonzero_mask = (false_positive_rates != 0) | (recalls != 0)\n",
    "    false_positive_rates = false_positive_rates[_one_nonzero_mask]\n",
    "    recalls = recalls[_one_nonzero_mask]\n",
    "\n",
    "    # estimate precision using law of total probability\n",
    "    numerators = recalls * frac_positive_observed\n",
    "    denominators = numerators + (\n",
    "        false_positive_rates * (1 - frac_positive_observed)\n",
    "    )\n",
    "    precisions = numerators / denominators\n",
    "\n",
    "    # Return the step function integral. recall is monotonically increasing.\n",
    "    # precisions[-1] is excluded just to align properly w/ np.diff(recalls)\n",
    "    return np.sum(np.diff(recalls) * precisions[:-1])"
   ]
  },
  {
   "cell_type": "code",
   "execution_count": 4,
   "metadata": {},
   "outputs": [],
   "source": [
    "def auprc(scores_of_negatives: np.ndarray, scores_of_positives: np.ndarray):\n",
    "    \"\"\"\n",
    "    Average precision, i.e., area under the precision-recall curve where recall is on\n",
    "    the x axis.\n",
    "    \"\"\"\n",
    "    # from https://gist.github.com/Dobiasd/4825bf25ac6ef009d9e8c99afab17eb1\n",
    "    y_true = np.concatenate(\n",
    "        (np.zeros(len(scores_of_negatives)), np.ones(len(scores_of_positives)))\n",
    "    )\n",
    "    y_scores = np.concatenate((scores_of_negatives, scores_of_positives))\n",
    "    return average_precision_score(y_true, y_scores)\n",
    "\n",
    "\n",
    "def auprc_reweighed(\n",
    "    scores_of_negatives: np.ndarray,\n",
    "    scores_of_positives: np.ndarray,\n",
    "    frac_positive_observed: float,\n",
    "):\n",
    "    y_true = np.concatenate(\n",
    "        (np.zeros(len(scores_of_negatives)), np.ones(len(scores_of_positives)))\n",
    "    )\n",
    "    y_scores = np.concatenate((scores_of_negatives, scores_of_positives))\n",
    "    return average_precision_score_reweighed(y_true, y_scores, frac_positive_observed)"
   ]
  },
  {
   "cell_type": "markdown",
   "metadata": {},
   "source": [
    "# Simulation"
   ]
  },
  {
   "cell_type": "code",
   "execution_count": 5,
   "metadata": {},
   "outputs": [],
   "source": [
    "# Input simulation parameters\n",
    "NUM_SIMULATIONS = 1_000\n",
    "NUM_NEGATIVES = 100_000\n",
    "NUM_POSITIVES = 1_000\n",
    "PARAMETERS_NEGATIVE = (0.3, 1.3)  # a, b for beta distr\n",
    "PARAMETERS_POSITIVE = (2, 0.9)  # a, b for beta distr\n",
    "\n",
    "# Checks\n",
    "assert NUM_NEGATIVES > NUM_POSITIVES, \"This simulation currently assumes more - than +\""
   ]
  },
  {
   "cell_type": "code",
   "execution_count": 6,
   "metadata": {},
   "outputs": [
    {
     "data": {
      "application/vnd.jupyter.widget-view+json": {
       "model_id": "be7b50fe848345abbf1f41d403c3bb3c",
       "version_major": 2,
       "version_minor": 0
      },
      "text/plain": [
       "  0%|          | 0/1000 [00:00<?, ?it/s]"
      ]
     },
     "metadata": {},
     "output_type": "display_data"
    }
   ],
   "source": [
    "# we'll fill in the lists\n",
    "auprc_df: dict[str, list[float]] = {\n",
    "    \"true\": [],\n",
    "    \"down-sample\": [],\n",
    "    \"repeat\": [],\n",
    "    \"up-sample\": [],\n",
    "    \"re-weigh\": [],\n",
    "}\n",
    "\n",
    "# run simulation ~3 min.\n",
    "for _ in tqdm(range(NUM_SIMULATIONS)):\n",
    "    # simluate classifier scores. TODO: instead use an actual model's scores\n",
    "    negatives = np.random.beta(*PARAMETERS_NEGATIVE, NUM_NEGATIVES)\n",
    "    positives = np.random.beta(*PARAMETERS_POSITIVE, NUM_POSITIVES)\n",
    "\n",
    "    frac_positive_observed = len(positives) / (len(positives) + len(negatives))\n",
    "\n",
    "    # \"true\" AUPRC\n",
    "    auprc_df[\"true\"].append(auprc(negatives, positives))\n",
    "\n",
    "    # downsample positives and negatives equally. it uses the same amount of model\n",
    "    # compute as other estimators\n",
    "    _total = NUM_POSITIVES * 2\n",
    "    _num_negatives = int((1 - frac_positive_observed) * _total)\n",
    "    _num_positives = int(frac_positive_observed * _total)\n",
    "    _negatives_downsampled = np.random.choice(negatives, _num_negatives, replace=False)\n",
    "    _positives_downsampled = np.random.choice(positives, _num_positives, replace=False)\n",
    "    auprc_df[\"down-sample\"].append(\n",
    "        auprc(_negatives_downsampled, _positives_downsampled)\n",
    "    )\n",
    "\n",
    "    # down-sample negatives to match positive frequency. motivation: we can only afford\n",
    "    # to run the model on this subset.\n",
    "    # all estimators should use this particular data subset to reduce the variance of\n",
    "    # our comparisons.\n",
    "    negatives_downsampled = np.random.choice(negatives, len(positives), replace=False)\n",
    "\n",
    "    # repeat the negatives to match the actual number of negatives\n",
    "    _negatives_repeated = np.repeat(\n",
    "        negatives_downsampled, int(len(negatives) / len(positives))\n",
    "    )\n",
    "    auprc_df[\"repeat\"].append(auprc(_negatives_repeated, positives))\n",
    "\n",
    "    # randomly up-sample the negatives to match the actual number of negatives\n",
    "    _ecdf = ECDF(negatives_downsampled)\n",
    "    _negatives_upsampled = _ecdf.sample(len(negatives), theoretical_min=0)\n",
    "    auprc_df[\"up-sample\"].append(auprc(_negatives_upsampled, positives))\n",
    "\n",
    "    # re-weigh the AUPRC\n",
    "    auprc_df[\"re-weigh\"].append(\n",
    "        auprc_reweighed(negatives_downsampled, positives, frac_positive_observed)\n",
    "    )\n",
    "\n",
    "auprc_df = pd.DataFrame(auprc_df)"
   ]
  },
  {
   "cell_type": "markdown",
   "metadata": {},
   "source": [
    "Here's what the distributions look like for a somewhat discriminative model trained on a\n",
    "pretty imbalanced dataset (lot of negatives):"
   ]
  },
  {
   "cell_type": "code",
   "execution_count": 7,
   "metadata": {},
   "outputs": [
    {
     "data": {
      "image/png": "[encoded data removed]",
      "text/plain": [
       "<Figure size 500x300 with 1 Axes>"
      ]
     },
     "metadata": {},
     "output_type": "display_data"
    }
   ],
   "source": [
    "plt.figure(figsize=(5, 3))\n",
    "plt.hist(negatives, label=\"negative observation\", alpha=0.5, bins=20, density=True)\n",
    "plt.hist(positives, label=\"positive observation\", alpha=0.5, bins=20, density=True)\n",
    "plt.xlabel(\"predicted probability of positive class\")\n",
    "plt.ylabel(\"density\")\n",
    "plt.legend();"
   ]
  },
  {
   "cell_type": "code",
   "execution_count": 8,
   "metadata": {},
   "outputs": [
    {
     "data": {
      "text/plain": [
       "count    1000.000\n",
       "mean        0.113\n",
       "std         0.007\n",
       "min         0.090\n",
       "25%         0.108\n",
       "50%         0.113\n",
       "75%         0.118\n",
       "max         0.139\n",
       "Name: true, dtype: float64"
      ]
     },
     "execution_count": 8,
     "metadata": {},
     "output_type": "execute_result"
    }
   ],
   "source": [
    "auprc_df[\"true\"].describe().round(3)"
   ]
  },
  {
   "cell_type": "markdown",
   "metadata": {},
   "source": [
    "Make a dataframe of paired errors for each estimator"
   ]
  },
  {
   "cell_type": "code",
   "execution_count": 9,
   "metadata": {},
   "outputs": [],
   "source": [
    "error_df = dict()  # signed\n",
    "_error_column_prefix = \"error \"\n",
    "for estimator in auprc_df.columns:\n",
    "    if estimator == \"true\":\n",
    "        continue\n",
    "    error_df[f\"{_error_column_prefix}{estimator}\"] = (\n",
    "        auprc_df[estimator] - auprc_df[\"true\"]\n",
    "    )\n",
    "error_df: pd.DataFrame = pd.DataFrame(error_df)"
   ]
  },
  {
   "cell_type": "code",
   "execution_count": 10,
   "metadata": {},
   "outputs": [
    {
     "name": "stdout",
     "output_type": "stream",
     "text": [
      "       error down-sample  error repeat  error up-sample  error re-weigh\n",
      "count           1000.000      1000.000         1000.000        1000.000\n",
      "mean               0.025         0.025            0.035           0.009\n",
      "std                0.060         0.031            0.032           0.027\n",
      "min               -0.080        -0.040           -0.038          -0.045\n",
      "25%               -0.018         0.003            0.012          -0.011\n",
      "50%                0.014         0.022            0.031           0.004\n",
      "75%                0.057         0.044            0.056           0.023\n",
      "max                0.316         0.153            0.159           0.117\n"
     ]
    }
   ],
   "source": [
    "print(error_df.describe().round(3))  # print for easy copy-paste"
   ]
  },
  {
   "cell_type": "code",
   "execution_count": 11,
   "metadata": {},
   "outputs": [
    {
     "data": {
      "text/plain": [
       "error down-sample    0.595\n",
       "error repeat         0.789\n",
       "error up-sample      0.869\n",
       "error re-weigh       0.564\n",
       "dtype: float64"
      ]
     },
     "execution_count": 11,
     "metadata": {},
     "output_type": "execute_result"
    }
   ],
   "source": [
    "(error_df > 0).mean()"
   ]
  },
  {
   "cell_type": "markdown",
   "metadata": {},
   "source": [
    "Woah, they're all optimistic! As expected, down-sampling incurs really high variance b/c\n",
    "it's only looking at a handful of positive cases."
   ]
  },
  {
   "cell_type": "code",
   "execution_count": 12,
   "metadata": {},
   "outputs": [],
   "source": [
    "# error_df.plot.hist(\n",
    "#     bins=20,\n",
    "#     alpha=1/len(error_df.columns),\n",
    "#     xlabel=\"error\",\n",
    "#     ylabel=\"frequency\",\n",
    "#     title=\"AUPRC estimator error distributions\",\n",
    "# );"
   ]
  },
  {
   "cell_type": "code",
   "execution_count": 13,
   "metadata": {},
   "outputs": [
    {
     "data": {
      "image/png": "[encoded data removed]",
      "text/plain": [
       "<Figure size 600x600 with 4 Axes>"
      ]
     },
     "metadata": {},
     "output_type": "display_data"
    }
   ],
   "source": [
    "bins = 20\n",
    "\n",
    "fig, axes = plt.subplots(\n",
    "    nrows=len(error_df.columns), ncols=1, figsize=(6, len(error_df.columns) * 1.5)\n",
    ")\n",
    "\n",
    "_common_min = error_df.min().min()\n",
    "_common_max = error_df.max().max()\n",
    "colors = plt.rcParams[\"axes.prop_cycle\"].by_key()[\"color\"]\n",
    "\n",
    "# Plot histograms for each column\n",
    "for i, column in enumerate(error_df.columns):\n",
    "    error_df[column].hist(\n",
    "        bins=bins, ax=axes[i], range=(_common_min, _common_max), color=colors[i]\n",
    "    )\n",
    "    estimator = column.removeprefix(_error_column_prefix)\n",
    "    axes[i].set_xlabel(f\"{estimator} - true AUPRC\")\n",
    "    axes[i].set_ylabel(\"frequency\")\n",
    "\n",
    "fig.suptitle(\"AUPRC estimator error distributions\", fontsize=12)\n",
    "plt.tight_layout()\n",
    "plt.subplots_adjust(hspace=1.2)"
   ]
  }
 ],
 "metadata": {
  "kernelspec": {
   "display_name": "base",
   "language": "python",
   "name": "python3"
  },
  "language_info": {
   "codemirror_mode": {
    "name": "ipython",
    "version": 3
   },
   "file_extension": ".py",
   "mimetype": "text/x-python",
   "name": "python",
   "nbconvert_exporter": "python",
   "pygments_lexer": "ipython3",
   "version": "3.11.3"
  },
  "orig_nbformat": 4
 },
 "nbformat": 4,
 "nbformat_minor": 2
}
