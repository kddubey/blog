{
 "cells": [
  {
   "cell_type": "markdown",
   "metadata": {},
   "source": [
    "The GPU version of this notebook is\n",
    "[here](https://drive.google.com/file/d/15lXt6m5Z1yVKjtwFFkBoU05maiktb_mo/view?usp=sharing)."
   ]
  },
  {
   "cell_type": "code",
   "execution_count": 1,
   "metadata": {},
   "outputs": [],
   "source": [
    "from __future__ import annotations\n",
    "import time\n",
    "from typing import Generator\n",
    "\n",
    "import numpy as np\n",
    "import matplotlib.pyplot as plt\n",
    "from tqdm.auto import tqdm\n",
    "\n",
    "from sklearn.linear_model import LinearRegression\n",
    "\n",
    "import torch\n",
    "from torch.utils.data import Dataset\n",
    "\n",
    "from transformers import AutoModelForCausalLM, AutoTokenizer\n",
    "from transformers import pipeline"
   ]
  },
  {
   "cell_type": "code",
   "execution_count": 2,
   "metadata": {},
   "outputs": [],
   "source": [
    "# assert torch.cuda.is_available(), \"This experiment should be run on a GPU\""
   ]
  },
  {
   "cell_type": "code",
   "execution_count": 3,
   "metadata": {},
   "outputs": [],
   "source": [
    "def time_func(func, *args, num_replications: int = 1, **kwargs) -> list[float]:\n",
    "    \"\"\"\n",
    "    Returns a list, `times`, where `times[i]` is the time it took to run\n",
    "    `func(*args, **kwargs)` at replication `i` of `num_replications`.\n",
    "    \"\"\"\n",
    "    times = []\n",
    "    for _ in range(num_replications):\n",
    "        time_start = time.time()\n",
    "        _ = func(*args, **kwargs)\n",
    "        time_end = time.time()\n",
    "        times.append(time_end - time_start)\n",
    "    return times\n",
    "\n",
    "\n",
    "def plot_batch_size_vs_rate(\n",
    "    batch_size_to_times: dict[int, list[float]],\n",
    "    application_name: str = \"\",\n",
    ") -> tuple[float, float]:\n",
    "    # flatten dict into arrays\n",
    "    batch_sizes = np.array(\n",
    "        [\n",
    "            batch_size\n",
    "            for batch_size, processing_times in batch_size_to_times.items()\n",
    "            for _ in range(len(processing_times))\n",
    "        ]\n",
    "    )\n",
    "    times = np.array(\n",
    "        [\n",
    "            processing_time\n",
    "            for processing_times in batch_size_to_times.values()\n",
    "            for processing_time in processing_times\n",
    "        ]\n",
    "    )\n",
    "    processing_rates = batch_sizes / times\n",
    "\n",
    "    # estimate slope and intercept under linear model (_lin) and log-linear model (_log)\n",
    "    x_lin = batch_sizes[:, None]\n",
    "    x_log = np.log(x_lin)\n",
    "    model_lin: LinearRegression = LinearRegression(positive=True).fit(\n",
    "        X=x_lin, y=processing_rates\n",
    "    )\n",
    "    model_log: LinearRegression = LinearRegression(positive=True).fit(\n",
    "        X=x_log, y=processing_rates\n",
    "    )\n",
    "    slope_lin = model_lin.coef_[0]\n",
    "    slope_log = model_log.coef_[0]\n",
    "    intercept_lin = model_lin.intercept_\n",
    "    intercept_log = model_log.intercept_\n",
    "\n",
    "    # plot\n",
    "    def equation_repr(slope: float, intercept: float, func_str: str) -> str:\n",
    "        return (\n",
    "            f\"$\\hat{{r}}(n) = {round(slope, 2)} {func_str} n$ \"\n",
    "            f\"{'+' if intercept >= 0 else '-'} {round(abs(intercept), 2)}\"\n",
    "        )\n",
    "\n",
    "    equation_lin = equation_repr(slope_lin, intercept_lin, func_str=\"\")\n",
    "    equation_log = equation_repr(slope_log, intercept_log, func_str=\"\\ln\")\n",
    "    plt.scatter(batch_sizes, processing_rates, label=\"observations\")\n",
    "    plt.plot(\n",
    "        batch_sizes,\n",
    "        model_lin.predict(x_lin),\n",
    "        label=equation_lin,\n",
    "        color=\"orange\",\n",
    "    )\n",
    "    plt.plot(\n",
    "        batch_sizes,\n",
    "        model_log.predict(x_log),\n",
    "        label=equation_log,\n",
    "        color=\"green\",\n",
    "    )\n",
    "    plt.xlabel(\"batch size\")\n",
    "    plt.ylabel(\"# inputs processed per sec.\")\n",
    "    plt.legend()\n",
    "    plt.grid()\n",
    "    plt.ylim(0)\n",
    "    if application_name:\n",
    "        plt.title(application_name)\n",
    "\n",
    "    return slope_lin, intercept_lin, slope_log, intercept_log"
   ]
  },
  {
   "cell_type": "code",
   "execution_count": 4,
   "metadata": {},
   "outputs": [],
   "source": [
    "DEVICE = torch.device(\"cuda:0\" if torch.cuda.is_available() else \"cpu\")"
   ]
  },
  {
   "cell_type": "code",
   "execution_count": 5,
   "metadata": {},
   "outputs": [],
   "source": [
    "gpt2_name = \"gpt2\"  # smallest in the GPT-2 line\n",
    "gpt2 = AutoModelForCausalLM.from_pretrained(gpt2_name).to(DEVICE)\n",
    "\n",
    "tokenizer = AutoTokenizer.from_pretrained(gpt2_name)\n",
    "tokenizer.pad_token_id = tokenizer.eos_token_id  # allow padding -> allow batching"
   ]
  },
  {
   "cell_type": "markdown",
   "metadata": {},
   "source": [
    "# Input parameters"
   ]
  },
  {
   "cell_type": "code",
   "execution_count": 6,
   "metadata": {},
   "outputs": [],
   "source": [
    "max_batch_size = 25  # max batch size that you can afford\n",
    "avg_text_length = 20  # avg length of input text (Poisson distr)\n",
    "max_new_tokens = 1  # max number tokens to generate\n",
    "num_replications = 3  # number of replications per batch size"
   ]
  },
  {
   "cell_type": "code",
   "execution_count": 7,
   "metadata": {},
   "outputs": [],
   "source": [
    "BATCH_SIZES = list(range(1, max_batch_size + 1))"
   ]
  },
  {
   "cell_type": "markdown",
   "metadata": {},
   "source": [
    "# Time generation"
   ]
  },
  {
   "cell_type": "code",
   "execution_count": 8,
   "metadata": {},
   "outputs": [],
   "source": [
    "class TextDataset(Dataset):\n",
    "    def __init__(self, texts: list[str]):\n",
    "        self.texts = texts\n",
    "\n",
    "    def __len__(self):\n",
    "        return len(self.texts)\n",
    "\n",
    "    def __getitem__(self, index: int):\n",
    "        return self.texts[index]"
   ]
  },
  {
   "cell_type": "code",
   "execution_count": 9,
   "metadata": {},
   "outputs": [
    {
     "name": "stderr",
     "output_type": "stream",
     "text": [
      "Xformers is not installed correctly. If you want to use memorry_efficient_attention to accelerate training use the following command to install Xformers\n",
      "pip install xformers.\n"
     ]
    }
   ],
   "source": [
    "generator = pipeline(\n",
    "    \"text-generation\", model=gpt2_name, max_new_tokens=max_new_tokens, device=DEVICE\n",
    ")\n",
    "generator.tokenizer.padding_side = \"left\"  # for sampling\n",
    "generator.tokenizer.pad_token_id = generator.model.config.eos_token_id"
   ]
  },
  {
   "cell_type": "markdown",
   "metadata": {},
   "source": [
    "One note: these models pad, so there's an extra penalty for waiting. Assume token lengths are Poisson distributed. I've seen this in many many text datasets.\n",
    "\n",
    "As far as the text itself, I've seen that I can get away w/ just inputting `'aaaaa...'` lol. I still get a tiny bit of variance in the number of generated tokens. And even if I don't, it's ok b/c there's enough variance in the number of tokens to consider the fitted curve realistic."
   ]
  },
  {
   "cell_type": "code",
   "execution_count": 10,
   "metadata": {},
   "outputs": [],
   "source": [
    "def generate(texts: list[str], batch_size: int = None):\n",
    "    batch_size = batch_size or len(texts)\n",
    "    dataset = TextDataset(texts)\n",
    "    for _ in generator(\n",
    "        dataset,\n",
    "        ## suppress \"Setting pad_token_id...\" stdout\n",
    "        pad_token_id=generator.tokenizer.eos_token_id,\n",
    "        batch_size=batch_size,\n",
    "    ):\n",
    "        pass  ## we don't need the output for anything"
   ]
  },
  {
   "cell_type": "code",
   "execution_count": 11,
   "metadata": {},
   "outputs": [],
   "source": [
    "# warm up model just in case\n",
    "generate([\"go, bwah\"])"
   ]
  },
  {
   "cell_type": "code",
   "execution_count": 12,
   "metadata": {},
   "outputs": [
    {
     "data": {
      "application/vnd.jupyter.widget-view+json": {
       "model_id": "9349b538283349c59a367e47dea8097b",
       "version_major": 2,
       "version_minor": 0
      },
      "text/plain": [
       "Batch size loop:   0%|          | 0/25 [00:00<?, ?it/s]"
      ]
     },
     "metadata": {},
     "output_type": "display_data"
    }
   ],
   "source": [
    "batch_size_to_times = dict()\n",
    "\n",
    "for i, batch_size in tqdm(\n",
    "    enumerate(BATCH_SIZES), total=len(BATCH_SIZES), desc=\"Batch size loop\"\n",
    "):\n",
    "    rng = np.random.default_rng(i + abs(hash(\"am bored\")))\n",
    "    lengths = 1 + rng.poisson(\n",
    "        lam=avg_text_length - 1, size=batch_size * num_replications\n",
    "    )\n",
    "    texts = [\"a\" * length for length in lengths]\n",
    "    times = time_func(\n",
    "        generate,\n",
    "        texts,\n",
    "        num_replications=num_replications,\n",
    "        batch_size=batch_size,\n",
    "    )\n",
    "    batch_size_to_times[batch_size] = times"
   ]
  },
  {
   "cell_type": "code",
   "execution_count": 13,
   "metadata": {},
   "outputs": [],
   "source": [
    "application_name = \"GPT-2 text generation ($\\mathbf{C}$PU)\""
   ]
  },
  {
   "cell_type": "code",
   "execution_count": 14,
   "metadata": {},
   "outputs": [
    {
     "data": {
      "text/plain": [
       "(0.21509935661116983,\n",
       " 3.830255063601899,\n",
       " 2.1302865443527583,\n",
       " 1.6839747103285152)"
      ]
     },
     "execution_count": 14,
     "metadata": {},
     "output_type": "execute_result"
    },
    {
     "data": {
      "image/png": "[encoded data removed]",
      "text/plain": [
       "<Figure size 640x480 with 1 Axes>"
      ]
     },
     "metadata": {},
     "output_type": "display_data"
    }
   ],
   "source": [
    "plot_batch_size_vs_rate(batch_size_to_times, application_name=application_name)"
   ]
  },
  {
   "cell_type": "markdown",
   "metadata": {},
   "source": [
    "# Simulate solution"
   ]
  },
  {
   "cell_type": "markdown",
   "metadata": {},
   "source": [
    "This simulation needs to be ran on GPU but we'll test the code runs on CPU."
   ]
  },
  {
   "cell_type": "markdown",
   "metadata": {},
   "source": [
    "### Utilities"
   ]
  },
  {
   "cell_type": "code",
   "execution_count": 15,
   "metadata": {},
   "outputs": [],
   "source": [
    "def _requests_stream(\n",
    "    requests: list, inter_request_times: list[float], seed: int = None\n",
    "):\n",
    "    if len(requests) != len(inter_request_times):\n",
    "        raise ValueError(\"requests and inter_request_times have different lengths\")\n",
    "\n",
    "    def stream():\n",
    "        for request, inter_request_time in zip(requests, inter_request_times):\n",
    "            time.sleep(inter_request_time)\n",
    "            yield request\n",
    "\n",
    "    return stream"
   ]
  },
  {
   "cell_type": "code",
   "execution_count": 16,
   "metadata": {},
   "outputs": [],
   "source": [
    "def batch_requests(\n",
    "    stream: Generator, batch_size: int, max_delay_sec: float\n",
    ") -> Generator:\n",
    "    \"\"\"\n",
    "    Converts a stream of single inputs into a stream of batched inputs by waiting in\n",
    "    between inputs.\n",
    "\n",
    "    Parameters\n",
    "    ----------\n",
    "    stream : Generator\n",
    "        Stream of single inputs\n",
    "    batch_size : int\n",
    "        Maximum number of inputs in each batch.\n",
    "    max_delay_sec : float\n",
    "        Maximum time to wait before generating a batch. If the time since receiving the\n",
    "        first input in the batch exceeds `max_delay_sec`, then the batch is generated\n",
    "        despite having fewer than `batch_size` inputs. Set this to ``math.inf`` to\n",
    "        guarantee that every generated batch has size `batch_size`.\n",
    "\n",
    "    Yields\n",
    "    ------\n",
    "    list\n",
    "        batched inputs.\n",
    "    \"\"\"\n",
    "    batch = []\n",
    "    start_time = time.time()\n",
    "\n",
    "    for obj in stream:\n",
    "        batch.append(obj)\n",
    "        time_since_first_obj_in_batch_received = time.time() - start_time\n",
    "\n",
    "        if (\n",
    "            len(batch) == batch_size\n",
    "            or time_since_first_obj_in_batch_received >= max_delay_sec\n",
    "        ):\n",
    "            yield batch\n",
    "            batch = []\n",
    "            start_time = time.time()\n",
    "\n",
    "    # there are ungenerated objects from the last batch if neither condition was met\n",
    "    if batch:\n",
    "        yield batch"
   ]
  },
  {
   "cell_type": "code",
   "execution_count": 17,
   "metadata": {},
   "outputs": [],
   "source": [
    "def time_per_batch(\n",
    "    func,\n",
    "    requests: list,\n",
    "    inter_request_times: list[float],\n",
    "    batch_size: int,\n",
    "    seed: int = None,\n",
    "    **func_kwargs\n",
    ") -> list[float]:\n",
    "    stream = _requests_stream(requests, inter_request_times, seed)\n",
    "    times = []\n",
    "    num_batches = int(np.ceil(len(requests) / batch_size))\n",
    "    for batch in tqdm(\n",
    "        batch_requests(stream(), batch_size, max_delay_sec=np.inf),\n",
    "        total=num_batches,\n",
    "        desc=f\"batch size = {batch_size}\",\n",
    "    ):\n",
    "        time = time_func(func, batch, num_replications=1, **func_kwargs)\n",
    "        times.append(time[0])  # just 1 replication\n",
    "    return times"
   ]
  },
  {
   "cell_type": "code",
   "execution_count": 18,
   "metadata": {},
   "outputs": [],
   "source": [
    "def latencies(\n",
    "    inter_request_times: list[float], time_per_batch: list[float]\n",
    ") -> np.ndarray:\n",
    "    num_batches = len(time_per_batch)\n",
    "    request_arrival_times = np.cumsum(inter_request_times)\n",
    "    request_arrival_times_per_batch = np.array(\n",
    "        np.split(request_arrival_times, num_batches)\n",
    "    )\n",
    "    finish_times_per_batch = request_arrival_times_per_batch[:, -1] + np.array(time_per_batch)\n",
    "    latencies: np.ndarray = (\n",
    "        finish_times_per_batch[:, np.newaxis] - request_arrival_times_per_batch\n",
    "    )\n",
    "    return latencies.flatten()"
   ]
  },
  {
   "cell_type": "markdown",
   "metadata": {},
   "source": [
    "### Dataset"
   ]
  },
  {
   "cell_type": "code",
   "execution_count": 19,
   "metadata": {},
   "outputs": [],
   "source": [
    "batch_size_opt = 9\n",
    "avg_inter_request_time_sec = 0.01\n",
    "num_batches = 20\n",
    "\n",
    "num_requests = batch_size_opt * num_batches\n",
    "# num_requests is a multiple of the batch size we're testing against. this makes later\n",
    "# calculations easier\n",
    "\n",
    "rng = np.random.default_rng(abs(hash(\"overkill\")))\n",
    "lengths = 1 + rng.poisson(lam=avg_text_length - 1, size=num_requests)\n",
    "texts = [\"a\" * length for length in lengths]\n",
    "\n",
    "rng = np.random.default_rng(abs(hash(\"hola\")))\n",
    "inter_request_times = rng.exponential(\n",
    "    scale=avg_inter_request_time_sec, size=num_requests\n",
    ")"
   ]
  },
  {
   "cell_type": "markdown",
   "metadata": {},
   "source": [
    "### Simulation results"
   ]
  },
  {
   "cell_type": "code",
   "execution_count": 20,
   "metadata": {},
   "outputs": [
    {
     "data": {
      "application/vnd.jupyter.widget-view+json": {
       "model_id": "fcf179b4ac6f48bbb733ae2b86f65858",
       "version_major": 2,
       "version_minor": 0
      },
      "text/plain": [
       "batch size = 1:   0%|          | 0/180 [00:00<?, ?it/s]"
      ]
     },
     "metadata": {},
     "output_type": "display_data"
    }
   ],
   "source": [
    "time_per_batch_size_1 = time_per_batch(\n",
    "    generate, texts, inter_request_times, batch_size=1, seed=123\n",
    ")"
   ]
  },
  {
   "cell_type": "code",
   "execution_count": 21,
   "metadata": {},
   "outputs": [
    {
     "data": {
      "application/vnd.jupyter.widget-view+json": {
       "model_id": "520721d616994287802b833295b8cc1e",
       "version_major": 2,
       "version_minor": 0
      },
      "text/plain": [
       "batch size = 9:   0%|          | 0/20 [00:00<?, ?it/s]"
      ]
     },
     "metadata": {},
     "output_type": "display_data"
    }
   ],
   "source": [
    "time_per_batch_size_opt = time_per_batch(\n",
    "    generate, texts, inter_request_times, batch_size=batch_size_opt, seed=123\n",
    ")"
   ]
  },
  {
   "cell_type": "code",
   "execution_count": 22,
   "metadata": {},
   "outputs": [],
   "source": [
    "latencies_batch_size_1 = latencies(inter_request_times, time_per_batch_size_1)"
   ]
  },
  {
   "cell_type": "code",
   "execution_count": 23,
   "metadata": {},
   "outputs": [],
   "source": [
    "latencies_batch_size_opt = latencies(inter_request_times, time_per_batch_size_opt)"
   ]
  },
  {
   "cell_type": "code",
   "execution_count": 24,
   "metadata": {},
   "outputs": [
    {
     "data": {
      "text/plain": [
       "0.4581167304537874"
      ]
     },
     "execution_count": 24,
     "metadata": {},
     "output_type": "execute_result"
    }
   ],
   "source": [
    "latencies_batch_size_opt.mean()"
   ]
  },
  {
   "cell_type": "code",
   "execution_count": 25,
   "metadata": {},
   "outputs": [
    {
     "data": {
      "text/plain": [
       "0.12540479633543228"
      ]
     },
     "execution_count": 25,
     "metadata": {},
     "output_type": "execute_result"
    }
   ],
   "source": [
    "latencies_batch_size_1.mean()"
   ]
  },
  {
   "cell_type": "code",
   "execution_count": 26,
   "metadata": {},
   "outputs": [
    {
     "data": {
      "image/png": "[encoded data removed]",
      "text/plain": [
       "<Figure size 640x480 with 1 Axes>"
      ]
     },
     "metadata": {},
     "output_type": "display_data"
    }
   ],
   "source": [
    "plt.hist(latencies_batch_size_1, label=\"no batching\", bins=20, alpha=0.5)\n",
    "plt.hist(latencies_batch_size_opt, label=\"optimal batch size\", bins=20, alpha=0.5)\n",
    "plt.legend()\n",
    "plt.xlabel(\"latency\")\n",
    "plt.ylabel(\"frequency\")\n",
    "plt.title(application_name);"
   ]
  }
 ],
 "metadata": {
  "kernelspec": {
   "display_name": "base",
   "language": "python",
   "name": "python3"
  },
  "language_info": {
   "codemirror_mode": {
    "name": "ipython",
    "version": 3
   },
   "file_extension": ".py",
   "mimetype": "text/x-python",
   "name": "python",
   "nbconvert_exporter": "python",
   "pygments_lexer": "ipython3",
   "version": "3.11.3"
  },
  "orig_nbformat": 4
 },
 "nbformat": 4,
 "nbformat_minor": 2
}
