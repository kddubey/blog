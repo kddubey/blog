{
 "cells": [
  {
   "cell_type": "markdown",
   "metadata": {},
   "source": [
    "# THIS WORK IS CURRENTLY WRONG\n",
    "\n",
    "And it's a mess. I'll fix it later."
   ]
  },
  {
   "cell_type": "code",
   "execution_count": 1,
   "metadata": {},
   "outputs": [],
   "source": [
    "from functools import partial\n",
    "import time\n",
    "from typing import Callable, Generator\n",
    "\n",
    "import matplotlib.pyplot as plt\n",
    "import numpy as np"
   ]
  },
  {
   "attachments": {},
   "cell_type": "markdown",
   "metadata": {},
   "source": [
    "# Problem"
   ]
  },
  {
   "attachments": {},
   "cell_type": "markdown",
   "metadata": {},
   "source": [
    "Say you're hosting an application which ingests a request from a stream, processes it,\n",
    "and returns back the processed result. Assume that the application runs faster *per\n",
    "input* as the number of inputs increases, e.g., database operations, matrix\n",
    "multiplications. Let's refer to this property as a \"batch effect\"—the application's\n",
    "favorable scaling wrt batch size.\n",
    "\n",
    "Define latency as the time between a user submitting a request and receiving a response.\n",
    "\n",
    "The simplest way to try to minimize latency (average, 95th percentile, your favorite\n",
    "statistic) is to process each request immediately. Here, we're not exploiting the batch\n",
    "effect, but we *are* always doing something if there's something to do.\n",
    "\n",
    "In which situations is it faster to *wait* until multiple requests have been received\n",
    "before processing them? It seems risky b/c the application is doing nothing while it\n",
    "waits for a request—a request which could come at any time in the future. But if the\n",
    "batch effect is sufficiently strong, perhaps that uncertainty is ok.\n",
    "\n",
    "To batch, or not to batch, that is the question."
   ]
  },
  {
   "attachments": {},
   "cell_type": "markdown",
   "metadata": {},
   "source": [
    "Now, in Shakespeare:\n",
    "\n",
    "<span style=\"font-family: Baskerville;\">\n",
    "Hark! Pray, lend thine ear and hearken to my words,<br>\n",
    "As I unfold a tale of applications and streams.<br>\n",
    "Imagine, if thou wilt, a realm where requests flow like a ceaseless river.<br>\n",
    "\n",
    "In this realm, an application doth exist,<br>\n",
    "Which doth receive these requests, and process them too.<br>\n",
    "With each input it receives, its speed doth soar,<br>\n",
    "Like a mighty eagle soaring through the skies.<br>\n",
    "\n",
    "This property, this wondrous scaling power,<br>\n",
    "A \"batch effect\" it is called, a name so apt.<br>\n",
    "For as the number of inputs doth increase,<br>\n",
    "Faster doth it run, with greater strength and might.<br>\n",
    "\n",
    "But what of latency, that measure of time,<br>\n",
    "Betwixt a request made and response received?<br>\n",
    "To minimize this span, one method is simple,<br>\n",
    "To process each request as soon as it arrives.<br>\n",
    "\n",
    "Yet, in doing so, we fail to grasp the batch effect,<br>\n",
    "Though we toil ceaselessly, always in motion.<br>\n",
    "For there are moments, rare and fleeting, where we ponder,<br>\n",
    "Might it be faster to await a gathering of requests?<br>\n",
    "\n",
    "Ah, the risk! The perilous gamble we undertake,<br>\n",
    "To pause and wait, idle in anticipation.<br>\n",
    "For the request, it might come at any future moment,<br>\n",
    "Leaving us in anxious suspense, our fate uncertain.<br>\n",
    "\n",
    "But if the batch effect be potent, strong and true,<br>\n",
    "Perhaps uncertainty shall be deemed worthwhile.<br>\n",
    "\n",
    "Like sailors upon a tempestuous sea we sail,<br>\n",
    "Deliberating the value of setting sail or anchoring still.<br>\n",
    "In this boundless wave of requests, we must decide,<br>\n",
    "To seize the moment, or await the gathering storm.<br>\n",
    "To batch or not to batch, that is the question.<br>"
   ]
  },
  {
   "attachments": {},
   "cell_type": "markdown",
   "metadata": {},
   "source": [
    "# Formalization"
   ]
  },
  {
   "cell_type": "markdown",
   "metadata": {},
   "source": [
    "I want to understand what conditions are required for waiting and batching to result in\n",
    "a significant speedup over not batching. That's why I think it's helpful to do some\n",
    "basic theory. In a work setting, you should instead do the hard but simple work of\n",
    "evaluating a range of reasonable batch sizes."
   ]
  },
  {
   "attachments": {},
   "cell_type": "markdown",
   "metadata": {},
   "source": [
    "Assume the following:\n",
    "\n",
    "* Requests arrive at times $T_i$ s.t. $T_{i+1} - T_i \\sim \\text{Exponential}(\\lambda)$,\n",
    "i.e., inter-arrival times are exponentially distributed. This assumption reflects the\n",
    "uncertainty we have to deal with: we don't know when requests will arrive. Assume\n",
    "$\\lambda$ is known. In reality, it can be estimated from production data. For now, we'll\n",
    "only use the fact that the expected inter-arrival time is $\\tau = 1/\\lambda$.\n",
    "\n",
    "* The number of requests the application can process per unit time, $r(n)$, increases\n",
    "  with the number of requests, $n$, at a logarithmic rate:\n",
    "\n",
    "  $r(n) = a \\ln n + b$\n",
    "\n",
    "  where $n$ is the batch size / number of inputs, and $a > 0 $ and $b > 0 $ are\n",
    "  constants. In reality, they can be estimated from experimental data by fitting a\n",
    "  linear regression.\n",
    "\n",
    "  A solution is also presented for a linear rate:\n",
    "\n",
    "  $r(n) = a n + b.$\n",
    "\n",
    "  TODO: repeat for $r(n) = a n^p + b$ where $0 < p < 1$, and for\n",
    "  $r(n) = a \\frac{\\ln n}{n} + b$.\n",
    "\n",
    "  * $r(n)$ is a discrete function. But as we'll see later, it's useful to talk about it\n",
    "    like it's differentiable. Technically, we just need this function to be concave (so\n",
    "    that the reciprocal is convex), and then run gradient descent. But for the\n",
    "    analytical-but-still-realistic solution, assume it's logarithmic or linear.\n",
    "    Logarithmic growth reflects that there's usually diminishing returns on efficiency.\n",
    "\n",
    "  * TODO: Empirically evaluate the fit of a logarithmic curve to common applications\n",
    "    where batch effects are likely, e.g., database operations, matrix multiplications.\n",
    "\n",
    "* We want to minimize the *average latency* per request. This assumption is not great,\n",
    "  but it makes the math easier!\n",
    "\n",
    "  * TODO: replace average w/ p95 / something more sensible. Useful resource for that:\n",
    "    https://statproofbook.github.io/P/gam-qf.html (since the sum of exponential\n",
    "    r.v.'s is a Gamma r.v.). I'm pretty sure that the optimal batch size gets closer to\n",
    "    1 as the percentile increases.\n",
    "\n",
    "* The application can process a maximum of $N$ inputs. This limit is typically due to\n",
    "  memory constraints."
   ]
  },
  {
   "attachments": {},
   "cell_type": "markdown",
   "metadata": {},
   "source": [
    "Here's an example of $r(n)$:"
   ]
  },
  {
   "cell_type": "code",
   "execution_count": 2,
   "metadata": {},
   "outputs": [
    {
     "data": {
      "image/png": "[encoded data removed]",
      "text/plain": [
       "<Figure size 640x480 with 1 Axes>"
      ]
     },
     "metadata": {},
     "output_type": "display_data"
    }
   ],
   "source": [
    "N = 128\n",
    "a = 2\n",
    "b = 1\n",
    "\n",
    "batch_sizes = np.array(range(1, N+1))\n",
    "num_processed_per_sec = a * np.log(batch_sizes) + b\n",
    "\n",
    "plt.plot(batch_sizes, num_processed_per_sec)\n",
    "plt.xlabel('batch size')\n",
    "plt.ylabel('# processed per unit time')\n",
    "plt.title(f'$r(n) = {a}\\ln n + {b}$');"
   ]
  },
  {
   "attachments": {},
   "cell_type": "markdown",
   "metadata": {},
   "source": [
    "For $n \\geq 2$ minimizing average latency per request means solving:\n",
    "\n",
    "$$\n",
    "\\begin{equation*}\n",
    "\\min_{n \\in \\{2, 3, \\dots, N\\} } \\:\\: \\underbrace{ \\mathbb{E} \\Bigg( \\frac{1}{n} \\sum_{i=1}^{n} T_n - T_i\n",
    "\\Bigg) }_{\\text{expected time spent waiting per request}} + \\overbrace{ \\frac{n}{r(n)}\n",
    "}^{\\text{processing time of batch}}\n",
    "\\end{equation*}\n",
    "$$"
   ]
  },
  {
   "attachments": {},
   "cell_type": "markdown",
   "metadata": {},
   "source": [
    "Let's simplify the objective—in particular, simplify the expectation.\n",
    "\n",
    "First, note that $\\mathbb{E} ( T_n - T_i ) = (n-i)\\tau$. This fact can be proven\n",
    "using weak induction: $T_k - T_i = (T_k - T_{k-1}) + (T_{k-1} - T_i)$.\n",
    "\n",
    "Applying linearity of expectation:\n",
    "\n",
    "$$\n",
    "\\begin{align*}\n",
    "\\mathbb{E} \\Bigg( \\frac{1}{n} \\sum_{i=1}^{n} T_n - T_i\n",
    "\\Bigg) &= \\frac{1}{n} \\sum_{i=1}^{n} \\mathbb{E} ( T_n - T_i ) \\\\\n",
    "&= \\frac{1}{n} \\sum_{i=1}^{n} (n-i)\\tau \\\\\n",
    "&= \\tau \\bigg( \\frac{n-1}{2} \\bigg).\n",
    "\\end{align*}\n",
    "$$"
   ]
  },
  {
   "attachments": {},
   "cell_type": "markdown",
   "metadata": {},
   "source": [
    "The objective is strictly convex on $(0, \\infty)$:\n",
    "* the expected time spent waiting per request is linear\n",
    "* the processing time is the strictly convex\n",
    "* these two functions are summed.\n",
    "\n",
    "So there's a unique minimum somewhere in $(0, \\infty)$. That means we can treat this\n",
    "discrete optimization problem as a continuous one. We'll just have to do some basic\n",
    "post-processing to get a solution in $\\{2, 3, \\dots, N\\}$."
   ]
  },
  {
   "attachments": {},
   "cell_type": "markdown",
   "metadata": {},
   "source": [
    "Call the objective function $t(n)$, i.e., the average latency per request:\n",
    "\n",
    "$$\n",
    "\\begin{equation*}\n",
    "t(n) = \\tau \\bigg( \\frac{n-1}{2} \\bigg) + \\frac{n}{a \\ln n + b}\n",
    "\\end{equation*}\n",
    "$$"
   ]
  },
  {
   "cell_type": "markdown",
   "metadata": {},
   "source": [
    "Now for the baseline of no batching, i.e., $n = 1$.\n",
    "\n",
    "Let $F_i$ be the random variable for the time when we've finished processing a user's\n",
    "request.\n",
    "Call $t = 1/r(1)$ be the time it takes to process a single request. Then:\n",
    "\n",
    "$$\n",
    "F_1 = T_1 + t.\n",
    "$$\n",
    "\n",
    "Processing the next request can only commence right after the previous request has\n",
    "finished processing. (Embarrassingly, I neglected this fact in the first version of this\n",
    "notebook lol.) So every future request's finishing time is given by the recurrence:\n",
    "\n",
    "$$\n",
    "F_i = \\underbrace{T_i}_{\\text{start time}}\n",
    "+ \\underbrace{\\max( F_{i-1} - T_i, 0 )}_{\\substack{\\text{time spent waiting for the} \n",
    "\\\\ \\text{previous request to finish}}}\n",
    "+ \\underbrace{t}_{\\substack{\\text{time to process}\n",
    "\\\\ \\text{this one request}}}\n",
    "$$\n",
    "\n",
    "Latency for each request is then:\n",
    "\n",
    "$$\n",
    "L_i = F_i - T_i.\n",
    "$$\n",
    "\n",
    "For a sequence of $m$ total requests, the average latency is:\n",
    "\n",
    "$$\n",
    "\\frac{1}{m} \\sum_{i=1}^{m} L_i.\n",
    "$$\n",
    "\n",
    "I think it makes sense to define $t(1)$ as a number which doesn't depend on $m$. So take\n",
    "the expectation of the average latency in the limit of the number of total requests,\n",
    "$m$:\n",
    "\n",
    "$$\n",
    "t(1) = \\mathbb{E} \\Bigg( \\lim_{m \\to \\infty} \\frac{1}{m} \\sum_{i=1}^{m} L_i \\Bigg).\n",
    "$$\n",
    "\n",
    "In other words, $t(1)$ is the average latency per user over the lifetime of the service.\n",
    "After I solve $t(1)$, $t$ will be fully defined and specified over $\\{1, 2, \\dots, N\\}$.\n",
    "\n",
    "TODO: may need\n",
    "* https://math.stackexchange.com/a/275016\n",
    "* https://math.stackexchange.com/a/3451394\n",
    "* https://stats.stackexchange.com/a/53113/337906\n",
    "* https://math.stackexchange.com/questions/2169833/conditional-expectation-of-x-given-x-is-greater-than-y"
   ]
  },
  {
   "attachments": {},
   "cell_type": "markdown",
   "metadata": {},
   "source": [
    "# Solution"
   ]
  },
  {
   "attachments": {},
   "cell_type": "markdown",
   "metadata": {},
   "source": [
    "For $n \\geq 2$, set the derivative to 0 and solve for $n$. The solution is:\n",
    "\n",
    "$$\n",
    "\\begin{equation*}\n",
    "n^* = \\exp \\bigg\\{ \\frac{-1 + \\sqrt{1 + 2 \\tau a}}{\\tau a} - \\frac{b}{a} \\bigg\\}.\n",
    "\\end{equation*}\n",
    "$$"
   ]
  },
  {
   "attachments": {},
   "cell_type": "markdown",
   "metadata": {},
   "source": [
    "Here's the quick post-processing rule to get the optimal solution $n' \\in \\{1, 2, \\dots,\n",
    "N\\}$, which makes use of the fact that $t(n)$ is strictly convex:\n",
    "\n",
    "$$\n",
    "n' = \\begin{cases} \n",
    "   1 & 0 < n^* \\leq 1 \\\\\n",
    "   \\text{arg min}_{n \\in \\{ \\lfloor n^* \\rfloor, \\lceil n^* \\rceil \\}} \\: t(n) & 1 < n^* \\leq N \\\\\n",
    "   N & n^* > N \n",
    "\\end{cases}\n",
    "$$"
   ]
  },
  {
   "cell_type": "markdown",
   "metadata": {},
   "source": [
    "Either we batch or we don't batch. The solution is the minimum of these two:\n",
    "\n",
    "$$\n",
    "\\text{arg min}_{n \\in \\{ 1, n' \\}} \\: t(n)\n",
    "$$"
   ]
  },
  {
   "attachments": {},
   "cell_type": "markdown",
   "metadata": {},
   "source": [
    "See [this desmos graph](https://www.desmos.com/calculator/ez9qpo0ll3) to explore."
   ]
  },
  {
   "attachments": {},
   "cell_type": "markdown",
   "metadata": {},
   "source": [
    "# Implementation"
   ]
  },
  {
   "cell_type": "markdown",
   "metadata": {},
   "source": [
    "**TODO**: this code doesn't yet implement that last argmin rule above, b/c I need to\n",
    "compute $t(1)$."
   ]
  },
  {
   "attachments": {},
   "cell_type": "markdown",
   "metadata": {},
   "source": [
    "First, implement some batch size calculators: one for a linear rate and one for a log\n",
    "rate."
   ]
  },
  {
   "cell_type": "code",
   "execution_count": 3,
   "metadata": {},
   "outputs": [],
   "source": [
    "# helpers. see next cell for calculators\n",
    "def _average_latency(\n",
    "    func: Callable,\n",
    "    average_inter_arrival_time: float,\n",
    "    slope: float,\n",
    "    intercept: float,\n",
    "    batch_size: int,\n",
    "):\n",
    "    average_waiting_time = average_inter_arrival_time * ((batch_size - 1) / 2)\n",
    "    processing_time = batch_size / (slope * func(batch_size) + intercept)\n",
    "    return average_waiting_time + processing_time\n",
    "\n",
    "\n",
    "def _post_process(\n",
    "    func: Callable,\n",
    "    average_inter_arrival_time: float,\n",
    "    slope: float,\n",
    "    intercept: float,\n",
    "    batch_size_optimal: int,\n",
    "    max_batch_size: int,\n",
    "):\n",
    "    # post-process batch_size_optimal to get an integer in [1, max_batch_size]\n",
    "    if batch_size_optimal <= 1:\n",
    "        return 1\n",
    "    elif batch_size_optimal <= max_batch_size:\n",
    "        batch_size_optimal_floor = int(np.floor(batch_size_optimal))\n",
    "        batch_size_optimal_ceil = int(np.ceil(batch_size_optimal))\n",
    "        average_latency = partial(\n",
    "            _average_latency,\n",
    "            func,\n",
    "            average_inter_arrival_time,\n",
    "            slope,\n",
    "            intercept,\n",
    "        )\n",
    "        if average_latency(batch_size_optimal_floor) < average_latency(\n",
    "            batch_size_optimal_ceil\n",
    "        ):\n",
    "            return batch_size_optimal_floor\n",
    "        else:\n",
    "            return batch_size_optimal_ceil\n",
    "    else:\n",
    "        return max_batch_size\n",
    "\n",
    "\n",
    "def _optimal_batch_size(\n",
    "    func: Callable,\n",
    "    batch_size_optimal_func: Callable,\n",
    "    average_inter_arrival_time: float,\n",
    "    slope: float,\n",
    "    intercept: float,\n",
    "    max_batch_size: int,\n",
    ") -> int:\n",
    "    # input checks\n",
    "    if not average_inter_arrival_time > 0:\n",
    "        raise ValueError(\"average_inter_arrival_time must be positive.\")\n",
    "    if not slope > 0:\n",
    "        raise ValueError(\"slope must be positive.\")\n",
    "\n",
    "    # calculate n*\n",
    "    batch_size_optimal = batch_size_optimal_func(\n",
    "        average_inter_arrival_time=average_inter_arrival_time,\n",
    "        slope=slope,\n",
    "        intercept=intercept,\n",
    "    )\n",
    "\n",
    "    # post-process to get an integer in [1, max_batch_size]\n",
    "    return _post_process(\n",
    "        func,\n",
    "        average_inter_arrival_time,\n",
    "        slope,\n",
    "        intercept,\n",
    "        batch_size_optimal,\n",
    "        max_batch_size,\n",
    "    )"
   ]
  },
  {
   "cell_type": "code",
   "execution_count": 4,
   "metadata": {},
   "outputs": [],
   "source": [
    "def optimal_batch_size_linear(\n",
    "    average_inter_arrival_time: float,\n",
    "    slope: float,\n",
    "    intercept: float,\n",
    "    max_batch_size: int,\n",
    ") -> int:\n",
    "    \"\"\"\n",
    "    Calculates the batch size which minimizes average latency of a streaming\n",
    "    application, assuming that the processing rate (# inputs processed per unit time) of\n",
    "    the application has linear growth wrt batch size.\n",
    "\n",
    "    Parameters\n",
    "    ----------\n",
    "    average_inter_arrival_time : float\n",
    "        Average time between requests.\n",
    "    slope : float\n",
    "        Slope of linear growth rate equation.\n",
    "    intercept : float\n",
    "        Intercept of linear growth rate equation.\n",
    "    max_batch_size : int\n",
    "        Maximum batch size that the application can handle, typically due to memory\n",
    "        constraints. Can be set to ``math.inf`` if there's no limit.\n",
    "\n",
    "    Returns\n",
    "    -------\n",
    "    int\n",
    "        Optimal batch size\n",
    "\n",
    "    Raises\n",
    "    ------\n",
    "    ValueError\n",
    "        if `average_inter_arrival_time` is not positive.\n",
    "    ValueError\n",
    "        if `slope` is not positive.\n",
    "    \"\"\"\n",
    "\n",
    "    def batch_size_optimal_func(average_inter_arrival_time, slope, intercept):\n",
    "        # for convenience, short variable names which match math\n",
    "        _tau = average_inter_arrival_time\n",
    "        _a = slope\n",
    "        _2a = 2 * _a\n",
    "        _b = intercept\n",
    "\n",
    "        raise NotImplementedError\n",
    "\n",
    "    return _optimal_batch_size(\n",
    "        lambda x: x,\n",
    "        batch_size_optimal_func,\n",
    "        average_inter_arrival_time,\n",
    "        slope,\n",
    "        intercept,\n",
    "        max_batch_size,\n",
    "    )\n",
    "\n",
    "\n",
    "def optimal_batch_size_log(\n",
    "    average_inter_arrival_time: float,\n",
    "    slope: float,\n",
    "    intercept: float,\n",
    "    max_batch_size: int,\n",
    ") -> int:\n",
    "    \"\"\"\n",
    "    Calculates the batch size which minimizes average latency of a streaming\n",
    "    application, assuming that the processing rate (# inputs processed per unit time) of\n",
    "    the application has logarithmic growth wrt batch size.\n",
    "\n",
    "    Parameters\n",
    "    ----------\n",
    "    average_inter_arrival_time : float\n",
    "        Average time between requests.\n",
    "    slope : float\n",
    "        Slope of logarithmic growth rate equation.\n",
    "    intercept : float\n",
    "        Intercept of logarithmic growth rate equation.\n",
    "    max_batch_size : int\n",
    "        Maximum batch size that the application can handle, typically due to memory\n",
    "        constraints. Can be set to ``math.inf`` if there's no limit.\n",
    "\n",
    "    Returns\n",
    "    -------\n",
    "    int\n",
    "        Optimal batch size\n",
    "\n",
    "    Raises\n",
    "    ------\n",
    "    ValueError\n",
    "        if `average_inter_arrival_time` is not positive.\n",
    "    ValueError\n",
    "        if `slope` is not positive.\n",
    "    \"\"\"\n",
    "\n",
    "    def batch_size_optimal_func(average_inter_arrival_time, slope, intercept):\n",
    "        # for convenience, short variable names which match math\n",
    "        _tau = average_inter_arrival_time\n",
    "        _a = slope\n",
    "        _2a = 2 * _a\n",
    "        _b = intercept\n",
    "\n",
    "        return np.exp(((-1 + np.sqrt(1 + 2 * _tau * _a)) / (_tau * _a)) - (_b / _a))\n",
    "\n",
    "    return _optimal_batch_size(\n",
    "        np.log,\n",
    "        batch_size_optimal_func,\n",
    "        average_inter_arrival_time,\n",
    "        slope,\n",
    "        intercept,\n",
    "        max_batch_size,\n",
    "    )\n",
    "\n",
    "\n",
    "# may be useful. TODO: document these\n",
    "average_latency_log = partial(_average_latency, np.log)\n",
    "average_latency_linear = partial(_average_latency, lambda x: x)"
   ]
  },
  {
   "attachments": {},
   "cell_type": "markdown",
   "metadata": {},
   "source": [
    "And here's an implementation of waiting and batching:"
   ]
  },
  {
   "cell_type": "code",
   "execution_count": 6,
   "metadata": {},
   "outputs": [],
   "source": [
    "def batch_requests(\n",
    "    stream: Generator, batch_size: int, max_delay_sec: float\n",
    ") -> Generator:\n",
    "    \"\"\"\n",
    "    Converts a stream of single inputs into a stream of batched inputs by waiting in\n",
    "    between inputs.\n",
    "\n",
    "    Parameters\n",
    "    ----------\n",
    "    stream : Generator\n",
    "        Stream of single inputs\n",
    "    batch_size : int\n",
    "        Maximum number of inputs in each batch.\n",
    "    max_delay_sec : float\n",
    "        Maximum time to wait before generating a batch. If the time since receiving the\n",
    "        first input in the batch exceeds `max_delay_sec`, then the batch is generated\n",
    "        despite having fewer than `batch_size` inputs. Set this to ``math.inf`` to\n",
    "        guarantee that every generated batch has size `batch_size`.\n",
    "\n",
    "    Yields\n",
    "    ------\n",
    "    list\n",
    "        batched inputs.\n",
    "    \"\"\"\n",
    "    batch = []\n",
    "    start_time = time.time()\n",
    "\n",
    "    for obj in stream:\n",
    "        batch.append(obj)\n",
    "        time_since_first_obj_in_batch_received = time.time() - start_time\n",
    "\n",
    "        if (\n",
    "            len(batch) == batch_size\n",
    "            or time_since_first_obj_in_batch_received >= max_delay_sec\n",
    "        ):\n",
    "            yield batch\n",
    "            batch = []\n",
    "            start_time = time.time()\n",
    "\n",
    "    # there are ungenerated objects from the last batch if neither condition was met\n",
    "    if batch:\n",
    "        yield batch"
   ]
  },
  {
   "attachments": {},
   "cell_type": "markdown",
   "metadata": {},
   "source": [
    "Quick test:"
   ]
  },
  {
   "cell_type": "code",
   "execution_count": 7,
   "metadata": {},
   "outputs": [],
   "source": [
    "def test(\n",
    "    batch_size: int,\n",
    "    max_delay_sec: float,\n",
    "    num_requests: int,\n",
    "    sleep_every: int,\n",
    "    sleep_sec: float,\n",
    "):\n",
    "    # create stream\n",
    "    is_sleeping = lambda i: i > 0 and i % sleep_every == 0\n",
    "\n",
    "    def fake_stream():\n",
    "        for i in range(num_requests):\n",
    "            if is_sleeping(i):\n",
    "                time.sleep(sleep_sec)\n",
    "            yield i\n",
    "\n",
    "    # expected result\n",
    "    expected_batches = []\n",
    "    batch = []\n",
    "    for i in fake_stream():\n",
    "        batch.append(i)\n",
    "        if len(batch) == batch_size or is_sleeping(i):\n",
    "            expected_batches.append(batch)\n",
    "            batch = []\n",
    "    if batch:\n",
    "        expected_batches.append(batch)\n",
    "\n",
    "    # observed result\n",
    "    observed_batches = []\n",
    "    for batch in batch_requests(fake_stream(), batch_size, max_delay_sec):\n",
    "        observed_batches.append(batch)\n",
    "\n",
    "    assert observed_batches == expected_batches"
   ]
  },
  {
   "cell_type": "code",
   "execution_count": 8,
   "metadata": {},
   "outputs": [],
   "source": [
    "test(batch_size=3, max_delay_sec=0.1, num_requests=10, sleep_every=4, sleep_sec=0.5)"
   ]
  },
  {
   "cell_type": "markdown",
   "metadata": {},
   "source": [
    "# Example"
   ]
  },
  {
   "cell_type": "markdown",
   "metadata": {},
   "source": [
    "TODO: broken"
   ]
  },
  {
   "cell_type": "markdown",
   "metadata": {},
   "source": [
    "Say we're running a text generation service. Running the [GPT-2 demo\n",
    "notebook](https://github.com/kddubey/stackexchange/blob/main/to_batch_or_not_to_batch/demo_gpt2.ipynb)\n",
    "on a V100 GPU produces these 2 fits (for the notebook's fake/dumb generation service):"
   ]
  },
  {
   "cell_type": "markdown",
   "metadata": {},
   "source": [
    "![](./gpt2_batch.png)"
   ]
  },
  {
   "cell_type": "markdown",
   "metadata": {},
   "source": [
    "The linear fit is a bit better for smaller batch sizes. I'd go with that, but I've made\n",
    "a systematic error.\n",
    "\n",
    "Play w/ the [desmos graph here](https://www.desmos.com/calculator/xdg4ubzoch)."
   ]
  },
  {
   "cell_type": "code",
   "execution_count": 9,
   "metadata": {},
   "outputs": [
    {
     "data": {
      "text/plain": [
       "7"
      ]
     },
     "execution_count": 9,
     "metadata": {},
     "output_type": "execute_result"
    }
   ],
   "source": [
    "optimal_batch_size_log(\n",
    "    average_inter_arrival_time=0.1,\n",
    "    slope=0.41,\n",
    "    intercept=-0.02,\n",
    "    max_batch_size=50\n",
    ")"
   ]
  },
  {
   "cell_type": "markdown",
   "metadata": {},
   "source": [
    "TODO: re-simulate to verify the speedup."
   ]
  }
 ],
 "metadata": {
  "kernelspec": {
   "display_name": "base",
   "language": "python",
   "name": "python3"
  },
  "language_info": {
   "codemirror_mode": {
    "name": "ipython",
    "version": 3
   },
   "file_extension": ".py",
   "mimetype": "text/x-python",
   "name": "python",
   "nbconvert_exporter": "python",
   "pygments_lexer": "ipython3",
   "version": "3.11.3"
  },
  "orig_nbformat": 4
 },
 "nbformat": 4,
 "nbformat_minor": 2
}
