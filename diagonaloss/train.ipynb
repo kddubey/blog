{
 "cells": [
  {
   "cell_type": "code",
   "execution_count": null,
   "metadata": {},
   "outputs": [],
   "source": [
    "import csv\n",
    "from datetime import datetime\n",
    "import gzip\n",
    "import math\n",
    "import os\n",
    "import random\n",
    "\n",
    "from datasets import load_dataset\n",
    "from sentence_transformers import (\n",
    "    models,\n",
    "    losses,\n",
    "    datasets,\n",
    "    SentenceTransformer,\n",
    "    util,\n",
    "    InputExample,\n",
    ")\n",
    "from sentence_transformers.evaluation import (\n",
    "    EmbeddingSimilarityEvaluator,\n",
    "    SimilarityFunction,\n",
    ")\n",
    "from sentence_transformers.util import cos_sim\n",
    "import torch"
   ]
  },
  {
   "cell_type": "markdown",
   "metadata": {},
   "source": [
    "# HP"
   ]
  },
  {
   "cell_type": "code",
   "execution_count": null,
   "metadata": {},
   "outputs": [],
   "source": [
    "model_name = \"distilroberta-base\"\n",
    "train_batch_size = 128  # The larger you select this, the better the results (usually). But it requires more GPU memory\n",
    "max_seq_length = 75\n",
    "num_epochs = 1"
   ]
  },
  {
   "cell_type": "markdown",
   "metadata": {},
   "source": [
    "# Load non-similarity LM"
   ]
  },
  {
   "cell_type": "code",
   "execution_count": null,
   "metadata": {},
   "outputs": [],
   "source": [
    "# Here we define our SentenceTransformer model\n",
    "word_embedding_model = models.Transformer(model_name, max_seq_length=max_seq_length)\n",
    "pooling_model = models.Pooling(\n",
    "    word_embedding_model.get_word_embedding_dimension(), pooling_mode=\"mean\"\n",
    ")\n",
    "model = SentenceTransformer(modules=[word_embedding_model, pooling_model])"
   ]
  },
  {
   "cell_type": "markdown",
   "metadata": {},
   "source": [
    "# Load data"
   ]
  },
  {
   "cell_type": "code",
   "execution_count": null,
   "metadata": {},
   "outputs": [],
   "source": [
    "# Check if dataset exists. If not, download and extract  it\n",
    "nli_dataset_path = \"data/AllNLI.tsv.gz\"\n",
    "\n",
    "if not os.path.exists(nli_dataset_path):\n",
    "    util.http_get(\"https://sbert.net/datasets/AllNLI.tsv.gz\", nli_dataset_path)\n",
    "\n",
    "# Read the AllNLI.tsv.gz file and create the training dataset\n",
    "print(\"Read AllNLI train dataset\")\n",
    "\n",
    "\n",
    "train_data: dict[str, dict[str, set]] = {}\n",
    "\n",
    "\n",
    "def add_to_samples(sent1, sent2, label):\n",
    "    if sent1 not in train_data:\n",
    "        train_data[sent1] = {\n",
    "            \"contradiction\": set(),\n",
    "            \"entailment\": set(),\n",
    "            \"neutral\": set(),\n",
    "        }\n",
    "    train_data[sent1][label].add(sent2)\n",
    "\n",
    "\n",
    "with gzip.open(nli_dataset_path, \"rt\", encoding=\"utf8\") as fIn:\n",
    "    reader = csv.DictReader(fIn, delimiter=\"\\t\", quoting=csv.QUOTE_NONE)\n",
    "    for row in reader:\n",
    "        if row[\"split\"] == \"train\":\n",
    "            sent1 = row[\"sentence1\"].strip()\n",
    "            sent2 = row[\"sentence2\"].strip()\n",
    "\n",
    "            add_to_samples(sent1, sent2, row[\"label\"])\n",
    "            add_to_samples(sent2, sent1, row[\"label\"])  # Also add the opposite\n",
    "\n",
    "\n",
    "train_samples = []\n",
    "for sent1, others in train_data.items():\n",
    "    if len(others[\"entailment\"]) > 0 and len(others[\"contradiction\"]) > 0:\n",
    "        train_samples.append(\n",
    "            InputExample(\n",
    "                texts=[\n",
    "                    sent1,\n",
    "                    random.choice(list(others[\"entailment\"])),\n",
    "                    random.choice(list(others[\"contradiction\"])),\n",
    "                ]\n",
    "            )\n",
    "        )\n",
    "        train_samples.append(\n",
    "            InputExample(\n",
    "                texts=[\n",
    "                    random.choice(list(others[\"entailment\"])),\n",
    "                    sent1,\n",
    "                    random.choice(list(others[\"contradiction\"])),\n",
    "                ]\n",
    "            )\n",
    "        )\n",
    "\n",
    "print(\"Train samples: {}\".format(len(train_samples)))"
   ]
  },
  {
   "cell_type": "code",
   "execution_count": null,
   "metadata": {},
   "outputs": [],
   "source": [
    "# Special data loader that avoid duplicates within a batch\n",
    "train_dataloader = datasets.NoDuplicatesDataLoader(\n",
    "    train_samples[:200_000], batch_size=train_batch_size\n",
    ")"
   ]
  },
  {
   "cell_type": "markdown",
   "metadata": {},
   "source": [
    "# Dev data"
   ]
  },
  {
   "cell_type": "code",
   "execution_count": null,
   "metadata": {},
   "outputs": [],
   "source": [
    "stsb_dev = load_dataset(\"mteb/stsbenchmark-sts\", split=\"validation\")\n",
    "dev_evaluator = EmbeddingSimilarityEvaluator(\n",
    "    stsb_dev[\"sentence1\"],\n",
    "    stsb_dev[\"sentence2\"],\n",
    "    [score / 5 for score in stsb_dev[\"score\"]],\n",
    "    main_similarity=SimilarityFunction.COSINE,\n",
    "    name=\"sts-dev\",\n",
    ")"
   ]
  },
  {
   "cell_type": "markdown",
   "metadata": {},
   "source": [
    "# Diagonaloss"
   ]
  },
  {
   "cell_type": "code",
   "execution_count": null,
   "metadata": {},
   "outputs": [],
   "source": [
    "dim: int = model.get_sentence_embedding_dimension()\n",
    "max_weight_squared = torch.log2(torch.tensor(dim)) - 3\n",
    "diagonal_vec = torch.sqrt(\n",
    "    torch.linspace(\n",
    "        max_weight_squared, 1, steps=dim, device=model.device, requires_grad=False\n",
    "    )\n",
    ")"
   ]
  },
  {
   "cell_type": "code",
   "execution_count": null,
   "metadata": {},
   "outputs": [],
   "source": [
    "def _weighted_cosine_similarity(\n",
    "    w: torch.Tensor, a: torch.Tensor, b: torch.Tensor\n",
    ") -> torch.Tensor:\n",
    "    w_sqrt = torch.sqrt(w)\n",
    "    a = a * w_sqrt\n",
    "    b = b * w_sqrt\n",
    "    return cos_sim(a, b)\n",
    "\n",
    "\n",
    "def weighted_cosine_similarity(a: torch.Tensor, b: torch.Tensor) -> torch.Tensor:\n",
    "    # similarity_fct doesn't like functools.partial b/c it doesn't have a __name__ attr\n",
    "    return _weighted_cosine_similarity(diagonal_vec, a, b)"
   ]
  },
  {
   "cell_type": "code",
   "execution_count": null,
   "metadata": {},
   "outputs": [],
   "source": [
    "train_loss = losses.MultipleNegativesRankingLoss(\n",
    "    model=model, similarity_fct=weighted_cosine_similarity\n",
    ")"
   ]
  },
  {
   "cell_type": "markdown",
   "metadata": {},
   "source": [
    "# Train"
   ]
  },
  {
   "cell_type": "code",
   "execution_count": null,
   "metadata": {},
   "outputs": [],
   "source": [
    "# Configure the training\n",
    "warmup_steps = math.ceil(\n",
    "    len(train_dataloader) * num_epochs * 0.1\n",
    ")  # 10% of train data for warm-up\n",
    "print(\"Warmup-steps: {}\".format(warmup_steps))\n",
    "\n",
    "model_save_path = (\n",
    "    \"output/matryoshka_nli_\"\n",
    "    + model_name.replace(\"/\", \"-\")\n",
    "    + \"-\"\n",
    "    + datetime.now().strftime(\"%Y-%m-%d_%H-%M-%S\")\n",
    ")\n",
    "\n",
    "# Train the model\n",
    "model.fit(\n",
    "    train_objectives=[(train_dataloader, train_loss)],\n",
    "    evaluator=dev_evaluator,\n",
    "    epochs=num_epochs,\n",
    "    evaluation_steps=int(len(train_dataloader) * 0.1),\n",
    "    warmup_steps=warmup_steps,\n",
    "    output_path=model_save_path,\n",
    "    use_amp=False,  # Set to True, if your GPU supports FP16 operations\n",
    ")"
   ]
  },
  {
   "cell_type": "markdown",
   "metadata": {},
   "source": [
    "# Push to HF hub"
   ]
  },
  {
   "cell_type": "code",
   "execution_count": null,
   "metadata": {},
   "outputs": [],
   "source": [
    "!huggingface-cli login"
   ]
  },
  {
   "cell_type": "code",
   "execution_count": null,
   "metadata": {},
   "outputs": [],
   "source": [
    "model_name = model_name if \"/\" not in model_name else model_name.split(\"/\")[-1]\n",
    "model.push_to_hub(f\"{model_name}-nli-diagonaloss\")"
   ]
  },
  {
   "cell_type": "markdown",
   "metadata": {},
   "source": [
    "# Test"
   ]
  },
  {
   "cell_type": "markdown",
   "metadata": {},
   "source": [
    "Can instead do this in `./eval.py`"
   ]
  },
  {
   "cell_type": "code",
   "execution_count": null,
   "metadata": {},
   "outputs": [],
   "source": [
    "model = SentenceTransformer(model_save_path)"
   ]
  },
  {
   "cell_type": "code",
   "execution_count": null,
   "metadata": {},
   "outputs": [],
   "source": [
    "stsb_test = load_dataset(\"mteb/stsbenchmark-sts\", split=\"test\")"
   ]
  },
  {
   "cell_type": "code",
   "execution_count": null,
   "metadata": {},
   "outputs": [],
   "source": [
    "test_evaluator = EmbeddingSimilarityEvaluator(\n",
    "    stsb_test[\"sentence1\"],\n",
    "    stsb_test[\"sentence2\"],\n",
    "    [score / 5 for score in stsb_test[\"score\"]],\n",
    "    main_similarity=SimilarityFunction.COSINE,\n",
    "    name=\"sts-test\",\n",
    ")"
   ]
  },
  {
   "cell_type": "code",
   "execution_count": null,
   "metadata": {},
   "outputs": [],
   "source": [
    "test_evaluator(model, output_path=model_save_path)"
   ]
  }
 ],
 "metadata": {
  "kernelspec": {
   "display_name": "base",
   "language": "python",
   "name": "python3"
  },
  "language_info": {
   "name": "python",
   "version": "3.11.8"
  }
 },
 "nbformat": 4,
 "nbformat_minor": 2
}
