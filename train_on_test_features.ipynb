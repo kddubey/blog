{
  "nbformat": 4,
  "nbformat_minor": 0,
  "metadata": {
    "colab": {
      "provenance": [],
      "gpuType": "T4",
      "toc_visible": true
    },
    "kernelspec": {
      "name": "python3",
      "display_name": "Python 3"
    },
    "language_info": {
      "name": "python"
    },
    "accelerator": "GPU",
    "gpuClass": "standard"
  },
  "cells": [
    {
      "cell_type": "code",
      "execution_count": 1,
      "metadata": {
        "id": "4NvOsy-rAIYE",
        "colab": {
          "base_uri": "https://localhost:8080/"
        },
        "outputId": "798cc3b1-ab51-4181-c3c9-65cc6b2f5deb"
      },
      "outputs": [
        {
          "output_type": "stream",
          "name": "stdout",
          "text": [
            "Looking in indexes: https://pypi.org/simple, https://us-python.pkg.dev/colab-wheels/public/simple/\n",
            "Requirement already satisfied: datasets in /usr/local/lib/python3.9/dist-packages (2.11.0)\n",
            "Requirement already satisfied: torch in /usr/local/lib/python3.9/dist-packages (2.0.0+cu118)\n",
            "Requirement already satisfied: transformers in /usr/local/lib/python3.9/dist-packages (4.27.4)\n",
            "Requirement already satisfied: tqdm>=4.62.1 in /usr/local/lib/python3.9/dist-packages (from datasets) (4.65.0)\n",
            "Requirement already satisfied: fsspec[http]>=2021.11.1 in /usr/local/lib/python3.9/dist-packages (from datasets) (2023.3.0)\n",
            "Requirement already satisfied: xxhash in /usr/local/lib/python3.9/dist-packages (from datasets) (3.2.0)\n",
            "Requirement already satisfied: huggingface-hub<1.0.0,>=0.11.0 in /usr/local/lib/python3.9/dist-packages (from datasets) (0.13.4)\n",
            "Requirement already satisfied: pyyaml>=5.1 in /usr/local/lib/python3.9/dist-packages (from datasets) (6.0)\n",
            "Requirement already satisfied: aiohttp in /usr/local/lib/python3.9/dist-packages (from datasets) (3.8.4)\n",
            "Requirement already satisfied: packaging in /usr/local/lib/python3.9/dist-packages (from datasets) (23.0)\n",
            "Requirement already satisfied: requests>=2.19.0 in /usr/local/lib/python3.9/dist-packages (from datasets) (2.27.1)\n",
            "Requirement already satisfied: pyarrow>=8.0.0 in /usr/local/lib/python3.9/dist-packages (from datasets) (9.0.0)\n",
            "Requirement already satisfied: pandas in /usr/local/lib/python3.9/dist-packages (from datasets) (1.4.4)\n",
            "Requirement already satisfied: numpy>=1.17 in /usr/local/lib/python3.9/dist-packages (from datasets) (1.22.4)\n",
            "Requirement already satisfied: responses<0.19 in /usr/local/lib/python3.9/dist-packages (from datasets) (0.18.0)\n",
            "Requirement already satisfied: dill<0.3.7,>=0.3.0 in /usr/local/lib/python3.9/dist-packages (from datasets) (0.3.6)\n",
            "Requirement already satisfied: multiprocess in /usr/local/lib/python3.9/dist-packages (from datasets) (0.70.14)\n",
            "Requirement already satisfied: networkx in /usr/local/lib/python3.9/dist-packages (from torch) (3.0)\n",
            "Requirement already satisfied: triton==2.0.0 in /usr/local/lib/python3.9/dist-packages (from torch) (2.0.0)\n",
            "Requirement already satisfied: jinja2 in /usr/local/lib/python3.9/dist-packages (from torch) (3.1.2)\n",
            "Requirement already satisfied: typing-extensions in /usr/local/lib/python3.9/dist-packages (from torch) (4.5.0)\n",
            "Requirement already satisfied: sympy in /usr/local/lib/python3.9/dist-packages (from torch) (1.11.1)\n",
            "Requirement already satisfied: filelock in /usr/local/lib/python3.9/dist-packages (from torch) (3.10.7)\n",
            "Requirement already satisfied: cmake in /usr/local/lib/python3.9/dist-packages (from triton==2.0.0->torch) (3.25.2)\n",
            "Requirement already satisfied: lit in /usr/local/lib/python3.9/dist-packages (from triton==2.0.0->torch) (16.0.0)\n",
            "Requirement already satisfied: regex!=2019.12.17 in /usr/local/lib/python3.9/dist-packages (from transformers) (2022.10.31)\n",
            "Requirement already satisfied: tokenizers!=0.11.3,<0.14,>=0.11.1 in /usr/local/lib/python3.9/dist-packages (from transformers) (0.13.3)\n",
            "Requirement already satisfied: charset-normalizer<4.0,>=2.0 in /usr/local/lib/python3.9/dist-packages (from aiohttp->datasets) (2.0.12)\n",
            "Requirement already satisfied: yarl<2.0,>=1.0 in /usr/local/lib/python3.9/dist-packages (from aiohttp->datasets) (1.8.2)\n",
            "Requirement already satisfied: multidict<7.0,>=4.5 in /usr/local/lib/python3.9/dist-packages (from aiohttp->datasets) (6.0.4)\n",
            "Requirement already satisfied: attrs>=17.3.0 in /usr/local/lib/python3.9/dist-packages (from aiohttp->datasets) (22.2.0)\n",
            "Requirement already satisfied: frozenlist>=1.1.1 in /usr/local/lib/python3.9/dist-packages (from aiohttp->datasets) (1.3.3)\n",
            "Requirement already satisfied: aiosignal>=1.1.2 in /usr/local/lib/python3.9/dist-packages (from aiohttp->datasets) (1.3.1)\n",
            "Requirement already satisfied: async-timeout<5.0,>=4.0.0a3 in /usr/local/lib/python3.9/dist-packages (from aiohttp->datasets) (4.0.2)\n",
            "Requirement already satisfied: idna<4,>=2.5 in /usr/local/lib/python3.9/dist-packages (from requests>=2.19.0->datasets) (3.4)\n",
            "Requirement already satisfied: certifi>=2017.4.17 in /usr/local/lib/python3.9/dist-packages (from requests>=2.19.0->datasets) (2022.12.7)\n",
            "Requirement already satisfied: urllib3<1.27,>=1.21.1 in /usr/local/lib/python3.9/dist-packages (from requests>=2.19.0->datasets) (1.26.15)\n",
            "Requirement already satisfied: MarkupSafe>=2.0 in /usr/local/lib/python3.9/dist-packages (from jinja2->torch) (2.1.2)\n",
            "Requirement already satisfied: python-dateutil>=2.8.1 in /usr/local/lib/python3.9/dist-packages (from pandas->datasets) (2.8.2)\n",
            "Requirement already satisfied: pytz>=2020.1 in /usr/local/lib/python3.9/dist-packages (from pandas->datasets) (2022.7.1)\n",
            "Requirement already satisfied: mpmath>=0.19 in /usr/local/lib/python3.9/dist-packages (from sympy->torch) (1.3.0)\n",
            "Requirement already satisfied: six>=1.5 in /usr/local/lib/python3.9/dist-packages (from python-dateutil>=2.8.1->pandas->datasets) (1.16.0)\n"
          ]
        }
      ],
      "source": [
        "!python -m pip install datasets torch transformers"
      ]
    },
    {
      "cell_type": "code",
      "source": [
        "from __future__ import annotations\n",
        "\n",
        "from datasets import load_dataset\n",
        "from IPython.display import clear_output\n",
        "import matplotlib.pyplot as plt\n",
        "import numpy as np\n",
        "import pandas as pd\n",
        "from sklearn.model_selection import train_test_split\n",
        "\n",
        "import torch\n",
        "from torch.utils.data import Dataset, TensorDataset\n",
        "from transformers import (BertTokenizer, BertForMaskedLM,\n",
        "                          BertForSequenceClassification,\n",
        "                          TextDataset, DataCollatorForLanguageModeling,\n",
        "                          Trainer, TrainingArguments, EarlyStoppingCallback)"
      ],
      "metadata": {
        "id": "VsEQMpnJAQOK"
      },
      "execution_count": 2,
      "outputs": []
    },
    {
      "cell_type": "code",
      "source": [
        "assert torch.cuda.is_available(), 'This notebook needs to run on a GPU'"
      ],
      "metadata": {
        "id": "Fog91uCwFrmR"
      },
      "execution_count": 3,
      "outputs": []
    },
    {
      "cell_type": "markdown",
      "source": [
        "# Load dataset"
      ],
      "metadata": {
        "id": "3ssaw2GiULib"
      }
    },
    {
      "cell_type": "code",
      "source": [
        "df = pd.DataFrame(load_dataset(\"ag_news\", split='train'))"
      ],
      "metadata": {
        "colab": {
          "base_uri": "https://localhost:8080/"
        },
        "id": "ylF9BI0uAj8Y",
        "outputId": "74a85767-6c99-43d0-c1bf-3061c0c91cfc"
      },
      "execution_count": 4,
      "outputs": [
        {
          "output_type": "stream",
          "name": "stderr",
          "text": [
            "WARNING:datasets.builder:Found cached dataset ag_news (/root/.cache/huggingface/datasets/ag_news/default/0.0.0/bc2bcb40336ace1a0374767fc29bb0296cdaf8a6da7298436239c54d79180548)\n"
          ]
        }
      ]
    },
    {
      "cell_type": "code",
      "source": [
        "len(df)"
      ],
      "metadata": {
        "colab": {
          "base_uri": "https://localhost:8080/"
        },
        "id": "4QAk3rdDA1vs",
        "outputId": "636d154a-5858-4703-9238-cdbd57e13a55"
      },
      "execution_count": 5,
      "outputs": [
        {
          "output_type": "execute_result",
          "data": {
            "text/plain": [
              "120000"
            ]
          },
          "metadata": {},
          "execution_count": 5
        }
      ]
    },
    {
      "cell_type": "markdown",
      "source": [
        "We'll only need 50 + 1000 + 1000 = 2.05k observations"
      ],
      "metadata": {
        "id": "zTjTBx5ql06I"
      }
    },
    {
      "cell_type": "code",
      "source": [
        "df.head()"
      ],
      "metadata": {
        "colab": {
          "base_uri": "https://localhost:8080/",
          "height": 206
        },
        "id": "NLNov0SNBIhI",
        "outputId": "faf9e87d-3196-4dae-f540-a41463caba90"
      },
      "execution_count": 6,
      "outputs": [
        {
          "output_type": "execute_result",
          "data": {
            "text/plain": [
              "                                                text  label\n",
              "0  Wall St. Bears Claw Back Into the Black (Reute...      2\n",
              "1  Carlyle Looks Toward Commercial Aerospace (Reu...      2\n",
              "2  Oil and Economy Cloud Stocks' Outlook (Reuters...      2\n",
              "3  Iraq Halts Oil Exports from Main Southern Pipe...      2\n",
              "4  Oil prices soar to all-time record, posing new...      2"
            ],
            "text/html": [
              "\n",
              "  <div id=\"df-1ebe5eea-abed-432e-ac68-76362fe90893\">\n",
              "    <div class=\"colab-df-container\">\n",
              "      <div>\n",
              "<style scoped>\n",
              "    .dataframe tbody tr th:only-of-type {\n",
              "        vertical-align: middle;\n",
              "    }\n",
              "\n",
              "    .dataframe tbody tr th {\n",
              "        vertical-align: top;\n",
              "    }\n",
              "\n",
              "    .dataframe thead th {\n",
              "        text-align: right;\n",
              "    }\n",
              "</style>\n",
              "<table border=\"1\" class=\"dataframe\">\n",
              "  <thead>\n",
              "    <tr style=\"text-align: right;\">\n",
              "      <th></th>\n",
              "      <th>text</th>\n",
              "      <th>label</th>\n",
              "    </tr>\n",
              "  </thead>\n",
              "  <tbody>\n",
              "    <tr>\n",
              "      <th>0</th>\n",
              "      <td>Wall St. Bears Claw Back Into the Black (Reute...</td>\n",
              "      <td>2</td>\n",
              "    </tr>\n",
              "    <tr>\n",
              "      <th>1</th>\n",
              "      <td>Carlyle Looks Toward Commercial Aerospace (Reu...</td>\n",
              "      <td>2</td>\n",
              "    </tr>\n",
              "    <tr>\n",
              "      <th>2</th>\n",
              "      <td>Oil and Economy Cloud Stocks' Outlook (Reuters...</td>\n",
              "      <td>2</td>\n",
              "    </tr>\n",
              "    <tr>\n",
              "      <th>3</th>\n",
              "      <td>Iraq Halts Oil Exports from Main Southern Pipe...</td>\n",
              "      <td>2</td>\n",
              "    </tr>\n",
              "    <tr>\n",
              "      <th>4</th>\n",
              "      <td>Oil prices soar to all-time record, posing new...</td>\n",
              "      <td>2</td>\n",
              "    </tr>\n",
              "  </tbody>\n",
              "</table>\n",
              "</div>\n",
              "      <button class=\"colab-df-convert\" onclick=\"convertToInteractive('df-1ebe5eea-abed-432e-ac68-76362fe90893')\"\n",
              "              title=\"Convert this dataframe to an interactive table.\"\n",
              "              style=\"display:none;\">\n",
              "        \n",
              "  <svg xmlns=\"http://www.w3.org/2000/svg\" height=\"24px\"viewBox=\"0 0 24 24\"\n",
              "       width=\"24px\">\n",
              "    <path d=\"M0 0h24v24H0V0z\" fill=\"none\"/>\n",
              "    <path d=\"M18.56 5.44l.94 2.06.94-2.06 2.06-.94-2.06-.94-.94-2.06-.94 2.06-2.06.94zm-11 1L8.5 8.5l.94-2.06 2.06-.94-2.06-.94L8.5 2.5l-.94 2.06-2.06.94zm10 10l.94 2.06.94-2.06 2.06-.94-2.06-.94-.94-2.06-.94 2.06-2.06.94z\"/><path d=\"M17.41 7.96l-1.37-1.37c-.4-.4-.92-.59-1.43-.59-.52 0-1.04.2-1.43.59L10.3 9.45l-7.72 7.72c-.78.78-.78 2.05 0 2.83L4 21.41c.39.39.9.59 1.41.59.51 0 1.02-.2 1.41-.59l7.78-7.78 2.81-2.81c.8-.78.8-2.07 0-2.86zM5.41 20L4 18.59l7.72-7.72 1.47 1.35L5.41 20z\"/>\n",
              "  </svg>\n",
              "      </button>\n",
              "      \n",
              "  <style>\n",
              "    .colab-df-container {\n",
              "      display:flex;\n",
              "      flex-wrap:wrap;\n",
              "      gap: 12px;\n",
              "    }\n",
              "\n",
              "    .colab-df-convert {\n",
              "      background-color: #E8F0FE;\n",
              "      border: none;\n",
              "      border-radius: 50%;\n",
              "      cursor: pointer;\n",
              "      display: none;\n",
              "      fill: #1967D2;\n",
              "      height: 32px;\n",
              "      padding: 0 0 0 0;\n",
              "      width: 32px;\n",
              "    }\n",
              "\n",
              "    .colab-df-convert:hover {\n",
              "      background-color: #E2EBFA;\n",
              "      box-shadow: 0px 1px 2px rgba(60, 64, 67, 0.3), 0px 1px 3px 1px rgba(60, 64, 67, 0.15);\n",
              "      fill: #174EA6;\n",
              "    }\n",
              "\n",
              "    [theme=dark] .colab-df-convert {\n",
              "      background-color: #3B4455;\n",
              "      fill: #D2E3FC;\n",
              "    }\n",
              "\n",
              "    [theme=dark] .colab-df-convert:hover {\n",
              "      background-color: #434B5C;\n",
              "      box-shadow: 0px 1px 3px 1px rgba(0, 0, 0, 0.15);\n",
              "      filter: drop-shadow(0px 1px 2px rgba(0, 0, 0, 0.3));\n",
              "      fill: #FFFFFF;\n",
              "    }\n",
              "  </style>\n",
              "\n",
              "      <script>\n",
              "        const buttonEl =\n",
              "          document.querySelector('#df-1ebe5eea-abed-432e-ac68-76362fe90893 button.colab-df-convert');\n",
              "        buttonEl.style.display =\n",
              "          google.colab.kernel.accessAllowed ? 'block' : 'none';\n",
              "\n",
              "        async function convertToInteractive(key) {\n",
              "          const element = document.querySelector('#df-1ebe5eea-abed-432e-ac68-76362fe90893');\n",
              "          const dataTable =\n",
              "            await google.colab.kernel.invokeFunction('convertToInteractive',\n",
              "                                                     [key], {});\n",
              "          if (!dataTable) return;\n",
              "\n",
              "          const docLinkHtml = 'Like what you see? Visit the ' +\n",
              "            '<a target=\"_blank\" href=https://colab.research.google.com/notebooks/data_table.ipynb>data table notebook</a>'\n",
              "            + ' to learn more about interactive tables.';\n",
              "          element.innerHTML = '';\n",
              "          dataTable['output_type'] = 'display_data';\n",
              "          await google.colab.output.renderOutput(dataTable, element);\n",
              "          const docLink = document.createElement('div');\n",
              "          docLink.innerHTML = docLinkHtml;\n",
              "          element.appendChild(docLink);\n",
              "        }\n",
              "      </script>\n",
              "    </div>\n",
              "  </div>\n",
              "  "
            ]
          },
          "metadata": {},
          "execution_count": 6
        }
      ]
    },
    {
      "cell_type": "markdown",
      "source": [
        "Ensure your dataframe passes these checks"
      ],
      "metadata": {
        "id": "l_8qU5gYhywL"
      }
    },
    {
      "cell_type": "code",
      "source": [
        "assert len(set(df.index)) == len(df)"
      ],
      "metadata": {
        "id": "dO4XIN07gH-O"
      },
      "execution_count": 7,
      "outputs": []
    },
    {
      "cell_type": "code",
      "source": [
        "assert 'text' in df.columns\n",
        "assert 'label' in df.columns\n",
        "# please assign a new column if the test fails"
      ],
      "metadata": {
        "id": "BqEee7PHhaBj"
      },
      "execution_count": 8,
      "outputs": []
    },
    {
      "cell_type": "code",
      "source": [
        "df['text'] = df['text'].astype(str)\n",
        "df['label'] = df['label'].astype(int)"
      ],
      "metadata": {
        "id": "lWa3ll_WhhId"
      },
      "execution_count": 9,
      "outputs": []
    },
    {
      "cell_type": "code",
      "source": [
        "df['label'].value_counts()"
      ],
      "metadata": {
        "colab": {
          "base_uri": "https://localhost:8080/"
        },
        "id": "JrpIf8TfuUJe",
        "outputId": "e77a7fc6-7d8e-4263-d877-6a9809004a61"
      },
      "execution_count": 10,
      "outputs": [
        {
          "output_type": "execute_result",
          "data": {
            "text/plain": [
              "2    30000\n",
              "3    30000\n",
              "1    30000\n",
              "0    30000\n",
              "Name: label, dtype: int64"
            ]
          },
          "metadata": {},
          "execution_count": 10
        }
      ]
    },
    {
      "cell_type": "markdown",
      "source": [
        "# Download model"
      ],
      "metadata": {
        "id": "CLtATGskrOzH"
      }
    },
    {
      "cell_type": "code",
      "source": [
        "_ = BertForMaskedLM.from_pretrained('bert-base-uncased')\n",
        "# just downloading it to your comp if it hasn't already been downloaded\n",
        "\n",
        "tokenizer = BertTokenizer.from_pretrained('bert-base-uncased')"
      ],
      "metadata": {
        "colab": {
          "base_uri": "https://localhost:8080/"
        },
        "id": "XKu1mBnhElEZ",
        "outputId": "c2b2d3b7-ca76-401e-e577-7ace3b4dc74b"
      },
      "execution_count": 11,
      "outputs": [
        {
          "output_type": "stream",
          "name": "stderr",
          "text": [
            "Some weights of the model checkpoint at bert-base-uncased were not used when initializing BertForMaskedLM: ['cls.seq_relationship.bias', 'cls.seq_relationship.weight']\n",
            "- This IS expected if you are initializing BertForMaskedLM from the checkpoint of a model trained on another task or with another architecture (e.g. initializing a BertForSequenceClassification model from a BertForPreTraining model).\n",
            "- This IS NOT expected if you are initializing BertForMaskedLM from the checkpoint of a model that you expect to be exactly identical (initializing a BertForSequenceClassification model from a BertForSequenceClassification model).\n"
          ]
        }
      ]
    },
    {
      "cell_type": "markdown",
      "source": [
        "# MLM"
      ],
      "metadata": {
        "id": "qkM46zTNU_NQ"
      }
    },
    {
      "cell_type": "code",
      "source": [
        "class TokenizedSentencesDataset(Dataset):\n",
        "    '''\n",
        "    taken from https://github.com/UKPLab/sentence-transformers/blob/master/examples/unsupervised_learning/MLM/train_mlm.py\n",
        "    '''\n",
        "    def __init__(self, sentences, tokenizer, max_length,\n",
        "                 cache_tokenization=False):\n",
        "        self.tokenizer = tokenizer\n",
        "        self.sentences = sentences\n",
        "        self.max_length = max_length\n",
        "        self.cache_tokenization = cache_tokenization\n",
        "\n",
        "    def __getitem__(self, item):\n",
        "        if not self.cache_tokenization:\n",
        "            return self.tokenizer(self.sentences[item],\n",
        "                                  add_special_tokens=True,\n",
        "                                  truncation=True, max_length=self.max_length,\n",
        "                                  return_special_tokens_mask=True)\n",
        "\n",
        "        if isinstance(self.sentences[item], str):\n",
        "            self.sentences[item] = self.tokenizer(self.sentences[item],\n",
        "                                                  add_special_tokens=True,\n",
        "                                                  truncation=True,\n",
        "                                                  max_length=self.max_length,\n",
        "                                                  return_special_tokens_mask=True)\n",
        "        return self.sentences[item]\n",
        "\n",
        "    def __len__(self):\n",
        "        return len(self.sentences)"
      ],
      "metadata": {
        "id": "PWswag-0VFdT"
      },
      "execution_count": 12,
      "outputs": []
    },
    {
      "cell_type": "code",
      "source": [
        "def bert_pretrain(texts: list[str], output_dir: str ='./pretrained_bert'):\n",
        "    '''\n",
        "    Saves a BERT model which was pretrained on `texts` to `output_dir` using\n",
        "    masked language modeling loss.\n",
        "\n",
        "    It can be loaded for other tasks using, for example::\n",
        "\n",
        "        from transformers import BertForSequenceClassification\n",
        "        model = BertForSequenceClassification.from_pretrained(output_dir)\n",
        "    '''\n",
        "    # Set up data\n",
        "    train_dataset = TokenizedSentencesDataset(texts, tokenizer, max_length=100)\n",
        "    data_collator = DataCollatorForLanguageModeling(tokenizer=tokenizer,\n",
        "                                                    mlm=True,\n",
        "                                                    mlm_probability=0.15)\n",
        "\n",
        "    # Set up Trainer\n",
        "    training_args = TrainingArguments(\n",
        "        output_dir=output_dir,\n",
        "        overwrite_output_dir=True,\n",
        "        num_train_epochs=3,\n",
        "        per_device_train_batch_size=32,\n",
        "        save_strategy='no',\n",
        "        optim=\"adamw_torch\",\n",
        "        prediction_loss_only=True,\n",
        "    )\n",
        "\n",
        "    # Trainer will modify this model, so need to re-load a fresh one every time\n",
        "    # this function is called\n",
        "    trainer = Trainer(\n",
        "        model=BertForMaskedLM.from_pretrained('bert-base-uncased').to('cuda'),\n",
        "        args=training_args,\n",
        "        data_collator=data_collator,\n",
        "        train_dataset=train_dataset,\n",
        "    )\n",
        "\n",
        "    trainer.train()\n",
        "    trainer.save_model()"
      ],
      "metadata": {
        "id": "71S-j6aFVRdN"
      },
      "execution_count": 13,
      "outputs": []
    },
    {
      "cell_type": "markdown",
      "source": [
        "# Classification"
      ],
      "metadata": {
        "id": "4dp0d1EDYH5q"
      }
    },
    {
      "cell_type": "code",
      "source": [
        "class TextClassificationDataset(torch.utils.data.Dataset):\n",
        "    '''\n",
        "    taken from https://huggingface.co/transformers/v3.2.0/custom_datasets.html#sequence-classification-with-imdb-reviews\n",
        "    '''\n",
        "    def __init__(self, encodings, labels):\n",
        "        self.encodings = encodings\n",
        "        self.labels = labels\n",
        "\n",
        "    def __getitem__(self, idx):\n",
        "        item = {key: val[idx] for key, val in self.encodings.items()}\n",
        "        item['labels'] = self.labels[idx]\n",
        "        return item\n",
        "\n",
        "    def __len__(self):\n",
        "        return len(self.labels)"
      ],
      "metadata": {
        "id": "wzKGIHNvYK33"
      },
      "execution_count": 14,
      "outputs": []
    },
    {
      "cell_type": "code",
      "source": [
        "def _classification_dataset(texts: list[str], labels: list[int]) -> TextClassificationDataset:\n",
        "    encodings = tokenizer(texts, return_tensors='pt', truncation=True,\n",
        "                          padding=True)\n",
        "    labels = torch.tensor(labels)\n",
        "    return TextClassificationDataset(encodings, labels)"
      ],
      "metadata": {
        "id": "hmDsi31oZxEJ"
      },
      "execution_count": 15,
      "outputs": []
    },
    {
      "cell_type": "code",
      "source": [
        "def bert_finetune_classification(texts: list[str],\n",
        "                                 labels: list[int],\n",
        "                                 num_labels: int,\n",
        "                                 pretrained_model_name_or_path: str = './pretrained_bert') -> Trainer:\n",
        "    '''\n",
        "    Returns a BERT model `Trainer` which was finetuned on classification data\n",
        "    `texts, labels`. \n",
        "    '''\n",
        "    train_dataset = _classification_dataset(texts, labels)\n",
        "    classifier_args = TrainingArguments(\n",
        "        output_dir='./results',\n",
        "        num_train_epochs=3,\n",
        "        per_device_train_batch_size=16,\n",
        "        per_device_eval_batch_size=64,\n",
        "        weight_decay=0.01,\n",
        "        optim=\"adamw_torch\",\n",
        "    )\n",
        "    classifier_trainer = Trainer(\n",
        "        model=(BertForSequenceClassification\n",
        "               .from_pretrained(pretrained_model_name_or_path,\n",
        "                                num_labels=num_labels)\n",
        "               .to('cuda')),\n",
        "        args=classifier_args,\n",
        "        train_dataset=train_dataset,\n",
        "    )\n",
        "    classifier_trainer.train()\n",
        "    return classifier_trainer"
      ],
      "metadata": {
        "id": "kQqXR4BTYMuY"
      },
      "execution_count": 16,
      "outputs": []
    },
    {
      "cell_type": "code",
      "source": [
        "def classifier_accuracy(texts: list[str],\n",
        "                        labels: list[int],\n",
        "                        trained_classifier: Trainer) -> float:\n",
        "    '''\n",
        "    Returns the accuracy of `trained_classifier` on `texts` by comparing its\n",
        "    predictions to `labels`.\n",
        "    '''\n",
        "    eval_dataset = _classification_dataset(texts, labels)\n",
        "    pred_out = trained_classifier.predict(eval_dataset)\n",
        "    preds = pred_out.predictions.argmax(axis=1)\n",
        "    return (preds == labels).mean()"
      ],
      "metadata": {
        "id": "3dTHMo8vZQDg"
      },
      "execution_count": 17,
      "outputs": []
    },
    {
      "cell_type": "markdown",
      "source": [
        "# Experiment"
      ],
      "metadata": {
        "id": "hzylZ8pqa-B3"
      }
    },
    {
      "cell_type": "code",
      "source": [
        "def _stratified_sample(df: pd.DataFrame, sample_size: int,\n",
        "                       random_state: int=None) -> pd.DataFrame:\n",
        "    # let's not worry about not exactly returning a df w/ size sample_size for\n",
        "    # now. it's nbd for this experiment\n",
        "    num_labels = len(set(df['label']))\n",
        "    num_obs_per_label = int(sample_size / num_labels)\n",
        "\n",
        "    def label_sampler(df_label: pd.DataFrame) -> pd.DataFrame:\n",
        "        return df_label.sample(num_obs_per_label, random_state=random_state)\n",
        "\n",
        "    return df.groupby('label', group_keys=False).apply(label_sampler)\n",
        "\n",
        "\n",
        "def _split(df: pd.DataFrame, num_train: int=50, num_test: int=2000,\n",
        "           random_state: int=None, stratified_train: bool=True\n",
        "           ) -> tuple[pd.DataFrame, pd.DataFrame, pd.DataFrame]:\n",
        "    '''\n",
        "    Returns 3 (non-overlapping) dataframes which are randomly subsampled from\n",
        "    `df`. The first has `num_train` rows, and the last two have `num_test` rows\n",
        "    each.\n",
        "    '''\n",
        "    df_train = None\n",
        "    if stratified_train:\n",
        "        df_train = _stratified_sample(df, num_train, random_state=random_state)\n",
        "    else:\n",
        "        df_train = df.sample(num_train, random_state=random_state)\n",
        "\n",
        "    random_state = None if random_state is None else random_state+1\n",
        "    df_extra, df_test = train_test_split(df.drop(df_train.index),\n",
        "                                         train_size=num_test,\n",
        "                                         test_size=num_test,\n",
        "                                         random_state=random_state)\n",
        "    return df_train, df_extra, df_test"
      ],
      "metadata": {
        "id": "IFZop_AubAlt"
      },
      "execution_count": 18,
      "outputs": []
    },
    {
      "cell_type": "code",
      "source": [
        "def experiment_loop(df: pd.DataFrame, num_train: int=50, num_test: int=500,\n",
        "                    stratified_train: bool=True, random_state: int=None):\n",
        "    num_labels = len(set(df['label']))\n",
        "    df_train, df_extra, df_test = _split(df, num_train=num_train,\n",
        "                                         num_test=num_test,\n",
        "                                         stratified_train=stratified_train,\n",
        "                                         random_state=random_state)\n",
        "\n",
        "    print('Pretraining on extra')\n",
        "    bert_pretrain(df_extra['text'].tolist())  # overwrites ./pretrained_bert/\n",
        "    print('Training bert-base-uncased on train')\n",
        "    trained_classifier = bert_finetune_classification(df_train['text'].tolist(),\n",
        "                                                      df_train['label'].tolist(),\n",
        "                                                      num_labels=num_labels)\n",
        "    print('Testing on test')\n",
        "    extra_accuracy = classifier_accuracy(df_test['text'].tolist(),\n",
        "                                         df_test['label'].tolist(),\n",
        "                                         trained_classifier)\n",
        "\n",
        "    print('Pretraining on test')\n",
        "    bert_pretrain(df_test['text'].tolist())  # overwrites ./pretrained_bert/\n",
        "    print('Training on train')\n",
        "    trained_classifier = bert_finetune_classification(df_train['text'].tolist(),\n",
        "                                                      df_train['label'].tolist(),\n",
        "                                                      num_labels=num_labels)\n",
        "    print('Testing on test')\n",
        "    test_accuracy = classifier_accuracy(df_test['text'].tolist(),\n",
        "                                        df_test['label'].tolist(),\n",
        "                                        trained_classifier)\n",
        "\n",
        "    return extra_accuracy, test_accuracy  # paired data"
      ],
      "metadata": {
        "id": "7qq6T4ZZdKti"
      },
      "execution_count": 19,
      "outputs": []
    },
    {
      "cell_type": "code",
      "source": [
        "num_trials = 20\n",
        "extra_accuracies = []\n",
        "test_accuracies = []\n",
        "\n",
        "for i in range(num_trials):\n",
        "    clear_output(wait=True)\n",
        "    print(f'Running trial {i+1}\\n')\n",
        "    extra_accuracy, test_accuracy = experiment_loop(df, random_state=42+i)\n",
        "    extra_accuracies.append(extra_accuracy)\n",
        "    test_accuracies.append(test_accuracy)"
      ],
      "metadata": {
        "colab": {
          "base_uri": "https://localhost:8080/",
          "height": 686
        },
        "id": "m3v-0lnnoUNz",
        "outputId": "1770a972-9618-464e-aaee-e70204ed6f1f"
      },
      "execution_count": 20,
      "outputs": [
        {
          "output_type": "stream",
          "name": "stdout",
          "text": [
            "Running trial 20\n",
            "\n",
            "Pretraining on extra\n"
          ]
        },
        {
          "output_type": "stream",
          "name": "stderr",
          "text": [
            "Some weights of the model checkpoint at bert-base-uncased were not used when initializing BertForMaskedLM: ['cls.seq_relationship.bias', 'cls.seq_relationship.weight']\n",
            "- This IS expected if you are initializing BertForMaskedLM from the checkpoint of a model trained on another task or with another architecture (e.g. initializing a BertForSequenceClassification model from a BertForPreTraining model).\n",
            "- This IS NOT expected if you are initializing BertForMaskedLM from the checkpoint of a model that you expect to be exactly identical (initializing a BertForSequenceClassification model from a BertForSequenceClassification model).\n"
          ]
        },
        {
          "output_type": "display_data",
          "data": {
            "text/plain": [
              "<IPython.core.display.HTML object>"
            ],
            "text/html": [
              "\n",
              "    <div>\n",
              "      \n",
              "      <progress value='48' max='48' style='width:300px; height:20px; vertical-align: middle;'></progress>\n",
              "      [48/48 00:28, Epoch 3/3]\n",
              "    </div>\n",
              "    <table border=\"1\" class=\"dataframe\">\n",
              "  <thead>\n",
              " <tr style=\"text-align: left;\">\n",
              "      <th>Step</th>\n",
              "      <th>Training Loss</th>\n",
              "    </tr>\n",
              "  </thead>\n",
              "  <tbody>\n",
              "  </tbody>\n",
              "</table><p>"
            ]
          },
          "metadata": {}
        },
        {
          "output_type": "stream",
          "name": "stdout",
          "text": [
            "Training bert-base-uncased on train\n"
          ]
        },
        {
          "output_type": "stream",
          "name": "stderr",
          "text": [
            "Some weights of the model checkpoint at ./pretrained_bert were not used when initializing BertForSequenceClassification: ['cls.predictions.transform.LayerNorm.bias', 'cls.predictions.decoder.weight', 'cls.predictions.transform.dense.weight', 'cls.predictions.transform.LayerNorm.weight', 'cls.predictions.bias', 'cls.predictions.transform.dense.bias', 'cls.predictions.decoder.bias']\n",
            "- This IS expected if you are initializing BertForSequenceClassification from the checkpoint of a model trained on another task or with another architecture (e.g. initializing a BertForSequenceClassification model from a BertForPreTraining model).\n",
            "- This IS NOT expected if you are initializing BertForSequenceClassification from the checkpoint of a model that you expect to be exactly identical (initializing a BertForSequenceClassification model from a BertForSequenceClassification model).\n",
            "Some weights of BertForSequenceClassification were not initialized from the model checkpoint at ./pretrained_bert and are newly initialized: ['bert.pooler.dense.bias', 'classifier.weight', 'classifier.bias', 'bert.pooler.dense.weight']\n",
            "You should probably TRAIN this model on a down-stream task to be able to use it for predictions and inference.\n"
          ]
        },
        {
          "output_type": "display_data",
          "data": {
            "text/plain": [
              "<IPython.core.display.HTML object>"
            ],
            "text/html": [
              "\n",
              "    <div>\n",
              "      \n",
              "      <progress value='9' max='9' style='width:300px; height:20px; vertical-align: middle;'></progress>\n",
              "      [9/9 00:02, Epoch 3/3]\n",
              "    </div>\n",
              "    <table border=\"1\" class=\"dataframe\">\n",
              "  <thead>\n",
              " <tr style=\"text-align: left;\">\n",
              "      <th>Step</th>\n",
              "      <th>Training Loss</th>\n",
              "    </tr>\n",
              "  </thead>\n",
              "  <tbody>\n",
              "  </tbody>\n",
              "</table><p>"
            ]
          },
          "metadata": {}
        },
        {
          "output_type": "stream",
          "name": "stdout",
          "text": [
            "Testing on test\n"
          ]
        },
        {
          "output_type": "display_data",
          "data": {
            "text/plain": [
              "<IPython.core.display.HTML object>"
            ],
            "text/html": []
          },
          "metadata": {}
        },
        {
          "output_type": "stream",
          "name": "stdout",
          "text": [
            "Pretraining on test\n"
          ]
        },
        {
          "output_type": "stream",
          "name": "stderr",
          "text": [
            "Some weights of the model checkpoint at bert-base-uncased were not used when initializing BertForMaskedLM: ['cls.seq_relationship.bias', 'cls.seq_relationship.weight']\n",
            "- This IS expected if you are initializing BertForMaskedLM from the checkpoint of a model trained on another task or with another architecture (e.g. initializing a BertForSequenceClassification model from a BertForPreTraining model).\n",
            "- This IS NOT expected if you are initializing BertForMaskedLM from the checkpoint of a model that you expect to be exactly identical (initializing a BertForSequenceClassification model from a BertForSequenceClassification model).\n"
          ]
        },
        {
          "output_type": "display_data",
          "data": {
            "text/plain": [
              "<IPython.core.display.HTML object>"
            ],
            "text/html": [
              "\n",
              "    <div>\n",
              "      \n",
              "      <progress value='48' max='48' style='width:300px; height:20px; vertical-align: middle;'></progress>\n",
              "      [48/48 00:29, Epoch 3/3]\n",
              "    </div>\n",
              "    <table border=\"1\" class=\"dataframe\">\n",
              "  <thead>\n",
              " <tr style=\"text-align: left;\">\n",
              "      <th>Step</th>\n",
              "      <th>Training Loss</th>\n",
              "    </tr>\n",
              "  </thead>\n",
              "  <tbody>\n",
              "  </tbody>\n",
              "</table><p>"
            ]
          },
          "metadata": {}
        },
        {
          "output_type": "stream",
          "name": "stdout",
          "text": [
            "Training on train\n"
          ]
        },
        {
          "output_type": "stream",
          "name": "stderr",
          "text": [
            "Some weights of the model checkpoint at ./pretrained_bert were not used when initializing BertForSequenceClassification: ['cls.predictions.transform.LayerNorm.bias', 'cls.predictions.decoder.weight', 'cls.predictions.transform.dense.weight', 'cls.predictions.transform.LayerNorm.weight', 'cls.predictions.bias', 'cls.predictions.transform.dense.bias', 'cls.predictions.decoder.bias']\n",
            "- This IS expected if you are initializing BertForSequenceClassification from the checkpoint of a model trained on another task or with another architecture (e.g. initializing a BertForSequenceClassification model from a BertForPreTraining model).\n",
            "- This IS NOT expected if you are initializing BertForSequenceClassification from the checkpoint of a model that you expect to be exactly identical (initializing a BertForSequenceClassification model from a BertForSequenceClassification model).\n",
            "Some weights of BertForSequenceClassification were not initialized from the model checkpoint at ./pretrained_bert and are newly initialized: ['bert.pooler.dense.bias', 'classifier.weight', 'classifier.bias', 'bert.pooler.dense.weight']\n",
            "You should probably TRAIN this model on a down-stream task to be able to use it for predictions and inference.\n"
          ]
        },
        {
          "output_type": "display_data",
          "data": {
            "text/plain": [
              "<IPython.core.display.HTML object>"
            ],
            "text/html": [
              "\n",
              "    <div>\n",
              "      \n",
              "      <progress value='9' max='9' style='width:300px; height:20px; vertical-align: middle;'></progress>\n",
              "      [9/9 00:02, Epoch 3/3]\n",
              "    </div>\n",
              "    <table border=\"1\" class=\"dataframe\">\n",
              "  <thead>\n",
              " <tr style=\"text-align: left;\">\n",
              "      <th>Step</th>\n",
              "      <th>Training Loss</th>\n",
              "    </tr>\n",
              "  </thead>\n",
              "  <tbody>\n",
              "  </tbody>\n",
              "</table><p>"
            ]
          },
          "metadata": {}
        },
        {
          "output_type": "stream",
          "name": "stdout",
          "text": [
            "Testing on test\n"
          ]
        },
        {
          "output_type": "display_data",
          "data": {
            "text/plain": [
              "<IPython.core.display.HTML object>"
            ],
            "text/html": []
          },
          "metadata": {}
        }
      ]
    },
    {
      "cell_type": "code",
      "source": [
        "extra_accuracies"
      ],
      "metadata": {
        "id": "dZz9de5ouvzB",
        "colab": {
          "base_uri": "https://localhost:8080/"
        },
        "outputId": "502ff763-1570-4097-c67e-66b554d948f2"
      },
      "execution_count": 21,
      "outputs": [
        {
          "output_type": "execute_result",
          "data": {
            "text/plain": [
              "[0.784,\n",
              " 0.694,\n",
              " 0.684,\n",
              " 0.71,\n",
              " 0.66,\n",
              " 0.794,\n",
              " 0.674,\n",
              " 0.664,\n",
              " 0.628,\n",
              " 0.774,\n",
              " 0.76,\n",
              " 0.772,\n",
              " 0.734,\n",
              " 0.706,\n",
              " 0.724,\n",
              " 0.77,\n",
              " 0.708,\n",
              " 0.722,\n",
              " 0.704,\n",
              " 0.65]"
            ]
          },
          "metadata": {},
          "execution_count": 21
        }
      ]
    },
    {
      "cell_type": "code",
      "source": [
        "test_accuracies"
      ],
      "metadata": {
        "id": "6lkrOoAiuw1O",
        "colab": {
          "base_uri": "https://localhost:8080/"
        },
        "outputId": "52f68e8f-aaaf-4b61-f27f-ff691ef5386e"
      },
      "execution_count": 22,
      "outputs": [
        {
          "output_type": "execute_result",
          "data": {
            "text/plain": [
              "[0.736,\n",
              " 0.738,\n",
              " 0.682,\n",
              " 0.792,\n",
              " 0.68,\n",
              " 0.686,\n",
              " 0.744,\n",
              " 0.728,\n",
              " 0.764,\n",
              " 0.558,\n",
              " 0.798,\n",
              " 0.736,\n",
              " 0.8,\n",
              " 0.734,\n",
              " 0.656,\n",
              " 0.698,\n",
              " 0.706,\n",
              " 0.686,\n",
              " 0.756,\n",
              " 0.738]"
            ]
          },
          "metadata": {},
          "execution_count": 22
        }
      ]
    },
    {
      "cell_type": "code",
      "source": [
        "extra_accuracies = np.array(extra_accuracies)\n",
        "test_accuracies = np.array(test_accuracies)"
      ],
      "metadata": {
        "id": "_tD5QxkAqjWV"
      },
      "execution_count": 23,
      "outputs": []
    },
    {
      "cell_type": "code",
      "source": [
        "plt.hist(extra_accuracies, label='extra', color='blue',   alpha=0.5)\n",
        "plt.hist(test_accuracies,  label='test',  color='orange', alpha=0.5)\n",
        "plt.xlabel('accuracy')\n",
        "plt.ylabel('# trials')\n",
        "plt.legend();"
      ],
      "metadata": {
        "id": "2cSHGXabwhSv",
        "colab": {
          "base_uri": "https://localhost:8080/",
          "height": 449
        },
        "outputId": "dbc2b1e1-ae76-4742-e247-a9c51e90c69d"
      },
      "execution_count": 24,
      "outputs": [
        {
          "output_type": "display_data",
          "data": {
            "text/plain": [
              "<Figure size 640x480 with 1 Axes>"
            ],
            "image/png": "[encoded data removed]"
          },
          "metadata": {}
        }
      ]
    },
    {
      "cell_type": "code",
      "source": [
        "plt.hist(test_accuracies - extra_accuracies)\n",
        "plt.xlabel('test - extra accuracy')\n",
        "plt.ylabel('# trials');"
      ],
      "metadata": {
        "id": "_7_Uc0sstMvN",
        "colab": {
          "base_uri": "https://localhost:8080/",
          "height": 449
        },
        "outputId": "c0ffff69-7fd5-4aa6-d870-77e35340d8fa"
      },
      "execution_count": 27,
      "outputs": [
        {
          "output_type": "display_data",
          "data": {
            "text/plain": [
              "<Figure size 640x480 with 1 Axes>"
            ],
            "image/png": "[encoded data removed]"
          },
          "metadata": {}
        }
      ]
    },
    {
      "cell_type": "code",
      "source": [
        "(test_accuracies - extra_accuracies).mean()"
      ],
      "metadata": {
        "id": "88RZeTe9PLx-",
        "colab": {
          "base_uri": "https://localhost:8080/"
        },
        "outputId": "2d2d0d70-4f14-4376-b7d0-87335aea0762"
      },
      "execution_count": 26,
      "outputs": [
        {
          "output_type": "execute_result",
          "data": {
            "text/plain": [
              "0.00500000000000001"
            ]
          },
          "metadata": {},
          "execution_count": 26
        }
      ]
    }
  ]
}