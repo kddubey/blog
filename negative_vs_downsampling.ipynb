{
 "cells": [
  {
   "cell_type": "markdown",
   "metadata": {},
   "source": [
    "TODO: answer [my question](https://stats.stackexchange.com/q/623900/337906) about\n",
    "training contrastive models.\n",
    "\n",
    "I also have another question about why there are separate input and output embedding\n",
    "matrices. It's not clear to me why that's a great idea / that increase in complexity is\n",
    "clearly a good thing."
   ]
  },
  {
   "cell_type": "code",
   "execution_count": 1,
   "metadata": {},
   "outputs": [],
   "source": [
    "import torch"
   ]
  },
  {
   "cell_type": "code",
   "execution_count": 2,
   "metadata": {},
   "outputs": [],
   "source": [
    "class SkipGram(torch.nn.Module):\n",
    "    \"\"\"\n",
    "    Currently shares the input and output embedding matrices. And doesn't downsample or\n",
    "    negative sample. TODO: evaluate them.\n",
    "    \"\"\"\n",
    "    def __init__(self, vocab_size: int, embedding_dim: int):\n",
    "        super(self.__class__, self).__init__()\n",
    "        self.embeddings = torch.nn.Embedding(vocab_size, embedding_dim)\n",
    "\n",
    "    def forward(\n",
    "        self, center_input_ids: torch.Tensor, neighbor_input_ids: torch.Tensor = None\n",
    "    ) -> torch.Tensor:\n",
    "        if neighbor_input_ids is None:\n",
    "            # inference mode\n",
    "            return self.embeddings(center_input_ids)\n",
    "\n",
    "        # input size checks for training\n",
    "        if len(center_input_ids.shape) != 1:\n",
    "            raise ValueError(\"center_input_ids must be 1-D.\")\n",
    "        if len(neighbor_input_ids.shape) != 2:\n",
    "            raise ValueError(\"neighbor_input_ids must be 2-D.\")\n",
    "        \n",
    "        # (batch_size, embedding_dim) x (embedding_dim, vocab_size)\n",
    "        # -> (batch_size, vocab_size)\n",
    "        vocab_scores: torch.Tensor = (\n",
    "            self.embeddings(center_input_ids) @ self.embeddings.weight.T\n",
    "        )\n",
    "\n",
    "        # center_input_ids is (batch_size, context_size), so\n",
    "        # (batch_size, vocab_size).take_along_dim(neighbor_input_ids)\n",
    "        # -> (batch_size, context_size)\n",
    "        # (batch_size, vocab_size).logsumexp(dim=1)\n",
    "        # -> (batch_size, 1)\n",
    "        return torch.mean(\n",
    "            vocab_scores.take_along_dim(neighbor_input_ids, dim=1)\n",
    "            - vocab_scores.logsumexp(dim=1, keepdim=True)\n",
    "        )"
   ]
  },
  {
   "cell_type": "code",
   "execution_count": 3,
   "metadata": {},
   "outputs": [],
   "source": [
    "skip_gram = SkipGram(vocab_size=10, embedding_dim=2)\n",
    "optimizer = torch.optim.SGD(\n",
    "    skip_gram.parameters(), lr=1e-3, momentum=0.9, nesterov=True\n",
    ")"
   ]
  },
  {
   "cell_type": "code",
   "execution_count": 4,
   "metadata": {},
   "outputs": [],
   "source": [
    "skip_gram.train();"
   ]
  },
  {
   "cell_type": "code",
   "execution_count": 5,
   "metadata": {},
   "outputs": [
    {
     "data": {
      "text/plain": [
       "tensor(-3.1747, grad_fn=<MeanBackward0>)"
      ]
     },
     "execution_count": 5,
     "metadata": {},
     "output_type": "execute_result"
    }
   ],
   "source": [
    "loss: torch.Tensor = skip_gram(\n",
    "    center_input_ids=torch.tensor([1, 2]),\n",
    "    neighbor_input_ids=torch.tensor([[0, 2, 3], [1, 2, 3]]),\n",
    ")\n",
    "loss"
   ]
  },
  {
   "cell_type": "code",
   "execution_count": 6,
   "metadata": {},
   "outputs": [],
   "source": [
    "optimizer.zero_grad()\n",
    "loss.backward()\n",
    "optimizer.step()"
   ]
  }
 ],
 "metadata": {
  "kernelspec": {
   "display_name": "base",
   "language": "python",
   "name": "python3"
  },
  "language_info": {
   "codemirror_mode": {
    "name": "ipython",
    "version": 3
   },
   "file_extension": ".py",
   "mimetype": "text/x-python",
   "name": "python",
   "nbconvert_exporter": "python",
   "pygments_lexer": "ipython3",
   "version": "3.11.3"
  },
  "orig_nbformat": 4
 },
 "nbformat": 4,
 "nbformat_minor": 2
}
