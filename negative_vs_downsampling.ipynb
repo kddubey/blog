{
 "cells": [
  {
   "cell_type": "markdown",
   "metadata": {},
   "source": [
    "TODO: answer [my question](https://stats.stackexchange.com/q/623900/337906) about\n",
    "training contrastive models.\n",
    "\n",
    "I also have another question about why there are separate input and output embedding\n",
    "matrices. It's not clear to me why that's a great idea / that increase in complexity is\n",
    "clearly a good thing.\n",
    "\n",
    "Here is a collection of intuition-based claims I'd like to think more about and\n",
    "empirically test:\n",
    "\n",
    "1. https://datascience.stackexchange.com/questions/29019/why-do-we-need-2-matrices-for-word2vec-or-glove\n",
    "2. from [this\n",
    "   link](https://www.quora.com/In-word2vec-what-is-the-relation-between-input-and-output-vectors-Can-output-vectors-also-be-used-for-prediction):\n",
    "   > You can definitely use output vectors, but it is much harder to find them online. In\n",
    "   word2vec model every word has always two associated vectors - target and context. If\n",
    "   you take e.g. skip-gram model, similar input vectors for “dog” would be “dogs”,\n",
    "   “cat”, “cats”, because they all appear in the same context. However, the most similar\n",
    "   context words to “dog” would probably be “barks”, “plays”, “animal”. As you can see\n",
    "   (and can try yourself) target-context similarities capture different kind of\n",
    "   relations and were explored in information retrieval problem. Microsoft Research\n",
    "   demonstrated how you can use both types of vectors for ranking query-document pairs\n",
    "   [1]. Intuitively, when you search for information by typing a query to the search\n",
    "   engine you are expecting to find information that is about the query and not a\n",
    "   different representation of it. Shortly speaking, aboutness is the context. [1] B.\n",
    "   Mitra et. al., A dual embedding space model for document ranking, 2016.\n",
    "3. https://stackoverflow.com/questions/29381505/why-does-word2vec-use-2-representations-for-each-word\n",
    "\n",
    "I wonder if this can be used to give a statistical answer to [this\n",
    "question](https://stats.stackexchange.com/q/617124/337906)."
   ]
  },
  {
   "cell_type": "code",
   "execution_count": 1,
   "metadata": {},
   "outputs": [],
   "source": [
    "import torch"
   ]
  },
  {
   "cell_type": "code",
   "execution_count": 2,
   "metadata": {},
   "outputs": [],
   "source": [
    "class SkipGram(torch.nn.Module):\n",
    "    \"\"\"\n",
    "    Currently shares the input and output embedding matrices. And doesn't downsample or\n",
    "    negative sample. TODO: evaluate them.\n",
    "    \"\"\"\n",
    "    def __init__(self, vocab_size: int, embedding_dim: int):\n",
    "        super(self.__class__, self).__init__()\n",
    "        self.embeddings = torch.nn.Embedding(vocab_size, embedding_dim)\n",
    "\n",
    "    def forward(\n",
    "        self, center_input_ids: torch.Tensor, neighbor_input_ids: torch.Tensor = None\n",
    "    ) -> torch.Tensor:\n",
    "        if neighbor_input_ids is None:\n",
    "            # inference mode\n",
    "            return self.embeddings(center_input_ids)\n",
    "\n",
    "        # input size checks for training\n",
    "        if len(center_input_ids.shape) != 1:\n",
    "            raise ValueError(\"center_input_ids must be 1-D.\")\n",
    "        if len(neighbor_input_ids.shape) != 2:\n",
    "            raise ValueError(\"neighbor_input_ids must be 2-D.\")\n",
    "        \n",
    "        # (batch_size, embedding_dim) x (embedding_dim, vocab_size)\n",
    "        # -> (batch_size, vocab_size)\n",
    "        vocab_scores: torch.Tensor = (\n",
    "            self.embeddings(center_input_ids) @ self.embeddings.weight.T\n",
    "        )\n",
    "\n",
    "        # center_input_ids is (batch_size, context_size), so\n",
    "        # (batch_size, vocab_size).take_along_dim(neighbor_input_ids)\n",
    "        # -> (batch_size, context_size)\n",
    "        # (batch_size, vocab_size).logsumexp(dim=1)\n",
    "        # -> (batch_size, 1)\n",
    "        return torch.mean(\n",
    "            vocab_scores.take_along_dim(neighbor_input_ids, dim=1)\n",
    "            - vocab_scores.logsumexp(dim=1, keepdim=True)\n",
    "        )"
   ]
  },
  {
   "cell_type": "markdown",
   "metadata": {},
   "source": [
    "TODO: train loop on real data"
   ]
  },
  {
   "cell_type": "code",
   "execution_count": 3,
   "metadata": {},
   "outputs": [],
   "source": [
    "skip_gram = SkipGram(vocab_size=10, embedding_dim=2)\n",
    "optimizer = torch.optim.SGD(\n",
    "    skip_gram.parameters(), lr=1e-3, momentum=0.9, nesterov=True\n",
    ")"
   ]
  },
  {
   "cell_type": "code",
   "execution_count": 4,
   "metadata": {},
   "outputs": [],
   "source": [
    "skip_gram.train();"
   ]
  },
  {
   "cell_type": "code",
   "execution_count": 5,
   "metadata": {},
   "outputs": [
    {
     "data": {
      "text/plain": [
       "tensor(-3.1747, grad_fn=<MeanBackward0>)"
      ]
     },
     "execution_count": 5,
     "metadata": {},
     "output_type": "execute_result"
    }
   ],
   "source": [
    "loss: torch.Tensor = skip_gram(\n",
    "    center_input_ids=torch.tensor([1, 2]),\n",
    "    neighbor_input_ids=torch.tensor([[0, 2, 3], [1, 2, 3]]),\n",
    ")\n",
    "loss"
   ]
  },
  {
   "cell_type": "code",
   "execution_count": 6,
   "metadata": {},
   "outputs": [],
   "source": [
    "optimizer.zero_grad()\n",
    "loss.backward()\n",
    "optimizer.step()"
   ]
  }
 ],
 "metadata": {
  "kernelspec": {
   "display_name": "base",
   "language": "python",
   "name": "python3"
  },
  "language_info": {
   "codemirror_mode": {
    "name": "ipython",
    "version": 3
   },
   "file_extension": ".py",
   "mimetype": "text/x-python",
   "name": "python",
   "nbconvert_exporter": "python",
   "pygments_lexer": "ipython3",
   "version": "3.11.3"
  },
  "orig_nbformat": 4
 },
 "nbformat": 4,
 "nbformat_minor": 2
}
